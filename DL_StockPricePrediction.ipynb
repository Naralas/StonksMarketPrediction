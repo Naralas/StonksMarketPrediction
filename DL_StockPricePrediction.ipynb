{
 "cells": [
  {
   "cell_type": "code",
   "execution_count": 1,
   "id": "alpine-sender",
   "metadata": {},
   "outputs": [],
   "source": [
    "import pandas as pd\n",
    "import numpy as np\n",
    "from tqdm.notebook import tqdm\n",
    "from DataHelper import *"
   ]
  },
  {
   "cell_type": "code",
   "execution_count": 26,
   "id": "coordinate-tattoo",
   "metadata": {},
   "outputs": [
    {
     "name": "stdout",
     "output_type": "stream",
     "text": [
      "cuda\n"
     ]
    }
   ],
   "source": [
    "import torch\n",
    "device = torch.device('cuda' if torch.cuda.is_available() else 'cpu')\n",
    "#device = torch.device('cpu')\n",
    "print(device)"
   ]
  },
  {
   "cell_type": "code",
   "execution_count": 27,
   "id": "specialized-necklace",
   "metadata": {},
   "outputs": [],
   "source": [
    "def compute_MA(df, price_column, n=10):\n",
    "    return df[price_column].rolling(n).mean()\n",
    "\n",
    "def pipeline_preprocessing(path, price_column, predict_n=1, thresh_diff=0.5, verbose=False):\n",
    "    df = get_data(path)\n",
    "    keep_columns = ['Date', price_column, 'Volume', 'Open']\n",
    "    df = df.loc[:, keep_columns]\n",
    "    \n",
    "    df['Difference'] = compute_column_difference(df, column=price_column, periods_offset=predict_n)\n",
    "    df['PercentageDiff'] = compute_percentage_diff(df)\n",
    "    df['Tendency'] = compute_tendency_percentage(df, diff_column='Difference', labels=['lower','higher'])\n",
    "    \n",
    "    if verbose:\n",
    "        value_counts = df.Tendency.value_counts().to_dict()\n",
    "        for value, count in value_counts.items():\n",
    "            print(f\"[{value}] : {count} ({count * 100.0 / len(df['Tendency']):.1f}%)\")\n",
    "            \n",
    "    df['MA'] = compute_MA(df, price_column)\n",
    "    df['MA_diff'] = compute_MA(df, price_column, n=20) - compute_MA(df, price_column, n=10)\n",
    "    df['RSI'] = compute_RSI(df, n=10, price_column=price_column, diff_column='Difference')\n",
    "    df['GAP'] = compute_GAP(df)\n",
    "    df['Volume_diff'] = compute_column_difference(df, column='Volume')\n",
    "    df['Next'] = shift_values(df, column='Tendency', periods=-predict_n)\n",
    "    df = df.dropna()\n",
    "    return df"
   ]
  },
  {
   "cell_type": "code",
   "execution_count": 28,
   "id": "bibliographic-election",
   "metadata": {},
   "outputs": [
    {
     "name": "stdout",
     "output_type": "stream",
     "text": [
      "33154\n"
     ]
    }
   ],
   "source": [
    "DATA_PATH = './data'\n",
    "QUOTATIONS = ['AMZN', 'GOOG', 'AAPL', 'GM', 'TSLA', 'JNJ', 'XOM', 'AAL', 'KO', 'WMT']\n",
    "FILE_SUFFIX = '.txt'\n",
    "price_column = 'Close'\n",
    "\n",
    "df = None\n",
    "predict_n = 5\n",
    "\n",
    "for quot in QUOTATIONS:\n",
    "    #temp_df = pipeline_preprocessing(f\"{DATA_PATH}/{quot}{FILE_SUFFIX}\", predict_n=predict_n, price_column=price_column)\n",
    "    temp_df, feature_names = features_pipeline(f\"{DATA_PATH}/{quot}{FILE_SUFFIX}\", predict_n=predict_n,\n",
    "                                price_column=price_column, normalize_features=True, \n",
    "                                base_features_normalize=['Volume'])\n",
    "    if df is None:\n",
    "        df = temp_df\n",
    "    else:\n",
    "        df = df.append(temp_df)\n",
    "\n",
    "print(len(df))\n",
    "df.head()\n",
    "df = df.dropna()"
   ]
  },
  {
   "cell_type": "code",
   "execution_count": 29,
   "id": "dimensional-advocate",
   "metadata": {},
   "outputs": [
    {
     "data": {
      "text/plain": [
       "Date              False\n",
       "Open              False\n",
       "High              False\n",
       "Low               False\n",
       "Close             False\n",
       "Volume            False\n",
       "Adjusted          False\n",
       "Difference        False\n",
       "PercentageDiff    False\n",
       "Tendency          False\n",
       "MA                False\n",
       "MA_diff           False\n",
       "RSI               False\n",
       "GAP               False\n",
       "Volume_diff       False\n",
       "Next              False\n",
       "dtype: bool"
      ]
     },
     "execution_count": 29,
     "metadata": {},
     "output_type": "execute_result"
    }
   ],
   "source": [
    "df.isna().any()"
   ]
  },
  {
   "cell_type": "code",
   "execution_count": 30,
   "id": "conditional-juvenile",
   "metadata": {},
   "outputs": [
    {
     "name": "stdout",
     "output_type": "stream",
     "text": [
      "20    1\n",
      "21    1\n",
      "22    1\n",
      "23    1\n",
      "24    1\n",
      "Name: Next, dtype: int64\n"
     ]
    },
    {
     "data": {
      "text/html": [
       "<div>\n",
       "<style scoped>\n",
       "    .dataframe tbody tr th:only-of-type {\n",
       "        vertical-align: middle;\n",
       "    }\n",
       "\n",
       "    .dataframe tbody tr th {\n",
       "        vertical-align: top;\n",
       "    }\n",
       "\n",
       "    .dataframe thead th {\n",
       "        text-align: right;\n",
       "    }\n",
       "</style>\n",
       "<table border=\"1\" class=\"dataframe\">\n",
       "  <thead>\n",
       "    <tr style=\"text-align: right;\">\n",
       "      <th></th>\n",
       "      <th>Close</th>\n",
       "      <th>Volume</th>\n",
       "      <th>Difference</th>\n",
       "      <th>PercentageDiff</th>\n",
       "      <th>Tendency</th>\n",
       "      <th>MA</th>\n",
       "      <th>MA_diff</th>\n",
       "      <th>RSI</th>\n",
       "      <th>GAP</th>\n",
       "      <th>Volume_diff</th>\n",
       "    </tr>\n",
       "  </thead>\n",
       "  <tbody>\n",
       "    <tr>\n",
       "      <th>20</th>\n",
       "      <td>37.669998</td>\n",
       "      <td>0.080954</td>\n",
       "      <td>0.490887</td>\n",
       "      <td>0.267915</td>\n",
       "      <td>1</td>\n",
       "      <td>0.000948</td>\n",
       "      <td>0.546187</td>\n",
       "      <td>0.572571</td>\n",
       "      <td>0.560016</td>\n",
       "      <td>0.345348</td>\n",
       "    </tr>\n",
       "    <tr>\n",
       "      <th>21</th>\n",
       "      <td>38.700001</td>\n",
       "      <td>0.066763</td>\n",
       "      <td>0.489585</td>\n",
       "      <td>0.230683</td>\n",
       "      <td>1</td>\n",
       "      <td>0.000878</td>\n",
       "      <td>0.546726</td>\n",
       "      <td>0.454051</td>\n",
       "      <td>0.562088</td>\n",
       "      <td>0.321363</td>\n",
       "    </tr>\n",
       "    <tr>\n",
       "      <th>22</th>\n",
       "      <td>37.389999</td>\n",
       "      <td>0.083949</td>\n",
       "      <td>0.488559</td>\n",
       "      <td>0.202095</td>\n",
       "      <td>1</td>\n",
       "      <td>0.000780</td>\n",
       "      <td>0.547625</td>\n",
       "      <td>0.327026</td>\n",
       "      <td>0.562117</td>\n",
       "      <td>0.347003</td>\n",
       "    </tr>\n",
       "    <tr>\n",
       "      <th>23</th>\n",
       "      <td>37.160000</td>\n",
       "      <td>0.115680</td>\n",
       "      <td>0.493521</td>\n",
       "      <td>0.341316</td>\n",
       "      <td>0</td>\n",
       "      <td>0.000693</td>\n",
       "      <td>0.548677</td>\n",
       "      <td>0.224176</td>\n",
       "      <td>0.558674</td>\n",
       "      <td>0.358890</td>\n",
       "    </tr>\n",
       "    <tr>\n",
       "      <th>24</th>\n",
       "      <td>38.270000</td>\n",
       "      <td>0.075046</td>\n",
       "      <td>0.492786</td>\n",
       "      <td>0.319791</td>\n",
       "      <td>1</td>\n",
       "      <td>0.000607</td>\n",
       "      <td>0.549528</td>\n",
       "      <td>0.125073</td>\n",
       "      <td>0.560250</td>\n",
       "      <td>0.299753</td>\n",
       "    </tr>\n",
       "  </tbody>\n",
       "</table>\n",
       "</div>"
      ],
      "text/plain": [
       "        Close    Volume  Difference  PercentageDiff  Tendency        MA  \\\n",
       "20  37.669998  0.080954    0.490887        0.267915         1  0.000948   \n",
       "21  38.700001  0.066763    0.489585        0.230683         1  0.000878   \n",
       "22  37.389999  0.083949    0.488559        0.202095         1  0.000780   \n",
       "23  37.160000  0.115680    0.493521        0.341316         0  0.000693   \n",
       "24  38.270000  0.075046    0.492786        0.319791         1  0.000607   \n",
       "\n",
       "     MA_diff       RSI       GAP  Volume_diff  \n",
       "20  0.546187  0.572571  0.560016     0.345348  \n",
       "21  0.546726  0.454051  0.562088     0.321363  \n",
       "22  0.547625  0.327026  0.562117     0.347003  \n",
       "23  0.548677  0.224176  0.558674     0.358890  \n",
       "24  0.549528  0.125073  0.560250     0.299753  "
      ]
     },
     "execution_count": 30,
     "metadata": {},
     "output_type": "execute_result"
    }
   ],
   "source": [
    "from torch.utils.data import Dataset\n",
    "\n",
    "class StocksDataset(Dataset):\n",
    "    def __init__(self, data, target):\n",
    "        self.data = torch.Tensor(data.values)\n",
    "        self.target = torch.Tensor(target.values)\n",
    "        \n",
    "    def __getitem__(self, index):\n",
    "        datapoint = self.data[index]\n",
    "        target = self.target[index]\n",
    "        return datapoint, target\n",
    "        \n",
    "    def __len__(self):\n",
    "        return len(self.data)\n",
    "\n",
    "y_column = 'Next'\n",
    "data_columns = ['Close', 'Volume'] + feature_names\n",
    "\n",
    "\n",
    "dataset = df.copy()\n",
    "dataset = dataset.loc[:, data_columns]\n",
    "\n",
    "for col in dataset.columns:\n",
    "    dataset[col] = dataset[col].replace({'higher':1, 'stay':0, 'lower':0})\n",
    "    \n",
    "\n",
    "    \n",
    "X = dataset.loc[:, dataset.columns != y_column]\n",
    "Y = dataset[y_column]\n",
    "\n",
    "#print(X.head())\n",
    "\n",
    "dataset = StocksDataset(X,Y)\n",
    "print(Y.head())\n",
    "X.head()"
   ]
  },
  {
   "cell_type": "code",
   "execution_count": 31,
   "id": "endangered-lotus",
   "metadata": {},
   "outputs": [
    {
     "data": {
      "text/plain": [
       "array([[<AxesSubplot:title={'center':'Close'}>,\n",
       "        <AxesSubplot:title={'center':'Volume'}>,\n",
       "        <AxesSubplot:title={'center':'Difference'}>],\n",
       "       [<AxesSubplot:title={'center':'PercentageDiff'}>,\n",
       "        <AxesSubplot:title={'center':'Tendency'}>,\n",
       "        <AxesSubplot:title={'center':'MA'}>],\n",
       "       [<AxesSubplot:title={'center':'MA_diff'}>,\n",
       "        <AxesSubplot:title={'center':'RSI'}>,\n",
       "        <AxesSubplot:title={'center':'GAP'}>],\n",
       "       [<AxesSubplot:title={'center':'Volume_diff'}>, <AxesSubplot:>,\n",
       "        <AxesSubplot:>]], dtype=object)"
      ]
     },
     "execution_count": 31,
     "metadata": {},
     "output_type": "execute_result"
    },
    {
     "data": {
      "image/png": "[encoded data removed]",
      "text/plain": [
       "<Figure size 432x288 with 12 Axes>"
      ]
     },
     "metadata": {
      "needs_background": "light"
     },
     "output_type": "display_data"
    }
   ],
   "source": [
    "X.hist()"
   ]
  },
  {
   "cell_type": "code",
   "execution_count": 32,
   "id": "bronze-secret",
   "metadata": {},
   "outputs": [],
   "source": [
    "from torch.utils.data import DataLoader\n",
    "dataloader = DataLoader(dataset, batch_size=32, shuffle=True, num_workers=0)"
   ]
  },
  {
   "cell_type": "code",
   "execution_count": 33,
   "id": "automatic-medication",
   "metadata": {},
   "outputs": [
    {
     "name": "stdout",
     "output_type": "stream",
     "text": [
      "Epoch 1, loss: 0.7084876298904419, accuracy : 53.91\n",
      "Epoch 2, loss: 0.698089063167572, accuracy : 54.24\n",
      "Epoch 3, loss: 0.7185798287391663, accuracy : 54.21\n",
      "Epoch 4, loss: 0.6911024451255798, accuracy : 54.27\n",
      "Epoch 5, loss: 0.6694172620773315, accuracy : 54.18\n",
      "Epoch 6, loss: 0.6788281798362732, accuracy : 54.28\n",
      "Epoch 7, loss: 0.7099964022636414, accuracy : 54.28\n",
      "Epoch 8, loss: 0.6708967685699463, accuracy : 54.25\n",
      "Epoch 9, loss: 0.6601951718330383, accuracy : 54.17\n",
      "Epoch 10, loss: 0.6832697987556458, accuracy : 54.26\n",
      "Epoch 11, loss: 0.7076898217201233, accuracy : 54.29\n",
      "Epoch 12, loss: 0.6828552484512329, accuracy : 54.22\n",
      "Epoch 13, loss: 0.7124038338661194, accuracy : 54.23\n",
      "Epoch 14, loss: 0.7123175859451294, accuracy : 54.10\n",
      "Epoch 15, loss: 0.671181321144104, accuracy : 54.33\n"
     ]
    },
    {
     "ename": "KeyboardInterrupt",
     "evalue": "",
     "output_type": "error",
     "traceback": [
      "\u001b[1;31m---------------------------------------------------------------------------\u001b[0m",
      "\u001b[1;31mKeyboardInterrupt\u001b[0m                         Traceback (most recent call last)",
      "\u001b[1;32m<ipython-input-33-14ea34638f44>\u001b[0m in \u001b[0;36m<module>\u001b[1;34m\u001b[0m\n\u001b[0;32m     41\u001b[0m \u001b[0mmodel\u001b[0m\u001b[1;33m,\u001b[0m \u001b[0moptimizer\u001b[0m\u001b[1;33m,\u001b[0m \u001b[0mloss_fn\u001b[0m \u001b[1;33m=\u001b[0m \u001b[0mcreate_model\u001b[0m\u001b[1;33m(\u001b[0m\u001b[0mlr\u001b[0m\u001b[1;33m,\u001b[0m \u001b[0minput_dim\u001b[0m \u001b[1;33m=\u001b[0m \u001b[0mlen\u001b[0m\u001b[1;33m(\u001b[0m\u001b[0mX\u001b[0m\u001b[1;33m.\u001b[0m\u001b[0mcolumns\u001b[0m\u001b[1;33m)\u001b[0m\u001b[1;33m)\u001b[0m\u001b[1;33m\u001b[0m\u001b[1;33m\u001b[0m\u001b[0m\n\u001b[0;32m     42\u001b[0m \u001b[0mmodel\u001b[0m \u001b[1;33m=\u001b[0m \u001b[0mmodel\u001b[0m\u001b[1;33m.\u001b[0m\u001b[0mto\u001b[0m\u001b[1;33m(\u001b[0m\u001b[0mdevice\u001b[0m\u001b[1;33m)\u001b[0m\u001b[1;33m\u001b[0m\u001b[1;33m\u001b[0m\u001b[0m\n\u001b[1;32m---> 43\u001b[1;33m \u001b[0mtrain\u001b[0m\u001b[1;33m(\u001b[0m\u001b[0mdataloader\u001b[0m\u001b[1;33m,\u001b[0m \u001b[0mmodel\u001b[0m\u001b[1;33m,\u001b[0m \u001b[0mn_epochs\u001b[0m\u001b[1;33m=\u001b[0m\u001b[1;36m50\u001b[0m\u001b[1;33m,\u001b[0m \u001b[0moptimizer\u001b[0m\u001b[1;33m=\u001b[0m\u001b[0moptimizer\u001b[0m\u001b[1;33m,\u001b[0m \u001b[0mloss_fn\u001b[0m\u001b[1;33m=\u001b[0m\u001b[0mloss_fn\u001b[0m\u001b[1;33m,\u001b[0m \u001b[0mdevice\u001b[0m\u001b[1;33m=\u001b[0m\u001b[0mdevice\u001b[0m\u001b[1;33m)\u001b[0m\u001b[1;33m\u001b[0m\u001b[1;33m\u001b[0m\u001b[0m\n\u001b[0m",
      "\u001b[1;32m~\\Documents\\School\\Master_Thesis\\StonksMarketPrediction\\DL_utils.py\u001b[0m in \u001b[0;36mtrain\u001b[1;34m(dataloader, model, n_epochs, optimizer, loss_fn, device)\u001b[0m\n\u001b[0;32m     25\u001b[0m             \u001b[0mepoch_acc\u001b[0m \u001b[1;33m+=\u001b[0m \u001b[0macc\u001b[0m\u001b[1;33m.\u001b[0m\u001b[0mitem\u001b[0m\u001b[1;33m(\u001b[0m\u001b[1;33m)\u001b[0m\u001b[1;33m\u001b[0m\u001b[1;33m\u001b[0m\u001b[0m\n\u001b[0;32m     26\u001b[0m             \u001b[0mloss\u001b[0m\u001b[1;33m.\u001b[0m\u001b[0mbackward\u001b[0m\u001b[1;33m(\u001b[0m\u001b[1;33m)\u001b[0m\u001b[1;33m\u001b[0m\u001b[1;33m\u001b[0m\u001b[0m\n\u001b[1;32m---> 27\u001b[1;33m             \u001b[0moptimizer\u001b[0m\u001b[1;33m.\u001b[0m\u001b[0mstep\u001b[0m\u001b[1;33m(\u001b[0m\u001b[1;33m)\u001b[0m\u001b[1;33m\u001b[0m\u001b[1;33m\u001b[0m\u001b[0m\n\u001b[0m\u001b[0;32m     28\u001b[0m             \u001b[1;31m#print(f\"[After] data : {loss.data}, grad : {loss.grad}\")\u001b[0m\u001b[1;33m\u001b[0m\u001b[1;33m\u001b[0m\u001b[1;33m\u001b[0m\u001b[0m\n\u001b[0;32m     29\u001b[0m             \u001b[1;31m#break\u001b[0m\u001b[1;33m\u001b[0m\u001b[1;33m\u001b[0m\u001b[1;33m\u001b[0m\u001b[0m\n",
      "\u001b[1;32mc:\\users\\ludo\\documents\\school\\master_thesis\\stonksmarketprediction\\venv\\lib\\site-packages\\torch\\optim\\optimizer.py\u001b[0m in \u001b[0;36mwrapper\u001b[1;34m(*args, **kwargs)\u001b[0m\n\u001b[0;32m     87\u001b[0m                 \u001b[0mprofile_name\u001b[0m \u001b[1;33m=\u001b[0m \u001b[1;34m\"Optimizer.step#{}.step\"\u001b[0m\u001b[1;33m.\u001b[0m\u001b[0mformat\u001b[0m\u001b[1;33m(\u001b[0m\u001b[0mobj\u001b[0m\u001b[1;33m.\u001b[0m\u001b[0m__class__\u001b[0m\u001b[1;33m.\u001b[0m\u001b[0m__name__\u001b[0m\u001b[1;33m)\u001b[0m\u001b[1;33m\u001b[0m\u001b[1;33m\u001b[0m\u001b[0m\n\u001b[0;32m     88\u001b[0m                 \u001b[1;32mwith\u001b[0m \u001b[0mtorch\u001b[0m\u001b[1;33m.\u001b[0m\u001b[0mautograd\u001b[0m\u001b[1;33m.\u001b[0m\u001b[0mprofiler\u001b[0m\u001b[1;33m.\u001b[0m\u001b[0mrecord_function\u001b[0m\u001b[1;33m(\u001b[0m\u001b[0mprofile_name\u001b[0m\u001b[1;33m)\u001b[0m\u001b[1;33m:\u001b[0m\u001b[1;33m\u001b[0m\u001b[1;33m\u001b[0m\u001b[0m\n\u001b[1;32m---> 89\u001b[1;33m                     \u001b[1;32mreturn\u001b[0m \u001b[0mfunc\u001b[0m\u001b[1;33m(\u001b[0m\u001b[1;33m*\u001b[0m\u001b[0margs\u001b[0m\u001b[1;33m,\u001b[0m \u001b[1;33m**\u001b[0m\u001b[0mkwargs\u001b[0m\u001b[1;33m)\u001b[0m\u001b[1;33m\u001b[0m\u001b[1;33m\u001b[0m\u001b[0m\n\u001b[0m\u001b[0;32m     90\u001b[0m             \u001b[1;32mreturn\u001b[0m \u001b[0mwrapper\u001b[0m\u001b[1;33m\u001b[0m\u001b[1;33m\u001b[0m\u001b[0m\n\u001b[0;32m     91\u001b[0m \u001b[1;33m\u001b[0m\u001b[0m\n",
      "\u001b[1;32mc:\\users\\ludo\\documents\\school\\master_thesis\\stonksmarketprediction\\venv\\lib\\site-packages\\torch\\autograd\\grad_mode.py\u001b[0m in \u001b[0;36mdecorate_context\u001b[1;34m(*args, **kwargs)\u001b[0m\n\u001b[0;32m     25\u001b[0m         \u001b[1;32mdef\u001b[0m \u001b[0mdecorate_context\u001b[0m\u001b[1;33m(\u001b[0m\u001b[1;33m*\u001b[0m\u001b[0margs\u001b[0m\u001b[1;33m,\u001b[0m \u001b[1;33m**\u001b[0m\u001b[0mkwargs\u001b[0m\u001b[1;33m)\u001b[0m\u001b[1;33m:\u001b[0m\u001b[1;33m\u001b[0m\u001b[1;33m\u001b[0m\u001b[0m\n\u001b[0;32m     26\u001b[0m             \u001b[1;32mwith\u001b[0m \u001b[0mself\u001b[0m\u001b[1;33m.\u001b[0m\u001b[0m__class__\u001b[0m\u001b[1;33m(\u001b[0m\u001b[1;33m)\u001b[0m\u001b[1;33m:\u001b[0m\u001b[1;33m\u001b[0m\u001b[1;33m\u001b[0m\u001b[0m\n\u001b[1;32m---> 27\u001b[1;33m                 \u001b[1;32mreturn\u001b[0m \u001b[0mfunc\u001b[0m\u001b[1;33m(\u001b[0m\u001b[1;33m*\u001b[0m\u001b[0margs\u001b[0m\u001b[1;33m,\u001b[0m \u001b[1;33m**\u001b[0m\u001b[0mkwargs\u001b[0m\u001b[1;33m)\u001b[0m\u001b[1;33m\u001b[0m\u001b[1;33m\u001b[0m\u001b[0m\n\u001b[0m\u001b[0;32m     28\u001b[0m         \u001b[1;32mreturn\u001b[0m \u001b[0mcast\u001b[0m\u001b[1;33m(\u001b[0m\u001b[0mF\u001b[0m\u001b[1;33m,\u001b[0m \u001b[0mdecorate_context\u001b[0m\u001b[1;33m)\u001b[0m\u001b[1;33m\u001b[0m\u001b[1;33m\u001b[0m\u001b[0m\n\u001b[0;32m     29\u001b[0m \u001b[1;33m\u001b[0m\u001b[0m\n",
      "\u001b[1;32mc:\\users\\ludo\\documents\\school\\master_thesis\\stonksmarketprediction\\venv\\lib\\site-packages\\torch\\optim\\adam.py\u001b[0m in \u001b[0;36mstep\u001b[1;34m(self, closure)\u001b[0m\n\u001b[0;32m    117\u001b[0m                    \u001b[0mgroup\u001b[0m\u001b[1;33m[\u001b[0m\u001b[1;34m'lr'\u001b[0m\u001b[1;33m]\u001b[0m\u001b[1;33m,\u001b[0m\u001b[1;33m\u001b[0m\u001b[1;33m\u001b[0m\u001b[0m\n\u001b[0;32m    118\u001b[0m                    \u001b[0mgroup\u001b[0m\u001b[1;33m[\u001b[0m\u001b[1;34m'weight_decay'\u001b[0m\u001b[1;33m]\u001b[0m\u001b[1;33m,\u001b[0m\u001b[1;33m\u001b[0m\u001b[1;33m\u001b[0m\u001b[0m\n\u001b[1;32m--> 119\u001b[1;33m                    group['eps'])\n\u001b[0m\u001b[0;32m    120\u001b[0m         \u001b[1;32mreturn\u001b[0m \u001b[0mloss\u001b[0m\u001b[1;33m\u001b[0m\u001b[1;33m\u001b[0m\u001b[0m\n",
      "\u001b[1;32mc:\\users\\ludo\\documents\\school\\master_thesis\\stonksmarketprediction\\venv\\lib\\site-packages\\torch\\optim\\_functional.py\u001b[0m in \u001b[0;36madam\u001b[1;34m(params, grads, exp_avgs, exp_avg_sqs, max_exp_avg_sqs, state_steps, amsgrad, beta1, beta2, lr, weight_decay, eps)\u001b[0m\n\u001b[0;32m     83\u001b[0m         \u001b[1;31m# Decay the first and second moment running average coefficient\u001b[0m\u001b[1;33m\u001b[0m\u001b[1;33m\u001b[0m\u001b[1;33m\u001b[0m\u001b[0m\n\u001b[0;32m     84\u001b[0m         \u001b[0mexp_avg\u001b[0m\u001b[1;33m.\u001b[0m\u001b[0mmul_\u001b[0m\u001b[1;33m(\u001b[0m\u001b[0mbeta1\u001b[0m\u001b[1;33m)\u001b[0m\u001b[1;33m.\u001b[0m\u001b[0madd_\u001b[0m\u001b[1;33m(\u001b[0m\u001b[0mgrad\u001b[0m\u001b[1;33m,\u001b[0m \u001b[0malpha\u001b[0m\u001b[1;33m=\u001b[0m\u001b[1;36m1\u001b[0m \u001b[1;33m-\u001b[0m \u001b[0mbeta1\u001b[0m\u001b[1;33m)\u001b[0m\u001b[1;33m\u001b[0m\u001b[1;33m\u001b[0m\u001b[0m\n\u001b[1;32m---> 85\u001b[1;33m         \u001b[0mexp_avg_sq\u001b[0m\u001b[1;33m.\u001b[0m\u001b[0mmul_\u001b[0m\u001b[1;33m(\u001b[0m\u001b[0mbeta2\u001b[0m\u001b[1;33m)\u001b[0m\u001b[1;33m.\u001b[0m\u001b[0maddcmul_\u001b[0m\u001b[1;33m(\u001b[0m\u001b[0mgrad\u001b[0m\u001b[1;33m,\u001b[0m \u001b[0mgrad\u001b[0m\u001b[1;33m,\u001b[0m \u001b[0mvalue\u001b[0m\u001b[1;33m=\u001b[0m\u001b[1;36m1\u001b[0m \u001b[1;33m-\u001b[0m \u001b[0mbeta2\u001b[0m\u001b[1;33m)\u001b[0m\u001b[1;33m\u001b[0m\u001b[1;33m\u001b[0m\u001b[0m\n\u001b[0m\u001b[0;32m     86\u001b[0m         \u001b[1;32mif\u001b[0m \u001b[0mamsgrad\u001b[0m\u001b[1;33m:\u001b[0m\u001b[1;33m\u001b[0m\u001b[1;33m\u001b[0m\u001b[0m\n\u001b[0;32m     87\u001b[0m             \u001b[1;31m# Maintains the maximum of all 2nd moment running avg. till now\u001b[0m\u001b[1;33m\u001b[0m\u001b[1;33m\u001b[0m\u001b[1;33m\u001b[0m\u001b[0m\n",
      "\u001b[1;31mKeyboardInterrupt\u001b[0m: "
     ]
    }
   ],
   "source": [
    "import torch.nn as nn\n",
    "\n",
    "class LinearModel(nn.Module):\n",
    "    \n",
    "    def __init__(self, input_dim):\n",
    "        super(LinearModel, self).__init__()\n",
    "        self.classifier = nn.Sequential(\n",
    "            nn.Linear(input_dim, 64),\n",
    "            nn.LeakyReLU(0.1),\n",
    "            nn.Linear(64, 128),\n",
    "            nn.LeakyReLU(0.1),\n",
    "            nn.BatchNorm1d(128),\n",
    "            nn.Linear(128, 64),\n",
    "            nn.LeakyReLU(0.1),\n",
    "            nn.Linear(64, 1),\n",
    "            #nn.Softmax(1),\n",
    "        )\n",
    "        \n",
    "        \n",
    "    def forward(self, x):\n",
    "        out = self.classifier(x)\n",
    "        #print(out)\n",
    "        return out\n",
    "    \n",
    "import DL_utils\n",
    "import importlib\n",
    "importlib.reload(DL_utils)\n",
    "from DL_utils import train\n",
    "\n",
    "def create_model(lr, input_dim):\n",
    "    model = LinearModel(input_dim=input_dim)\n",
    "    model = model.to(device)\n",
    "\n",
    "    loss_fn = nn.BCEWithLogitsLoss()\n",
    "    optimizer = torch.optim.Adam(model.parameters(), lr=lr)\n",
    "    \n",
    "    return model, optimizer, loss_fn\n",
    "\n",
    "lr = 1e-5\n",
    "\n",
    "model, optimizer, loss_fn = create_model(lr, input_dim = len(X.columns))\n",
    "model = model.to(device)\n",
    "train(dataloader, model, n_epochs=50, optimizer=optimizer, loss_fn=loss_fn, device=device)"
   ]
  },
  {
   "cell_type": "code",
   "execution_count": null,
   "id": "industrial-footage",
   "metadata": {},
   "outputs": [],
   "source": []
  }
 ],
 "metadata": {
  "kernelspec": {
   "display_name": "Python 3",
   "language": "python",
   "name": "python3"
  },
  "language_info": {
   "codemirror_mode": {
    "name": "ipython",
    "version": 3
   },
   "file_extension": ".py",
   "mimetype": "text/x-python",
   "name": "python",
   "nbconvert_exporter": "python",
   "pygments_lexer": "ipython3",
   "version": "3.7.7"
  }
 },
 "nbformat": 4,
 "nbformat_minor": 5
}
