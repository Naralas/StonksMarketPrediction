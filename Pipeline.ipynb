{
 "cells": [
  {
   "cell_type": "markdown",
   "id": "attractive-equilibrium",
   "metadata": {},
   "source": [
    "# Price stock tendency prediction pipeline"
   ]
  },
  {
   "cell_type": "code",
   "execution_count": 5,
   "id": "possible-piano",
   "metadata": {},
   "outputs": [],
   "source": [
    "import pandas as pd\n",
    "import matplotlib.pyplot as plt\n",
    "import matplotlib\n",
    "import seaborn as sns\n",
    "import mlflow\n",
    "import mlflow.sklearn\n",
    "from tqdm.notebook import trange, tqdm\n",
    "\n",
    "from DataHelper import *\n",
    "\n",
    "# increase plot size\n",
    "plt.rcParams[\"figure.figsize\"] = (20,8)\n",
    "\n",
    "sns.set_theme()\n",
    "\n",
    "font = {'family' : 'DejaVu Sans', 'size'   : 25}\n",
    "\n",
    "matplotlib.rc('font', **font)"
   ]
  },
  {
   "cell_type": "markdown",
   "id": "wicked-villa",
   "metadata": {},
   "source": [
    "### Features"
   ]
  },
  {
   "cell_type": "code",
   "execution_count": null,
   "id": "criminal-third",
   "metadata": {},
   "outputs": [],
   "source": [
    "config = {\n",
    "    'task':'classification',\n",
    "    'threshold':None,\n",
    "    'perform_grid_search':False,\n",
    "    'param_grid':None,\n",
    "    'use_class_weights':False\n",
    "    'price_column':'Close',\n",
    "    'predict_n':1\n",
    "    \n",
    "}"
   ]
  }
 ],
 "metadata": {
  "kernelspec": {
   "display_name": "Python 3",
   "language": "python",
   "name": "python3"
  },
  "language_info": {
   "codemirror_mode": {
    "name": "ipython",
    "version": 3
   },
   "file_extension": ".py",
   "mimetype": "text/x-python",
   "name": "python",
   "nbconvert_exporter": "python",
   "pygments_lexer": "ipython3",
   "version": "3.7.7"
  }
 },
 "nbformat": 4,
 "nbformat_minor": 5
}
