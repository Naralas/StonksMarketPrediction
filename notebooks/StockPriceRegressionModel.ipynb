{
 "cells": [
  {
   "cell_type": "markdown",
   "id": "charming-parks",
   "metadata": {},
   "source": [
    "# Price stock regression "
   ]
  },
  {
   "cell_type": "code",
   "execution_count": 1,
   "id": "fifth-alloy",
   "metadata": {},
   "outputs": [],
   "source": [
    "import pandas as pd\n",
    "import matplotlib.pyplot as plt\n",
    "import matplotlib\n",
    "import mlflow\n",
    "import mlflow.sklearn\n",
    "\n",
    "\n",
    "from DataHelper import get_data, compute_price_difference, compute_tendency\n",
    "\n",
    "# increase plot size\n",
    "plt.rcParams[\"figure.figsize\"] = (20,8)\n",
    "\n",
    "font = {'family' : 'DejaVu Sans',\n",
    "        'size'   : 20}\n",
    "\n",
    "matplotlib.rc('font', **font)"
   ]
  },
  {
   "cell_type": "code",
   "execution_count": 2,
   "id": "emerging-network",
   "metadata": {},
   "outputs": [],
   "source": [
    "DATA_PATH = './data'\n",
    "FILE = '/AAPL.txt'"
   ]
  },
  {
   "cell_type": "code",
   "execution_count": 3,
   "id": "assumed-guess",
   "metadata": {},
   "outputs": [
    {
     "data": {
      "text/html": [
       "<div>\n",
       "<style scoped>\n",
       "    .dataframe tbody tr th:only-of-type {\n",
       "        vertical-align: middle;\n",
       "    }\n",
       "\n",
       "    .dataframe tbody tr th {\n",
       "        vertical-align: top;\n",
       "    }\n",
       "\n",
       "    .dataframe thead th {\n",
       "        text-align: right;\n",
       "    }\n",
       "</style>\n",
       "<table border=\"1\" class=\"dataframe\">\n",
       "  <thead>\n",
       "    <tr style=\"text-align: right;\">\n",
       "      <th></th>\n",
       "      <th>Date</th>\n",
       "      <th>Open</th>\n",
       "      <th>High</th>\n",
       "      <th>Low</th>\n",
       "      <th>Close</th>\n",
       "      <th>Volume</th>\n",
       "      <th>Adjusted</th>\n",
       "    </tr>\n",
       "  </thead>\n",
       "  <tbody>\n",
       "    <tr>\n",
       "      <th>1</th>\n",
       "      <td>2007-01-03</td>\n",
       "      <td>3.081786</td>\n",
       "      <td>3.092143</td>\n",
       "      <td>2.925000</td>\n",
       "      <td>2.992857</td>\n",
       "      <td>1.238320e+09</td>\n",
       "      <td>2.581791</td>\n",
       "    </tr>\n",
       "    <tr>\n",
       "      <th>2</th>\n",
       "      <td>2007-01-04</td>\n",
       "      <td>3.001786</td>\n",
       "      <td>3.069643</td>\n",
       "      <td>2.993572</td>\n",
       "      <td>3.059286</td>\n",
       "      <td>8.472604e+08</td>\n",
       "      <td>2.639096</td>\n",
       "    </tr>\n",
       "    <tr>\n",
       "      <th>3</th>\n",
       "      <td>2007-01-05</td>\n",
       "      <td>3.063214</td>\n",
       "      <td>3.078571</td>\n",
       "      <td>3.014286</td>\n",
       "      <td>3.037500</td>\n",
       "      <td>8.347416e+08</td>\n",
       "      <td>2.620302</td>\n",
       "    </tr>\n",
       "    <tr>\n",
       "      <th>4</th>\n",
       "      <td>2007-01-08</td>\n",
       "      <td>3.070000</td>\n",
       "      <td>3.090357</td>\n",
       "      <td>3.045714</td>\n",
       "      <td>3.052500</td>\n",
       "      <td>7.971068e+08</td>\n",
       "      <td>2.633242</td>\n",
       "    </tr>\n",
       "    <tr>\n",
       "      <th>5</th>\n",
       "      <td>2007-01-09</td>\n",
       "      <td>3.087500</td>\n",
       "      <td>3.320714</td>\n",
       "      <td>3.041071</td>\n",
       "      <td>3.306072</td>\n",
       "      <td>3.349298e+09</td>\n",
       "      <td>2.851985</td>\n",
       "    </tr>\n",
       "  </tbody>\n",
       "</table>\n",
       "</div>"
      ],
      "text/plain": [
       "         Date      Open      High       Low     Close        Volume  Adjusted\n",
       "1  2007-01-03  3.081786  3.092143  2.925000  2.992857  1.238320e+09  2.581791\n",
       "2  2007-01-04  3.001786  3.069643  2.993572  3.059286  8.472604e+08  2.639096\n",
       "3  2007-01-05  3.063214  3.078571  3.014286  3.037500  8.347416e+08  2.620302\n",
       "4  2007-01-08  3.070000  3.090357  3.045714  3.052500  7.971068e+08  2.633242\n",
       "5  2007-01-09  3.087500  3.320714  3.041071  3.306072  3.349298e+09  2.851985"
      ]
     },
     "execution_count": 3,
     "metadata": {},
     "output_type": "execute_result"
    }
   ],
   "source": [
    "df = get_data(DATA_PATH, FILE)\n",
    "df.head()"
   ]
  },
  {
   "cell_type": "code",
   "execution_count": 4,
   "id": "adapted-mechanism",
   "metadata": {},
   "outputs": [],
   "source": [
    "price_column = 'Close'\n",
    "keep_columns = ['Date', price_column]"
   ]
  },
  {
   "cell_type": "code",
   "execution_count": 5,
   "id": "returning-bahamas",
   "metadata": {},
   "outputs": [
    {
     "name": "stdout",
     "output_type": "stream",
     "text": [
      "3525\n"
     ]
    },
    {
     "data": {
      "text/html": [
       "<div>\n",
       "<style scoped>\n",
       "    .dataframe tbody tr th:only-of-type {\n",
       "        vertical-align: middle;\n",
       "    }\n",
       "\n",
       "    .dataframe tbody tr th {\n",
       "        vertical-align: top;\n",
       "    }\n",
       "\n",
       "    .dataframe thead th {\n",
       "        text-align: right;\n",
       "    }\n",
       "</style>\n",
       "<table border=\"1\" class=\"dataframe\">\n",
       "  <thead>\n",
       "    <tr style=\"text-align: right;\">\n",
       "      <th></th>\n",
       "      <th>Date</th>\n",
       "      <th>Close</th>\n",
       "    </tr>\n",
       "  </thead>\n",
       "  <tbody>\n",
       "    <tr>\n",
       "      <th>1</th>\n",
       "      <td>2007-01-03</td>\n",
       "      <td>2.992857</td>\n",
       "    </tr>\n",
       "    <tr>\n",
       "      <th>2</th>\n",
       "      <td>2007-01-04</td>\n",
       "      <td>3.059286</td>\n",
       "    </tr>\n",
       "    <tr>\n",
       "      <th>3</th>\n",
       "      <td>2007-01-05</td>\n",
       "      <td>3.037500</td>\n",
       "    </tr>\n",
       "    <tr>\n",
       "      <th>4</th>\n",
       "      <td>2007-01-08</td>\n",
       "      <td>3.052500</td>\n",
       "    </tr>\n",
       "    <tr>\n",
       "      <th>5</th>\n",
       "      <td>2007-01-09</td>\n",
       "      <td>3.306072</td>\n",
       "    </tr>\n",
       "  </tbody>\n",
       "</table>\n",
       "</div>"
      ],
      "text/plain": [
       "         Date     Close\n",
       "1  2007-01-03  2.992857\n",
       "2  2007-01-04  3.059286\n",
       "3  2007-01-05  3.037500\n",
       "4  2007-01-08  3.052500\n",
       "5  2007-01-09  3.306072"
      ]
     },
     "execution_count": 5,
     "metadata": {},
     "output_type": "execute_result"
    }
   ],
   "source": [
    "df = df.loc[:, keep_columns]\n",
    "\n",
    "print(len(df))\n",
    "df.head()"
   ]
  },
  {
   "cell_type": "code",
   "execution_count": 6,
   "id": "current-tourist",
   "metadata": {},
   "outputs": [
    {
     "data": {
      "text/plain": [
       "Date     False\n",
       "Close    False\n",
       "dtype: bool"
      ]
     },
     "execution_count": 6,
     "metadata": {},
     "output_type": "execute_result"
    }
   ],
   "source": [
    "df.isna().any()"
   ]
  },
  {
   "cell_type": "markdown",
   "id": "attended-arcade",
   "metadata": {},
   "source": [
    "### Preprocessing, compute some indicators"
   ]
  },
  {
   "cell_type": "code",
   "execution_count": 7,
   "id": "manufactured-debut",
   "metadata": {},
   "outputs": [],
   "source": [
    "df['Difference'] = compute_price_difference(df, price_column=price_column)"
   ]
  },
  {
   "cell_type": "markdown",
   "id": "welsh-baltimore",
   "metadata": {},
   "source": [
    "### Compute the price tendency (IE going up or down since yesterday)"
   ]
  },
  {
   "cell_type": "code",
   "execution_count": 8,
   "id": "falling-colon",
   "metadata": {},
   "outputs": [
    {
     "name": "stdout",
     "output_type": "stream",
     "text": [
      "[high] : 1583 (44.9%)\n",
      "[lower] : 1392 (39.5%)\n",
      "[stay] : 550 (15.6%)\n"
     ]
    }
   ],
   "source": [
    "THRESH_DIFF = 0.04\n",
    "\n",
    "df['Tendency'] = compute_tendency(df, diff_column='Difference', labels=['lower', 'higher'], thresh_diff=THRESH_DIFF)\n",
    "value_counts = df.Tendency.value_counts().to_dict()\n",
    "\n",
    "\n",
    "for value, count in value_counts.items():\n",
    "    print(f\"[{value}] : {count} ({count * 100.0 / len(df['Tendency']):.1f}%)\")"
   ]
  },
  {
   "cell_type": "markdown",
   "id": "experimental-vienna",
   "metadata": {},
   "source": [
    "### Add the rolling average"
   ]
  },
  {
   "cell_type": "code",
   "execution_count": 9,
   "id": "intelligent-metallic",
   "metadata": {},
   "outputs": [
    {
     "name": "stdout",
     "output_type": "stream",
     "text": [
      "          Date     Close  Difference Tendency    MA(10)\n",
      "1   2007-01-03  2.992857    0.000000     stay       NaN\n",
      "2   2007-01-04  3.059286    0.066429     high       NaN\n",
      "3   2007-01-05  3.037500   -0.021786     stay       NaN\n",
      "4   2007-01-08  3.052500    0.015000     stay       NaN\n",
      "5   2007-01-09  3.306072    0.253572     high       NaN\n",
      "6   2007-01-10  3.464286    0.158214     high       NaN\n",
      "7   2007-01-11  3.421429   -0.042857    lower       NaN\n",
      "8   2007-01-12  3.379286   -0.042143    lower       NaN\n",
      "9   2007-01-16  3.467857    0.088571     high       NaN\n",
      "10  2007-01-17  3.391071   -0.076786    lower  3.257214\n",
      "11  2007-01-18  3.181072   -0.209999    lower  3.276036\n",
      "12  2007-01-19  3.160714   -0.020358     stay  3.286179\n",
      "13  2007-01-22  3.099643   -0.061071    lower  3.292393\n",
      "14  2007-01-23  3.060714   -0.038929     stay  3.293214\n",
      "15  2007-01-24  3.096429    0.035715     stay  3.272250\n"
     ]
    }
   ],
   "source": [
    "N=10\n",
    "\n",
    "df[f\"MA({N})\"] = df[price_column].rolling(N).mean()\n",
    "\n",
    "print(df.head(15))"
   ]
  },
  {
   "cell_type": "markdown",
   "id": "absent-parade",
   "metadata": {},
   "source": [
    "### Shift the prices to predict next day"
   ]
  },
  {
   "cell_type": "code",
   "execution_count": 10,
   "id": "wound-publisher",
   "metadata": {},
   "outputs": [
    {
     "name": "stdout",
     "output_type": "stream",
     "text": [
      "            Date       Close  Difference Tendency      MA(10)        Next\n",
      "1     2007-01-03    2.992857    0.000000     stay         NaN    3.059286\n",
      "2     2007-01-04    3.059286    0.066429     high         NaN    3.037500\n",
      "3     2007-01-05    3.037500   -0.021786     stay         NaN    3.052500\n",
      "4     2007-01-08    3.052500    0.015000     stay         NaN    3.306072\n",
      "5     2007-01-09    3.306072    0.253572     high         NaN    3.464286\n",
      "...          ...         ...         ...      ...         ...         ...\n",
      "3521  2020-12-24  131.970001    1.009994     high  127.828001  136.690002\n",
      "3522  2020-12-28  136.690002    4.720001     high  129.256001  134.869995\n",
      "3523  2020-12-29  134.869995   -1.820007    lower  130.565000  133.720001\n",
      "3524  2020-12-30  133.720001   -1.149994    lower  131.149001  132.690002\n",
      "3525  2020-12-31  132.690002   -1.029999    lower  131.637001         NaN\n",
      "\n",
      "[3525 rows x 6 columns]\n"
     ]
    }
   ],
   "source": [
    "def shift_prices(df):\n",
    "    prices = df[price_column]\n",
    "    prices = prices.shift(periods=-1)    \n",
    "    df['Next'] = prices\n",
    "     \n",
    "shift_prices(df)\n",
    "\n",
    "print(df)"
   ]
  },
  {
   "cell_type": "markdown",
   "id": "persistent-sugar",
   "metadata": {},
   "source": [
    "### Remove nulls introduced by previous operations"
   ]
  },
  {
   "cell_type": "code",
   "execution_count": 11,
   "id": "missing-installation",
   "metadata": {},
   "outputs": [],
   "source": [
    "df = df.dropna()"
   ]
  },
  {
   "cell_type": "markdown",
   "id": "atomic-croatia",
   "metadata": {},
   "source": [
    "### ML Data preparation"
   ]
  },
  {
   "cell_type": "code",
   "execution_count": 12,
   "id": "light-houston",
   "metadata": {},
   "outputs": [
    {
     "data": {
      "text/html": [
       "<div>\n",
       "<style scoped>\n",
       "    .dataframe tbody tr th:only-of-type {\n",
       "        vertical-align: middle;\n",
       "    }\n",
       "\n",
       "    .dataframe tbody tr th {\n",
       "        vertical-align: top;\n",
       "    }\n",
       "\n",
       "    .dataframe thead th {\n",
       "        text-align: right;\n",
       "    }\n",
       "</style>\n",
       "<table border=\"1\" class=\"dataframe\">\n",
       "  <thead>\n",
       "    <tr style=\"text-align: right;\">\n",
       "      <th></th>\n",
       "      <th>Close</th>\n",
       "      <th>Difference</th>\n",
       "      <th>MA(10)</th>\n",
       "      <th>Next</th>\n",
       "    </tr>\n",
       "  </thead>\n",
       "  <tbody>\n",
       "    <tr>\n",
       "      <th>10</th>\n",
       "      <td>3.391071</td>\n",
       "      <td>-0.076786</td>\n",
       "      <td>3.257214</td>\n",
       "      <td>3.181072</td>\n",
       "    </tr>\n",
       "    <tr>\n",
       "      <th>11</th>\n",
       "      <td>3.181072</td>\n",
       "      <td>-0.209999</td>\n",
       "      <td>3.276036</td>\n",
       "      <td>3.160714</td>\n",
       "    </tr>\n",
       "    <tr>\n",
       "      <th>12</th>\n",
       "      <td>3.160714</td>\n",
       "      <td>-0.020358</td>\n",
       "      <td>3.286179</td>\n",
       "      <td>3.099643</td>\n",
       "    </tr>\n",
       "    <tr>\n",
       "      <th>13</th>\n",
       "      <td>3.099643</td>\n",
       "      <td>-0.061071</td>\n",
       "      <td>3.292393</td>\n",
       "      <td>3.060714</td>\n",
       "    </tr>\n",
       "    <tr>\n",
       "      <th>14</th>\n",
       "      <td>3.060714</td>\n",
       "      <td>-0.038929</td>\n",
       "      <td>3.293214</td>\n",
       "      <td>3.096429</td>\n",
       "    </tr>\n",
       "  </tbody>\n",
       "</table>\n",
       "</div>"
      ],
      "text/plain": [
       "       Close  Difference    MA(10)      Next\n",
       "10  3.391071   -0.076786  3.257214  3.181072\n",
       "11  3.181072   -0.209999  3.276036  3.160714\n",
       "12  3.160714   -0.020358  3.286179  3.099643\n",
       "13  3.099643   -0.061071  3.292393  3.060714\n",
       "14  3.060714   -0.038929  3.293214  3.096429"
      ]
     },
     "execution_count": 12,
     "metadata": {},
     "output_type": "execute_result"
    }
   ],
   "source": [
    "df = df.drop(columns=['Tendency', 'Date'])\n",
    "\n",
    "df.head()"
   ]
  },
  {
   "cell_type": "code",
   "execution_count": 13,
   "id": "broke-algorithm",
   "metadata": {},
   "outputs": [],
   "source": [
    "X = df.loc[:, df.columns != 'Next']\n",
    "Y = df['Next']"
   ]
  },
  {
   "cell_type": "code",
   "execution_count": 14,
   "id": "objective-closing",
   "metadata": {},
   "outputs": [
    {
     "name": "stdout",
     "output_type": "stream",
     "text": [
      "Train size : 2460, test size : 1055 (30%)\n"
     ]
    }
   ],
   "source": [
    "from sklearn.model_selection import train_test_split\n",
    "TRAIN_RATIO = 0.7\n",
    "\n",
    "X_train, X_test, Y_train, Y_test = train_test_split(X, Y, train_size=TRAIN_RATIO, random_state=42)\n",
    "\n",
    "print(f\"Train size : {len(X_train)}, test size : {len(X_test)} ({(1-TRAIN_RATIO)*100:.0f}%)\")"
   ]
  },
  {
   "cell_type": "markdown",
   "id": "suspected-louisville",
   "metadata": {},
   "source": [
    "### Classifier and evaluation"
   ]
  },
  {
   "cell_type": "code",
   "execution_count": 15,
   "id": "therapeutic-publisher",
   "metadata": {},
   "outputs": [],
   "source": [
    "from sklearn.linear_model import LinearRegression\n",
    "reg = LinearRegression().fit(X_train, Y_train)"
   ]
  },
  {
   "cell_type": "code",
   "execution_count": 16,
   "id": "approximate-salmon",
   "metadata": {},
   "outputs": [
    {
     "name": "stdout",
     "output_type": "stream",
     "text": [
      "MSE : 0.61\n",
      "R2_Score : 1.00\n"
     ]
    }
   ],
   "source": [
    "from sklearn.metrics import mean_squared_error, r2_score\n",
    "\n",
    "y_pred = reg.predict(X_test)\n",
    "print(f\"MSE : {mean_squared_error(Y_test, y_pred):.2f}\")\n",
    "print(f\"R2_Score : {r2_score(Y_test, y_pred):.2f}\")"
   ]
  },
  {
   "cell_type": "code",
   "execution_count": 17,
   "id": "dimensional-attempt",
   "metadata": {},
   "outputs": [
    {
     "name": "stdout",
     "output_type": "stream",
     "text": [
      "          Close  Difference     MA(10)\n",
      "2467  29.367500   -0.020001  29.008000\n",
      "80     3.568571    0.038571   3.336714\n",
      "368    6.383929   -0.095714   6.449214\n",
      "335    6.428571    0.216071   6.043571\n",
      "2218  28.875000    0.434999  28.084500\n",
      "2467    29.280001\n",
      "80       3.564286\n",
      "368      6.460714\n",
      "335      6.462143\n",
      "2218    29.770000\n",
      "Name: Next, dtype: float64\n"
     ]
    }
   ],
   "source": [
    "print(X_test.head())\n",
    "print(Y_test.head())"
   ]
  },
  {
   "cell_type": "code",
   "execution_count": 18,
   "id": "speaking-fishing",
   "metadata": {},
   "outputs": [
    {
     "data": {
      "image/png": "[encoded data removed]",
      "text/plain": [
       "<Figure size 1440x576 with 1 Axes>"
      ]
     },
     "metadata": {
      "needs_background": "light"
     },
     "output_type": "display_data"
    }
   ],
   "source": [
    "values = X_test[price_column]\n",
    "ax = plt.gca()\n",
    "plt.scatter(values, Y_test,  color='black', label=\"Actual values\")\n",
    "plt.plot(values, y_pred, color='blue', linewidth=3, label=\"Regression\")\n",
    "\n",
    "ax.set(title='AAPL Stock Closing Price over time', \n",
    "       ylabel='Closing stock price prediction for next day (USD)', xlabel='Closing stock price from current day (USD)')\n",
    "plt.legend(loc='best')\n",
    "plt.show()"
   ]
  },
  {
   "cell_type": "markdown",
   "id": "sapphire-nylon",
   "metadata": {},
   "source": [
    "### Build a dataframe for classification tests"
   ]
  },
  {
   "cell_type": "code",
   "execution_count": 19,
   "id": "controversial-personal",
   "metadata": {},
   "outputs": [
    {
     "data": {
      "text/html": [
       "<div>\n",
       "<style scoped>\n",
       "    .dataframe tbody tr th:only-of-type {\n",
       "        vertical-align: middle;\n",
       "    }\n",
       "\n",
       "    .dataframe tbody tr th {\n",
       "        vertical-align: top;\n",
       "    }\n",
       "\n",
       "    .dataframe thead th {\n",
       "        text-align: right;\n",
       "    }\n",
       "</style>\n",
       "<table border=\"1\" class=\"dataframe\">\n",
       "  <thead>\n",
       "    <tr style=\"text-align: right;\">\n",
       "      <th></th>\n",
       "      <th>ActualDiff</th>\n",
       "      <th>PredictedDiff</th>\n",
       "    </tr>\n",
       "  </thead>\n",
       "  <tbody>\n",
       "    <tr>\n",
       "      <th>0</th>\n",
       "      <td>-0.087499</td>\n",
       "      <td>0.051249</td>\n",
       "    </tr>\n",
       "    <tr>\n",
       "      <th>1</th>\n",
       "      <td>-0.004285</td>\n",
       "      <td>-0.038606</td>\n",
       "    </tr>\n",
       "    <tr>\n",
       "      <th>2</th>\n",
       "      <td>0.076785</td>\n",
       "      <td>-0.017468</td>\n",
       "    </tr>\n",
       "    <tr>\n",
       "      <th>3</th>\n",
       "      <td>0.033572</td>\n",
       "      <td>-0.041908</td>\n",
       "    </tr>\n",
       "    <tr>\n",
       "      <th>4</th>\n",
       "      <td>0.895000</td>\n",
       "      <td>0.015923</td>\n",
       "    </tr>\n",
       "  </tbody>\n",
       "</table>\n",
       "</div>"
      ],
      "text/plain": [
       "   ActualDiff  PredictedDiff\n",
       "0   -0.087499       0.051249\n",
       "1   -0.004285      -0.038606\n",
       "2    0.076785      -0.017468\n",
       "3    0.033572      -0.041908\n",
       "4    0.895000       0.015923"
      ]
     },
     "execution_count": 19,
     "metadata": {},
     "output_type": "execute_result"
    }
   ],
   "source": [
    "actual_diff = [actual_next - closing_price for closing_price, actual_next in zip(X_test[price_column], Y_test.values)]\n",
    "predicted_diff = [predicted_next - closing_price for closing_price, predicted_next in zip(X_test[price_column], y_pred)]\n",
    "\n",
    "df_test = pd.DataFrame({'ActualDiff': actual_diff, 'PredictedDiff':predicted_diff})\n",
    "df_test.head()"
   ]
  },
  {
   "cell_type": "markdown",
   "id": "conceptual-train",
   "metadata": {},
   "source": [
    "### Compute the binned tendencies predicted and actual for the classification"
   ]
  },
  {
   "cell_type": "code",
   "execution_count": 20,
   "id": "rolled-envelope",
   "metadata": {},
   "outputs": [],
   "source": [
    "df_test['ActualTendency'] = compute_tendency(df_test, diff_column='ActualDiff', thresh_diff=THRESH_DIFF, labels=['lower', 'stay', 'higher'])\n",
    "df_test['PredictedTendency'] = compute_tendency(df_test, diff_column='PredictedDiff', thresh_diff=THRESH_DIFF, labels=['lower', 'stay', 'higher'])"
   ]
  },
  {
   "cell_type": "code",
   "execution_count": 21,
   "id": "unlikely-scroll",
   "metadata": {},
   "outputs": [
    {
     "name": "stdout",
     "output_type": "stream",
     "text": [
      "Accuracy : 0.34, F1 : 0.30\n"
     ]
    }
   ],
   "source": [
    "from sklearn.metrics import accuracy_score, plot_confusion_matrix, f1_score\n",
    "\n",
    "accuracy = accuracy_score(df_test['ActualTendency'], df_test['PredictedTendency'])\n",
    "f1 = f1_score(df_test['ActualTendency'], df_test['PredictedTendency'], average='weighted')\n",
    "\n",
    "print(f\"Accuracy : {accuracy:.2f}, F1 : {f1:.2f}\")"
   ]
  },
  {
   "cell_type": "code",
   "execution_count": 22,
   "id": "descending-plymouth",
   "metadata": {},
   "outputs": [
    {
     "name": "stdout",
     "output_type": "stream",
     "text": [
      "Accuracy : 0.34, F1 : 0.30\n"
     ]
    }
   ],
   "source": [
    "from sklearn.metrics import accuracy_score, plot_confusion_matrix, f1_score\n",
    "with mlflow.start_run(run_name=\"LinearRegression\"):\n",
    "    accuracy = accuracy_score(df_test['ActualTendency'], df_test['PredictedTendency'])\n",
    "    f1 = f1_score(df_test['ActualTendency'], df_test['PredictedTendency'], average='weighted')\n",
    "\n",
    "\n",
    "    mlflow.log_metric('acc', accuracy)\n",
    "    mlflow.log_metric('f1', f1)\n",
    "    mlflow.sklearn.log_model(reg, \"sklearn regression model\")\n",
    "\n",
    "    print(f\"Accuracy : {accuracy:.2f}, F1 : {f1:.2f}\")\n",
    "    "
   ]
  }
 ],
 "metadata": {
  "kernelspec": {
   "display_name": "Python 3",
   "language": "python",
   "name": "python3"
  },
  "language_info": {
   "codemirror_mode": {
    "name": "ipython",
    "version": 3
   },
   "file_extension": ".py",
   "mimetype": "text/x-python",
   "name": "python",
   "nbconvert_exporter": "python",
   "pygments_lexer": "ipython3",
   "version": "3.7.7"
  }
 },
 "nbformat": 4,
 "nbformat_minor": 5
}
