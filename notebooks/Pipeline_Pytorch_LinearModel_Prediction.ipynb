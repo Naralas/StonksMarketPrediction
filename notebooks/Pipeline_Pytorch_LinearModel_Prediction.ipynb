{
 "cells": [
  {
   "cell_type": "code",
   "execution_count": 14,
   "id": "compliant-swaziland",
   "metadata": {},
   "outputs": [
    {
     "name": "stdout",
     "output_type": "stream",
     "text": [
      "The autoreload extension is already loaded. To reload it, use:\n",
      "  %reload_ext autoreload\n"
     ]
    }
   ],
   "source": [
    "%load_ext autoreload\n",
    "%autoreload 2\n",
    "\n",
    "from notebook_config import setup_notebook\n",
    "import matplotlib.pyplot as plt\n",
    "import numpy as np\n",
    "from tqdm.notebook import trange, tqdm\n",
    "import seaborn as sns\n",
    "\n",
    "setup_notebook()"
   ]
  },
  {
   "cell_type": "code",
   "execution_count": 2,
   "id": "conventional-prague",
   "metadata": {},
   "outputs": [
    {
     "name": "stdout",
     "output_type": "stream",
     "text": [
      "cuda\n"
     ]
    }
   ],
   "source": [
    "import torch\n",
    "import torch.nn as nn\n",
    "device = torch.device('cuda' if torch.cuda.is_available() else 'cpu')\n",
    "#device = torch.device('cpu')\n",
    "print(device)"
   ]
  },
  {
   "cell_type": "code",
   "execution_count": 3,
   "id": "introductory-lodge",
   "metadata": {},
   "outputs": [],
   "source": [
    "from helpers.data_helper import *\n",
    "from datasets.stocks_data_wrapper import StocksDataWrapper"
   ]
  },
  {
   "cell_type": "code",
   "execution_count": 4,
   "id": "introductory-adrian",
   "metadata": {},
   "outputs": [],
   "source": [
    "DATA_PATH = '../data/'\n",
    "FILE_SUFFIX = '.txt'\n",
    "price_column = 'Close'"
   ]
  },
  {
   "cell_type": "markdown",
   "id": "essential-rainbow",
   "metadata": {},
   "source": [
    "### Prepare data"
   ]
  },
  {
   "cell_type": "code",
   "execution_count": 5,
   "id": "empirical-communications",
   "metadata": {},
   "outputs": [],
   "source": [
    "PERFORM_GRID_SEARCH = True\n",
    "MAX_SIZE = 5000\n",
    "n_splits=5\n",
    "\n",
    "quotations = ['AAL', 'AAPL', 'AMZN','CMCSA', 'COST', 'GM', 'GOOG', 'IBM', 'JNJ', 'KO','PEP', 'TSLA', 'WMT', 'XOM']\n",
    "days_predict_feature_set = {\n",
    "    1:['Volume', 'Close', 'LowLen', 'Difference', 'BG_L_Band', 'GAP', 'MACD_diff'],\n",
    "    5:['Volume', 'Close', 'LowLen', 'Difference', 'SMA(20) - SMA(10)', 'BG_H_Band_Indicator', 'MACD'],\n",
    "    10:['Volume', 'Close', 'BodyLen', 'Difference', 'SMA(20) - SMA(10)', 'EMA_Diff', 'MACD_diff'],\n",
    "    20:['Volume', 'Close', 'LowLen', 'Difference', 'EMA(14)', 'BG_H_Band', 'MACD_diff'],\n",
    "    50:['Volume', 'Close', 'LowLen', 'Difference', 'BG_L_Band','GAP','MACD_diff'],\n",
    "}\n",
    "\n",
    "#quotations=['CMCSA']\n",
    "#days_predict_feature_set = {1:days_predict_feature_set[1]}"
   ]
  },
  {
   "cell_type": "code",
   "execution_count": 6,
   "id": "narrative-myanmar",
   "metadata": {},
   "outputs": [],
   "source": [
    "predict_n_metrics_dict = {}"
   ]
  },
  {
   "cell_type": "code",
   "execution_count": 7,
   "id": "violent-revelation",
   "metadata": {},
   "outputs": [
    {
     "data": {
      "application/vnd.jupyter.widget-view+json": {
       "model_id": "c1f6ee145b274e809e66caf7b5cfe49b",
       "version_major": 2,
       "version_minor": 0
      },
      "text/plain": [
       "  0%|          | 0/5 [00:00<?, ?it/s]"
      ]
     },
     "metadata": {},
     "output_type": "display_data"
    },
    {
     "data": {
      "application/vnd.jupyter.widget-view+json": {
       "model_id": "a43ce61a9d3449628fb186e8a7cee2fc",
       "version_major": 2,
       "version_minor": 0
      },
      "text/plain": [
       "  0%|          | 0/14 [00:00<?, ?it/s]"
      ]
     },
     "metadata": {},
     "output_type": "display_data"
    },
    {
     "data": {
      "application/vnd.jupyter.widget-view+json": {
       "model_id": "444336bf78b441ac807a463daf9bfca8",
       "version_major": 2,
       "version_minor": 0
      },
      "text/plain": [
       "  0%|          | 0/14 [00:00<?, ?it/s]"
      ]
     },
     "metadata": {},
     "output_type": "display_data"
    },
    {
     "data": {
      "application/vnd.jupyter.widget-view+json": {
       "model_id": "a82c59e323f04c438a3ab2bad98a74e5",
       "version_major": 2,
       "version_minor": 0
      },
      "text/plain": [
       "  0%|          | 0/14 [00:00<?, ?it/s]"
      ]
     },
     "metadata": {},
     "output_type": "display_data"
    },
    {
     "data": {
      "application/vnd.jupyter.widget-view+json": {
       "model_id": "30ab6f6c4b6e4b769e8f26f051f3fc64",
       "version_major": 2,
       "version_minor": 0
      },
      "text/plain": [
       "  0%|          | 0/14 [00:00<?, ?it/s]"
      ]
     },
     "metadata": {},
     "output_type": "display_data"
    },
    {
     "data": {
      "application/vnd.jupyter.widget-view+json": {
       "model_id": "3763903d371b47ae98c93c3c0225f97e",
       "version_major": 2,
       "version_minor": 0
      },
      "text/plain": [
       "  0%|          | 0/14 [00:00<?, ?it/s]"
      ]
     },
     "metadata": {},
     "output_type": "display_data"
    }
   ],
   "source": [
    "from torch.utils.data import DataLoader\n",
    "from datasets.torch_datasets import StocksDataset\n",
    "from models.pytorch_linear_model import LinearModel\n",
    "from trainers.pytorch_classification_trainer import PytorchClassificationTrainer\n",
    "\n",
    "for predict_n, features_list in tqdm(days_predict_feature_set.items()):\n",
    "    quot_metrics_dict = {}\n",
    "    for quot in tqdm(quotations):\n",
    "        data_wrapper = StocksDataWrapper.read_from(f\"{DATA_PATH}{quot}{FILE_SUFFIX}\", \n",
    "                                                   compute_features=True, \n",
    "                                                   predict_n=predict_n, \n",
    "                                                   thresh_diff=0.005, normalize=True)\n",
    "\n",
    "\n",
    "        X_train, X_test, y_train, y_test = data_wrapper.get_datasets(n_splits=1, val_size=0.2, \n",
    "                                                                     y_column='Next', \n",
    "                                                                     features_list=features_list)\n",
    "        n_classes = len(np.unique(y_train))\n",
    "      \n",
    "        train_dataset = StocksDataset(X_train,y_train)\n",
    "        test_dataset = StocksDataset(X_test, y_test)\n",
    "\n",
    "        train_dataloader = DataLoader(train_dataset, batch_size=32, shuffle=False, num_workers=0, drop_last=True)\n",
    "        test_dataloader = DataLoader(test_dataset, batch_size=32, shuffle=False, num_workers=0)\n",
    "        \n",
    "        config = dict(\n",
    "            lr=1e-5,\n",
    "            loss=nn.CrossEntropyLoss,\n",
    "            n_epochs=100,\n",
    "            optimizer=torch.optim.Adam,\n",
    "        )\n",
    "        model = LinearModel(config, input_dim=X_train.shape[1], output_dim=n_classes, device=device)\n",
    "\n",
    "        trainer = PytorchClassificationTrainer(model, device=device, use_wandb=False, project_label=\"Pipeline\")\n",
    "        trainer.train(dataloader=train_dataloader)\n",
    "\n",
    "        \n",
    "        metrics = trainer.evaluate(test_dataloader)\n",
    "        label_dict = {'LinearNN':metrics}\n",
    "        quot_metrics_dict[quot] = label_dict\n",
    "        \n",
    "    #metrics_df = pd.DataFrame.from_dict(quot_metrics_dict).T\n",
    "    \"\"\"acc_df = metrics_df.applymap(lambda metrics: metrics['accuracy'])\n",
    "    f1_df = metrics_df.applymap(lambda metrics: metrics['f1_score'])\n",
    "\n",
    "    acc_df.to_csv(f\"metrics/acc_{predict_n}.csv\", index=True)\n",
    "    f1_df.to_csv(f\"metrics/f1_{predict_n}.csv\", index=True)\"\"\"\n",
    "        \n",
    "    predict_n_metrics_dict[predict_n] = quot_metrics_dict.copy()"
   ]
  },
  {
   "cell_type": "code",
   "execution_count": 8,
   "id": "eligible-potato",
   "metadata": {},
   "outputs": [
    {
     "data": {
      "text/plain": [
       "{1: {'AAL': {'LinearNN': {'acc': 0.3948497854077253,\n",
       "    'f1': 0.3486437147067315}},\n",
       "  'AAPL': {'LinearNN': {'acc': 0.4291845493562232, 'f1': 0.29082291076736927}},\n",
       "  'AMZN': {'LinearNN': {'acc': 0.402002861230329, 'f1': 0.23855305960834866}},\n",
       "  'CMCSA': {'LinearNN': {'acc': 0.2943159922928709,\n",
       "    'f1': 0.13384969950944856}},\n",
       "  'COST': {'LinearNN': {'acc': 0.25668753557199775,\n",
       "    'f1': 0.11341622906092994}},\n",
       "  'GM': {'LinearNN': {'acc': 0.40357852882703776, 'f1': 0.3274188084239719}},\n",
       "  'GOOG': {'LinearNN': {'acc': 0.3147353361945637, 'f1': 0.27090585108388676}},\n",
       "  'IBM': {'LinearNN': {'acc': 0.2885135135135135, 'f1': 0.1403432019402666}},\n",
       "  'JNJ': {'LinearNN': {'acc': 0.41487839771101576, 'f1': 0.24520162512244795}},\n",
       "  'KO': {'LinearNN': {'acc': 0.3876967095851216, 'f1': 0.224257709916147}},\n",
       "  'PEP': {'LinearNN': {'acc': 0.25921425678412313, 'f1': 0.14995481767740723}},\n",
       "  'TSLA': {'LinearNN': {'acc': 0.4110898661567878, 'f1': 0.3775696643435814}},\n",
       "  'WMT': {'LinearNN': {'acc': 0.40772532188841204, 'f1': 0.23785197399931207}},\n",
       "  'XOM': {'LinearNN': {'acc': 0.36337625178826893, 'f1': 0.2644663691175319}}},\n",
       " 5: {'AAL': {'LinearNN': {'acc': 0.42120343839541546,\n",
       "    'f1': 0.3248074051492797}},\n",
       "  'AAPL': {'LinearNN': {'acc': 0.34097421203438394, 'f1': 0.2847909497511699}},\n",
       "  'AMZN': {'LinearNN': {'acc': 0.3825214899713467, 'f1': 0.32334351827167995}},\n",
       "  'CMCSA': {'LinearNN': {'acc': 0.2959036144578313,\n",
       "    'f1': 0.13967979815619297}},\n",
       "  'COST': {'LinearNN': {'acc': 0.25854214123006836,\n",
       "    'f1': 0.14180296237819387}},\n",
       "  'GM': {'LinearNN': {'acc': 0.3745019920318725, 'f1': 0.303917443187469}},\n",
       "  'GOOG': {'LinearNN': {'acc': 0.3495702005730659, 'f1': 0.2882633988416286}},\n",
       "  'IBM': {'LinearNN': {'acc': 0.2872592091922947, 'f1': 0.15096664483310443}},\n",
       "  'JNJ': {'LinearNN': {'acc': 0.4140401146131805, 'f1': 0.24246726063466903}},\n",
       "  'KO': {'LinearNN': {'acc': 0.38825214899713467, 'f1': 0.2171647727104716}},\n",
       "  'PEP': {'LinearNN': {'acc': 0.24959481361426256, 'f1': 0.13586893165891076}},\n",
       "  'TSLA': {'LinearNN': {'acc': 0.42528735632183906, 'f1': 0.3910788045578165}},\n",
       "  'WMT': {'LinearNN': {'acc': 0.4068767908309456, 'f1': 0.23534217636657542}},\n",
       "  'XOM': {'LinearNN': {'acc': 0.2607449856733524, 'f1': 0.10785360771034123}}},\n",
       " 10: {'AAL': {'LinearNN': {'acc': 0.3988522238163558,\n",
       "    'f1': 0.3243356223327168}},\n",
       "  'AAPL': {'LinearNN': {'acc': 0.38593974175035867, 'f1': 0.3167254614703011}},\n",
       "  'AMZN': {'LinearNN': {'acc': 0.41750358680057387,\n",
       "    'f1': 0.25893512623662124}},\n",
       "  'CMCSA': {'LinearNN': {'acc': 0.30279652844744454,\n",
       "    'f1': 0.2106384234198778}},\n",
       "  'COST': {'LinearNN': {'acc': 0.3037037037037037, 'f1': 0.19695645318887842}},\n",
       "  'GM': {'LinearNN': {'acc': 0.36726546906187624, 'f1': 0.30733353676940184}},\n",
       "  'GOOG': {'LinearNN': {'acc': 0.3098995695839311, 'f1': 0.2180244524215989}},\n",
       "  'IBM': {'LinearNN': {'acc': 0.29918864097363085, 'f1': 0.20219131141621233}},\n",
       "  'JNJ': {'LinearNN': {'acc': 0.4131994261119082, 'f1': 0.24162727861975547}},\n",
       "  'KO': {'LinearNN': {'acc': 0.38737446197991393, 'f1': 0.21632079572818355}},\n",
       "  'PEP': {'LinearNN': {'acc': 0.2586137008512363, 'f1': 0.1604205811982887}},\n",
       "  'TSLA': {'LinearNN': {'acc': 0.44145873320537427,\n",
       "    'f1': 0.39567267390523064}},\n",
       "  'WMT': {'LinearNN': {'acc': 0.40746054519368724, 'f1': 0.23592007101938264}},\n",
       "  'XOM': {'LinearNN': {'acc': 0.25968436154949787, 'f1': 0.1070680397276973}}},\n",
       " 20: {'AAL': {'LinearNN': {'acc': 0.43453237410071943,\n",
       "    'f1': 0.3475807336564229}},\n",
       "  'AAPL': {'LinearNN': {'acc': 0.3856115107913669, 'f1': 0.30442683535784704}},\n",
       "  'AMZN': {'LinearNN': {'acc': 0.41007194244604317,\n",
       "    'f1': 0.23851123183086184}},\n",
       "  'CMCSA': {'LinearNN': {'acc': 0.2953667953667954,\n",
       "    'f1': 0.13656331061019672}},\n",
       "  'COST': {'LinearNN': {'acc': 0.30861380490587564,\n",
       "    'f1': 0.28408740305731683}},\n",
       "  'GM': {'LinearNN': {'acc': 0.36072144288577157, 'f1': 0.29748070786547365}},\n",
       "  'GOOG': {'LinearNN': {'acc': 0.3899280575539568, 'f1': 0.21877951055304826}},\n",
       "  'IBM': {'LinearNN': {'acc': 0.2970230040595399, 'f1': 0.19292830988985735}},\n",
       "  'JNJ': {'LinearNN': {'acc': 0.41294964028776976, 'f1': 0.24137789564682266}},\n",
       "  'KO': {'LinearNN': {'acc': 0.38705035971223023, 'f1': 0.21600943311740647}},\n",
       "  'PEP': {'LinearNN': {'acc': 0.42150101419878294, 'f1': 0.36890876757164137}},\n",
       "  'TSLA': {'LinearNN': {'acc': 0.4662813102119461, 'f1': 0.38855271953624776}},\n",
       "  'WMT': {'LinearNN': {'acc': 0.40863309352517985, 'f1': 0.23708232596762222}},\n",
       "  'XOM': {'LinearNN': {'acc': 0.3381294964028777, 'f1': 0.247544113953036}}},\n",
       " 50: {'AAL': {'LinearNN': {'acc': 0.4296081277213353,\n",
       "    'f1': 0.3386144712126494}},\n",
       "  'AAPL': {'LinearNN': {'acc': 0.4296081277213353, 'f1': 0.26072791323061606}},\n",
       "  'AMZN': {'LinearNN': {'acc': 0.39332365747460085, 'f1': 0.2597309050139239}},\n",
       "  'CMCSA': {'LinearNN': {'acc': 0.3291384317521781, 'f1': 0.2594244289045381}},\n",
       "  'COST': {'LinearNN': {'acc': 0.31196336576989125, 'f1': 0.2093251683578715}},\n",
       "  'GM': {'LinearNN': {'acc': 0.3793103448275862, 'f1': 0.3004958791598708}},\n",
       "  'GOOG': {'LinearNN': {'acc': 0.3889695210449927, 'f1': 0.21785544752363228}},\n",
       "  'IBM': {'LinearNN': {'acc': 0.2925423728813559, 'f1': 0.1727296373687712}},\n",
       "  'JNJ': {'LinearNN': {'acc': 0.41509433962264153, 'f1': 0.2435220125786164}},\n",
       "  'KO': {'LinearNN': {'acc': 0.3875181422351234, 'f1': 0.21645887861250618}},\n",
       "  'PEP': {'LinearNN': {'acc': 0.27978853192354614, 'f1': 0.142462957073651}},\n",
       "  'TSLA': {'LinearNN': {'acc': 0.41130604288499023, 'f1': 0.3570777333887129}},\n",
       "  'WMT': {'LinearNN': {'acc': 0.409288824383164, 'f1': 0.23773315855005608}},\n",
       "  'XOM': {'LinearNN': {'acc': 0.2597968069666183, 'f1': 0.10715121761987252}}}}"
      ]
     },
     "execution_count": 8,
     "metadata": {},
     "output_type": "execute_result"
    }
   ],
   "source": [
    "predict_n_metrics_dict"
   ]
  },
  {
   "cell_type": "markdown",
   "id": "parallel-litigation",
   "metadata": {},
   "source": [
    "### Add to metrics"
   ]
  },
  {
   "cell_type": "code",
   "execution_count": 9,
   "id": "fuzzy-butler",
   "metadata": {},
   "outputs": [],
   "source": [
    "import json\n",
    "with open(\"metrics/nn_metrics_dict.txt\", 'w') as f:\n",
    "    json.dump(predict_n_metrics_dict, f)"
   ]
  },
  {
   "cell_type": "code",
   "execution_count": 10,
   "id": "meaningful-establishment",
   "metadata": {},
   "outputs": [],
   "source": [
    "import json\n",
    "with open(\"metrics/linear_metrics_dict.txt\", 'r') as f:\n",
    "    previous_metrics = json.load(f)\n",
    "\n",
    "previous_metrics = {int(k):v for k,v in previous_metrics.items()}\n",
    "#previous_metrics"
   ]
  },
  {
   "cell_type": "code",
   "execution_count": 11,
   "id": "incorrect-civilian",
   "metadata": {},
   "outputs": [],
   "source": [
    "for predict_n, quot_metrics in previous_metrics.items():\n",
    "    for quot, clf_metrics in quot_metrics.items():\n",
    "        # merge dictionaries\n",
    "        clf_metrics = {**clf_metrics, **predict_n_metrics_dict[predict_n][quot]}\n",
    "        \n",
    "        previous_metrics[predict_n][quot] = clf_metrics\n",
    "        \n",
    "with open(\"metrics/full_metrics_dict.txt\", 'w') as f:\n",
    "    json.dump(previous_metrics, f)"
   ]
  },
  {
   "cell_type": "code",
   "execution_count": 15,
   "id": "opening-invalid",
   "metadata": {},
   "outputs": [],
   "source": [
    "with open(\"metrics/full_metrics_dict.txt\", 'r') as f:\n",
    "    full_metrics_dict = json.load(f)\n",
    "    for predict_n, quot_metrics in full_metrics_dict.items():\n",
    "        metrics_df = pd.DataFrame.from_dict(quot_metrics).T\n",
    "        acc_df = metrics_df.applymap(lambda metrics: metrics['acc'])\n",
    "        f1_df = metrics_df.applymap(lambda metrics: metrics['f1'])\n",
    "        plt.figure()\n",
    "        acc_heatmap = sns.heatmap(acc_df, cmap ='mako', linewidths = 0.5, annot = True)\n",
    "        acc_heatmap.figure.savefig(f\"metrics/{predict_n}_acc.png\")\n",
    "        plt.close()\n",
    "        plt.figure()\n",
    "        f1_heatmap = sns.heatmap(f1_df, cmap ='mako', linewidths = 0.5, annot = True)\n",
    "        f1_heatmap.figure.savefig(f\"metrics/{predict_n}_f1.png\")\n",
    "        plt.close()"
   ]
  },
  {
   "cell_type": "code",
   "execution_count": null,
   "id": "behind-procedure",
   "metadata": {},
   "outputs": [],
   "source": []
  }
 ],
 "metadata": {
  "kernelspec": {
   "display_name": "Python 3",
   "language": "python",
   "name": "python3"
  },
  "language_info": {
   "codemirror_mode": {
    "name": "ipython",
    "version": 3
   },
   "file_extension": ".py",
   "mimetype": "text/x-python",
   "name": "python",
   "nbconvert_exporter": "python",
   "pygments_lexer": "ipython3",
   "version": "3.7.7"
  }
 },
 "nbformat": 4,
 "nbformat_minor": 5
}
