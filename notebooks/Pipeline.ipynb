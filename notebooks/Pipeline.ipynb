{
 "cells": [
  {
   "cell_type": "markdown",
   "id": "architectural-visitor",
   "metadata": {},
   "source": [
    "# Price stock tendency prediction"
   ]
  },
  {
   "cell_type": "markdown",
   "id": "unauthorized-humanity",
   "metadata": {},
   "source": [
    "## Setup"
   ]
  },
  {
   "cell_type": "code",
   "execution_count": 1,
   "id": "treated-knife",
   "metadata": {},
   "outputs": [],
   "source": [
    "%load_ext autoreload\n",
    "%autoreload 2\n",
    "\n",
    "from notebook_config import setup_notebook\n",
    "import matplotlib.pyplot as plt\n",
    "import numpy as np\n",
    "import seaborn as sns\n",
    "\n",
    "setup_notebook()"
   ]
  },
  {
   "cell_type": "code",
   "execution_count": 2,
   "id": "suspected-fishing",
   "metadata": {},
   "outputs": [],
   "source": [
    "from tqdm.notebook import trange, tqdm\n",
    "\n",
    "from helpers.data_helper import *"
   ]
  },
  {
   "cell_type": "code",
   "execution_count": 3,
   "id": "distant-color",
   "metadata": {},
   "outputs": [],
   "source": [
    "DATA_PATH = '../data/'\n",
    "quotation = 'AMZN'\n",
    "FILE_SUFFIX = '.txt'\n",
    "price_column = 'Close'"
   ]
  },
  {
   "cell_type": "code",
   "execution_count": 4,
   "id": "dried-regulation",
   "metadata": {},
   "outputs": [
    {
     "data": {
      "text/html": [
       "<div>\n",
       "<style scoped>\n",
       "    .dataframe tbody tr th:only-of-type {\n",
       "        vertical-align: middle;\n",
       "    }\n",
       "\n",
       "    .dataframe tbody tr th {\n",
       "        vertical-align: top;\n",
       "    }\n",
       "\n",
       "    .dataframe thead th {\n",
       "        text-align: right;\n",
       "    }\n",
       "</style>\n",
       "<table border=\"1\" class=\"dataframe\">\n",
       "  <thead>\n",
       "    <tr style=\"text-align: right;\">\n",
       "      <th></th>\n",
       "      <th>Date</th>\n",
       "      <th>Open</th>\n",
       "      <th>High</th>\n",
       "      <th>Low</th>\n",
       "      <th>Close</th>\n",
       "      <th>Volume</th>\n",
       "      <th>Adjusted</th>\n",
       "      <th>LowLen</th>\n",
       "      <th>RSI(14)</th>\n",
       "      <th>GAP</th>\n",
       "      <th>...</th>\n",
       "      <th>SMA(10)</th>\n",
       "      <th>SMA(20)</th>\n",
       "      <th>EMA(14)</th>\n",
       "      <th>EMA_Diff</th>\n",
       "      <th>SMA(20) - SMA(10)</th>\n",
       "      <th>Difference</th>\n",
       "      <th>PercentageDiff</th>\n",
       "      <th>Tendency</th>\n",
       "      <th>NextPrice</th>\n",
       "      <th>Next</th>\n",
       "    </tr>\n",
       "  </thead>\n",
       "  <tbody>\n",
       "    <tr>\n",
       "      <th>0</th>\n",
       "      <td>2007-02-21</td>\n",
       "      <td>0.001680</td>\n",
       "      <td>0.000922</td>\n",
       "      <td>0.001808</td>\n",
       "      <td>0.001782</td>\n",
       "      <td>0.035062</td>\n",
       "      <td>0.001782</td>\n",
       "      <td>0.001471</td>\n",
       "      <td>0.639459</td>\n",
       "      <td>0.001666</td>\n",
       "      <td>...</td>\n",
       "      <td>0.000509</td>\n",
       "      <td>0.000046</td>\n",
       "      <td>0.000349</td>\n",
       "      <td>0.421360</td>\n",
       "      <td>0.545121</td>\n",
       "      <td>0.443937</td>\n",
       "      <td>0.306549</td>\n",
       "      <td>lower</td>\n",
       "      <td>0.001707</td>\n",
       "      <td>lower</td>\n",
       "    </tr>\n",
       "    <tr>\n",
       "      <th>1</th>\n",
       "      <td>2007-02-22</td>\n",
       "      <td>0.001740</td>\n",
       "      <td>0.001115</td>\n",
       "      <td>0.001799</td>\n",
       "      <td>0.001707</td>\n",
       "      <td>0.039100</td>\n",
       "      <td>0.001707</td>\n",
       "      <td>0.000599</td>\n",
       "      <td>0.600019</td>\n",
       "      <td>0.000729</td>\n",
       "      <td>...</td>\n",
       "      <td>0.000570</td>\n",
       "      <td>0.000103</td>\n",
       "      <td>0.000406</td>\n",
       "      <td>0.420483</td>\n",
       "      <td>0.545077</td>\n",
       "      <td>0.443913</td>\n",
       "      <td>0.305847</td>\n",
       "      <td>lower</td>\n",
       "      <td>0.001645</td>\n",
       "      <td>lower</td>\n",
       "    </tr>\n",
       "    <tr>\n",
       "      <th>2</th>\n",
       "      <td>2007-02-23</td>\n",
       "      <td>0.001626</td>\n",
       "      <td>0.000888</td>\n",
       "      <td>0.001755</td>\n",
       "      <td>0.001645</td>\n",
       "      <td>0.044622</td>\n",
       "      <td>0.001645</td>\n",
       "      <td>0.000218</td>\n",
       "      <td>0.566754</td>\n",
       "      <td>0.000000</td>\n",
       "      <td>...</td>\n",
       "      <td>0.000619</td>\n",
       "      <td>0.000160</td>\n",
       "      <td>0.000447</td>\n",
       "      <td>0.419791</td>\n",
       "      <td>0.545127</td>\n",
       "      <td>0.444008</td>\n",
       "      <td>0.308202</td>\n",
       "      <td>lower</td>\n",
       "      <td>0.001673</td>\n",
       "      <td>stay</td>\n",
       "    </tr>\n",
       "    <tr>\n",
       "      <th>3</th>\n",
       "      <td>2007-02-26</td>\n",
       "      <td>0.001586</td>\n",
       "      <td>0.000888</td>\n",
       "      <td>0.001657</td>\n",
       "      <td>0.001673</td>\n",
       "      <td>0.030488</td>\n",
       "      <td>0.001673</td>\n",
       "      <td>0.002507</td>\n",
       "      <td>0.575544</td>\n",
       "      <td>0.000416</td>\n",
       "      <td>...</td>\n",
       "      <td>0.000684</td>\n",
       "      <td>0.000221</td>\n",
       "      <td>0.000487</td>\n",
       "      <td>0.419730</td>\n",
       "      <td>0.545085</td>\n",
       "      <td>0.444765</td>\n",
       "      <td>0.327879</td>\n",
       "      <td>stay</td>\n",
       "      <td>0.001087</td>\n",
       "      <td>lower</td>\n",
       "    </tr>\n",
       "    <tr>\n",
       "      <th>4</th>\n",
       "      <td>2007-02-27</td>\n",
       "      <td>0.001395</td>\n",
       "      <td>0.000700</td>\n",
       "      <td>0.001188</td>\n",
       "      <td>0.001087</td>\n",
       "      <td>0.077038</td>\n",
       "      <td>0.001087</td>\n",
       "      <td>0.000273</td>\n",
       "      <td>0.325640</td>\n",
       "      <td>0.003592</td>\n",
       "      <td>...</td>\n",
       "      <td>0.000683</td>\n",
       "      <td>0.000243</td>\n",
       "      <td>0.000439</td>\n",
       "      <td>0.416054</td>\n",
       "      <td>0.545293</td>\n",
       "      <td>0.439680</td>\n",
       "      <td>0.195493</td>\n",
       "      <td>lower</td>\n",
       "      <td>0.001175</td>\n",
       "      <td>higher</td>\n",
       "    </tr>\n",
       "  </tbody>\n",
       "</table>\n",
       "<p>5 rows × 32 columns</p>\n",
       "</div>"
      ],
      "text/plain": [
       "         Date      Open      High       Low     Close    Volume  Adjusted  \\\n",
       "0  2007-02-21  0.001680  0.000922  0.001808  0.001782  0.035062  0.001782   \n",
       "1  2007-02-22  0.001740  0.001115  0.001799  0.001707  0.039100  0.001707   \n",
       "2  2007-02-23  0.001626  0.000888  0.001755  0.001645  0.044622  0.001645   \n",
       "3  2007-02-26  0.001586  0.000888  0.001657  0.001673  0.030488  0.001673   \n",
       "4  2007-02-27  0.001395  0.000700  0.001188  0.001087  0.077038  0.001087   \n",
       "\n",
       "     LowLen   RSI(14)       GAP  ...   SMA(10)   SMA(20)   EMA(14)  EMA_Diff  \\\n",
       "0  0.001471  0.639459  0.001666  ...  0.000509  0.000046  0.000349  0.421360   \n",
       "1  0.000599  0.600019  0.000729  ...  0.000570  0.000103  0.000406  0.420483   \n",
       "2  0.000218  0.566754  0.000000  ...  0.000619  0.000160  0.000447  0.419791   \n",
       "3  0.002507  0.575544  0.000416  ...  0.000684  0.000221  0.000487  0.419730   \n",
       "4  0.000273  0.325640  0.003592  ...  0.000683  0.000243  0.000439  0.416054   \n",
       "\n",
       "   SMA(20) - SMA(10)  Difference  PercentageDiff  Tendency  NextPrice    Next  \n",
       "0           0.545121    0.443937        0.306549     lower   0.001707   lower  \n",
       "1           0.545077    0.443913        0.305847     lower   0.001645   lower  \n",
       "2           0.545127    0.444008        0.308202     lower   0.001673    stay  \n",
       "3           0.545085    0.444765        0.327879      stay   0.001087   lower  \n",
       "4           0.545293    0.439680        0.195493     lower   0.001175  higher  \n",
       "\n",
       "[5 rows x 32 columns]"
      ]
     },
     "execution_count": 4,
     "metadata": {},
     "output_type": "execute_result"
    }
   ],
   "source": [
    "from datasets.stocks_data_wrapper import StocksDataWrapper\n",
    "data_wrapper = StocksDataWrapper.read_from(f\"{DATA_PATH}{quotation}{FILE_SUFFIX}\", compute_features=True, predict_n=1, thresh_diff=0.005, normalize=True)\n",
    "data_wrapper.head()"
   ]
  },
  {
   "cell_type": "code",
   "execution_count": 5,
   "id": "parental-pharmacy",
   "metadata": {},
   "outputs": [
    {
     "data": {
      "text/plain": [
       "False"
      ]
     },
     "execution_count": 5,
     "metadata": {},
     "output_type": "execute_result"
    }
   ],
   "source": [
    "data_wrapper.df.isnull().values.any()"
   ]
  },
  {
   "cell_type": "markdown",
   "id": "mature-intermediate",
   "metadata": {},
   "source": [
    "### Plots"
   ]
  },
  {
   "cell_type": "code",
   "execution_count": 6,
   "id": "positive-edwards",
   "metadata": {},
   "outputs": [
    {
     "data": {
      "image/png": "[encoded data removed]",
      "text/plain": [
       "<Figure size 1440x576 with 1 Axes>"
      ]
     },
     "metadata": {},
     "output_type": "display_data"
    }
   ],
   "source": [
    "from helpers.plots_helper import plot_prices\n",
    "\n",
    "ax = plot_prices(data_wrapper['Date'], data_wrapper[price_column], quotation_name=quotation, ma_values=[10,50])"
   ]
  },
  {
   "cell_type": "code",
   "execution_count": 7,
   "id": "thirty-karaoke",
   "metadata": {},
   "outputs": [
    {
     "data": {
      "text/plain": [
       "<AxesSubplot:>"
      ]
     },
     "execution_count": 7,
     "metadata": {},
     "output_type": "execute_result"
    },
    {
     "data": {
      "image/png": "[encoded data removed]",
      "text/plain": [
       "<Figure size 1440x576 with 1 Axes>"
      ]
     },
     "metadata": {},
     "output_type": "display_data"
    }
   ],
   "source": [
    "data_wrapper['Next'].hist()"
   ]
  },
  {
   "cell_type": "markdown",
   "id": "greenhouse-mother",
   "metadata": {},
   "source": [
    "### ML Data preparation"
   ]
  },
  {
   "cell_type": "code",
   "execution_count": 52,
   "id": "atlantic-number",
   "metadata": {},
   "outputs": [
    {
     "data": {
      "text/plain": [
       "\"\\nX_train, X_test, y_train, y_test = data_wrapper.get_datasets(n_splits=1, val_size=0.3, \\n                                                             y_column='Next', \\n                                                             features_list=data_columns)\""
      ]
     },
     "execution_count": 52,
     "metadata": {},
     "output_type": "execute_result"
    }
   ],
   "source": [
    "#data_columns = ['Close', 'PercentageDiff', f\"RSI(14)\", 'Volume', 'LowLen']\n",
    "\"\"\"\n",
    "X_train, X_test, y_train, y_test = data_wrapper.get_datasets(n_splits=1, val_size=0.3, \n",
    "                                                             y_column='Next', \n",
    "                                                             features_list=data_columns)\"\"\""
   ]
  },
  {
   "cell_type": "markdown",
   "id": "dominican-array",
   "metadata": {},
   "source": [
    "## Classifier and evaluation"
   ]
  },
  {
   "cell_type": "code",
   "execution_count": 53,
   "id": "macro-danger",
   "metadata": {},
   "outputs": [
    {
     "data": {
      "text/plain": [
       "'USE_CLASS_WEIGHTS = True\\n\\nif USE_CLASS_WEIGHTS:\\n    class_weights=compute_class_weights(y_train)\\nelse:\\n    class_weights = None'"
      ]
     },
     "execution_count": 53,
     "metadata": {},
     "output_type": "execute_result"
    }
   ],
   "source": [
    "from sklearn.utils.class_weight import compute_class_weight\n",
    "\n",
    "def compute_class_weights(y_train):\n",
    "    class_weights = compute_class_weight('balanced', classes=np.unique(y_train), y=y_train)\n",
    "    # format as dict\n",
    "    return {c:w for c,w in zip(np.unique(y_train), class_weights)}\n",
    "\n",
    "\"\"\"USE_CLASS_WEIGHTS = True\n",
    "\n",
    "if USE_CLASS_WEIGHTS:\n",
    "    class_weights=compute_class_weights(y_train)\n",
    "else:\n",
    "    class_weights = None\"\"\""
   ]
  },
  {
   "cell_type": "markdown",
   "id": "radio-ownership",
   "metadata": {},
   "source": [
    "### Grid Search"
   ]
  },
  {
   "cell_type": "code",
   "execution_count": 54,
   "id": "assigned-while",
   "metadata": {},
   "outputs": [],
   "source": [
    "from sklearn.model_selection import TimeSeriesSplit\n",
    "# build the time series split for cross validation so no data leakage\n",
    "tscv = TimeSeriesSplit(n_splits=5)"
   ]
  },
  {
   "cell_type": "code",
   "execution_count": 79,
   "id": "superior-farming",
   "metadata": {},
   "outputs": [],
   "source": [
    "from sklearn.model_selection import GridSearchCV\n",
    "from sklearn.tree import DecisionTreeClassifier\n",
    "from sklearn.svm import SVC\n",
    "from sklearn.ensemble import RandomForestClassifier\n",
    "from sklearn.linear_model import LogisticRegression\n",
    "\n",
    "PERFORM_GRID_SEARCH = False\n",
    "N_JOBS=-1\n",
    "\n",
    "# default parameters\n",
    "best_params = {'DTree': {'criterion': 'gini', 'max_depth': 3, 'min_samples_leaf': 1}, 'RandomForest': {'criterion': 'entropy', 'max_depth': 10, 'max_features': 'auto', 'min_samples_leaf': 15, 'n_estimators': 50}, 'SVM': {'C': 0.5, 'gamma': 'scale', 'kernel': 'poly'}, 'LR': {'C': 0.1, 'fit_intercept': False, 'penalty': 'l2'}}\n",
    "param_grid = {\n",
    "    'DTree':{\n",
    "        'criterion':('entropy', 'gini'),\n",
    "        'max_depth':[3,5,8,10],\n",
    "        'min_samples_leaf':[1,2,3,5,10,15],\n",
    "    },\n",
    "    'RandomForest':{\n",
    "        'criterion':('entropy', 'gini'),\n",
    "        'n_estimators':[100,200,500],\n",
    "        'max_depth':[3,5,8,10],\n",
    "        'min_samples_leaf':[3,5,10,15],\n",
    "        'max_features':['auto', 'sqrt', 'log2'], \n",
    "    },\n",
    "    'SVM':{\n",
    "        #'C':[1e-3, 1e-2, 0.1, 0.5, 1.0, 5.0, 10.0, 20.0, 100.0],\n",
    "        'C':[0.1, 1.0, 10.0, 50.0, 100.0, 200.0],\n",
    "        'probability':[True, False],\n",
    "        'kernel':('linear', 'poly', 'rbf'),\n",
    "        'gamma':('scale', 'auto'),\n",
    "    },\n",
    "    'LR':\n",
    "    {\n",
    "        'max_iter':[1000],\n",
    "        'penalty':('none', 'l2'),\n",
    "        'C':[0.1, 1.0, 10.0, 50.0, 100.0, 200.0],\n",
    "        'fit_intercept':[True, False],\n",
    "    },   \n",
    "    \n",
    "}\n",
    "\n",
    "\"\"\"param_grid = {\n",
    "    'DTree':{\n",
    "        'criterion':('entropy', 'gini'),\n",
    "    },\n",
    "    'RandomForest':{\n",
    "        'criterion':('entropy', 'gini'),\n",
    "    },\n",
    "    'SVM':{\n",
    "        #'C':[1e-3, 1e-2, 0.1, 0.5, 1.0, 5.0, 10.0, 20.0, 100.0],\n",
    "        'C':[0.1, 1.0, 10.0],\n",
    "        'gamma':('scale', 'auto'),\n",
    "    },\n",
    "    'LR':\n",
    "    {\n",
    "        'penalty':('none', 'l2'),\n",
    "        'fit_intercept':[True, False],\n",
    "    },   \n",
    "    \n",
    "}\"\"\"\n",
    "\n",
    "def compute_grid_search(param_grid, X_train, y_train, n_splits=5, class_weights=None):\n",
    "    tscv = TimeSeriesSplit(n_splits=n_splits)\n",
    "    best_params = {}\n",
    "    \n",
    "    print(\"Performing grid search...\")\n",
    "    dtree = DecisionTreeClassifier(random_state=42, class_weight=class_weights)\n",
    "    clf = GridSearchCV(dtree, param_grid['DTree'], cv=tscv.split(X_train), n_jobs=N_JOBS, verbose=2)\n",
    "    clf.fit(X_train, y_train)\n",
    "    best_params['DTree'] = clf.best_params_\n",
    "\n",
    "    random_forest = RandomForestClassifier(random_state=42, class_weight=class_weights)\n",
    "    clf = GridSearchCV(random_forest, param_grid['RandomForest'], cv=tscv.split(X_train), n_jobs=N_JOBS, verbose=32)\n",
    "    clf.fit(X_train, y_train)\n",
    "    best_params['RandomForest'] = clf.best_params_\n",
    "\n",
    "    \n",
    "    svm = SVC(random_state=42, class_weight=class_weights, cache_size=4096)\n",
    "    clf = GridSearchCV(svm, param_grid['SVM'], cv=tscv.split(X_train), n_jobs=N_JOBS, verbose=32)\n",
    "    clf.fit(X_train, y_train)\n",
    "    best_params['SVM'] = clf.best_params_\n",
    "    \n",
    "    lr = LogisticRegression(random_state=42, class_weight=class_weights)\n",
    "    clf = GridSearchCV(lr, param_grid['LR'], cv=tscv.split(X_train), n_jobs=N_JOBS, verbose=2)\n",
    "    clf.fit(X_train, y_train)\n",
    "    best_params['LR'] = clf.best_params_\n",
    "    return best_params\n",
    "\n",
    "if PERFORM_GRID_SEARCH:\n",
    "    best_params = compute_grid_search(param_grid, X_train)\n",
    "    print(best_params)"
   ]
  },
  {
   "cell_type": "markdown",
   "id": "agricultural-think",
   "metadata": {},
   "source": [
    "### Classifiers"
   ]
  },
  {
   "cell_type": "code",
   "execution_count": 80,
   "id": "conceptual-honor",
   "metadata": {},
   "outputs": [
    {
     "data": {
      "text/plain": [
       "\"clf_dict = {}\\n\\nclf_dict['DTree'] = DecisionTreeClassifier(**best_params['DTree'], random_state=42, class_weight=class_weights)\\nclf_dict['RandomForest'] = RandomForestClassifier(**best_params['RandomForest'], random_state=42, class_weight=class_weights)\\nclf_dict['SVM'] = SVC(**best_params['SVM'], class_weight=class_weights)\\nclf_dict['LR'] = LogisticRegression(**best_params['LR'], class_weight=class_weights)\""
      ]
     },
     "execution_count": 80,
     "metadata": {},
     "output_type": "execute_result"
    }
   ],
   "source": [
    "from sklearn.tree import DecisionTreeClassifier\n",
    "from sklearn.ensemble import RandomForestClassifier\n",
    "from sklearn.svm import SVC\n",
    "\n",
    "\"\"\"clf_dict = {}\n",
    "\n",
    "clf_dict['DTree'] = DecisionTreeClassifier(**best_params['DTree'], random_state=42, class_weight=class_weights)\n",
    "clf_dict['RandomForest'] = RandomForestClassifier(**best_params['RandomForest'], random_state=42, class_weight=class_weights)\n",
    "clf_dict['SVM'] = SVC(**best_params['SVM'], class_weight=class_weights)\n",
    "clf_dict['LR'] = LogisticRegression(**best_params['LR'], class_weight=class_weights)\"\"\""
   ]
  },
  {
   "cell_type": "markdown",
   "id": "dental-vegetable",
   "metadata": {},
   "source": [
    "### Training"
   ]
  },
  {
   "cell_type": "code",
   "execution_count": 81,
   "id": "naval-saturday",
   "metadata": {},
   "outputs": [],
   "source": [
    "from sklearn.metrics import accuracy_score, plot_confusion_matrix, f1_score\n",
    "\n",
    "def train_evaluate_classifiers(clf_dict, X_train, y_train, X_test, y_test):\n",
    "    clf_metrics = {}\n",
    "    for clf_label, clf in clf_dict.items():\n",
    "        clf.fit(X_train, y_train)\n",
    "        #y_pred = clf.predict(X_train)\n",
    "        #print(f\"Training accuracy : {accuracy_score(y_pred, y_train)}\")\n",
    "        y_pred = clf.predict(X_test)\n",
    "\n",
    "        accuracy = accuracy_score(y_pred, y_test)\n",
    "        f1 = f1_score(y_pred, y_test, average='weighted')\n",
    "\n",
    "        #print(f\"[{clf_label}] Accuracy : {accuracy:.2f}, F1 : {f1:.2f}\")\n",
    "        #plot_confusion_matrix(clf, X_test, y_test, normalize='true')\n",
    "        clf_metrics[clf_label] = {'acc':accuracy, 'f1':f1}\n",
    "        \n",
    "    return clf_metrics"
   ]
  },
  {
   "cell_type": "markdown",
   "id": "norwegian-intellectual",
   "metadata": {},
   "source": [
    "### Pipeline"
   ]
  },
  {
   "cell_type": "code",
   "execution_count": 82,
   "id": "adaptive-malaysia",
   "metadata": {},
   "outputs": [],
   "source": [
    "USE_CLASS_WEIGHTS = True\n",
    "PERFORM_GRID_SEARCH = True\n",
    "MAX_SIZE = 5000\n",
    "n_splits=5\n",
    "\n",
    "quotations = ['AAL', 'AAPL', 'AMZN','CMCSA', 'COST', 'GM', 'GOOG', 'IBM', 'JNJ', 'KO','PEP', 'TSLA', 'WMT', 'XOM']\n",
    "days_predict_feature_set = {\n",
    "    1:['Volume', 'Close', 'LowLen', 'Difference', 'BG_L_Band', 'GAP', 'MACD_diff'],\n",
    "    5:['Volume', 'Close', 'LowLen', 'Difference', 'SMA(20) - SMA(10)', 'BG_H_Band_Indicator', 'MACD'],\n",
    "    10:['Volume', 'Close', 'BodyLen', 'Difference', 'SMA(20) - SMA(10)', 'EMA_Diff', 'MACD_diff'],\n",
    "    20:['Volume', 'Close', 'LowLen', 'Difference', 'EMA(14)', 'BG_H_Band', 'MACD_diff'],\n",
    "    50:['Volume', 'Close', 'LowLen', 'Difference', 'BG_L_Band','GAP','MACD_diff'],\n",
    "}\n",
    "\n",
    "#quotations=['CMCSA']\n",
    "#days_predict_feature_set = {1:days_predict_feature_set[1]}"
   ]
  },
  {
   "cell_type": "code",
   "execution_count": 83,
   "id": "standard-alabama",
   "metadata": {},
   "outputs": [],
   "source": [
    "predict_n_metrics_dict = {}"
   ]
  },
  {
   "cell_type": "code",
   "execution_count": 84,
   "id": "interstate-ethnic",
   "metadata": {},
   "outputs": [
    {
     "data": {
      "application/vnd.jupyter.widget-view+json": {
       "model_id": "0034a27d6ed4465d9e43fcd13d9cc113",
       "version_major": 2,
       "version_minor": 0
      },
      "text/plain": [
       "  0%|          | 0/5 [00:00<?, ?it/s]"
      ]
     },
     "metadata": {},
     "output_type": "display_data"
    },
    {
     "data": {
      "application/vnd.jupyter.widget-view+json": {
       "model_id": "de143e6e058746d59e73108d8b8fba16",
       "version_major": 2,
       "version_minor": 0
      },
      "text/plain": [
       "  0%|          | 0/14 [00:00<?, ?it/s]"
      ]
     },
     "metadata": {},
     "output_type": "display_data"
    },
    {
     "name": "stdout",
     "output_type": "stream",
     "text": [
      "Performing grid search...\n",
      "Fitting 5 folds for each of 48 candidates, totalling 240 fits\n",
      "Fitting 5 folds for each of 288 candidates, totalling 1440 fits\n",
      "Fitting 5 folds for each of 72 candidates, totalling 360 fits\n",
      "Fitting 5 folds for each of 24 candidates, totalling 120 fits\n",
      "Performing grid search...\n",
      "Fitting 5 folds for each of 48 candidates, totalling 240 fits\n",
      "Fitting 5 folds for each of 288 candidates, totalling 1440 fits\n",
      "Fitting 5 folds for each of 72 candidates, totalling 360 fits\n",
      "Fitting 5 folds for each of 24 candidates, totalling 120 fits\n",
      "Performing grid search...\n",
      "Fitting 5 folds for each of 48 candidates, totalling 240 fits\n",
      "Fitting 5 folds for each of 288 candidates, totalling 1440 fits\n",
      "Fitting 5 folds for each of 72 candidates, totalling 360 fits\n",
      "Fitting 5 folds for each of 24 candidates, totalling 120 fits\n",
      "Performing grid search...\n",
      "Fitting 5 folds for each of 48 candidates, totalling 240 fits\n",
      "Fitting 5 folds for each of 288 candidates, totalling 1440 fits\n",
      "Fitting 5 folds for each of 72 candidates, totalling 360 fits\n",
      "Fitting 5 folds for each of 24 candidates, totalling 120 fits\n",
      "Performing grid search...\n",
      "Fitting 5 folds for each of 48 candidates, totalling 240 fits\n",
      "Fitting 5 folds for each of 288 candidates, totalling 1440 fits\n",
      "Fitting 5 folds for each of 72 candidates, totalling 360 fits\n",
      "Fitting 5 folds for each of 24 candidates, totalling 120 fits\n",
      "Performing grid search...\n",
      "Fitting 5 folds for each of 48 candidates, totalling 240 fits\n",
      "Fitting 5 folds for each of 288 candidates, totalling 1440 fits\n",
      "Fitting 5 folds for each of 72 candidates, totalling 360 fits\n",
      "Fitting 5 folds for each of 24 candidates, totalling 120 fits\n",
      "Performing grid search...\n",
      "Fitting 5 folds for each of 48 candidates, totalling 240 fits\n",
      "Fitting 5 folds for each of 288 candidates, totalling 1440 fits\n",
      "Fitting 5 folds for each of 72 candidates, totalling 360 fits\n",
      "Fitting 5 folds for each of 24 candidates, totalling 120 fits\n",
      "Performing grid search...\n",
      "Fitting 5 folds for each of 48 candidates, totalling 240 fits\n",
      "Fitting 5 folds for each of 288 candidates, totalling 1440 fits\n",
      "Fitting 5 folds for each of 72 candidates, totalling 360 fits\n",
      "Fitting 5 folds for each of 24 candidates, totalling 120 fits\n",
      "Performing grid search...\n",
      "Fitting 5 folds for each of 48 candidates, totalling 240 fits\n",
      "Fitting 5 folds for each of 288 candidates, totalling 1440 fits\n",
      "Fitting 5 folds for each of 72 candidates, totalling 360 fits\n",
      "Fitting 5 folds for each of 24 candidates, totalling 120 fits\n"
     ]
    },
    {
     "name": "stderr",
     "output_type": "stream",
     "text": [
      "d:\\prog\\tm\\stonksmarketprediction\\venv\\lib\\site-packages\\sklearn\\linear_model\\_logistic.py:1323: UserWarning: Setting penalty='none' will ignore the C and l1_ratio parameters\n",
      "  \"Setting penalty='none' will ignore the C and l1_ratio \"\n",
      "d:\\prog\\tm\\stonksmarketprediction\\venv\\lib\\site-packages\\sklearn\\linear_model\\_logistic.py:1323: UserWarning: Setting penalty='none' will ignore the C and l1_ratio parameters\n",
      "  \"Setting penalty='none' will ignore the C and l1_ratio \"\n"
     ]
    },
    {
     "name": "stdout",
     "output_type": "stream",
     "text": [
      "Performing grid search...\n",
      "Fitting 5 folds for each of 48 candidates, totalling 240 fits\n",
      "Fitting 5 folds for each of 288 candidates, totalling 1440 fits\n",
      "Fitting 5 folds for each of 72 candidates, totalling 360 fits\n",
      "Fitting 5 folds for each of 24 candidates, totalling 120 fits\n"
     ]
    },
    {
     "name": "stderr",
     "output_type": "stream",
     "text": [
      "d:\\prog\\tm\\stonksmarketprediction\\venv\\lib\\site-packages\\sklearn\\linear_model\\_logistic.py:1323: UserWarning: Setting penalty='none' will ignore the C and l1_ratio parameters\n",
      "  \"Setting penalty='none' will ignore the C and l1_ratio \"\n",
      "d:\\prog\\tm\\stonksmarketprediction\\venv\\lib\\site-packages\\sklearn\\linear_model\\_logistic.py:1323: UserWarning: Setting penalty='none' will ignore the C and l1_ratio parameters\n",
      "  \"Setting penalty='none' will ignore the C and l1_ratio \"\n"
     ]
    },
    {
     "name": "stdout",
     "output_type": "stream",
     "text": [
      "Performing grid search...\n",
      "Fitting 5 folds for each of 48 candidates, totalling 240 fits\n",
      "Fitting 5 folds for each of 288 candidates, totalling 1440 fits\n",
      "Fitting 5 folds for each of 72 candidates, totalling 360 fits\n",
      "Fitting 5 folds for each of 24 candidates, totalling 120 fits\n"
     ]
    },
    {
     "name": "stderr",
     "output_type": "stream",
     "text": [
      "d:\\prog\\tm\\stonksmarketprediction\\venv\\lib\\site-packages\\sklearn\\linear_model\\_logistic.py:1323: UserWarning: Setting penalty='none' will ignore the C and l1_ratio parameters\n",
      "  \"Setting penalty='none' will ignore the C and l1_ratio \"\n",
      "d:\\prog\\tm\\stonksmarketprediction\\venv\\lib\\site-packages\\sklearn\\linear_model\\_logistic.py:1323: UserWarning: Setting penalty='none' will ignore the C and l1_ratio parameters\n",
      "  \"Setting penalty='none' will ignore the C and l1_ratio \"\n"
     ]
    },
    {
     "name": "stdout",
     "output_type": "stream",
     "text": [
      "Performing grid search...\n",
      "Fitting 5 folds for each of 48 candidates, totalling 240 fits\n",
      "Fitting 5 folds for each of 288 candidates, totalling 1440 fits\n",
      "Fitting 5 folds for each of 72 candidates, totalling 360 fits\n",
      "Fitting 5 folds for each of 24 candidates, totalling 120 fits\n",
      "Performing grid search...\n",
      "Fitting 5 folds for each of 48 candidates, totalling 240 fits\n",
      "Fitting 5 folds for each of 288 candidates, totalling 1440 fits\n",
      "Fitting 5 folds for each of 72 candidates, totalling 360 fits\n",
      "Fitting 5 folds for each of 24 candidates, totalling 120 fits\n",
      "Performing grid search...\n",
      "Fitting 5 folds for each of 48 candidates, totalling 240 fits\n",
      "Fitting 5 folds for each of 288 candidates, totalling 1440 fits\n",
      "Fitting 5 folds for each of 72 candidates, totalling 360 fits\n",
      "Fitting 5 folds for each of 24 candidates, totalling 120 fits\n"
     ]
    },
    {
     "data": {
      "application/vnd.jupyter.widget-view+json": {
       "model_id": "5063d9384a5e4469b684966d7b21e40a",
       "version_major": 2,
       "version_minor": 0
      },
      "text/plain": [
       "  0%|          | 0/14 [00:00<?, ?it/s]"
      ]
     },
     "metadata": {},
     "output_type": "display_data"
    },
    {
     "name": "stdout",
     "output_type": "stream",
     "text": [
      "Performing grid search...\n",
      "Fitting 5 folds for each of 48 candidates, totalling 240 fits\n",
      "Fitting 5 folds for each of 288 candidates, totalling 1440 fits\n",
      "Fitting 5 folds for each of 72 candidates, totalling 360 fits\n",
      "Fitting 5 folds for each of 24 candidates, totalling 120 fits\n",
      "Performing grid search...\n",
      "Fitting 5 folds for each of 48 candidates, totalling 240 fits\n",
      "Fitting 5 folds for each of 288 candidates, totalling 1440 fits\n",
      "Fitting 5 folds for each of 72 candidates, totalling 360 fits\n",
      "Fitting 5 folds for each of 24 candidates, totalling 120 fits\n",
      "Performing grid search...\n",
      "Fitting 5 folds for each of 48 candidates, totalling 240 fits\n",
      "Fitting 5 folds for each of 288 candidates, totalling 1440 fits\n",
      "Fitting 5 folds for each of 72 candidates, totalling 360 fits\n",
      "Fitting 5 folds for each of 24 candidates, totalling 120 fits\n",
      "Performing grid search...\n",
      "Fitting 5 folds for each of 48 candidates, totalling 240 fits\n",
      "Fitting 5 folds for each of 288 candidates, totalling 1440 fits\n",
      "Fitting 5 folds for each of 72 candidates, totalling 360 fits\n",
      "Fitting 5 folds for each of 24 candidates, totalling 120 fits\n",
      "Performing grid search...\n",
      "Fitting 5 folds for each of 48 candidates, totalling 240 fits\n",
      "Fitting 5 folds for each of 288 candidates, totalling 1440 fits\n",
      "Fitting 5 folds for each of 72 candidates, totalling 360 fits\n",
      "Fitting 5 folds for each of 24 candidates, totalling 120 fits\n",
      "Performing grid search...\n",
      "Fitting 5 folds for each of 48 candidates, totalling 240 fits\n",
      "Fitting 5 folds for each of 288 candidates, totalling 1440 fits\n",
      "Fitting 5 folds for each of 72 candidates, totalling 360 fits\n",
      "Fitting 5 folds for each of 24 candidates, totalling 120 fits\n",
      "Performing grid search...\n",
      "Fitting 5 folds for each of 48 candidates, totalling 240 fits\n",
      "Fitting 5 folds for each of 288 candidates, totalling 1440 fits\n",
      "Fitting 5 folds for each of 72 candidates, totalling 360 fits\n",
      "Fitting 5 folds for each of 24 candidates, totalling 120 fits\n",
      "Performing grid search...\n",
      "Fitting 5 folds for each of 48 candidates, totalling 240 fits\n",
      "Fitting 5 folds for each of 288 candidates, totalling 1440 fits\n",
      "Fitting 5 folds for each of 72 candidates, totalling 360 fits\n",
      "Fitting 5 folds for each of 24 candidates, totalling 120 fits\n"
     ]
    },
    {
     "name": "stderr",
     "output_type": "stream",
     "text": [
      "d:\\prog\\tm\\stonksmarketprediction\\venv\\lib\\site-packages\\sklearn\\linear_model\\_logistic.py:1323: UserWarning: Setting penalty='none' will ignore the C and l1_ratio parameters\n",
      "  \"Setting penalty='none' will ignore the C and l1_ratio \"\n",
      "d:\\prog\\tm\\stonksmarketprediction\\venv\\lib\\site-packages\\sklearn\\linear_model\\_logistic.py:1323: UserWarning: Setting penalty='none' will ignore the C and l1_ratio parameters\n",
      "  \"Setting penalty='none' will ignore the C and l1_ratio \"\n"
     ]
    },
    {
     "name": "stdout",
     "output_type": "stream",
     "text": [
      "Performing grid search...\n",
      "Fitting 5 folds for each of 48 candidates, totalling 240 fits\n",
      "Fitting 5 folds for each of 288 candidates, totalling 1440 fits\n",
      "Fitting 5 folds for each of 72 candidates, totalling 360 fits\n",
      "Fitting 5 folds for each of 24 candidates, totalling 120 fits\n"
     ]
    },
    {
     "name": "stderr",
     "output_type": "stream",
     "text": [
      "d:\\prog\\tm\\stonksmarketprediction\\venv\\lib\\site-packages\\sklearn\\linear_model\\_logistic.py:1323: UserWarning: Setting penalty='none' will ignore the C and l1_ratio parameters\n",
      "  \"Setting penalty='none' will ignore the C and l1_ratio \"\n",
      "d:\\prog\\tm\\stonksmarketprediction\\venv\\lib\\site-packages\\sklearn\\linear_model\\_logistic.py:1323: UserWarning: Setting penalty='none' will ignore the C and l1_ratio parameters\n",
      "  \"Setting penalty='none' will ignore the C and l1_ratio \"\n"
     ]
    },
    {
     "name": "stdout",
     "output_type": "stream",
     "text": [
      "Performing grid search...\n",
      "Fitting 5 folds for each of 48 candidates, totalling 240 fits\n",
      "Fitting 5 folds for each of 288 candidates, totalling 1440 fits\n",
      "Fitting 5 folds for each of 72 candidates, totalling 360 fits\n",
      "Fitting 5 folds for each of 24 candidates, totalling 120 fits\n"
     ]
    },
    {
     "name": "stderr",
     "output_type": "stream",
     "text": [
      "d:\\prog\\tm\\stonksmarketprediction\\venv\\lib\\site-packages\\sklearn\\linear_model\\_logistic.py:1323: UserWarning: Setting penalty='none' will ignore the C and l1_ratio parameters\n",
      "  \"Setting penalty='none' will ignore the C and l1_ratio \"\n",
      "d:\\prog\\tm\\stonksmarketprediction\\venv\\lib\\site-packages\\sklearn\\linear_model\\_logistic.py:1323: UserWarning: Setting penalty='none' will ignore the C and l1_ratio parameters\n",
      "  \"Setting penalty='none' will ignore the C and l1_ratio \"\n"
     ]
    },
    {
     "name": "stdout",
     "output_type": "stream",
     "text": [
      "Performing grid search...\n",
      "Fitting 5 folds for each of 48 candidates, totalling 240 fits\n",
      "Fitting 5 folds for each of 288 candidates, totalling 1440 fits\n",
      "Fitting 5 folds for each of 72 candidates, totalling 360 fits\n",
      "Fitting 5 folds for each of 24 candidates, totalling 120 fits\n",
      "Performing grid search...\n",
      "Fitting 5 folds for each of 48 candidates, totalling 240 fits\n",
      "Fitting 5 folds for each of 288 candidates, totalling 1440 fits\n",
      "Fitting 5 folds for each of 72 candidates, totalling 360 fits\n",
      "Fitting 5 folds for each of 24 candidates, totalling 120 fits\n",
      "Performing grid search...\n",
      "Fitting 5 folds for each of 48 candidates, totalling 240 fits\n",
      "Fitting 5 folds for each of 288 candidates, totalling 1440 fits\n",
      "Fitting 5 folds for each of 72 candidates, totalling 360 fits\n",
      "Fitting 5 folds for each of 24 candidates, totalling 120 fits\n"
     ]
    },
    {
     "name": "stderr",
     "output_type": "stream",
     "text": [
      "d:\\prog\\tm\\stonksmarketprediction\\venv\\lib\\site-packages\\sklearn\\linear_model\\_logistic.py:1323: UserWarning: Setting penalty='none' will ignore the C and l1_ratio parameters\n",
      "  \"Setting penalty='none' will ignore the C and l1_ratio \"\n",
      "d:\\prog\\tm\\stonksmarketprediction\\venv\\lib\\site-packages\\sklearn\\linear_model\\_logistic.py:1323: UserWarning: Setting penalty='none' will ignore the C and l1_ratio parameters\n",
      "  \"Setting penalty='none' will ignore the C and l1_ratio \"\n"
     ]
    },
    {
     "name": "stdout",
     "output_type": "stream",
     "text": [
      "Performing grid search...\n",
      "Fitting 5 folds for each of 48 candidates, totalling 240 fits\n",
      "Fitting 5 folds for each of 288 candidates, totalling 1440 fits\n",
      "Fitting 5 folds for each of 72 candidates, totalling 360 fits\n",
      "Fitting 5 folds for each of 24 candidates, totalling 120 fits\n"
     ]
    },
    {
     "name": "stderr",
     "output_type": "stream",
     "text": [
      "d:\\prog\\tm\\stonksmarketprediction\\venv\\lib\\site-packages\\sklearn\\linear_model\\_logistic.py:1323: UserWarning: Setting penalty='none' will ignore the C and l1_ratio parameters\n",
      "  \"Setting penalty='none' will ignore the C and l1_ratio \"\n",
      "d:\\prog\\tm\\stonksmarketprediction\\venv\\lib\\site-packages\\sklearn\\linear_model\\_logistic.py:1323: UserWarning: Setting penalty='none' will ignore the C and l1_ratio parameters\n",
      "  \"Setting penalty='none' will ignore the C and l1_ratio \"\n"
     ]
    },
    {
     "data": {
      "application/vnd.jupyter.widget-view+json": {
       "model_id": "8a56f2eef6014fba9e1f08422e15f7e1",
       "version_major": 2,
       "version_minor": 0
      },
      "text/plain": [
       "  0%|          | 0/14 [00:00<?, ?it/s]"
      ]
     },
     "metadata": {},
     "output_type": "display_data"
    },
    {
     "name": "stdout",
     "output_type": "stream",
     "text": [
      "Performing grid search...\n",
      "Fitting 5 folds for each of 48 candidates, totalling 240 fits\n",
      "Fitting 5 folds for each of 288 candidates, totalling 1440 fits\n",
      "Fitting 5 folds for each of 72 candidates, totalling 360 fits\n",
      "Fitting 5 folds for each of 24 candidates, totalling 120 fits\n",
      "Performing grid search...\n",
      "Fitting 5 folds for each of 48 candidates, totalling 240 fits\n",
      "Fitting 5 folds for each of 288 candidates, totalling 1440 fits\n",
      "Fitting 5 folds for each of 72 candidates, totalling 360 fits\n",
      "Fitting 5 folds for each of 24 candidates, totalling 120 fits\n",
      "Performing grid search...\n",
      "Fitting 5 folds for each of 48 candidates, totalling 240 fits\n",
      "Fitting 5 folds for each of 288 candidates, totalling 1440 fits\n",
      "Fitting 5 folds for each of 72 candidates, totalling 360 fits\n",
      "Fitting 5 folds for each of 24 candidates, totalling 120 fits\n",
      "Performing grid search...\n",
      "Fitting 5 folds for each of 48 candidates, totalling 240 fits\n",
      "Fitting 5 folds for each of 288 candidates, totalling 1440 fits\n",
      "Fitting 5 folds for each of 72 candidates, totalling 360 fits\n",
      "Fitting 5 folds for each of 24 candidates, totalling 120 fits\n",
      "Performing grid search...\n",
      "Fitting 5 folds for each of 48 candidates, totalling 240 fits\n",
      "Fitting 5 folds for each of 288 candidates, totalling 1440 fits\n",
      "Fitting 5 folds for each of 72 candidates, totalling 360 fits\n",
      "Fitting 5 folds for each of 24 candidates, totalling 120 fits\n",
      "Performing grid search...\n",
      "Fitting 5 folds for each of 48 candidates, totalling 240 fits\n",
      "Fitting 5 folds for each of 288 candidates, totalling 1440 fits\n",
      "Fitting 5 folds for each of 72 candidates, totalling 360 fits\n",
      "Fitting 5 folds for each of 24 candidates, totalling 120 fits\n",
      "Performing grid search...\n",
      "Fitting 5 folds for each of 48 candidates, totalling 240 fits\n",
      "Fitting 5 folds for each of 288 candidates, totalling 1440 fits\n",
      "Fitting 5 folds for each of 72 candidates, totalling 360 fits\n",
      "Fitting 5 folds for each of 24 candidates, totalling 120 fits\n",
      "Performing grid search...\n",
      "Fitting 5 folds for each of 48 candidates, totalling 240 fits\n",
      "Fitting 5 folds for each of 288 candidates, totalling 1440 fits\n",
      "Fitting 5 folds for each of 72 candidates, totalling 360 fits\n",
      "Fitting 5 folds for each of 24 candidates, totalling 120 fits\n",
      "Performing grid search...\n",
      "Fitting 5 folds for each of 48 candidates, totalling 240 fits\n",
      "Fitting 5 folds for each of 288 candidates, totalling 1440 fits\n",
      "Fitting 5 folds for each of 72 candidates, totalling 360 fits\n",
      "Fitting 5 folds for each of 24 candidates, totalling 120 fits\n",
      "Performing grid search...\n",
      "Fitting 5 folds for each of 48 candidates, totalling 240 fits\n",
      "Fitting 5 folds for each of 288 candidates, totalling 1440 fits\n",
      "Fitting 5 folds for each of 72 candidates, totalling 360 fits\n",
      "Fitting 5 folds for each of 24 candidates, totalling 120 fits\n",
      "Performing grid search...\n",
      "Fitting 5 folds for each of 48 candidates, totalling 240 fits\n",
      "Fitting 5 folds for each of 288 candidates, totalling 1440 fits\n",
      "Fitting 5 folds for each of 72 candidates, totalling 360 fits\n",
      "Fitting 5 folds for each of 24 candidates, totalling 120 fits\n",
      "Performing grid search...\n",
      "Fitting 5 folds for each of 48 candidates, totalling 240 fits\n",
      "Fitting 5 folds for each of 288 candidates, totalling 1440 fits\n",
      "Fitting 5 folds for each of 72 candidates, totalling 360 fits\n",
      "Fitting 5 folds for each of 24 candidates, totalling 120 fits\n",
      "Performing grid search...\n",
      "Fitting 5 folds for each of 48 candidates, totalling 240 fits\n",
      "Fitting 5 folds for each of 288 candidates, totalling 1440 fits\n",
      "Fitting 5 folds for each of 72 candidates, totalling 360 fits\n",
      "Fitting 5 folds for each of 24 candidates, totalling 120 fits\n",
      "Performing grid search...\n",
      "Fitting 5 folds for each of 48 candidates, totalling 240 fits\n",
      "Fitting 5 folds for each of 288 candidates, totalling 1440 fits\n",
      "Fitting 5 folds for each of 72 candidates, totalling 360 fits\n",
      "Fitting 5 folds for each of 24 candidates, totalling 120 fits\n"
     ]
    },
    {
     "name": "stderr",
     "output_type": "stream",
     "text": [
      "d:\\prog\\tm\\stonksmarketprediction\\venv\\lib\\site-packages\\sklearn\\linear_model\\_logistic.py:1323: UserWarning: Setting penalty='none' will ignore the C and l1_ratio parameters\n",
      "  \"Setting penalty='none' will ignore the C and l1_ratio \"\n",
      "d:\\prog\\tm\\stonksmarketprediction\\venv\\lib\\site-packages\\sklearn\\linear_model\\_logistic.py:1323: UserWarning: Setting penalty='none' will ignore the C and l1_ratio parameters\n",
      "  \"Setting penalty='none' will ignore the C and l1_ratio \"\n"
     ]
    },
    {
     "data": {
      "application/vnd.jupyter.widget-view+json": {
       "model_id": "3d915fd42d9347adbf623afdce8fdd80",
       "version_major": 2,
       "version_minor": 0
      },
      "text/plain": [
       "  0%|          | 0/14 [00:00<?, ?it/s]"
      ]
     },
     "metadata": {},
     "output_type": "display_data"
    },
    {
     "name": "stdout",
     "output_type": "stream",
     "text": [
      "Performing grid search...\n",
      "Fitting 5 folds for each of 48 candidates, totalling 240 fits\n",
      "Fitting 5 folds for each of 288 candidates, totalling 1440 fits\n",
      "Fitting 5 folds for each of 72 candidates, totalling 360 fits\n",
      "Fitting 5 folds for each of 24 candidates, totalling 120 fits\n",
      "Performing grid search...\n",
      "Fitting 5 folds for each of 48 candidates, totalling 240 fits\n",
      "Fitting 5 folds for each of 288 candidates, totalling 1440 fits\n",
      "Fitting 5 folds for each of 72 candidates, totalling 360 fits\n",
      "Fitting 5 folds for each of 24 candidates, totalling 120 fits\n",
      "Performing grid search...\n",
      "Fitting 5 folds for each of 48 candidates, totalling 240 fits\n",
      "Fitting 5 folds for each of 288 candidates, totalling 1440 fits\n",
      "Fitting 5 folds for each of 72 candidates, totalling 360 fits\n",
      "Fitting 5 folds for each of 24 candidates, totalling 120 fits\n",
      "Performing grid search...\n",
      "Fitting 5 folds for each of 48 candidates, totalling 240 fits\n",
      "Fitting 5 folds for each of 288 candidates, totalling 1440 fits\n",
      "Fitting 5 folds for each of 72 candidates, totalling 360 fits\n",
      "Fitting 5 folds for each of 24 candidates, totalling 120 fits\n",
      "Performing grid search...\n",
      "Fitting 5 folds for each of 48 candidates, totalling 240 fits\n",
      "Fitting 5 folds for each of 288 candidates, totalling 1440 fits\n",
      "Fitting 5 folds for each of 72 candidates, totalling 360 fits\n",
      "Fitting 5 folds for each of 24 candidates, totalling 120 fits\n",
      "Performing grid search...\n",
      "Fitting 5 folds for each of 48 candidates, totalling 240 fits\n",
      "Fitting 5 folds for each of 288 candidates, totalling 1440 fits\n",
      "Fitting 5 folds for each of 72 candidates, totalling 360 fits\n",
      "Fitting 5 folds for each of 24 candidates, totalling 120 fits\n",
      "Performing grid search...\n",
      "Fitting 5 folds for each of 48 candidates, totalling 240 fits\n",
      "Fitting 5 folds for each of 288 candidates, totalling 1440 fits\n",
      "Fitting 5 folds for each of 72 candidates, totalling 360 fits\n",
      "Fitting 5 folds for each of 24 candidates, totalling 120 fits\n",
      "Performing grid search...\n",
      "Fitting 5 folds for each of 48 candidates, totalling 240 fits\n",
      "Fitting 5 folds for each of 288 candidates, totalling 1440 fits\n",
      "Fitting 5 folds for each of 72 candidates, totalling 360 fits\n",
      "Fitting 5 folds for each of 24 candidates, totalling 120 fits\n"
     ]
    },
    {
     "name": "stderr",
     "output_type": "stream",
     "text": [
      "d:\\prog\\tm\\stonksmarketprediction\\venv\\lib\\site-packages\\sklearn\\linear_model\\_logistic.py:1323: UserWarning: Setting penalty='none' will ignore the C and l1_ratio parameters\n",
      "  \"Setting penalty='none' will ignore the C and l1_ratio \"\n",
      "d:\\prog\\tm\\stonksmarketprediction\\venv\\lib\\site-packages\\sklearn\\linear_model\\_logistic.py:1323: UserWarning: Setting penalty='none' will ignore the C and l1_ratio parameters\n",
      "  \"Setting penalty='none' will ignore the C and l1_ratio \"\n"
     ]
    },
    {
     "name": "stdout",
     "output_type": "stream",
     "text": [
      "Performing grid search...\n",
      "Fitting 5 folds for each of 48 candidates, totalling 240 fits\n",
      "Fitting 5 folds for each of 288 candidates, totalling 1440 fits\n",
      "Fitting 5 folds for each of 72 candidates, totalling 360 fits\n",
      "Fitting 5 folds for each of 24 candidates, totalling 120 fits\n",
      "Performing grid search...\n",
      "Fitting 5 folds for each of 48 candidates, totalling 240 fits\n",
      "Fitting 5 folds for each of 288 candidates, totalling 1440 fits\n",
      "Fitting 5 folds for each of 72 candidates, totalling 360 fits\n",
      "Fitting 5 folds for each of 24 candidates, totalling 120 fits\n",
      "Performing grid search...\n",
      "Fitting 5 folds for each of 48 candidates, totalling 240 fits\n",
      "Fitting 5 folds for each of 288 candidates, totalling 1440 fits\n",
      "Fitting 5 folds for each of 72 candidates, totalling 360 fits\n",
      "Fitting 5 folds for each of 24 candidates, totalling 120 fits\n",
      "Performing grid search...\n",
      "Fitting 5 folds for each of 48 candidates, totalling 240 fits\n",
      "Fitting 5 folds for each of 288 candidates, totalling 1440 fits\n",
      "Fitting 5 folds for each of 72 candidates, totalling 360 fits\n",
      "Fitting 5 folds for each of 24 candidates, totalling 120 fits\n",
      "Performing grid search...\n",
      "Fitting 5 folds for each of 48 candidates, totalling 240 fits\n",
      "Fitting 5 folds for each of 288 candidates, totalling 1440 fits\n",
      "Fitting 5 folds for each of 72 candidates, totalling 360 fits\n",
      "Fitting 5 folds for each of 24 candidates, totalling 120 fits\n",
      "Performing grid search...\n",
      "Fitting 5 folds for each of 48 candidates, totalling 240 fits\n",
      "Fitting 5 folds for each of 288 candidates, totalling 1440 fits\n",
      "Fitting 5 folds for each of 72 candidates, totalling 360 fits\n",
      "Fitting 5 folds for each of 24 candidates, totalling 120 fits\n"
     ]
    },
    {
     "name": "stderr",
     "output_type": "stream",
     "text": [
      "d:\\prog\\tm\\stonksmarketprediction\\venv\\lib\\site-packages\\sklearn\\linear_model\\_logistic.py:1323: UserWarning: Setting penalty='none' will ignore the C and l1_ratio parameters\n",
      "  \"Setting penalty='none' will ignore the C and l1_ratio \"\n",
      "d:\\prog\\tm\\stonksmarketprediction\\venv\\lib\\site-packages\\sklearn\\linear_model\\_logistic.py:1323: UserWarning: Setting penalty='none' will ignore the C and l1_ratio parameters\n",
      "  \"Setting penalty='none' will ignore the C and l1_ratio \"\n"
     ]
    },
    {
     "data": {
      "application/vnd.jupyter.widget-view+json": {
       "model_id": "3a8a89bf34fe4ff8b3a0ac403c2998b3",
       "version_major": 2,
       "version_minor": 0
      },
      "text/plain": [
       "  0%|          | 0/14 [00:00<?, ?it/s]"
      ]
     },
     "metadata": {},
     "output_type": "display_data"
    },
    {
     "name": "stdout",
     "output_type": "stream",
     "text": [
      "Performing grid search...\n",
      "Fitting 5 folds for each of 48 candidates, totalling 240 fits\n",
      "Fitting 5 folds for each of 288 candidates, totalling 1440 fits\n",
      "Fitting 5 folds for each of 72 candidates, totalling 360 fits\n",
      "Fitting 5 folds for each of 24 candidates, totalling 120 fits\n",
      "Performing grid search...\n",
      "Fitting 5 folds for each of 48 candidates, totalling 240 fits\n",
      "Fitting 5 folds for each of 288 candidates, totalling 1440 fits\n",
      "Fitting 5 folds for each of 72 candidates, totalling 360 fits\n",
      "Fitting 5 folds for each of 24 candidates, totalling 120 fits\n",
      "Performing grid search...\n",
      "Fitting 5 folds for each of 48 candidates, totalling 240 fits\n",
      "Fitting 5 folds for each of 288 candidates, totalling 1440 fits\n",
      "Fitting 5 folds for each of 72 candidates, totalling 360 fits\n",
      "Fitting 5 folds for each of 24 candidates, totalling 120 fits\n",
      "Performing grid search...\n",
      "Fitting 5 folds for each of 48 candidates, totalling 240 fits\n",
      "Fitting 5 folds for each of 288 candidates, totalling 1440 fits\n",
      "Fitting 5 folds for each of 72 candidates, totalling 360 fits\n",
      "Fitting 5 folds for each of 24 candidates, totalling 120 fits\n",
      "Performing grid search...\n",
      "Fitting 5 folds for each of 48 candidates, totalling 240 fits\n",
      "Fitting 5 folds for each of 288 candidates, totalling 1440 fits\n",
      "Fitting 5 folds for each of 72 candidates, totalling 360 fits\n",
      "Fitting 5 folds for each of 24 candidates, totalling 120 fits\n",
      "Performing grid search...\n",
      "Fitting 5 folds for each of 48 candidates, totalling 240 fits\n",
      "Fitting 5 folds for each of 288 candidates, totalling 1440 fits\n",
      "Fitting 5 folds for each of 72 candidates, totalling 360 fits\n",
      "Fitting 5 folds for each of 24 candidates, totalling 120 fits\n",
      "Performing grid search...\n",
      "Fitting 5 folds for each of 48 candidates, totalling 240 fits\n",
      "Fitting 5 folds for each of 288 candidates, totalling 1440 fits\n",
      "Fitting 5 folds for each of 72 candidates, totalling 360 fits\n",
      "Fitting 5 folds for each of 24 candidates, totalling 120 fits\n"
     ]
    },
    {
     "name": "stderr",
     "output_type": "stream",
     "text": [
      "d:\\prog\\tm\\stonksmarketprediction\\venv\\lib\\site-packages\\sklearn\\linear_model\\_logistic.py:1323: UserWarning: Setting penalty='none' will ignore the C and l1_ratio parameters\n",
      "  \"Setting penalty='none' will ignore the C and l1_ratio \"\n",
      "d:\\prog\\tm\\stonksmarketprediction\\venv\\lib\\site-packages\\sklearn\\linear_model\\_logistic.py:1323: UserWarning: Setting penalty='none' will ignore the C and l1_ratio parameters\n",
      "  \"Setting penalty='none' will ignore the C and l1_ratio \"\n"
     ]
    },
    {
     "name": "stdout",
     "output_type": "stream",
     "text": [
      "Performing grid search...\n",
      "Fitting 5 folds for each of 48 candidates, totalling 240 fits\n",
      "Fitting 5 folds for each of 288 candidates, totalling 1440 fits\n",
      "Fitting 5 folds for each of 72 candidates, totalling 360 fits\n",
      "Fitting 5 folds for each of 24 candidates, totalling 120 fits\n",
      "Performing grid search...\n",
      "Fitting 5 folds for each of 48 candidates, totalling 240 fits\n",
      "Fitting 5 folds for each of 288 candidates, totalling 1440 fits\n",
      "Fitting 5 folds for each of 72 candidates, totalling 360 fits\n",
      "Fitting 5 folds for each of 24 candidates, totalling 120 fits\n"
     ]
    },
    {
     "name": "stderr",
     "output_type": "stream",
     "text": [
      "d:\\prog\\tm\\stonksmarketprediction\\venv\\lib\\site-packages\\sklearn\\linear_model\\_logistic.py:1323: UserWarning: Setting penalty='none' will ignore the C and l1_ratio parameters\n",
      "  \"Setting penalty='none' will ignore the C and l1_ratio \"\n",
      "d:\\prog\\tm\\stonksmarketprediction\\venv\\lib\\site-packages\\sklearn\\linear_model\\_logistic.py:1323: UserWarning: Setting penalty='none' will ignore the C and l1_ratio parameters\n",
      "  \"Setting penalty='none' will ignore the C and l1_ratio \"\n"
     ]
    },
    {
     "name": "stdout",
     "output_type": "stream",
     "text": [
      "Performing grid search...\n",
      "Fitting 5 folds for each of 48 candidates, totalling 240 fits\n",
      "Fitting 5 folds for each of 288 candidates, totalling 1440 fits\n",
      "Fitting 5 folds for each of 72 candidates, totalling 360 fits\n",
      "Fitting 5 folds for each of 24 candidates, totalling 120 fits\n",
      "Performing grid search...\n",
      "Fitting 5 folds for each of 48 candidates, totalling 240 fits\n",
      "Fitting 5 folds for each of 288 candidates, totalling 1440 fits\n",
      "Fitting 5 folds for each of 72 candidates, totalling 360 fits\n",
      "Fitting 5 folds for each of 24 candidates, totalling 120 fits\n"
     ]
    },
    {
     "name": "stderr",
     "output_type": "stream",
     "text": [
      "d:\\prog\\tm\\stonksmarketprediction\\venv\\lib\\site-packages\\sklearn\\linear_model\\_logistic.py:1323: UserWarning: Setting penalty='none' will ignore the C and l1_ratio parameters\n",
      "  \"Setting penalty='none' will ignore the C and l1_ratio \"\n",
      "d:\\prog\\tm\\stonksmarketprediction\\venv\\lib\\site-packages\\sklearn\\linear_model\\_logistic.py:1323: UserWarning: Setting penalty='none' will ignore the C and l1_ratio parameters\n",
      "  \"Setting penalty='none' will ignore the C and l1_ratio \"\n"
     ]
    },
    {
     "name": "stdout",
     "output_type": "stream",
     "text": [
      "Performing grid search...\n",
      "Fitting 5 folds for each of 48 candidates, totalling 240 fits\n",
      "Fitting 5 folds for each of 288 candidates, totalling 1440 fits\n",
      "Fitting 5 folds for each of 72 candidates, totalling 360 fits\n",
      "Fitting 5 folds for each of 24 candidates, totalling 120 fits\n",
      "Performing grid search...\n",
      "Fitting 5 folds for each of 48 candidates, totalling 240 fits\n",
      "Fitting 5 folds for each of 288 candidates, totalling 1440 fits\n",
      "Fitting 5 folds for each of 72 candidates, totalling 360 fits\n",
      "Fitting 5 folds for each of 24 candidates, totalling 120 fits\n",
      "Performing grid search...\n",
      "Fitting 5 folds for each of 48 candidates, totalling 240 fits\n",
      "Fitting 5 folds for each of 288 candidates, totalling 1440 fits\n",
      "Fitting 5 folds for each of 72 candidates, totalling 360 fits\n",
      "Fitting 5 folds for each of 24 candidates, totalling 120 fits\n"
     ]
    },
    {
     "name": "stderr",
     "output_type": "stream",
     "text": [
      "d:\\prog\\tm\\stonksmarketprediction\\venv\\lib\\site-packages\\sklearn\\linear_model\\_logistic.py:1323: UserWarning: Setting penalty='none' will ignore the C and l1_ratio parameters\n",
      "  \"Setting penalty='none' will ignore the C and l1_ratio \"\n",
      "d:\\prog\\tm\\stonksmarketprediction\\venv\\lib\\site-packages\\sklearn\\linear_model\\_logistic.py:1323: UserWarning: Setting penalty='none' will ignore the C and l1_ratio parameters\n",
      "  \"Setting penalty='none' will ignore the C and l1_ratio \"\n"
     ]
    }
   ],
   "source": [
    "for predict_n, features_list in tqdm(days_predict_feature_set.items()):\n",
    "    quot_metrics_dict = {}\n",
    "    for quot in tqdm(quotations):\n",
    "        data_wrapper = StocksDataWrapper.read_from(f\"{DATA_PATH}{quot}{FILE_SUFFIX}\", compute_features=True, predict_n=predict_n, thresh_diff=0.005, normalize=True)\n",
    "\n",
    "\n",
    "        X_train, X_test, y_train, y_test = data_wrapper.get_datasets(n_splits=1, val_size=0.2, \n",
    "                                                                     y_column='Next', \n",
    "                                                                     features_list=data_columns)\n",
    "        \n",
    "        class_weights, grid_search_class_weights = None, None\n",
    "        if USE_CLASS_WEIGHTS:\n",
    "            class_weights=compute_class_weights(y_train)\n",
    "            grid_search_class_weights = compute_class_weights(y_train[-MAX_SIZE:])\n",
    "\n",
    "\n",
    "\n",
    "        if PERFORM_GRID_SEARCH:\n",
    "            # ceil the number of samples, get the lasts MAX_SIZE samples \n",
    "            best_params = compute_grid_search(param_grid, \n",
    "                                              X_train=X_train[-MAX_SIZE:],\n",
    "                                              y_train=y_train[-MAX_SIZE:],\n",
    "                                              class_weights=grid_search_class_weights, \n",
    "                                              n_splits=n_splits)\n",
    "            params_df = pd.DataFrame.from_dict(best_params)\n",
    "            params_df.to_csv(f\"grid_search_results/{predict_n}_{quot}.csv\", index=False)\n",
    "\n",
    "        clf_dict = {}\n",
    "\n",
    "        clf_dict['DTree'] = DecisionTreeClassifier(**best_params['DTree'], random_state=42, class_weight=class_weights)\n",
    "        clf_dict['RandomForest'] = RandomForestClassifier(**best_params['RandomForest'], random_state=42, class_weight=class_weights)\n",
    "        clf_dict['SVM'] = SVC(**best_params['SVM'], class_weight=class_weights)\n",
    "        clf_dict['LR'] = LogisticRegression(**best_params['LR'], class_weight=class_weights)\n",
    "\n",
    "        \n",
    "        quot_metrics_dict[quot] = train_evaluate_classifiers(clf_dict, X_train, y_train, X_test, y_test)\n",
    "        \n",
    "    metrics_df = pd.DataFrame.from_dict(quot_metrics_dict).T\n",
    "    acc_df = metrics_df.applymap(lambda metrics: metrics['acc'])\n",
    "    f1_df = metrics_df.applymap(lambda metrics: metrics['f1'])\n",
    "\n",
    "    acc_df.to_csv(f\"metrics/acc_{predict_n}.csv\", index=True)\n",
    "    f1_df.to_csv(f\"metrics/f1_{predict_n}.csv\", index=True)\n",
    "        \n",
    "    predict_n_metrics_dict[predict_n] = quot_metrics_dict.copy()\n",
    "    \n"
   ]
  },
  {
   "cell_type": "code",
   "execution_count": null,
   "id": "emotional-gasoline",
   "metadata": {},
   "outputs": [],
   "source": [
    "print(X_train.shape)\n",
    "X_train = X_train[-5000:]\n",
    "print(X_train.shape)\n",
    "cv = tscv.split(X_train)\n",
    "for split in cv:\n",
    "    train_ids, test_ids = split\n",
    "    train = [X_train[i] for i in train_ids]\n",
    "    val = [X_train[i] for i in test_ids]\n",
    "    print(np.where(np.isinf(train)))\n",
    "    print(np.where(np.isnan(train)))\n",
    "    print(np.where(np.isinf(val)))\n",
    "    print(np.where(np.isnan(val)))"
   ]
  },
  {
   "cell_type": "code",
   "execution_count": null,
   "id": "super-movie",
   "metadata": {},
   "outputs": [],
   "source": [
    "params_df = pd.DataFrame.from_dict(best_params)\n",
    "params_df.to_csv(f\"grid_search_results/{predict_n}_{quot}.csv\", index=False)"
   ]
  },
  {
   "cell_type": "code",
   "execution_count": 87,
   "id": "saving-destination",
   "metadata": {
    "collapsed": true,
    "jupyter": {
     "outputs_hidden": true
    }
   },
   "outputs": [
    {
     "name": "stdout",
     "output_type": "stream",
     "text": [
      "{1: {'AAL': {'DTree': {'acc': 0.3419170243204578, 'f1': 0.3469379570182003}, 'RandomForest': {'acc': 0.39198855507868385, 'f1': 0.40088604278801837}, 'SVM': {'acc': 0.290414878397711, 'f1': 0.34576369001461327}, 'LR': {'acc': 0.30758226037195996, 'f1': 0.3173638527087956}}, 'AAPL': {'DTree': {'acc': 0.3104434907010014, 'f1': 0.4080658245438958}, 'RandomForest': {'acc': 0.29756795422031473, 'f1': 0.4008766793123554}, 'SVM': {'acc': 0.26895565092989987, 'f1': 0.387024032210839}, 'LR': {'acc': 0.26895565092989987, 'f1': 0.39502449717084015}}, 'AMZN': {'DTree': {'acc': 0.34048640915593703, 'f1': 0.41610351943114315}, 'RandomForest': {'acc': 0.34334763948497854, 'f1': 0.3936494410740931}, 'SVM': {'acc': 0.34048640915593703, 'f1': 0.3811922425683364}, 'LR': {'acc': 0.32045779685264664, 'f1': 0.40933124782232544}}, 'CMCSA': {'DTree': {'acc': 0.3583815028901734, 'f1': 0.38292249329865763}, 'RandomForest': {'acc': 0.3227360308285164, 'f1': 0.3872361108313385}, 'SVM': {'acc': 0.3039499036608863, 'f1': 0.4316072672823681}, 'LR': {'acc': 0.3179190751445087, 'f1': 0.3768809483562232}}, 'COST': {'DTree': {'acc': 0.42970973249857713, 'f1': 0.579939288041029}, 'RandomForest': {'acc': 0.42970973249857713, 'f1': 0.5878409354541307}, 'SVM': {'acc': 0.3232783153101878, 'f1': 0.38015354903202003}, 'LR': {'acc': 0.42458736482640863, 'f1': 0.5957454355854364}}, 'GM': {'DTree': {'acc': 0.3518886679920477, 'f1': 0.39294439719251}, 'RandomForest': {'acc': 0.33001988071570576, 'f1': 0.33636954930377494}, 'SVM': {'acc': 0.3757455268389662, 'f1': 0.38834910805326994}, 'LR': {'acc': 0.3797216699801193, 'f1': 0.41101267018716814}}, 'GOOG': {'DTree': {'acc': 0.3590844062947067, 'f1': 0.3807437671608092}, 'RandomForest': {'acc': 0.32045779685264664, 'f1': 0.4450513075140682}, 'SVM': {'acc': 0.37339055793991416, 'f1': 0.42312585832532723}, 'LR': {'acc': 0.34620886981402005, 'f1': 0.45598154559542375}}, 'IBM': {'DTree': {'acc': 0.4192567567567568, 'f1': 0.5249311382757432}, 'RandomForest': {'acc': 0.31756756756756754, 'f1': 0.37508977926693227}, 'SVM': {'acc': 0.3016891891891892, 'f1': 0.378584819293827}, 'LR': {'acc': 0.40743243243243243, 'f1': 0.4562938530208683}}, 'JNJ': {'DTree': {'acc': 0.3376251788268956, 'f1': 0.3610381707409386}, 'RandomForest': {'acc': 0.41917024320457796, 'f1': 0.425659572927242}, 'SVM': {'acc': 0.38483547925608014, 'f1': 0.40730939953701895}, 'LR': {'acc': 0.3547925608011445, 'f1': 0.3579414870321884}}, 'KO': {'DTree': {'acc': 0.4177396280400572, 'f1': 0.4631954230444265}, 'RandomForest': {'acc': 0.4005722460658083, 'f1': 0.4569642557574914}, 'SVM': {'acc': 0.3590844062947067, 'f1': 0.4177755553812723}, 'LR': {'acc': 0.40486409155937053, 'f1': 0.5161384310997132}}, 'PEP': {'DTree': {'acc': 0.47063588497367354, 'f1': 0.5597198771717569}, 'RandomForest': {'acc': 0.48521668691778047, 'f1': 0.5922266637782915}, 'SVM': {'acc': 0.3244228432563791, 'f1': 0.32650577527241154}, 'LR': {'acc': 0.4819765087079789, 'f1': 0.6054497563122112}}, 'TSLA': {'DTree': {'acc': 0.3173996175908222, 'f1': 0.3210047001578814}, 'RandomForest': {'acc': 0.3326959847036329, 'f1': 0.36414147362149996}, 'SVM': {'acc': 0.32887189292543023, 'f1': 0.38112369601468826}, 'LR': {'acc': 0.22753346080305928, 'f1': 0.27265878556244266}}, 'WMT': {'DTree': {'acc': 0.3290414878397711, 'f1': 0.3391119086354249}, 'RandomForest': {'acc': 0.40486409155937053, 'f1': 0.4600922711338357}, 'SVM': {'acc': 0.34620886981402005, 'f1': 0.41218650372761856}, 'LR': {'acc': 0.37052932761087265, 'f1': 0.4326544178988815}}, 'XOM': {'DTree': {'acc': 0.37625178826895567, 'f1': 0.3839583239616358}, 'RandomForest': {'acc': 0.3648068669527897, 'f1': 0.3861902004902663}, 'SVM': {'acc': 0.31616595135908443, 'f1': 0.38845234653258476}, 'LR': {'acc': 0.3590844062947067, 'f1': 0.4158313749553454}}}, 5: {'AAL': {'DTree': {'acc': 0.3467048710601719, 'f1': 0.40419413058310577}, 'RandomForest': {'acc': 0.3424068767908309, 'f1': 0.3500097719330208}, 'SVM': {'acc': 0.4383954154727794, 'f1': 0.6095617529880478}, 'LR': {'acc': 0.28796561604584525, 'f1': 0.3272684284118938}}, 'AAPL': {'DTree': {'acc': 0.3123209169054441, 'f1': 0.3682570673016794}, 'RandomForest': {'acc': 0.2793696275071633, 'f1': 0.3922565562376763}, 'SVM': {'acc': 0.2607449856733524, 'f1': 0.4085877541120849}, 'LR': {'acc': 0.2607449856733524, 'f1': 0.4067030197416217}}, 'AMZN': {'DTree': {'acc': 0.39111747851002865, 'f1': 0.44683515415363584}, 'RandomForest': {'acc': 0.35816618911174786, 'f1': 0.42899790462725845}, 'SVM': {'acc': 0.29656160458452724, 'f1': 0.3785512071578523}, 'LR': {'acc': 0.2693409742120344, 'f1': 0.4186392208318032}}, 'CMCSA': {'DTree': {'acc': 0.3378313253012048, 'f1': 0.36183085552720773}, 'RandomForest': {'acc': 0.35325301204819276, 'f1': 0.3728638926470441}, 'SVM': {'acc': 0.2944578313253012, 'f1': 0.45495160089352193}, 'LR': {'acc': 0.30843373493975906, 'f1': 0.40033385248247666}}, 'COST': {'DTree': {'acc': 0.42312072892938496, 'f1': 0.5619069643028827}, 'RandomForest': {'acc': 0.42482915717539865, 'f1': 0.5942433330570167}, 'SVM': {'acc': 0.3376993166287016, 'f1': 0.3925925741791379}, 'LR': {'acc': 0.42425968109339407, 'f1': 0.595422423285811}}, 'GM': {'DTree': {'acc': 0.40039840637450197, 'f1': 0.4040550486702312}, 'RandomForest': {'acc': 0.36254980079681276, 'f1': 0.36803026019367624}, 'SVM': {'acc': 0.3605577689243028, 'f1': 0.3987436306190633}, 'LR': {'acc': 0.3545816733067729, 'f1': 0.3915647292897717}}, 'GOOG': {'DTree': {'acc': 0.3108882521489971, 'f1': 0.3566898120345185}, 'RandomForest': {'acc': 0.330945558739255, 'f1': 0.4329800220823348}, 'SVM': {'acc': 0.38968481375358166, 'f1': 0.44876739509844626}, 'LR': {'acc': 0.3524355300859599, 'f1': 0.4471414656620967}}, 'IBM': {'DTree': {'acc': 0.350794187225414, 'f1': 0.37028362292706923}, 'RandomForest': {'acc': 0.29165258533288274, 'f1': 0.377761067130474}, 'SVM': {'acc': 0.2862453531598513, 'f1': 0.4107536233066946}, 'LR': {'acc': 0.3477526191280838, 'f1': 0.37673639020831057}}, 'JNJ': {'DTree': {'acc': 0.39255014326647564, 'f1': 0.39081462711581155}, 'RandomForest': {'acc': 0.3968481375358166, 'f1': 0.3998328557784146}, 'SVM': {'acc': 0.39111747851002865, 'f1': 0.43935649880961875}, 'LR': {'acc': 0.37965616045845274, 'f1': 0.4239839529605752}}, 'KO': {'DTree': {'acc': 0.38825214899713467, 'f1': 0.5530999898052721}, 'RandomForest': {'acc': 0.3825214899713467, 'f1': 0.49690317952105856}, 'SVM': {'acc': 0.3939828080229226, 'f1': 0.557912160684313}, 'LR': {'acc': 0.40114613180515757, 'f1': 0.5355916448465556}}, 'PEP': {'DTree': {'acc': 0.4659643435980551, 'f1': 0.5615400296529911}, 'RandomForest': {'acc': 0.4805510534846029, 'f1': 0.6178815773128611}, 'SVM': {'acc': 0.3233387358184765, 'f1': 0.3756449533762384}, 'LR': {'acc': 0.4801458670988655, 'f1': 0.6414977678701557}}, 'TSLA': {'DTree': {'acc': 0.22796934865900384, 'f1': 0.2542229657000036}, 'RandomForest': {'acc': 0.38122605363984674, 'f1': 0.42991169392007134}, 'SVM': {'acc': 0.46934865900383144, 'f1': 0.6351811056662021}, 'LR': {'acc': 0.2260536398467433, 'f1': 0.2384666826113667}}, 'WMT': {'DTree': {'acc': 0.3968481375358166, 'f1': 0.548210286180929}, 'RandomForest': {'acc': 0.330945558739255, 'f1': 0.36376600979579016}, 'SVM': {'acc': 0.3008595988538682, 'f1': 0.310175576404636}, 'LR': {'acc': 0.39255014326647564, 'f1': 0.4719359314232392}}, 'XOM': {'DTree': {'acc': 0.32808022922636104, 'f1': 0.3301279108658604}, 'RandomForest': {'acc': 0.37249283667621774, 'f1': 0.42315756160965107}, 'SVM': {'acc': 0.32521489971346706, 'f1': 0.3508539387434637}, 'LR': {'acc': 0.3452722063037249, 'f1': 0.418696601437827}}}, 10: {'AAL': {'DTree': {'acc': 0.3385939741750359, 'f1': 0.39286113977073595}, 'RandomForest': {'acc': 0.3400286944045911, 'f1': 0.32873469729244337}, 'SVM': {'acc': 0.16355810616929697, 'f1': 0.281134401972873}, 'LR': {'acc': 0.2898134863701578, 'f1': 0.3017327498470967}}, 'AAPL': {'DTree': {'acc': 0.33428981348637016, 'f1': 0.33217700363871605}, 'RandomForest': {'acc': 0.2898134863701578, 'f1': 0.345780405257387}, 'SVM': {'acc': 0.2654232424677188, 'f1': 0.4050697583831059}, 'LR': {'acc': 0.25968436154949787, 'f1': 0.41205623579201145}}, 'AMZN': {'DTree': {'acc': 0.3199426111908178, 'f1': 0.37309446618460185}, 'RandomForest': {'acc': 0.30272596843615496, 'f1': 0.3741785565045924}, 'SVM': {'acc': 0.3199426111908178, 'f1': 0.386388816123176}, 'LR': {'acc': 0.26398852223816355, 'f1': 0.4169818703534629}}, 'CMCSA': {'DTree': {'acc': 0.3514946962391514, 'f1': 0.4794867221299706}, 'RandomForest': {'acc': 0.3514946962391514, 'f1': 0.470257386169773}, 'SVM': {'acc': 0.29411764705882354, 'f1': 0.45454545454545453}, 'LR': {'acc': 0.29990356798457085, 'f1': 0.3729133494363334}}, 'COST': {'DTree': {'acc': 0.4113960113960114, 'f1': 0.5333474567602319}, 'RandomForest': {'acc': 0.4267806267806268, 'f1': 0.5916579312368144}, 'SVM': {'acc': 0.42165242165242167, 'f1': 0.5849538593844076}, 'LR': {'acc': 0.42450142450142453, 'f1': 0.5958987583637444}}, 'GM': {'DTree': {'acc': 0.34530938123752497, 'f1': 0.39460473590311573}, 'RandomForest': {'acc': 0.34331337325349304, 'f1': 0.3705598972673202}, 'SVM': {'acc': 0.37325349301397204, 'f1': 0.40455710321701105}, 'LR': {'acc': 0.37325349301397204, 'f1': 0.39022787291896127}}, 'GOOG': {'DTree': {'acc': 0.3902439024390244, 'f1': 0.5589151397598794}, 'RandomForest': {'acc': 0.3787661406025825, 'f1': 0.45315191430846063}, 'SVM': {'acc': 0.31563845050215206, 'f1': 0.46809554922392643}, 'LR': {'acc': 0.3299856527977044, 'f1': 0.4669737967089815}}, 'IBM': {'DTree': {'acc': 0.3103448275862069, 'f1': 0.3285508658706937}, 'RandomForest': {'acc': 0.3022312373225152, 'f1': 0.3523840254483969}, 'SVM': {'acc': 0.29411764705882354, 'f1': 0.3686738414533672}, 'LR': {'acc': 0.312711291413117, 'f1': 0.3327891276510797}}, 'JNJ': {'DTree': {'acc': 0.3916786226685796, 'f1': 0.45921856418272927}, 'RandomForest': {'acc': 0.3400286944045911, 'f1': 0.34314515029504955}, 'SVM': {'acc': 0.3830703012912482, 'f1': 0.4249557579520302}, 'LR': {'acc': 0.3601147776183644, 'f1': 0.3736305546231241}}, 'KO': {'DTree': {'acc': 0.3472022955523673, 'f1': 0.3546900109693092}, 'RandomForest': {'acc': 0.38593974175035867, 'f1': 0.45930655489576516}, 'SVM': {'acc': 0.3500717360114778, 'f1': 0.3723167831678848}, 'LR': {'acc': 0.39741750358680056, 'f1': 0.5373834954483145}}, 'PEP': {'DTree': {'acc': 0.32752330766112686, 'f1': 0.33019863840758007}, 'RandomForest': {'acc': 0.4154843940008107, 'f1': 0.4676595887263559}, 'SVM': {'acc': 0.3007701661937576, 'f1': 0.32603384418760034}, 'LR': {'acc': 0.47669233887312523, 'f1': 0.6099187530216955}}, 'TSLA': {'DTree': {'acc': 0.3685220729366603, 'f1': 0.3752247585205473}, 'RandomForest': {'acc': 0.3493282149712092, 'f1': 0.361742624569492}, 'SVM': {'acc': 0.19385796545105566, 'f1': 0.2481237201987593}, 'LR': {'acc': 0.2072936660268714, 'f1': 0.24374268644496538}}, 'WMT': {'DTree': {'acc': 0.31850789096126253, 'f1': 0.36561668696840843}, 'RandomForest': {'acc': 0.3012912482065997, 'f1': 0.34307739798051534}, 'SVM': {'acc': 0.30272596843615496, 'f1': 0.364190223295341}, 'LR': {'acc': 0.34433285509325684, 'f1': 0.40458049160365855}}, 'XOM': {'DTree': {'acc': 0.3127690100430416, 'f1': 0.3295430445381389}, 'RandomForest': {'acc': 0.3615494978479197, 'f1': 0.376145160961706}, 'SVM': {'acc': 0.28694404591104733, 'f1': 0.37906154572176814}, 'LR': {'acc': 0.33715925394548063, 'f1': 0.4078649904732998}}}, 20: {'AAL': {'DTree': {'acc': 0.1683453237410072, 'f1': 0.2694005525451247}, 'RandomForest': {'acc': 0.2762589928057554, 'f1': 0.2865376070048165}, 'SVM': {'acc': 0.28345323741007195, 'f1': 0.3352617413312171}, 'LR': {'acc': 0.260431654676259, 'f1': 0.27734449779653936}}, 'AAPL': {'DTree': {'acc': 0.28489208633093527, 'f1': 0.39270592997368964}, 'RandomForest': {'acc': 0.2633093525179856, 'f1': 0.3856961674984416}, 'SVM': {'acc': 0.28633093525179854, 'f1': 0.39335828951874624}, 'LR': {'acc': 0.260431654676259, 'f1': 0.4132420091324201}}, 'AMZN': {'DTree': {'acc': 0.31366906474820144, 'f1': 0.4225515067150619}, 'RandomForest': {'acc': 0.36258992805755397, 'f1': 0.38773593368845644}, 'SVM': {'acc': 0.33093525179856115, 'f1': 0.47847187785296696}, 'LR': {'acc': 0.26618705035971224, 'f1': 0.4204545454545454}}, 'CMCSA': {'DTree': {'acc': 0.35086872586872586, 'f1': 0.4707259503460696}, 'RandomForest': {'acc': 0.34121621621621623, 'f1': 0.349880815996809}, 'SVM': {'acc': 0.2939189189189189, 'f1': 0.45430809399477806}, 'LR': {'acc': 0.30067567567567566, 'f1': 0.4412766848880193}}, 'COST': {'DTree': {'acc': 0.39132915002852253, 'f1': 0.47741791200193257}, 'RandomForest': {'acc': 0.4232743867655448, 'f1': 0.5899247870526919}, 'SVM': {'acc': 0.3240159726183685, 'f1': 0.36869277411960877}, 'LR': {'acc': 0.4232743867655448, 'f1': 0.5941109829470692}}, 'GM': {'DTree': {'acc': 0.31462925851703405, 'f1': 0.3541887269117361}, 'RandomForest': {'acc': 0.36472945891783565, 'f1': 0.3752591891037711}, 'SVM': {'acc': 0.35070140280561124, 'f1': 0.36178292626990916}, 'LR': {'acc': 0.35671342685370744, 'f1': 0.37739760697935115}}, 'GOOG': {'DTree': {'acc': 0.3338129496402878, 'f1': 0.3500118096251971}, 'RandomForest': {'acc': 0.3669064748201439, 'f1': 0.37904531633196764}, 'SVM': {'acc': 0.3107913669064748, 'f1': 0.4652817074807307}, 'LR': {'acc': 0.33093525179856115, 'f1': 0.4616183474819499}}, 'IBM': {'DTree': {'acc': 0.3085250338294993, 'f1': 0.3558788389065213}, 'RandomForest': {'acc': 0.2970230040595399, 'f1': 0.375916710546721}, 'SVM': {'acc': 0.2868741542625169, 'f1': 0.4405559478869258}, 'LR': {'acc': 0.31901217861975645, 'f1': 0.3518110203564168}}, 'JNJ': {'DTree': {'acc': 0.40863309352517985, 'f1': 0.5476845486989435}, 'RandomForest': {'acc': 0.3553956834532374, 'f1': 0.3800822168007079}, 'SVM': {'acc': 0.39136690647482014, 'f1': 0.44429637666944727}, 'LR': {'acc': 0.3697841726618705, 'f1': 0.38773871687598765}}, 'KO': {'DTree': {'acc': 0.31366906474820144, 'f1': 0.3301830112809047}, 'RandomForest': {'acc': 0.37553956834532376, 'f1': 0.481314944491378}, 'SVM': {'acc': 0.39568345323741005, 'f1': 0.553672940016056}, 'LR': {'acc': 0.38848920863309355, 'f1': 0.5410488756965263}}, 'PEP': {'DTree': {'acc': 0.31237322515212984, 'f1': 0.32039002282472145}, 'RandomForest': {'acc': 0.29452332657200814, 'f1': 0.362476892031634}, 'SVM': {'acc': 0.3050709939148073, 'f1': 0.328508313247825}, 'LR': {'acc': 0.4766734279918864, 'f1': 0.6343784758328579}}, 'TSLA': {'DTree': {'acc': 0.2928709055876686, 'f1': 0.28314072712546606}, 'RandomForest': {'acc': 0.3352601156069364, 'f1': 0.31777508389633813}, 'SVM': {'acc': 0.15221579961464354, 'f1': 0.26421404682274247}, 'LR': {'acc': 0.18882466281310212, 'f1': 0.23012691454438278}}, 'WMT': {'DTree': {'acc': 0.2762589928057554, 'f1': 0.3741872504302396}, 'RandomForest': {'acc': 0.31798561151079136, 'f1': 0.36972390650900755}, 'SVM': {'acc': 0.30935251798561153, 'f1': 0.3397132228345593}, 'LR': {'acc': 0.3726618705035971, 'f1': 0.46351139726117785}}, 'XOM': {'DTree': {'acc': 0.33525179856115106, 'f1': 0.3518117994979615}, 'RandomForest': {'acc': 0.3424460431654676, 'f1': 0.36254869014603497}, 'SVM': {'acc': 0.2892086330935252, 'f1': 0.34860436091477776}, 'LR': {'acc': 0.33093525179856115, 'f1': 0.38855043870828254}}}, 50: {'AAL': {'DTree': {'acc': 0.274310595065312, 'f1': 0.28177687058680223}, 'RandomForest': {'acc': 0.3265602322206096, 'f1': 0.3425449200927423}, 'SVM': {'acc': 0.36574746008708275, 'f1': 0.4337162915581097}, 'LR': {'acc': 0.23367198838896952, 'f1': 0.2590324961167384}}, 'AAPL': {'DTree': {'acc': 0.3483309143686502, 'f1': 0.35887373674776557}, 'RandomForest': {'acc': 0.2772133526850508, 'f1': 0.3761518847308607}, 'SVM': {'acc': 0.3468795355587808, 'f1': 0.39147639848344234}, 'LR': {'acc': 0.262699564586357, 'f1': 0.41609195402298843}}, 'AMZN': {'DTree': {'acc': 0.3062409288824383, 'f1': 0.393549038253007}, 'RandomForest': {'acc': 0.28592162554426703, 'f1': 0.32996941115307343}, 'SVM': {'acc': 0.3671988388969521, 'f1': 0.387678509733373}, 'LR': {'acc': 0.26705370101596515, 'f1': 0.4215349369988545}}, 'CMCSA': {'DTree': {'acc': 0.3586640851887706, 'f1': 0.4221044136226129}, 'RandomForest': {'acc': 0.3586640851887706, 'f1': 0.3801640757093359}, 'SVM': {'acc': 0.3547918683446273, 'f1': 0.5237584851732761}, 'LR': {'acc': 0.29864472410454984, 'f1': 0.4275848367094773}}, 'COST': {'DTree': {'acc': 0.4241556954779622, 'f1': 0.5956591639871383}, 'RandomForest': {'acc': 0.4241556954779622, 'f1': 0.5956591639871383}, 'SVM': {'acc': 0.42358328563251285, 'f1': 0.5947538534092219}, 'LR': {'acc': 0.42358328563251285, 'f1': 0.5947538534092219}}, 'GM': {'DTree': {'acc': 0.31643002028397565, 'f1': 0.3457210680128422}, 'RandomForest': {'acc': 0.3286004056795132, 'f1': 0.3270551611449177}, 'SVM': {'acc': 0.36511156186612576, 'f1': 0.3859249327927854}, 'LR': {'acc': 0.359026369168357, 'f1': 0.3860251951589846}}, 'GOOG': {'DTree': {'acc': 0.36284470246734396, 'f1': 0.380957012627466}, 'RandomForest': {'acc': 0.3918722786647315, 'f1': 0.4072045591331988}, 'SVM': {'acc': 0.39332365747460085, 'f1': 0.46332220059942913}, 'LR': {'acc': 0.32075471698113206, 'f1': 0.44324300120270677}}, 'IBM': {'DTree': {'acc': 0.3, 'f1': 0.36748511802831335}, 'RandomForest': {'acc': 0.2976271186440678, 'f1': 0.37711010616367924}, 'SVM': {'acc': 0.29389830508474574, 'f1': 0.369322365469918}, 'LR': {'acc': 0.3, 'f1': 0.4002451556798624}}, 'JNJ': {'DTree': {'acc': 0.37590711175616837, 'f1': 0.3897831331192352}, 'RandomForest': {'acc': 0.39332365747460085, 'f1': 0.4077193655786134}, 'SVM': {'acc': 0.3309143686502177, 'f1': 0.33408635851249957}, 'LR': {'acc': 0.32946298984034833, 'f1': 0.3408693901270976}}, 'KO': {'DTree': {'acc': 0.35123367198838895, 'f1': 0.3891983745059397}, 'RandomForest': {'acc': 0.38316400580551524, 'f1': 0.507000030579337}, 'SVM': {'acc': 0.3875181422351234, 'f1': 0.5585774058577406}, 'LR': {'acc': 0.3875181422351234, 'f1': 0.556058286819019}}, 'PEP': {'DTree': {'acc': 0.4575030500203335, 'f1': 0.5909689886692653}, 'RandomForest': {'acc': 0.4648230988206588, 'f1': 0.5873110442452946}, 'SVM': {'acc': 0.30866205774705163, 'f1': 0.3500280028689081}, 'LR': {'acc': 0.4758031720211468, 'f1': 0.6103569105713084}}, 'TSLA': {'DTree': {'acc': 0.23196881091617932, 'f1': 0.2676088744357756}, 'RandomForest': {'acc': 0.2709551656920078, 'f1': 0.2652130863928474}, 'SVM': {'acc': 0.15009746588693956, 'f1': 0.26101694915254237}, 'LR': {'acc': 0.17153996101364521, 'f1': 0.24574548712158012}}, 'WMT': {'DTree': {'acc': 0.2946298984034833, 'f1': 0.4013902886782375}, 'RandomForest': {'acc': 0.28592162554426703, 'f1': 0.32889950116216643}, 'SVM': {'acc': 0.29753265602322204, 'f1': 0.33252036715014616}, 'LR': {'acc': 0.3686502177068215, 'f1': 0.4378450955954786}}, 'XOM': {'DTree': {'acc': 0.2714078374455733, 'f1': 0.3250714777484585}, 'RandomForest': {'acc': 0.29898403483309144, 'f1': 0.3312849172494378}, 'SVM': {'acc': 0.29172714078374457, 'f1': 0.33207230713910874}, 'LR': {'acc': 0.3033381712626996, 'f1': 0.36566576596451883}}}}\n"
     ]
    }
   ],
   "source": [
    "print(predict_n_metrics_dict)"
   ]
  },
  {
   "cell_type": "code",
   "execution_count": 93,
   "id": "saved-onion",
   "metadata": {},
   "outputs": [],
   "source": [
    "import json\n",
    "\n",
    "with open(\"metrics/metrics_dict.txt\", 'w') as f:\n",
    "    json.dump(predict_n_metrics_dict, f)"
   ]
  },
  {
   "cell_type": "code",
   "execution_count": null,
   "id": "hawaiian-combination",
   "metadata": {},
   "outputs": [],
   "source": [
    "#print(quot_metrics_dict)\n",
    "\n",
    "for quot, classifiers in quot_metrics_dict.items():\n",
    "    print(f\"[{quot}]\")\n",
    "    for label, metrics in classifiers.items():\n",
    "        print(f\"\\t[{label}] : acc :  {metrics['acc']:.2f}, f1 : {metrics['f1']:.2f}\")\n",
    "    \n",
    "    print(\"\\n\")\n"
   ]
  },
  {
   "cell_type": "code",
   "execution_count": 90,
   "id": "three-village",
   "metadata": {},
   "outputs": [],
   "source": [
    "for predict_n, quot_metrics in predict_n_metrics_dict.items():\n",
    "    metrics_df = pd.DataFrame.from_dict(quot_metrics).T\n",
    "    acc_df = metrics_df.applymap(lambda metrics: metrics['acc'])\n",
    "    f1_df = metrics_df.applymap(lambda metrics: metrics['f1'])\n",
    "    plt.figure()\n",
    "    acc_heatmap = sns.heatmap(acc_df, cmap ='mako', linewidths = 0.5, annot = True)\n",
    "    acc_heatmap.figure.savefig(f\"metrics/{predict_n}_acc.png\")\n",
    "    plt.close()\n",
    "    plt.figure()\n",
    "    f1_heatmap = sns.heatmap(f1_df, cmap ='mako', linewidths = 0.5, annot = True)\n",
    "    f1_heatmap.figure.savefig(f\"metrics/{predict_n}_f1.png\")\n",
    "    plt.close()"
   ]
  },
  {
   "cell_type": "code",
   "execution_count": null,
   "id": "jewish-flour",
   "metadata": {},
   "outputs": [],
   "source": [
    "metrics_df = pd.DataFrame.from_dict(quot_metrics_dict).T\n",
    "acc_df = metrics_df.applymap(lambda metrics: metrics['acc'])\n",
    "f1_df = metrics_df.applymap(lambda metrics: metrics['f1'])"
   ]
  },
  {
   "cell_type": "code",
   "execution_count": null,
   "id": "cellular-orange",
   "metadata": {},
   "outputs": [],
   "source": [
    "sns.heatmap(acc_df, cmap ='mako', linewidths = 0.5, annot = True)"
   ]
  },
  {
   "cell_type": "code",
   "execution_count": null,
   "id": "foster-theology",
   "metadata": {},
   "outputs": [],
   "source": [
    "from sklearn import tree\n",
    "from sklearn.tree import export_text\n",
    "dtree = clf_dict['DTree']\n",
    "\n",
    "#print(dtree.feature_importances_)\n",
    "tree.plot_tree(dtree)\n",
    "\n",
    "#print(dtree.tree_.feature)\n",
    "\n",
    "\n",
    "\n",
    "rules = export_text(dtree, feature_names=(data_columns))\n",
    "\n",
    "print(rules)"
   ]
  },
  {
   "cell_type": "code",
   "execution_count": null,
   "id": "flexible-advertising",
   "metadata": {},
   "outputs": [],
   "source": []
  }
 ],
 "metadata": {
  "kernelspec": {
   "display_name": "Python 3",
   "language": "python",
   "name": "python3"
  },
  "language_info": {
   "codemirror_mode": {
    "name": "ipython",
    "version": 3
   },
   "file_extension": ".py",
   "mimetype": "text/x-python",
   "name": "python",
   "nbconvert_exporter": "python",
   "pygments_lexer": "ipython3",
   "version": "3.7.7"
  }
 },
 "nbformat": 4,
 "nbformat_minor": 5
}
