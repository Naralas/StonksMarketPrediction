{
 "cells": [
  {
   "cell_type": "code",
   "execution_count": 4,
   "id": "grand-exhaust",
   "metadata": {},
   "outputs": [],
   "source": [
    "%load_ext autoreload\n",
    "%autoreload 2\n",
    "\n",
    "from notebook_config import setup_notebook\n",
    "import matplotlib.pyplot as plt\n",
    "import numpy as np\n",
    "from tqdm.notebook import tqdm\n",
    "\n",
    "setup_notebook()"
   ]
  },
  {
   "cell_type": "code",
   "execution_count": 5,
   "id": "exempt-bullet",
   "metadata": {},
   "outputs": [],
   "source": [
    "from datasets.stocks_data_wrapper import StocksDataWrapper\n",
    "from helpers.data_helper import *\n",
    "from helpers.plots_helper import *"
   ]
  },
  {
   "cell_type": "code",
   "execution_count": 6,
   "id": "perceived-hello",
   "metadata": {},
   "outputs": [],
   "source": [
    "DATA_PATH = '../data/'\n",
    "FILE_SUFFIX='.txt'\n",
    "\n",
    "quotation = 'GOOG'\n",
    "price_column = 'Close'\n",
    "project_label='KerasLSTMClassification'\n",
    "\n",
    "predict_n = 5\n",
    "\n",
    "THRESH_DIFF = 0.005"
   ]
  },
  {
   "cell_type": "code",
   "execution_count": 7,
   "id": "spread-recording",
   "metadata": {},
   "outputs": [
    {
     "data": {
      "text/html": [
       "<div>\n",
       "<style scoped>\n",
       "    .dataframe tbody tr th:only-of-type {\n",
       "        vertical-align: middle;\n",
       "    }\n",
       "\n",
       "    .dataframe tbody tr th {\n",
       "        vertical-align: top;\n",
       "    }\n",
       "\n",
       "    .dataframe thead th {\n",
       "        text-align: right;\n",
       "    }\n",
       "</style>\n",
       "<table border=\"1\" class=\"dataframe\">\n",
       "  <thead>\n",
       "    <tr style=\"text-align: right;\">\n",
       "      <th></th>\n",
       "      <th>Date</th>\n",
       "      <th>Open</th>\n",
       "      <th>High</th>\n",
       "      <th>Low</th>\n",
       "      <th>Close</th>\n",
       "      <th>Volume</th>\n",
       "      <th>Adjusted</th>\n",
       "      <th>LowLen</th>\n",
       "      <th>RSI(14)</th>\n",
       "      <th>GAP</th>\n",
       "      <th>...</th>\n",
       "      <th>SMA(10)</th>\n",
       "      <th>SMA(20)</th>\n",
       "      <th>EMA(14)</th>\n",
       "      <th>EMA_Diff</th>\n",
       "      <th>SMA(20) - SMA(10)</th>\n",
       "      <th>Difference</th>\n",
       "      <th>PercentageDiff</th>\n",
       "      <th>Tendency</th>\n",
       "      <th>NextPrice</th>\n",
       "      <th>Next</th>\n",
       "    </tr>\n",
       "  </thead>\n",
       "  <tbody>\n",
       "    <tr>\n",
       "      <th>0</th>\n",
       "      <td>2007-02-21</td>\n",
       "      <td>0.060976</td>\n",
       "      <td>0.060866</td>\n",
       "      <td>0.064614</td>\n",
       "      <td>0.064011</td>\n",
       "      <td>0.242089</td>\n",
       "      <td>0.064011</td>\n",
       "      <td>0.016911</td>\n",
       "      <td>0.433593</td>\n",
       "      <td>0.009099</td>\n",
       "      <td>...</td>\n",
       "      <td>0.057511</td>\n",
       "      <td>0.057771</td>\n",
       "      <td>0.056349</td>\n",
       "      <td>0.581840</td>\n",
       "      <td>0.462882</td>\n",
       "      <td>0.541105</td>\n",
       "      <td>0.392573</td>\n",
       "      <td>higher</td>\n",
       "      <td>0.056271</td>\n",
       "      <td>stay</td>\n",
       "    </tr>\n",
       "    <tr>\n",
       "      <th>1</th>\n",
       "      <td>2007-02-22</td>\n",
       "      <td>0.063578</td>\n",
       "      <td>0.062483</td>\n",
       "      <td>0.066563</td>\n",
       "      <td>0.064008</td>\n",
       "      <td>0.246524</td>\n",
       "      <td>0.064008</td>\n",
       "      <td>0.011757</td>\n",
       "      <td>0.433481</td>\n",
       "      <td>0.011394</td>\n",
       "      <td>...</td>\n",
       "      <td>0.057686</td>\n",
       "      <td>0.057418</td>\n",
       "      <td>0.056519</td>\n",
       "      <td>0.580973</td>\n",
       "      <td>0.458111</td>\n",
       "      <td>0.533703</td>\n",
       "      <td>0.367303</td>\n",
       "      <td>stay</td>\n",
       "      <td>0.055913</td>\n",
       "      <td>stay</td>\n",
       "    </tr>\n",
       "    <tr>\n",
       "      <th>2</th>\n",
       "      <td>2007-02-23</td>\n",
       "      <td>0.062714</td>\n",
       "      <td>0.060363</td>\n",
       "      <td>0.064631</td>\n",
       "      <td>0.062475</td>\n",
       "      <td>0.166584</td>\n",
       "      <td>0.062475</td>\n",
       "      <td>0.022709</td>\n",
       "      <td>0.375610</td>\n",
       "      <td>0.000403</td>\n",
       "      <td>...</td>\n",
       "      <td>0.057673</td>\n",
       "      <td>0.057153</td>\n",
       "      <td>0.056455</td>\n",
       "      <td>0.573359</td>\n",
       "      <td>0.455835</td>\n",
       "      <td>0.523453</td>\n",
       "      <td>0.332589</td>\n",
       "      <td>lower</td>\n",
       "      <td>0.053115</td>\n",
       "      <td>lower</td>\n",
       "    </tr>\n",
       "    <tr>\n",
       "      <th>3</th>\n",
       "      <td>2007-02-26</td>\n",
       "      <td>0.061855</td>\n",
       "      <td>0.059868</td>\n",
       "      <td>0.063444</td>\n",
       "      <td>0.060808</td>\n",
       "      <td>0.170334</td>\n",
       "      <td>0.060808</td>\n",
       "      <td>0.009503</td>\n",
       "      <td>0.318246</td>\n",
       "      <td>0.008897</td>\n",
       "      <td>...</td>\n",
       "      <td>0.057764</td>\n",
       "      <td>0.056684</td>\n",
       "      <td>0.056171</td>\n",
       "      <td>0.566155</td>\n",
       "      <td>0.450778</td>\n",
       "      <td>0.522550</td>\n",
       "      <td>0.329110</td>\n",
       "      <td>lower</td>\n",
       "      <td>0.053780</td>\n",
       "      <td>higher</td>\n",
       "    </tr>\n",
       "    <tr>\n",
       "      <th>4</th>\n",
       "      <td>2007-02-27</td>\n",
       "      <td>0.056611</td>\n",
       "      <td>0.055376</td>\n",
       "      <td>0.058584</td>\n",
       "      <td>0.056072</td>\n",
       "      <td>0.399807</td>\n",
       "      <td>0.056072</td>\n",
       "      <td>0.012885</td>\n",
       "      <td>0.189966</td>\n",
       "      <td>0.039978</td>\n",
       "      <td>...</td>\n",
       "      <td>0.057480</td>\n",
       "      <td>0.056021</td>\n",
       "      <td>0.055274</td>\n",
       "      <td>0.546148</td>\n",
       "      <td>0.447407</td>\n",
       "      <td>0.501991</td>\n",
       "      <td>0.257379</td>\n",
       "      <td>lower</td>\n",
       "      <td>0.058645</td>\n",
       "      <td>higher</td>\n",
       "    </tr>\n",
       "  </tbody>\n",
       "</table>\n",
       "<p>5 rows × 32 columns</p>\n",
       "</div>"
      ],
      "text/plain": [
       "         Date      Open      High       Low     Close    Volume  Adjusted  \\\n",
       "0  2007-02-21  0.060976  0.060866  0.064614  0.064011  0.242089  0.064011   \n",
       "1  2007-02-22  0.063578  0.062483  0.066563  0.064008  0.246524  0.064008   \n",
       "2  2007-02-23  0.062714  0.060363  0.064631  0.062475  0.166584  0.062475   \n",
       "3  2007-02-26  0.061855  0.059868  0.063444  0.060808  0.170334  0.060808   \n",
       "4  2007-02-27  0.056611  0.055376  0.058584  0.056072  0.399807  0.056072   \n",
       "\n",
       "     LowLen   RSI(14)       GAP  ...   SMA(10)   SMA(20)   EMA(14)  EMA_Diff  \\\n",
       "0  0.016911  0.433593  0.009099  ...  0.057511  0.057771  0.056349  0.581840   \n",
       "1  0.011757  0.433481  0.011394  ...  0.057686  0.057418  0.056519  0.580973   \n",
       "2  0.022709  0.375610  0.000403  ...  0.057673  0.057153  0.056455  0.573359   \n",
       "3  0.009503  0.318246  0.008897  ...  0.057764  0.056684  0.056171  0.566155   \n",
       "4  0.012885  0.189966  0.039978  ...  0.057480  0.056021  0.055274  0.546148   \n",
       "\n",
       "   SMA(20) - SMA(10)  Difference  PercentageDiff  Tendency  NextPrice    Next  \n",
       "0           0.462882    0.541105        0.392573    higher   0.056271    stay  \n",
       "1           0.458111    0.533703        0.367303      stay   0.055913    stay  \n",
       "2           0.455835    0.523453        0.332589     lower   0.053115   lower  \n",
       "3           0.450778    0.522550        0.329110     lower   0.053780  higher  \n",
       "4           0.447407    0.501991        0.257379     lower   0.058645  higher  \n",
       "\n",
       "[5 rows x 32 columns]"
      ]
     },
     "execution_count": 7,
     "metadata": {},
     "output_type": "execute_result"
    }
   ],
   "source": [
    "data_wrapper = StocksDataWrapper.read_from(file_path=f\"{DATA_PATH}{quotation}{FILE_SUFFIX}\", thresh_diff=THRESH_DIFF,\n",
    "                                           compute_features=True, predict_n=predict_n, normalize=True)\n",
    "\n",
    "data_wrapper.head()"
   ]
  },
  {
   "cell_type": "code",
   "execution_count": 8,
   "id": "committed-memorabilia",
   "metadata": {},
   "outputs": [
    {
     "data": {
      "text/plain": [
       "(5, 6)"
      ]
     },
     "execution_count": 8,
     "metadata": {},
     "output_type": "execute_result"
    }
   ],
   "source": [
    "y_column = 'Next'\n",
    "seq_len = 5\n",
    "n_splits=5\n",
    "val_size = 0.2\n",
    "\n",
    "features = ['Volume', 'Close', 'LowLen', 'Difference', 'SMA(20) - SMA(10)', 'BG_H_Band_Indicator', 'MACD']\n",
    "datasets_splits = data_wrapper.get_datasets(n_splits=n_splits, val_size=val_size, sequences=True, seq_len=5, y_column=y_column, features_list=features)\n",
    "\n",
    "datasets_splits.shape"
   ]
  },
  {
   "cell_type": "code",
   "execution_count": 9,
   "id": "healthy-carroll",
   "metadata": {},
   "outputs": [
    {
     "data": {
      "text/plain": [
       "<AxesSubplot:>"
      ]
     },
     "execution_count": 9,
     "metadata": {},
     "output_type": "execute_result"
    },
    {
     "data": {
      "image/png": "[encoded data removed]",
      "text/plain": [
       "<Figure size 1440x576 with 1 Axes>"
      ]
     },
     "metadata": {},
     "output_type": "display_data"
    }
   ],
   "source": [
    "data_wrapper[y_column].hist()"
   ]
  },
  {
   "cell_type": "code",
   "execution_count": 31,
   "id": "minimal-exclusive",
   "metadata": {},
   "outputs": [],
   "source": [
    "PERFORM_GRID_SEARCH = True\n",
    "MAX_SIZE = 5000\n",
    "n_splits=5\n",
    "\n",
    "quotations = ['AAL', 'AAPL', 'AMZN','CMCSA', 'COST', 'GM', 'GOOG', 'IBM', 'JNJ', 'KO','PEP', 'TSLA', 'WMT', 'XOM']\n",
    "days_predict_feature_set = {\n",
    "    1:['Volume', 'Close', 'LowLen', 'Difference', 'BG_L_Band', 'GAP', 'MACD_diff'],\n",
    "    5:['Volume', 'Close', 'LowLen', 'Difference', 'SMA(20) - SMA(10)', 'BG_H_Band_Indicator', 'MACD'],\n",
    "    10:['Volume', 'Close', 'BodyLen', 'Difference', 'SMA(20) - SMA(10)', 'EMA_Diff', 'MACD_diff'],\n",
    "    20:['Volume', 'Close', 'LowLen', 'Difference', 'EMA(14)', 'BG_H_Band', 'MACD_diff'],\n",
    "    50:['Volume', 'Close', 'LowLen', 'Difference', 'BG_L_Band','GAP','MACD_diff'],\n",
    "}\n",
    "\n",
    "#quotations=['CMCSA']\n",
    "#days_predict_feature_set = {1:days_predict_feature_set[1]}"
   ]
  },
  {
   "cell_type": "code",
   "execution_count": 32,
   "id": "funky-indie",
   "metadata": {},
   "outputs": [],
   "source": [
    "predict_n_metrics_dict = {}"
   ]
  },
  {
   "cell_type": "code",
   "execution_count": 34,
   "id": "received-logic",
   "metadata": {},
   "outputs": [
    {
     "data": {
      "application/vnd.jupyter.widget-view+json": {
       "model_id": "f6e2174a22db453e9ed4f4521a8d6e93",
       "version_major": 2,
       "version_minor": 0
      },
      "text/plain": [
       "  0%|          | 0/5 [00:00<?, ?it/s]"
      ]
     },
     "metadata": {},
     "output_type": "display_data"
    },
    {
     "data": {
      "application/vnd.jupyter.widget-view+json": {
       "model_id": "dcc1355c4f854762bdaec5fec5b97c93",
       "version_major": 2,
       "version_minor": 0
      },
      "text/plain": [
       "  0%|          | 0/14 [00:00<?, ?it/s]"
      ]
     },
     "metadata": {},
     "output_type": "display_data"
    },
    {
     "data": {
      "application/vnd.jupyter.widget-view+json": {
       "model_id": "cba5877ef3904458a3eca88f07d84d46",
       "version_major": 2,
       "version_minor": 0
      },
      "text/plain": [
       "  0%|          | 0/14 [00:00<?, ?it/s]"
      ]
     },
     "metadata": {},
     "output_type": "display_data"
    },
    {
     "data": {
      "application/vnd.jupyter.widget-view+json": {
       "model_id": "b313f98b5a2b4c81b420465a1fdadb82",
       "version_major": 2,
       "version_minor": 0
      },
      "text/plain": [
       "  0%|          | 0/14 [00:00<?, ?it/s]"
      ]
     },
     "metadata": {},
     "output_type": "display_data"
    },
    {
     "data": {
      "application/vnd.jupyter.widget-view+json": {
       "model_id": "b68ed44d36374b36a9e8cff30312b75c",
       "version_major": 2,
       "version_minor": 0
      },
      "text/plain": [
       "  0%|          | 0/14 [00:00<?, ?it/s]"
      ]
     },
     "metadata": {},
     "output_type": "display_data"
    },
    {
     "data": {
      "application/vnd.jupyter.widget-view+json": {
       "model_id": "20f149ff27d449daa7a9c444fe593e5c",
       "version_major": 2,
       "version_minor": 0
      },
      "text/plain": [
       "  0%|          | 0/14 [00:00<?, ?it/s]"
      ]
     },
     "metadata": {},
     "output_type": "display_data"
    }
   ],
   "source": [
    "from keras.preprocessing import timeseries_dataset_from_array as build_timeseries_ds\n",
    "from trainers.keras_classification_trainer import KerasClassificationTrainer\n",
    "from models.keras_lstm_model import LSTMModel\n",
    "import tensorflow as tf\n",
    "\n",
    "\n",
    "config_dict = dict(\n",
    "    quotation=quotation,\n",
    "    predict_n = predict_n,\n",
    "    features=features,\n",
    "    learning_rate = 0.01,\n",
    "    batch_size = 32,\n",
    "    sequence_length=seq_len,\n",
    "    n_epochs = 100,\n",
    "    n_splits = n_splits,\n",
    "    val_size = val_size,\n",
    ")\n",
    "\n",
    "for predict_n, features_list in tqdm(days_predict_feature_set.items()):\n",
    "    quot_metrics_dict = {}\n",
    "    for quot in tqdm(quotations):\n",
    "        data_wrapper = StocksDataWrapper.read_from(f\"{DATA_PATH}{quot}{FILE_SUFFIX}\", \n",
    "                                                   compute_features=True, \n",
    "                                                   predict_n=predict_n, \n",
    "                                                   thresh_diff=0.005, normalize=True)\n",
    "        config_dict['quotation'] = quot\n",
    "\n",
    "\n",
    "        X_train, X_test, y_train, y_test = data_wrapper.get_datasets(n_splits=1, val_size=0.2, \n",
    "                                                                     y_column='Next', sequences=True, seq_len=5,\n",
    "                                                                     features_list=features_list)\n",
    "        n_classes = len(np.unique(y_train))\n",
    "    \n",
    "        train_set = tf.data.Dataset.from_tensor_slices((X_train, y_train)).batch(config_dict['batch_size'])\n",
    "        test_set = tf.data.Dataset.from_tensor_slices((X_test, y_test)).batch(config_dict['batch_size'])\n",
    "\n",
    "        model = LSTMModel(config_dict, seq_len, len(features), output_dim=len(np.unique(y_train)),\n",
    "                          learning_rate=config_dict['learning_rate'], loss='sparse_categorical_crossentropy', metrics=['accuracy'])\n",
    "        trainer = KerasClassificationTrainer(model, use_wandb=False, project_label=project_label)\n",
    "        trainer.train(train_set)\n",
    "        \n",
    "        metrics = trainer.evaluate(test_set)\n",
    "        label_dict = {'LSTM':metrics}\n",
    "        quot_metrics_dict[quot] = label_dict\n",
    "        \n",
    "    predict_n_metrics_dict[predict_n] = quot_metrics_dict.copy()\n",
    "        "
   ]
  },
  {
   "cell_type": "code",
   "execution_count": 35,
   "id": "consecutive-kruger",
   "metadata": {},
   "outputs": [
    {
     "name": "stdout",
     "output_type": "stream",
     "text": [
      "{1: {'AAL': {'LSTM': {'acc': 0.4383954154727794, 'f1': 0.26722907795751094}}, 'AAPL': {'LSTM': {'acc': 0.4297994269340974, 'f1': 0.2583964490585756}}, 'AMZN': {'LSTM': {'acc': 0.26504297994269344, 'f1': 0.11105991232026792}}, 'CMCSA': {'LSTM': {'acc': 0.37204819277108436, 'f1': 0.289839495706389}}, 'COST': {'LSTM': {'acc': 0.25569476082004555, 'f1': 0.10413328581242673}}, 'GM': {'LSTM': {'acc': 0.250996015936255, 'f1': 0.10071814652219149}}, 'GOOG': {'LSTM': {'acc': 0.3037249283667622, 'f1': 0.14151579079945842}}, 'IBM': {'LSTM': {'acc': 0.28658330517066577, 'f1': 0.12767146981073}}, 'JNJ': {'LSTM': {'acc': 0.3151862464183381, 'f1': 0.1510696605926675}}, 'KO': {'LSTM': {'acc': 0.27507163323782235, 'f1': 0.1692161097059886}}, 'PEP': {'LSTM': {'acc': 0.24108589951377635, 'f1': 0.09366380033346192}}, 'TSLA': {'LSTM': {'acc': 0.37547892720306514, 'f1': 0.20499685162061493}}, 'WMT': {'LSTM': {'acc': 0.31805157593123207, 'f1': 0.15349445621029026}}, 'XOM': {'LSTM': {'acc': 0.3510028653295129, 'f1': 0.1823874909983683}}}, 5: {'AAL': {'LSTM': {'acc': 0.16355810616929697, 'f1': 0.04598181036572098}}, 'AAPL': {'LSTM': {'acc': 0.430416068866571, 'f1': 0.2590267214843958}}, 'AMZN': {'LSTM': {'acc': 0.40889526542324245, 'f1': 0.23734246567336884}}, 'CMCSA': {'LSTM': {'acc': 0.29508196721311475, 'f1': 0.13446773189458397}}, 'COST': {'LSTM': {'acc': 0.42621082621082623, 'f1': 0.2547388717584483}}, 'GM': {'LSTM': {'acc': 0.3932135728542914, 'f1': 0.2219572316684682}}, 'GOOG': {'LSTM': {'acc': 0.37733142037302725, 'f1': 0.3066330939328056}}, 'IBM': {'LSTM': {'acc': 0.4033130493576741, 'f1': 0.23182484600515785}}, 'JNJ': {'LSTM': {'acc': 0.4131994261119082, 'f1': 0.24162727861975547}}, 'KO': {'LSTM': {'acc': 0.38880918220946914, 'f1': 0.2177010090470375}}, 'PEP': {'LSTM': {'acc': 0.4803404945277665, 'f1': 0.31172151479485394}}, 'TSLA': {'LSTM': {'acc': 0.14971209213051823, 'f1': 0.038990127499767685}}, 'WMT': {'LSTM': {'acc': 0.3586800573888092, 'f1': 0.29451237176459893}}, 'XOM': {'LSTM': {'acc': 0.351506456241033, 'f1': 0.18284306110202353}}}, 10: {'AAL': {'LSTM': {'acc': 0.39798850574712646, 'f1': 0.22660393852405764}}, 'AAPL': {'LSTM': {'acc': 0.43103448275862066, 'f1': 0.2596593269630245}}, 'AMZN': {'LSTM': {'acc': 0.2629310344827586, 'f1': 0.11007806676866345}}, 'CMCSA': {'LSTM': {'acc': 0.3535938253738543, 'f1': 0.1847357619380151}}, 'COST': {'LSTM': {'acc': 0.3181299885974915, 'f1': 0.15356101525726662}}, 'GM': {'LSTM': {'acc': 0.356, 'f1': 0.18692625368731566}}, 'GOOG': {'LSTM': {'acc': 0.3031609195402299, 'f1': 0.1410517178015182}}, 'IBM': {'LSTM': {'acc': 0.3101115995941833, 'f1': 0.14681070564164486}}, 'JNJ': {'LSTM': {'acc': 0.3146551724137931, 'f1': 0.15062182023742227}}, 'KO': {'LSTM': {'acc': 0.3879310344827586, 'f1': 0.216855857785393}}, 'PEP': {'LSTM': {'acc': 0.4805352798053528, 'f1': 0.31193333693198744}}, 'TSLA': {'LSTM': {'acc': 0.375, 'f1': 0.20454545454545453}}, 'WMT': {'LSTM': {'acc': 0.40373563218390807, 'f1': 0.23224096754079462}}, 'XOM': {'LSTM': {'acc': 0.39080459770114945, 'f1': 0.21962572432791871}}}, 20: {'AAL': {'LSTM': {'acc': 0.4034582132564842, 'f1': 0.2662953960686062}}, 'AAPL': {'LSTM': {'acc': 0.260806916426513, 'f1': 0.10789954713874024}}, 'AMZN': {'LSTM': {'acc': 0.3242074927953891, 'f1': 0.1587523087681448}}, 'CMCSA': {'LSTM': {'acc': 0.35200386286817964, 'f1': 0.18329344002207354}}, 'COST': {'LSTM': {'acc': 0.4257990867579909, 'f1': 0.2543203512581755}}, 'GM': {'LSTM': {'acc': 0.25100401606425704, 'f1': 0.10072392297923637}}, 'GOOG': {'LSTM': {'acc': 0.3904899135446686, 'f1': 0.21932179600125426}}, 'IBM': {'LSTM': {'acc': 0.40338409475465314, 'f1': 0.2318947870496969}}, 'JNJ': {'LSTM': {'acc': 0.27089337175792505, 'f1': 0.11548288864056669}}, 'KO': {'LSTM': {'acc': 0.38904899135446686, 'f1': 0.2179320076051993}}, 'PEP': {'LSTM': {'acc': 0.24025974025974026, 'f1': 0.09308492554565853}}, 'TSLA': {'LSTM': {'acc': 0.3764478764478765, 'f1': 0.20591118066573888}}, 'WMT': {'LSTM': {'acc': 0.4048991354466859, 'f1': 0.23338801448311536}}, 'XOM': {'LSTM': {'acc': 0.3515850144092219, 'f1': 0.18291416527899818}}}, 50: {'AAL': {'LSTM': {'acc': 0.16424418604651161, 'f1': 0.046341056237842224}}, 'AAPL': {'LSTM': {'acc': 0.26308139534883723, 'f1': 0.10959201969652367}}, 'AMZN': {'LSTM': {'acc': 0.26744186046511625, 'f1': 0.11286537230637934}}, 'CMCSA': {'LSTM': {'acc': 0.35205811138014526, 'f1': 0.18334258379180915}}, 'COST': {'LSTM': {'acc': 0.25601374570446733, 'f1': 0.10436675269484441}}, 'GM': {'LSTM': {'acc': 0.35772357723577236, 'f1': 0.1885010466871136}}, 'GOOG': {'LSTM': {'acc': 0.38953488372093026, 'f1': 0.2184003113749149}}, 'IBM': {'LSTM': {'acc': 0.28653780942692436, 'f1': 0.1276354501664476}}, 'JNJ': {'LSTM': {'acc': 0.27180232558139533, 'f1': 0.11617607973421928}}, 'KO': {'LSTM': {'acc': 0.2805232558139535, 'f1': 0.12290803262677193}}, 'PEP': {'LSTM': {'acc': 0.2404393816110659, 'f1': 0.09321067532446045}}, 'TSLA': {'LSTM': {'acc': 0.37890625, 'f1': 0.20823742917847027}}, 'WMT': {'LSTM': {'acc': 0.31540697674418605, 'f1': 0.15125594243864834}}, 'XOM': {'LSTM': {'acc': 0.3502906976744186, 'f1': 0.18174393571482214}}}}\n"
     ]
    }
   ],
   "source": [
    "print(predict_n_metrics_dict)"
   ]
  },
  {
   "cell_type": "markdown",
   "id": "experienced-traffic",
   "metadata": {},
   "source": [
    "### Add to metrics"
   ]
  },
  {
   "cell_type": "code",
   "execution_count": 38,
   "id": "illegal-concrete",
   "metadata": {},
   "outputs": [],
   "source": [
    "import json\n",
    "with open(\"metrics/lstm_metrics_dict.txt\", 'w') as f:\n",
    "    json.dump(predict_n_metrics_dict, f)"
   ]
  },
  {
   "cell_type": "code",
   "execution_count": 39,
   "id": "southwest-niagara",
   "metadata": {},
   "outputs": [],
   "source": [
    "import json\n",
    "with open(\"metrics/full_metrics_dict.txt\", 'r') as f:\n",
    "    previous_metrics = json.load(f)\n",
    "\n",
    "previous_metrics = {int(k):v for k,v in previous_metrics.items()}\n",
    "#previous_metrics"
   ]
  },
  {
   "cell_type": "code",
   "execution_count": 40,
   "id": "organizational-psychology",
   "metadata": {},
   "outputs": [],
   "source": [
    "for predict_n, quot_metrics in previous_metrics.items():\n",
    "    for quot, clf_metrics in quot_metrics.items():\n",
    "        # merge dictionaries\n",
    "        clf_metrics = {**clf_metrics, **predict_n_metrics_dict[predict_n][quot]}\n",
    "        \n",
    "        previous_metrics[predict_n][quot] = clf_metrics\n",
    "        \n",
    "with open(\"metrics/full_metrics_dict.txt\", 'w') as f:\n",
    "    json.dump(previous_metrics, f)"
   ]
  },
  {
   "cell_type": "code",
   "execution_count": 41,
   "id": "cardiovascular-qualification",
   "metadata": {},
   "outputs": [],
   "source": [
    "with open(\"metrics/full_metrics_dict.txt\", 'r') as f:\n",
    "    full_metrics_dict = json.load(f)\n",
    "    for predict_n, quot_metrics in full_metrics_dict.items():\n",
    "        metrics_df = pd.DataFrame.from_dict(quot_metrics).T\n",
    "        acc_df = metrics_df.applymap(lambda metrics: metrics['acc'])\n",
    "        f1_df = metrics_df.applymap(lambda metrics: metrics['f1'])\n",
    "        plt.figure()\n",
    "        acc_heatmap = sns.heatmap(acc_df, cmap ='mako', linewidths = 0.5, annot = True)\n",
    "        acc_heatmap.figure.savefig(f\"metrics/{predict_n}_acc.png\")\n",
    "        plt.close()\n",
    "        plt.figure()\n",
    "        f1_heatmap = sns.heatmap(f1_df, cmap ='mako', linewidths = 0.5, annot = True)\n",
    "        f1_heatmap.figure.savefig(f\"metrics/{predict_n}_f1.png\")\n",
    "        plt.close()"
   ]
  },
  {
   "cell_type": "code",
   "execution_count": null,
   "id": "animal-companion",
   "metadata": {},
   "outputs": [],
   "source": []
  }
 ],
 "metadata": {
  "kernelspec": {
   "display_name": "Python 3",
   "language": "python",
   "name": "python3"
  },
  "language_info": {
   "codemirror_mode": {
    "name": "ipython",
    "version": 3
   },
   "file_extension": ".py",
   "mimetype": "text/x-python",
   "name": "python",
   "nbconvert_exporter": "python",
   "pygments_lexer": "ipython3",
   "version": "3.7.7"
  }
 },
 "nbformat": 4,
 "nbformat_minor": 5
}
