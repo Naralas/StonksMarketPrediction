{
 "cells": [
  {
   "cell_type": "code",
   "execution_count": 1,
   "id": "general-arnold",
   "metadata": {},
   "outputs": [],
   "source": [
    "%load_ext autoreload\n",
    "%autoreload 2\n",
    "\n",
    "import pandas as pd\n",
    "import numpy as np\n",
    "from tqdm.notebook import tqdm\n",
    "import matplotlib.pyplot as plt\n",
    "\n",
    "import sys\n",
    "sys.path.append(\"..\") # Adds higher directory to python modules path.\n",
    "\n",
    "\n",
    "import seaborn as sns\n",
    "import matplotlib\n",
    "\n",
    "plt.rcParams[\"figure.figsize\"] = (20,8)\n",
    "\n",
    "sns.set_theme()\n",
    "\n",
    "font = {'family' : 'DejaVu Sans', 'size'   : 25}\n",
    "\n",
    "matplotlib.rc('font', **font)"
   ]
  },
  {
   "cell_type": "code",
   "execution_count": 2,
   "id": "lesbian-enlargement",
   "metadata": {},
   "outputs": [],
   "source": [
    "from StocksDataWrapper import *\n",
    "from DataHelper import *\n",
    "from Plots import *\n",
    "from DL_utils import *"
   ]
  },
  {
   "cell_type": "code",
   "execution_count": 3,
   "id": "dedicated-slovakia",
   "metadata": {},
   "outputs": [
    {
     "name": "stdout",
     "output_type": "stream",
     "text": [
      "cuda\n"
     ]
    }
   ],
   "source": [
    "import torch\n",
    "device = torch.device('cuda' if torch.cuda.is_available() else 'cpu')\n",
    "#device = torch.device('cpu')\n",
    "print(device)"
   ]
  },
  {
   "cell_type": "markdown",
   "id": "suburban-paint",
   "metadata": {},
   "source": [
    "### Prepare data"
   ]
  },
  {
   "cell_type": "code",
   "execution_count": 4,
   "id": "bridal-scotland",
   "metadata": {},
   "outputs": [],
   "source": [
    "DATA_PATH = '../data/'\n",
    "FILE_SUFFIX='.txt'\n",
    "\n",
    "quotation = 'IBM'\n",
    "price_column = 'Close'\n",
    "project_label='LinearNNRegression'\n",
    "\n",
    "predict_n = 5"
   ]
  },
  {
   "cell_type": "code",
   "execution_count": 5,
   "id": "portable-membership",
   "metadata": {},
   "outputs": [
    {
     "name": "stdout",
     "output_type": "stream",
     "text": [
      "0          7.393333\n",
      "1          7.440000\n",
      "2          7.346667\n",
      "3          7.353333\n",
      "4          7.360000\n",
      "            ...    \n",
      "14826    124.690002\n",
      "14827    124.820000\n",
      "14828    123.800003\n",
      "14829    124.339996\n",
      "14830    125.879997\n",
      "Name: Close, Length: 14831, dtype: float64\n"
     ]
    },
    {
     "data": {
      "text/html": [
       "<div>\n",
       "<style scoped>\n",
       "    .dataframe tbody tr th:only-of-type {\n",
       "        vertical-align: middle;\n",
       "    }\n",
       "\n",
       "    .dataframe tbody tr th {\n",
       "        vertical-align: top;\n",
       "    }\n",
       "\n",
       "    .dataframe thead th {\n",
       "        text-align: right;\n",
       "    }\n",
       "</style>\n",
       "<table border=\"1\" class=\"dataframe\">\n",
       "  <thead>\n",
       "    <tr style=\"text-align: right;\">\n",
       "      <th></th>\n",
       "      <th>Date</th>\n",
       "      <th>Open</th>\n",
       "      <th>High</th>\n",
       "      <th>Low</th>\n",
       "      <th>Close</th>\n",
       "      <th>Adjusted</th>\n",
       "      <th>Volume</th>\n",
       "      <th>LowLen</th>\n",
       "      <th>RSI(14)</th>\n",
       "      <th>GAP</th>\n",
       "      <th>...</th>\n",
       "      <th>SMA(10)</th>\n",
       "      <th>SMA(20)</th>\n",
       "      <th>EMA(14)</th>\n",
       "      <th>EMA_Diff</th>\n",
       "      <th>SMA(20) - SMA(10)</th>\n",
       "      <th>Difference</th>\n",
       "      <th>PercentageDiff</th>\n",
       "      <th>Tendency</th>\n",
       "      <th>NextPrice</th>\n",
       "      <th>Next</th>\n",
       "    </tr>\n",
       "  </thead>\n",
       "  <tbody>\n",
       "    <tr>\n",
       "      <th>0</th>\n",
       "      <td>1962-03-21</td>\n",
       "      <td>-0.969143</td>\n",
       "      <td>-0.970953</td>\n",
       "      <td>-0.968426</td>\n",
       "      <td>-0.969142</td>\n",
       "      <td>-0.989960</td>\n",
       "      <td>-0.992440</td>\n",
       "      <td>-0.994949</td>\n",
       "      <td>0.190050</td>\n",
       "      <td>-1.000000</td>\n",
       "      <td>...</td>\n",
       "      <td>-0.970994</td>\n",
       "      <td>-0.972890</td>\n",
       "      <td>-0.972642</td>\n",
       "      <td>0.226349</td>\n",
       "      <td>-0.211123</td>\n",
       "      <td>0.150097</td>\n",
       "      <td>0.287239</td>\n",
       "      <td>higher</td>\n",
       "      <td>-0.969897</td>\n",
       "      <td>lower</td>\n",
       "    </tr>\n",
       "    <tr>\n",
       "      <th>1</th>\n",
       "      <td>1962-03-22</td>\n",
       "      <td>-0.969333</td>\n",
       "      <td>-0.971331</td>\n",
       "      <td>-0.968933</td>\n",
       "      <td>-0.969897</td>\n",
       "      <td>-0.990206</td>\n",
       "      <td>-0.993088</td>\n",
       "      <td>-1.000000</td>\n",
       "      <td>-0.086189</td>\n",
       "      <td>-0.996718</td>\n",
       "      <td>...</td>\n",
       "      <td>-0.971052</td>\n",
       "      <td>-0.972827</td>\n",
       "      <td>-0.972726</td>\n",
       "      <td>0.222777</td>\n",
       "      <td>-0.210005</td>\n",
       "      <td>0.144423</td>\n",
       "      <td>0.222916</td>\n",
       "      <td>lower</td>\n",
       "      <td>-0.969645</td>\n",
       "      <td>higher</td>\n",
       "    </tr>\n",
       "    <tr>\n",
       "      <th>2</th>\n",
       "      <td>1962-03-23</td>\n",
       "      <td>-0.969774</td>\n",
       "      <td>-0.971457</td>\n",
       "      <td>-0.968870</td>\n",
       "      <td>-0.969645</td>\n",
       "      <td>-0.990124</td>\n",
       "      <td>-0.994600</td>\n",
       "      <td>-1.000000</td>\n",
       "      <td>0.010611</td>\n",
       "      <td>-0.999180</td>\n",
       "      <td>...</td>\n",
       "      <td>-0.971128</td>\n",
       "      <td>-0.972763</td>\n",
       "      <td>-0.972764</td>\n",
       "      <td>0.224308</td>\n",
       "      <td>-0.208694</td>\n",
       "      <td>0.151406</td>\n",
       "      <td>0.302294</td>\n",
       "      <td>higher</td>\n",
       "      <td>-0.969677</td>\n",
       "      <td>lower</td>\n",
       "    </tr>\n",
       "    <tr>\n",
       "      <th>3</th>\n",
       "      <td>1962-03-26</td>\n",
       "      <td>-0.969585</td>\n",
       "      <td>-0.971331</td>\n",
       "      <td>-0.968806</td>\n",
       "      <td>-0.969677</td>\n",
       "      <td>-0.990134</td>\n",
       "      <td>-0.996112</td>\n",
       "      <td>-0.997475</td>\n",
       "      <td>-0.000086</td>\n",
       "      <td>-1.000000</td>\n",
       "      <td>...</td>\n",
       "      <td>-0.971202</td>\n",
       "      <td>-0.972688</td>\n",
       "      <td>-0.972801</td>\n",
       "      <td>0.224334</td>\n",
       "      <td>-0.207308</td>\n",
       "      <td>0.149442</td>\n",
       "      <td>0.279795</td>\n",
       "      <td>lower</td>\n",
       "      <td>-0.970968</td>\n",
       "      <td>lower</td>\n",
       "    </tr>\n",
       "    <tr>\n",
       "      <th>4</th>\n",
       "      <td>1962-03-27</td>\n",
       "      <td>-0.969774</td>\n",
       "      <td>-0.971772</td>\n",
       "      <td>-0.970074</td>\n",
       "      <td>-0.970968</td>\n",
       "      <td>-0.990554</td>\n",
       "      <td>-0.989848</td>\n",
       "      <td>-0.998317</td>\n",
       "      <td>-0.334177</td>\n",
       "      <td>-0.997949</td>\n",
       "      <td>...</td>\n",
       "      <td>-0.971400</td>\n",
       "      <td>-0.972684</td>\n",
       "      <td>-0.973008</td>\n",
       "      <td>0.218572</td>\n",
       "      <td>-0.205430</td>\n",
       "      <td>0.140714</td>\n",
       "      <td>0.180072</td>\n",
       "      <td>lower</td>\n",
       "      <td>-0.970590</td>\n",
       "      <td>higher</td>\n",
       "    </tr>\n",
       "  </tbody>\n",
       "</table>\n",
       "<p>5 rows × 32 columns</p>\n",
       "</div>"
      ],
      "text/plain": [
       "         Date      Open      High       Low     Close  Adjusted    Volume  \\\n",
       "0  1962-03-21 -0.969143 -0.970953 -0.968426 -0.969142 -0.989960 -0.992440   \n",
       "1  1962-03-22 -0.969333 -0.971331 -0.968933 -0.969897 -0.990206 -0.993088   \n",
       "2  1962-03-23 -0.969774 -0.971457 -0.968870 -0.969645 -0.990124 -0.994600   \n",
       "3  1962-03-26 -0.969585 -0.971331 -0.968806 -0.969677 -0.990134 -0.996112   \n",
       "4  1962-03-27 -0.969774 -0.971772 -0.970074 -0.970968 -0.990554 -0.989848   \n",
       "\n",
       "     LowLen   RSI(14)       GAP  ...   SMA(10)   SMA(20)   EMA(14)  EMA_Diff  \\\n",
       "0 -0.994949  0.190050 -1.000000  ... -0.970994 -0.972890 -0.972642  0.226349   \n",
       "1 -1.000000 -0.086189 -0.996718  ... -0.971052 -0.972827 -0.972726  0.222777   \n",
       "2 -1.000000  0.010611 -0.999180  ... -0.971128 -0.972763 -0.972764  0.224308   \n",
       "3 -0.997475 -0.000086 -1.000000  ... -0.971202 -0.972688 -0.972801  0.224334   \n",
       "4 -0.998317 -0.334177 -0.997949  ... -0.971400 -0.972684 -0.973008  0.218572   \n",
       "\n",
       "   SMA(20) - SMA(10)  Difference  PercentageDiff  Tendency  NextPrice    Next  \n",
       "0          -0.211123    0.150097        0.287239    higher  -0.969897   lower  \n",
       "1          -0.210005    0.144423        0.222916     lower  -0.969645  higher  \n",
       "2          -0.208694    0.151406        0.302294    higher  -0.969677   lower  \n",
       "3          -0.207308    0.149442        0.279795     lower  -0.970968   lower  \n",
       "4          -0.205430    0.140714        0.180072     lower  -0.970590  higher  \n",
       "\n",
       "[5 rows x 32 columns]"
      ]
     },
     "execution_count": 5,
     "metadata": {},
     "output_type": "execute_result"
    }
   ],
   "source": [
    "data_wrapper = StocksDataWrapper.read_from(file_path=f\"{DATA_PATH}{quotation}{FILE_SUFFIX}\", \n",
    "                                           compute_features=True, predict_n=predict_n, normalize=True)\n",
    "\n",
    "data_wrapper.head()"
   ]
  },
  {
   "cell_type": "code",
   "execution_count": 6,
   "id": "honey-wisconsin",
   "metadata": {},
   "outputs": [
    {
     "data": {
      "image/png": "[encoded data removed]",
      "text/plain": [
       "<Figure size 1440x576 with 1 Axes>"
      ]
     },
     "metadata": {},
     "output_type": "display_data"
    }
   ],
   "source": [
    "prices = data_wrapper.get_unscaled_data()['Close']\n",
    "plot_prices(price_series=prices, date_series=data_wrapper['Date'], quotation_name=quotation)\n",
    "plt.show()"
   ]
  },
  {
   "cell_type": "code",
   "execution_count": 7,
   "id": "transsexual-probability",
   "metadata": {},
   "outputs": [
    {
     "data": {
      "image/png": "[encoded data removed]",
      "text/plain": [
       "<Figure size 1440x576 with 1 Axes>"
      ]
     },
     "metadata": {},
     "output_type": "display_data"
    }
   ],
   "source": [
    "ax = plot_normalized_histogram(data_wrapper.get_unscaled_data()['Difference'], log_scale=True)"
   ]
  },
  {
   "cell_type": "code",
   "execution_count": 8,
   "id": "subsequent-depth",
   "metadata": {},
   "outputs": [],
   "source": [
    "df = data_wrapper.df\n",
    "feature_names = data_wrapper.feature_names"
   ]
  },
  {
   "cell_type": "code",
   "execution_count": 9,
   "id": "valued-parallel",
   "metadata": {},
   "outputs": [
    {
     "data": {
      "text/html": [
       "<div>\n",
       "<style scoped>\n",
       "    .dataframe tbody tr th:only-of-type {\n",
       "        vertical-align: middle;\n",
       "    }\n",
       "\n",
       "    .dataframe tbody tr th {\n",
       "        vertical-align: top;\n",
       "    }\n",
       "\n",
       "    .dataframe thead th {\n",
       "        text-align: right;\n",
       "    }\n",
       "</style>\n",
       "<table border=\"1\" class=\"dataframe\">\n",
       "  <thead>\n",
       "    <tr style=\"text-align: right;\">\n",
       "      <th></th>\n",
       "      <th>Close</th>\n",
       "      <th>Volume</th>\n",
       "      <th>MACD_diff</th>\n",
       "      <th>RSI(14)</th>\n",
       "      <th>PercentageDiff</th>\n",
       "      <th>LowLen</th>\n",
       "      <th>RSI_diff</th>\n",
       "    </tr>\n",
       "  </thead>\n",
       "  <tbody>\n",
       "    <tr>\n",
       "      <th>0</th>\n",
       "      <td>-0.969142</td>\n",
       "      <td>-0.992440</td>\n",
       "      <td>0.092956</td>\n",
       "      <td>0.190050</td>\n",
       "      <td>0.287239</td>\n",
       "      <td>-0.994949</td>\n",
       "      <td>-0.033275</td>\n",
       "    </tr>\n",
       "    <tr>\n",
       "      <th>1</th>\n",
       "      <td>-0.969897</td>\n",
       "      <td>-0.993088</td>\n",
       "      <td>0.090990</td>\n",
       "      <td>-0.086189</td>\n",
       "      <td>0.222916</td>\n",
       "      <td>-1.000000</td>\n",
       "      <td>-0.460281</td>\n",
       "    </tr>\n",
       "    <tr>\n",
       "      <th>2</th>\n",
       "      <td>-0.969645</td>\n",
       "      <td>-0.994600</td>\n",
       "      <td>0.090242</td>\n",
       "      <td>0.010611</td>\n",
       "      <td>0.302294</td>\n",
       "      <td>-1.000000</td>\n",
       "      <td>0.071843</td>\n",
       "    </tr>\n",
       "    <tr>\n",
       "      <th>3</th>\n",
       "      <td>-0.969677</td>\n",
       "      <td>-0.996112</td>\n",
       "      <td>0.089731</td>\n",
       "      <td>-0.000086</td>\n",
       "      <td>0.279795</td>\n",
       "      <td>-0.997475</td>\n",
       "      <td>-0.081496</td>\n",
       "    </tr>\n",
       "    <tr>\n",
       "      <th>4</th>\n",
       "      <td>-0.970968</td>\n",
       "      <td>-0.989848</td>\n",
       "      <td>0.086874</td>\n",
       "      <td>-0.334177</td>\n",
       "      <td>0.180072</td>\n",
       "      <td>-0.998317</td>\n",
       "      <td>-0.542804</td>\n",
       "    </tr>\n",
       "  </tbody>\n",
       "</table>\n",
       "</div>"
      ],
      "text/plain": [
       "      Close    Volume  MACD_diff   RSI(14)  PercentageDiff    LowLen  RSI_diff\n",
       "0 -0.969142 -0.992440   0.092956  0.190050        0.287239 -0.994949 -0.033275\n",
       "1 -0.969897 -0.993088   0.090990 -0.086189        0.222916 -1.000000 -0.460281\n",
       "2 -0.969645 -0.994600   0.090242  0.010611        0.302294 -1.000000  0.071843\n",
       "3 -0.969677 -0.996112   0.089731 -0.000086        0.279795 -0.997475 -0.081496\n",
       "4 -0.970968 -0.989848   0.086874 -0.334177        0.180072 -0.998317 -0.542804"
      ]
     },
     "execution_count": 9,
     "metadata": {},
     "output_type": "execute_result"
    }
   ],
   "source": [
    "from torch.utils.data import Dataset\n",
    "from TorchDatasets import StocksDataset\n",
    "\n",
    "y_column = 'NextPrice'\n",
    "data_columns = ['Close', 'Volume'] + feature_names\n",
    "data_columns = ['Close', 'Volume', 'MACD_diff', 'RSI(14)', 'PercentageDiff', 'LowLen', 'RSI_diff']\n",
    "data_columns += [y_column]\n",
    "\n",
    "\n",
    "dataset = df.copy()\n",
    "dataset = dataset.loc[:, data_columns]\n",
    "\n",
    "for col in dataset.columns:\n",
    "    dataset[col] = dataset[col].replace({'higher':1, 'stay':0, 'lower':0})\n",
    "    \n",
    "\n",
    "    \n",
    "X = dataset.loc[:, dataset.columns != y_column]\n",
    "y = dataset[y_column]\n",
    "\n",
    "X.head()"
   ]
  },
  {
   "cell_type": "code",
   "execution_count": 10,
   "id": "specified-wealth",
   "metadata": {},
   "outputs": [
    {
     "name": "stdout",
     "output_type": "stream",
     "text": [
      "Train size : 10357, test_size : 4440\n"
     ]
    }
   ],
   "source": [
    "from sklearn.model_selection import train_test_split\n",
    "TEST_SIZE = 0.3\n",
    "\n",
    "X_train, X_test, y_train, y_test = train_test_split(X, y, test_size=0.3, random_state=42)\n",
    "\n",
    "train_dataset = StocksDataset(X_train,y_train)\n",
    "test_dataset = StocksDataset(X_test, y_test)\n",
    "\n",
    "print(f\"Train size : {len(train_dataset)}, test_size : {len(test_dataset)}\")"
   ]
  },
  {
   "cell_type": "code",
   "execution_count": 11,
   "id": "revolutionary-pursuit",
   "metadata": {},
   "outputs": [],
   "source": [
    "from torch.utils.data import DataLoader\n",
    "train_dataloader = DataLoader(train_dataset, batch_size=32, shuffle=True, num_workers=0)\n",
    "test_dataloader = DataLoader(test_dataset, batch_size=32, shuffle=True, num_workers=0)"
   ]
  },
  {
   "cell_type": "markdown",
   "id": "simplified-remark",
   "metadata": {},
   "source": [
    "### Model"
   ]
  },
  {
   "cell_type": "code",
   "execution_count": 12,
   "id": "sapphire-modeling",
   "metadata": {},
   "outputs": [
    {
     "name": "stderr",
     "output_type": "stream",
     "text": [
      "wandb: Currently logged in as: ludovic_herbelin_unine (use `wandb login --relogin` to force relogin)\n",
      "wandb: wandb version 0.10.27 is available!  To upgrade, please run:\n",
      "wandb:  $ pip install wandb --upgrade\n"
     ]
    },
    {
     "data": {
      "text/html": [
       "\n",
       "                Tracking run with wandb version 0.10.24<br/>\n",
       "                Syncing run <strong style=\"color:#cdcd00\">flowing-wave-8</strong> to <a href=\"https://wandb.ai\" target=\"_blank\">Weights & Biases</a> <a href=\"https://docs.wandb.com/integrations/jupyter.html\" target=\"_blank\">(Documentation)</a>.<br/>\n",
       "                Project page: <a href=\"https://wandb.ai/ludovic_herbelin_unine/LinearNNRegression\" target=\"_blank\">https://wandb.ai/ludovic_herbelin_unine/LinearNNRegression</a><br/>\n",
       "                Run page: <a href=\"https://wandb.ai/ludovic_herbelin_unine/LinearNNRegression/runs/1o7t9dto\" target=\"_blank\">https://wandb.ai/ludovic_herbelin_unine/LinearNNRegression/runs/1o7t9dto</a><br/>\n",
       "                Run data is saved locally in <code>C:\\Users\\Ludo\\Documents\\School\\Master_Thesis\\StonksMarketPrediction\\notebooks\\wandb\\run-20210420_110532-1o7t9dto</code><br/><br/>\n",
       "            "
      ],
      "text/plain": [
       "<IPython.core.display.HTML object>"
      ]
     },
     "metadata": {},
     "output_type": "display_data"
    },
    {
     "name": "stderr",
     "output_type": "stream",
     "text": [
      "  0%|                                                                                                                  | 0/200 [00:00<?, ?it/s]c:\\users\\ludo\\documents\\school\\master_thesis\\stonksmarketprediction\\venv\\lib\\site-packages\\torch\\nn\\modules\\module.py:795: UserWarning: Using a non-full backward hook when the forward contains multiple autograd Nodes is deprecated and will be removed in future versions. This hook will be missing some grad_input. Please use register_full_backward_hook to get the documented behavior.\n",
      "  warnings.warn(\"Using a non-full backward hook when the forward contains multiple autograd Nodes \"\n",
      " 35%|████████████████████████▌                                             | 70/200 [01:40<03:06,  1.43s/it, last loss=0.0403, last MSE=0.0252]\n"
     ]
    },
    {
     "ename": "KeyboardInterrupt",
     "evalue": "",
     "output_type": "error",
     "traceback": [
      "\u001b[1;31m---------------------------------------------------------------------------\u001b[0m",
      "\u001b[1;31mKeyboardInterrupt\u001b[0m                         Traceback (most recent call last)",
      "\u001b[1;32m<ipython-input-12-bc7ffe26d61e>\u001b[0m in \u001b[0;36m<module>\u001b[1;34m\u001b[0m\n\u001b[0;32m     32\u001b[0m                                             use_wandb=True, project_label=project_label)\n\u001b[0;32m     33\u001b[0m \u001b[1;33m\u001b[0m\u001b[0m\n\u001b[1;32m---> 34\u001b[1;33m \u001b[0mtrain\u001b[0m\u001b[1;33m(\u001b[0m\u001b[0mmodel\u001b[0m\u001b[1;33m,\u001b[0m \u001b[0mtrain_dataloader\u001b[0m\u001b[1;33m,\u001b[0m \u001b[0mn_epochs\u001b[0m\u001b[1;33m=\u001b[0m\u001b[1;36m200\u001b[0m\u001b[1;33m,\u001b[0m \u001b[0moptimizer\u001b[0m\u001b[1;33m=\u001b[0m\u001b[0moptimizer\u001b[0m\u001b[1;33m,\u001b[0m \u001b[0mloss_fn\u001b[0m\u001b[1;33m=\u001b[0m\u001b[0mloss_fn\u001b[0m\u001b[1;33m,\u001b[0m \u001b[0mdevice\u001b[0m\u001b[1;33m=\u001b[0m\u001b[0mdevice\u001b[0m\u001b[1;33m,\u001b[0m \u001b[0muse_wandb\u001b[0m\u001b[1;33m=\u001b[0m\u001b[1;32mTrue\u001b[0m\u001b[1;33m,\u001b[0m \u001b[0macc_func\u001b[0m\u001b[1;33m=\u001b[0m\u001b[0mmse\u001b[0m\u001b[1;33m,\u001b[0m \u001b[0macc_label\u001b[0m\u001b[1;33m=\u001b[0m\u001b[1;34m'MSE'\u001b[0m\u001b[1;33m,\u001b[0m \u001b[0mepoch_log\u001b[0m\u001b[1;33m=\u001b[0m\u001b[1;36m10\u001b[0m\u001b[1;33m)\u001b[0m\u001b[1;33m\u001b[0m\u001b[1;33m\u001b[0m\u001b[0m\n\u001b[0m",
      "\u001b[1;32m~\\Documents\\School\\Master_Thesis\\StonksMarketPrediction\\DL_utils.py\u001b[0m in \u001b[0;36mtrain\u001b[1;34m(model, dataloader, n_epochs, optimizer, loss_fn, device, acc_func, acc_label, epoch_log, use_wandb)\u001b[0m\n\u001b[0;32m     68\u001b[0m             \u001b[0moptimizer\u001b[0m\u001b[1;33m.\u001b[0m\u001b[0mzero_grad\u001b[0m\u001b[1;33m(\u001b[0m\u001b[1;33m)\u001b[0m\u001b[1;33m\u001b[0m\u001b[1;33m\u001b[0m\u001b[0m\n\u001b[0;32m     69\u001b[0m \u001b[1;33m\u001b[0m\u001b[0m\n\u001b[1;32m---> 70\u001b[1;33m             \u001b[0moutput\u001b[0m \u001b[1;33m=\u001b[0m \u001b[0mmodel\u001b[0m\u001b[1;33m(\u001b[0m\u001b[0mdata\u001b[0m\u001b[1;33m)\u001b[0m\u001b[1;33m\u001b[0m\u001b[1;33m\u001b[0m\u001b[0m\n\u001b[0m\u001b[0;32m     71\u001b[0m \u001b[1;33m\u001b[0m\u001b[0m\n\u001b[0;32m     72\u001b[0m \u001b[1;33m\u001b[0m\u001b[0m\n",
      "\u001b[1;32mc:\\users\\ludo\\documents\\school\\master_thesis\\stonksmarketprediction\\venv\\lib\\site-packages\\torch\\nn\\modules\\module.py\u001b[0m in \u001b[0;36m_call_impl\u001b[1;34m(self, *input, **kwargs)\u001b[0m\n\u001b[0;32m    887\u001b[0m             \u001b[0mresult\u001b[0m \u001b[1;33m=\u001b[0m \u001b[0mself\u001b[0m\u001b[1;33m.\u001b[0m\u001b[0m_slow_forward\u001b[0m\u001b[1;33m(\u001b[0m\u001b[1;33m*\u001b[0m\u001b[0minput\u001b[0m\u001b[1;33m,\u001b[0m \u001b[1;33m**\u001b[0m\u001b[0mkwargs\u001b[0m\u001b[1;33m)\u001b[0m\u001b[1;33m\u001b[0m\u001b[1;33m\u001b[0m\u001b[0m\n\u001b[0;32m    888\u001b[0m         \u001b[1;32melse\u001b[0m\u001b[1;33m:\u001b[0m\u001b[1;33m\u001b[0m\u001b[1;33m\u001b[0m\u001b[0m\n\u001b[1;32m--> 889\u001b[1;33m             \u001b[0mresult\u001b[0m \u001b[1;33m=\u001b[0m \u001b[0mself\u001b[0m\u001b[1;33m.\u001b[0m\u001b[0mforward\u001b[0m\u001b[1;33m(\u001b[0m\u001b[1;33m*\u001b[0m\u001b[0minput\u001b[0m\u001b[1;33m,\u001b[0m \u001b[1;33m**\u001b[0m\u001b[0mkwargs\u001b[0m\u001b[1;33m)\u001b[0m\u001b[1;33m\u001b[0m\u001b[1;33m\u001b[0m\u001b[0m\n\u001b[0m\u001b[0;32m    890\u001b[0m         for hook in itertools.chain(\n\u001b[0;32m    891\u001b[0m                 \u001b[0m_global_forward_hooks\u001b[0m\u001b[1;33m.\u001b[0m\u001b[0mvalues\u001b[0m\u001b[1;33m(\u001b[0m\u001b[1;33m)\u001b[0m\u001b[1;33m,\u001b[0m\u001b[1;33m\u001b[0m\u001b[1;33m\u001b[0m\u001b[0m\n",
      "\u001b[1;32m<ipython-input-12-bc7ffe26d61e>\u001b[0m in \u001b[0;36mforward\u001b[1;34m(self, x)\u001b[0m\n\u001b[0;32m     24\u001b[0m \u001b[1;33m\u001b[0m\u001b[0m\n\u001b[0;32m     25\u001b[0m     \u001b[1;32mdef\u001b[0m \u001b[0mforward\u001b[0m\u001b[1;33m(\u001b[0m\u001b[0mself\u001b[0m\u001b[1;33m,\u001b[0m \u001b[0mx\u001b[0m\u001b[1;33m)\u001b[0m\u001b[1;33m:\u001b[0m\u001b[1;33m\u001b[0m\u001b[1;33m\u001b[0m\u001b[0m\n\u001b[1;32m---> 26\u001b[1;33m         \u001b[0mout\u001b[0m \u001b[1;33m=\u001b[0m \u001b[0mself\u001b[0m\u001b[1;33m.\u001b[0m\u001b[0mclassifier\u001b[0m\u001b[1;33m(\u001b[0m\u001b[0mx\u001b[0m\u001b[1;33m)\u001b[0m\u001b[1;33m\u001b[0m\u001b[1;33m\u001b[0m\u001b[0m\n\u001b[0m\u001b[0;32m     27\u001b[0m         \u001b[1;32mreturn\u001b[0m \u001b[0mout\u001b[0m\u001b[1;33m\u001b[0m\u001b[1;33m\u001b[0m\u001b[0m\n\u001b[0;32m     28\u001b[0m \u001b[1;33m\u001b[0m\u001b[0m\n",
      "\u001b[1;32mc:\\users\\ludo\\documents\\school\\master_thesis\\stonksmarketprediction\\venv\\lib\\site-packages\\torch\\nn\\modules\\module.py\u001b[0m in \u001b[0;36m_call_impl\u001b[1;34m(self, *input, **kwargs)\u001b[0m\n\u001b[0;32m    887\u001b[0m             \u001b[0mresult\u001b[0m \u001b[1;33m=\u001b[0m \u001b[0mself\u001b[0m\u001b[1;33m.\u001b[0m\u001b[0m_slow_forward\u001b[0m\u001b[1;33m(\u001b[0m\u001b[1;33m*\u001b[0m\u001b[0minput\u001b[0m\u001b[1;33m,\u001b[0m \u001b[1;33m**\u001b[0m\u001b[0mkwargs\u001b[0m\u001b[1;33m)\u001b[0m\u001b[1;33m\u001b[0m\u001b[1;33m\u001b[0m\u001b[0m\n\u001b[0;32m    888\u001b[0m         \u001b[1;32melse\u001b[0m\u001b[1;33m:\u001b[0m\u001b[1;33m\u001b[0m\u001b[1;33m\u001b[0m\u001b[0m\n\u001b[1;32m--> 889\u001b[1;33m             \u001b[0mresult\u001b[0m \u001b[1;33m=\u001b[0m \u001b[0mself\u001b[0m\u001b[1;33m.\u001b[0m\u001b[0mforward\u001b[0m\u001b[1;33m(\u001b[0m\u001b[1;33m*\u001b[0m\u001b[0minput\u001b[0m\u001b[1;33m,\u001b[0m \u001b[1;33m**\u001b[0m\u001b[0mkwargs\u001b[0m\u001b[1;33m)\u001b[0m\u001b[1;33m\u001b[0m\u001b[1;33m\u001b[0m\u001b[0m\n\u001b[0m\u001b[0;32m    890\u001b[0m         for hook in itertools.chain(\n\u001b[0;32m    891\u001b[0m                 \u001b[0m_global_forward_hooks\u001b[0m\u001b[1;33m.\u001b[0m\u001b[0mvalues\u001b[0m\u001b[1;33m(\u001b[0m\u001b[1;33m)\u001b[0m\u001b[1;33m,\u001b[0m\u001b[1;33m\u001b[0m\u001b[1;33m\u001b[0m\u001b[0m\n",
      "\u001b[1;32mc:\\users\\ludo\\documents\\school\\master_thesis\\stonksmarketprediction\\venv\\lib\\site-packages\\torch\\nn\\modules\\container.py\u001b[0m in \u001b[0;36mforward\u001b[1;34m(self, input)\u001b[0m\n\u001b[0;32m    117\u001b[0m     \u001b[1;32mdef\u001b[0m \u001b[0mforward\u001b[0m\u001b[1;33m(\u001b[0m\u001b[0mself\u001b[0m\u001b[1;33m,\u001b[0m \u001b[0minput\u001b[0m\u001b[1;33m)\u001b[0m\u001b[1;33m:\u001b[0m\u001b[1;33m\u001b[0m\u001b[1;33m\u001b[0m\u001b[0m\n\u001b[0;32m    118\u001b[0m         \u001b[1;32mfor\u001b[0m \u001b[0mmodule\u001b[0m \u001b[1;32min\u001b[0m \u001b[0mself\u001b[0m\u001b[1;33m:\u001b[0m\u001b[1;33m\u001b[0m\u001b[1;33m\u001b[0m\u001b[0m\n\u001b[1;32m--> 119\u001b[1;33m             \u001b[0minput\u001b[0m \u001b[1;33m=\u001b[0m \u001b[0mmodule\u001b[0m\u001b[1;33m(\u001b[0m\u001b[0minput\u001b[0m\u001b[1;33m)\u001b[0m\u001b[1;33m\u001b[0m\u001b[1;33m\u001b[0m\u001b[0m\n\u001b[0m\u001b[0;32m    120\u001b[0m         \u001b[1;32mreturn\u001b[0m \u001b[0minput\u001b[0m\u001b[1;33m\u001b[0m\u001b[1;33m\u001b[0m\u001b[0m\n\u001b[0;32m    121\u001b[0m \u001b[1;33m\u001b[0m\u001b[0m\n",
      "\u001b[1;32mc:\\users\\ludo\\documents\\school\\master_thesis\\stonksmarketprediction\\venv\\lib\\site-packages\\torch\\nn\\modules\\module.py\u001b[0m in \u001b[0;36m_call_impl\u001b[1;34m(self, *input, **kwargs)\u001b[0m\n\u001b[0;32m    887\u001b[0m             \u001b[0mresult\u001b[0m \u001b[1;33m=\u001b[0m \u001b[0mself\u001b[0m\u001b[1;33m.\u001b[0m\u001b[0m_slow_forward\u001b[0m\u001b[1;33m(\u001b[0m\u001b[1;33m*\u001b[0m\u001b[0minput\u001b[0m\u001b[1;33m,\u001b[0m \u001b[1;33m**\u001b[0m\u001b[0mkwargs\u001b[0m\u001b[1;33m)\u001b[0m\u001b[1;33m\u001b[0m\u001b[1;33m\u001b[0m\u001b[0m\n\u001b[0;32m    888\u001b[0m         \u001b[1;32melse\u001b[0m\u001b[1;33m:\u001b[0m\u001b[1;33m\u001b[0m\u001b[1;33m\u001b[0m\u001b[0m\n\u001b[1;32m--> 889\u001b[1;33m             \u001b[0mresult\u001b[0m \u001b[1;33m=\u001b[0m \u001b[0mself\u001b[0m\u001b[1;33m.\u001b[0m\u001b[0mforward\u001b[0m\u001b[1;33m(\u001b[0m\u001b[1;33m*\u001b[0m\u001b[0minput\u001b[0m\u001b[1;33m,\u001b[0m \u001b[1;33m**\u001b[0m\u001b[0mkwargs\u001b[0m\u001b[1;33m)\u001b[0m\u001b[1;33m\u001b[0m\u001b[1;33m\u001b[0m\u001b[0m\n\u001b[0m\u001b[0;32m    890\u001b[0m         for hook in itertools.chain(\n\u001b[0;32m    891\u001b[0m                 \u001b[0m_global_forward_hooks\u001b[0m\u001b[1;33m.\u001b[0m\u001b[0mvalues\u001b[0m\u001b[1;33m(\u001b[0m\u001b[1;33m)\u001b[0m\u001b[1;33m,\u001b[0m\u001b[1;33m\u001b[0m\u001b[1;33m\u001b[0m\u001b[0m\n",
      "\u001b[1;32mc:\\users\\ludo\\documents\\school\\master_thesis\\stonksmarketprediction\\venv\\lib\\site-packages\\torch\\nn\\modules\\dropout.py\u001b[0m in \u001b[0;36mforward\u001b[1;34m(self, input)\u001b[0m\n\u001b[0;32m     56\u001b[0m \u001b[1;33m\u001b[0m\u001b[0m\n\u001b[0;32m     57\u001b[0m     \u001b[1;32mdef\u001b[0m \u001b[0mforward\u001b[0m\u001b[1;33m(\u001b[0m\u001b[0mself\u001b[0m\u001b[1;33m,\u001b[0m \u001b[0minput\u001b[0m\u001b[1;33m:\u001b[0m \u001b[0mTensor\u001b[0m\u001b[1;33m)\u001b[0m \u001b[1;33m->\u001b[0m \u001b[0mTensor\u001b[0m\u001b[1;33m:\u001b[0m\u001b[1;33m\u001b[0m\u001b[1;33m\u001b[0m\u001b[0m\n\u001b[1;32m---> 58\u001b[1;33m         \u001b[1;32mreturn\u001b[0m \u001b[0mF\u001b[0m\u001b[1;33m.\u001b[0m\u001b[0mdropout\u001b[0m\u001b[1;33m(\u001b[0m\u001b[0minput\u001b[0m\u001b[1;33m,\u001b[0m \u001b[0mself\u001b[0m\u001b[1;33m.\u001b[0m\u001b[0mp\u001b[0m\u001b[1;33m,\u001b[0m \u001b[0mself\u001b[0m\u001b[1;33m.\u001b[0m\u001b[0mtraining\u001b[0m\u001b[1;33m,\u001b[0m \u001b[0mself\u001b[0m\u001b[1;33m.\u001b[0m\u001b[0minplace\u001b[0m\u001b[1;33m)\u001b[0m\u001b[1;33m\u001b[0m\u001b[1;33m\u001b[0m\u001b[0m\n\u001b[0m\u001b[0;32m     59\u001b[0m \u001b[1;33m\u001b[0m\u001b[0m\n\u001b[0;32m     60\u001b[0m \u001b[1;33m\u001b[0m\u001b[0m\n",
      "\u001b[1;32mc:\\users\\ludo\\documents\\school\\master_thesis\\stonksmarketprediction\\venv\\lib\\site-packages\\torch\\nn\\functional.py\u001b[0m in \u001b[0;36mdropout\u001b[1;34m(input, p, training, inplace)\u001b[0m\n\u001b[0;32m   1074\u001b[0m     \u001b[1;32mif\u001b[0m \u001b[0mp\u001b[0m \u001b[1;33m<\u001b[0m \u001b[1;36m0.0\u001b[0m \u001b[1;32mor\u001b[0m \u001b[0mp\u001b[0m \u001b[1;33m>\u001b[0m \u001b[1;36m1.0\u001b[0m\u001b[1;33m:\u001b[0m\u001b[1;33m\u001b[0m\u001b[1;33m\u001b[0m\u001b[0m\n\u001b[0;32m   1075\u001b[0m         \u001b[1;32mraise\u001b[0m \u001b[0mValueError\u001b[0m\u001b[1;33m(\u001b[0m\u001b[1;34m\"dropout probability has to be between 0 and 1, \"\u001b[0m \u001b[1;34m\"but got {}\"\u001b[0m\u001b[1;33m.\u001b[0m\u001b[0mformat\u001b[0m\u001b[1;33m(\u001b[0m\u001b[0mp\u001b[0m\u001b[1;33m)\u001b[0m\u001b[1;33m)\u001b[0m\u001b[1;33m\u001b[0m\u001b[1;33m\u001b[0m\u001b[0m\n\u001b[1;32m-> 1076\u001b[1;33m     \u001b[1;32mreturn\u001b[0m \u001b[0m_VF\u001b[0m\u001b[1;33m.\u001b[0m\u001b[0mdropout_\u001b[0m\u001b[1;33m(\u001b[0m\u001b[0minput\u001b[0m\u001b[1;33m,\u001b[0m \u001b[0mp\u001b[0m\u001b[1;33m,\u001b[0m \u001b[0mtraining\u001b[0m\u001b[1;33m)\u001b[0m \u001b[1;32mif\u001b[0m \u001b[0minplace\u001b[0m \u001b[1;32melse\u001b[0m \u001b[0m_VF\u001b[0m\u001b[1;33m.\u001b[0m\u001b[0mdropout\u001b[0m\u001b[1;33m(\u001b[0m\u001b[0minput\u001b[0m\u001b[1;33m,\u001b[0m \u001b[0mp\u001b[0m\u001b[1;33m,\u001b[0m \u001b[0mtraining\u001b[0m\u001b[1;33m)\u001b[0m\u001b[1;33m\u001b[0m\u001b[1;33m\u001b[0m\u001b[0m\n\u001b[0m\u001b[0;32m   1077\u001b[0m \u001b[1;33m\u001b[0m\u001b[0m\n\u001b[0;32m   1078\u001b[0m \u001b[1;33m\u001b[0m\u001b[0m\n",
      "\u001b[1;31mKeyboardInterrupt\u001b[0m: "
     ]
    }
   ],
   "source": [
    "import torch.nn as nn\n",
    "from DL_utils import *\n",
    "\n",
    "class LinearModel(nn.Module):\n",
    "    \n",
    "    def __init__(self, input_dim, output_dim, **kwargs):\n",
    "        super(LinearModel, self).__init__()\n",
    "        self.classifier = nn.Sequential(\n",
    "            nn.Linear(input_dim, 16),\n",
    "            nn.LeakyReLU(0.1),\n",
    "            nn.BatchNorm1d(16),\n",
    "            nn.Linear(16, 32),\n",
    "            nn.LeakyReLU(0.1),\n",
    "            nn.Linear(32, 32),\n",
    "            nn.LeakyReLU(0.1),\n",
    "            nn.Dropout(),\n",
    "            #nn.Dropout(),\n",
    "            nn.Linear(32, 16),\n",
    "            nn.LeakyReLU(0.1),\n",
    "            nn.Linear(16, output_dim),\n",
    "            #nn.Softmax(1),\n",
    "        )\n",
    "        \n",
    "        \n",
    "    def forward(self, x):\n",
    "        out = self.classifier(x)\n",
    "        return out\n",
    "    \n",
    "lr = 1e-5\n",
    "model, optimizer, loss_fn = create_model(LinearModel, device=device, input_dim = len(X.columns), output_dim=1, \n",
    "                                            loss_fn=nn.MSELoss, optimizer=torch.optim.Adam, lr=lr, \n",
    "                                            use_wandb=True, project_label=project_label)\n",
    "\n",
    "train(model, train_dataloader, n_epochs=200, optimizer=optimizer, loss_fn=loss_fn, device=device, use_wandb=True, acc_func=mse, acc_label='MSE', epoch_log=10)"
   ]
  },
  {
   "cell_type": "code",
   "execution_count": 13,
   "id": "parliamentary-handbook",
   "metadata": {},
   "outputs": [
    {
     "name": "stdout",
     "output_type": "stream",
     "text": [
      "MSE : 0.004183439537882805, R2: 0.9855268716665133, MAE : 0.0514230951666832\n"
     ]
    }
   ],
   "source": [
    "from sklearn.metrics import mean_squared_error, r2_score, mean_absolute_error\n",
    "\n",
    "predictions, labels = predict_reg(model, test_dataloader, device)\n",
    "r2 = r2_score(labels, predictions)\n",
    "\n",
    "mse = mean_squared_error(labels, predictions)\n",
    "\n",
    "print(f\"MSE : {mse}, R2: {r2}, MAE : {mean_absolute_error(labels, predictions)}\")"
   ]
  },
  {
   "cell_type": "code",
   "execution_count": 14,
   "id": "purple-boring",
   "metadata": {},
   "outputs": [],
   "source": [
    "from StocksDataWrapper import *\n",
    "\n",
    "test_df = pd.DataFrame(data={'Close':predictions.reshape(-1)})\n",
    "scaled_preds = data_wrapper.get_unscaled_data(df=test_df)['Close']\n",
    "test_df = pd.DataFrame(data={'Close':labels.reshape(-1)})\n",
    "scaled_labels = data_wrapper.get_unscaled_data(df=test_df)['Close']"
   ]
  },
  {
   "cell_type": "code",
   "execution_count": 15,
   "id": "fallen-result",
   "metadata": {},
   "outputs": [
    {
     "name": "stdout",
     "output_type": "stream",
     "text": [
      "count    4440.000000\n",
      "mean       60.469104\n",
      "std        50.943938\n",
      "min       -37.040273\n",
      "25%        20.459252\n",
      "50%        32.823567\n",
      "75%       100.479343\n",
      "max       201.670118\n",
      "Name: Close, dtype: float64\n"
     ]
    }
   ],
   "source": [
    "print(scaled_preds.describe())"
   ]
  },
  {
   "cell_type": "markdown",
   "id": "traditional-diana",
   "metadata": {},
   "source": [
    "ax = plt.gca()\n",
    "ax.plot(scaled_preds, label=\"Predicted price\")\n",
    "ax.plot(scaled_labels, label=\"Actual price\")\n",
    "\n",
    "plt.legend(loc='best')"
   ]
  },
  {
   "cell_type": "code",
   "execution_count": 20,
   "id": "ahead-outdoors",
   "metadata": {},
   "outputs": [
    {
     "data": {
      "image/png": "[encoded data removed]",
      "text/plain": [
       "<Figure size 1440x576 with 1 Axes>"
      ]
     },
     "metadata": {},
     "output_type": "display_data"
    }
   ],
   "source": [
    "prices_diffs = [(p-y) for p,y in zip(scaled_preds, scaled_labels)]\n",
    "ax = plot_normalized_histogram(series=pd.Series(prices_diffs, name=\"Differences\"))"
   ]
  },
  {
   "cell_type": "code",
   "execution_count": null,
   "id": "inner-plenty",
   "metadata": {},
   "outputs": [],
   "source": []
  }
 ],
 "metadata": {
  "kernelspec": {
   "display_name": "Python 3",
   "language": "python",
   "name": "python3"
  },
  "language_info": {
   "codemirror_mode": {
    "name": "ipython",
    "version": 3
   },
   "file_extension": ".py",
   "mimetype": "text/x-python",
   "name": "python",
   "nbconvert_exporter": "python",
   "pygments_lexer": "ipython3",
   "version": "3.7.7"
  }
 },
 "nbformat": 4,
 "nbformat_minor": 5
}
