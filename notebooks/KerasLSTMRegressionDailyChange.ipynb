{
 "cells": [
  {
   "cell_type": "markdown",
   "id": "infectious-criticism",
   "metadata": {},
   "source": [
    "# Keras LSTM Regression model with daily return  "
   ]
  },
  {
   "cell_type": "markdown",
   "id": "powerful-mississippi",
   "metadata": {},
   "source": [
    "## Setup"
   ]
  },
  {
   "cell_type": "code",
   "execution_count": 1,
   "id": "intermediate-mexico",
   "metadata": {},
   "outputs": [],
   "source": [
    "%load_ext autoreload\n",
    "%autoreload 2\n",
    "\n",
    "from notebook_config import setup_notebook\n",
    "import matplotlib.pyplot as plt\n",
    "import numpy as np\n",
    "from tqdm.notebook import tqdm\n",
    "\n",
    "setup_notebook()"
   ]
  },
  {
   "cell_type": "code",
   "execution_count": 2,
   "id": "reduced-provider",
   "metadata": {},
   "outputs": [],
   "source": [
    "from datasets.stocks_data_wrapper import StocksDataWrapper\n",
    "from helpers.data_helper import *\n",
    "from helpers.plots_helper import *"
   ]
  },
  {
   "cell_type": "code",
   "execution_count": 75,
   "id": "accessible-poster",
   "metadata": {},
   "outputs": [],
   "source": [
    "DATA_PATH = '../data/'\n",
    "FILE_SUFFIX='.txt'\n",
    "\n",
    "quotation = 'IBM'\n",
    "price_column = 'Close'\n",
    "project_label='KerasLSTMRegressionPriceChange'\n",
    "\n",
    "predict_n = 10"
   ]
  },
  {
   "cell_type": "code",
   "execution_count": 76,
   "id": "literary-courage",
   "metadata": {},
   "outputs": [
    {
     "data": {
      "text/html": [
       "<div>\n",
       "<style scoped>\n",
       "    .dataframe tbody tr th:only-of-type {\n",
       "        vertical-align: middle;\n",
       "    }\n",
       "\n",
       "    .dataframe tbody tr th {\n",
       "        vertical-align: top;\n",
       "    }\n",
       "\n",
       "    .dataframe thead th {\n",
       "        text-align: right;\n",
       "    }\n",
       "</style>\n",
       "<table border=\"1\" class=\"dataframe\">\n",
       "  <thead>\n",
       "    <tr style=\"text-align: right;\">\n",
       "      <th></th>\n",
       "      <th>Date</th>\n",
       "      <th>Open</th>\n",
       "      <th>High</th>\n",
       "      <th>Low</th>\n",
       "      <th>Close</th>\n",
       "      <th>Adjusted</th>\n",
       "      <th>Volume</th>\n",
       "      <th>LowLen</th>\n",
       "      <th>RSI(14)</th>\n",
       "      <th>GAP</th>\n",
       "      <th>...</th>\n",
       "      <th>SMA(20)</th>\n",
       "      <th>EMA(14)</th>\n",
       "      <th>EMA_Diff</th>\n",
       "      <th>SMA(20) - SMA(10)</th>\n",
       "      <th>Difference</th>\n",
       "      <th>PercentageDiff</th>\n",
       "      <th>Tendency</th>\n",
       "      <th>NextPrice</th>\n",
       "      <th>NextPriceChange</th>\n",
       "      <th>Next</th>\n",
       "    </tr>\n",
       "  </thead>\n",
       "  <tbody>\n",
       "    <tr>\n",
       "      <th>0</th>\n",
       "      <td>1962-03-21</td>\n",
       "      <td>0.015428</td>\n",
       "      <td>0.014523</td>\n",
       "      <td>0.015787</td>\n",
       "      <td>0.015429</td>\n",
       "      <td>0.005020</td>\n",
       "      <td>0.003780</td>\n",
       "      <td>0.002525</td>\n",
       "      <td>0.595025</td>\n",
       "      <td>0.000000</td>\n",
       "      <td>...</td>\n",
       "      <td>0.013555</td>\n",
       "      <td>0.013679</td>\n",
       "      <td>0.619962</td>\n",
       "      <td>0.394439</td>\n",
       "      <td>0.596761</td>\n",
       "      <td>0.496869</td>\n",
       "      <td>higher</td>\n",
       "      <td>0.012863</td>\n",
       "      <td>0.383222</td>\n",
       "      <td>lower</td>\n",
       "    </tr>\n",
       "    <tr>\n",
       "      <th>1</th>\n",
       "      <td>1962-03-22</td>\n",
       "      <td>0.015334</td>\n",
       "      <td>0.014334</td>\n",
       "      <td>0.015533</td>\n",
       "      <td>0.015051</td>\n",
       "      <td>0.004897</td>\n",
       "      <td>0.003456</td>\n",
       "      <td>0.000000</td>\n",
       "      <td>0.456905</td>\n",
       "      <td>0.001641</td>\n",
       "      <td>...</td>\n",
       "      <td>0.013587</td>\n",
       "      <td>0.013637</td>\n",
       "      <td>0.619512</td>\n",
       "      <td>0.394997</td>\n",
       "      <td>0.595125</td>\n",
       "      <td>0.477865</td>\n",
       "      <td>lower</td>\n",
       "      <td>0.013540</td>\n",
       "      <td>0.426279</td>\n",
       "      <td>higher</td>\n",
       "    </tr>\n",
       "    <tr>\n",
       "      <th>2</th>\n",
       "      <td>1962-03-23</td>\n",
       "      <td>0.015113</td>\n",
       "      <td>0.014271</td>\n",
       "      <td>0.015565</td>\n",
       "      <td>0.015177</td>\n",
       "      <td>0.004938</td>\n",
       "      <td>0.002700</td>\n",
       "      <td>0.000000</td>\n",
       "      <td>0.505305</td>\n",
       "      <td>0.000410</td>\n",
       "      <td>...</td>\n",
       "      <td>0.013619</td>\n",
       "      <td>0.013618</td>\n",
       "      <td>0.619054</td>\n",
       "      <td>0.395653</td>\n",
       "      <td>0.594787</td>\n",
       "      <td>0.474037</td>\n",
       "      <td>higher</td>\n",
       "      <td>0.013508</td>\n",
       "      <td>0.419933</td>\n",
       "      <td>lower</td>\n",
       "    </tr>\n",
       "    <tr>\n",
       "      <th>3</th>\n",
       "      <td>1962-03-26</td>\n",
       "      <td>0.015207</td>\n",
       "      <td>0.014334</td>\n",
       "      <td>0.015597</td>\n",
       "      <td>0.015162</td>\n",
       "      <td>0.004933</td>\n",
       "      <td>0.001944</td>\n",
       "      <td>0.001263</td>\n",
       "      <td>0.499957</td>\n",
       "      <td>0.000000</td>\n",
       "      <td>...</td>\n",
       "      <td>0.013656</td>\n",
       "      <td>0.013600</td>\n",
       "      <td>0.618669</td>\n",
       "      <td>0.396346</td>\n",
       "      <td>0.594843</td>\n",
       "      <td>0.474674</td>\n",
       "      <td>lower</td>\n",
       "      <td>0.013540</td>\n",
       "      <td>0.421875</td>\n",
       "      <td>higher</td>\n",
       "    </tr>\n",
       "    <tr>\n",
       "      <th>4</th>\n",
       "      <td>1962-03-27</td>\n",
       "      <td>0.015113</td>\n",
       "      <td>0.014114</td>\n",
       "      <td>0.014963</td>\n",
       "      <td>0.014516</td>\n",
       "      <td>0.004723</td>\n",
       "      <td>0.005076</td>\n",
       "      <td>0.000842</td>\n",
       "      <td>0.332912</td>\n",
       "      <td>0.001026</td>\n",
       "      <td>...</td>\n",
       "      <td>0.013658</td>\n",
       "      <td>0.013496</td>\n",
       "      <td>0.617898</td>\n",
       "      <td>0.397285</td>\n",
       "      <td>0.592643</td>\n",
       "      <td>0.449242</td>\n",
       "      <td>lower</td>\n",
       "      <td>0.013666</td>\n",
       "      <td>0.453439</td>\n",
       "      <td>higher</td>\n",
       "    </tr>\n",
       "  </tbody>\n",
       "</table>\n",
       "<p>5 rows × 33 columns</p>\n",
       "</div>"
      ],
      "text/plain": [
       "         Date      Open      High       Low     Close  Adjusted    Volume  \\\n",
       "0  1962-03-21  0.015428  0.014523  0.015787  0.015429  0.005020  0.003780   \n",
       "1  1962-03-22  0.015334  0.014334  0.015533  0.015051  0.004897  0.003456   \n",
       "2  1962-03-23  0.015113  0.014271  0.015565  0.015177  0.004938  0.002700   \n",
       "3  1962-03-26  0.015207  0.014334  0.015597  0.015162  0.004933  0.001944   \n",
       "4  1962-03-27  0.015113  0.014114  0.014963  0.014516  0.004723  0.005076   \n",
       "\n",
       "     LowLen   RSI(14)       GAP  ...   SMA(20)   EMA(14)  EMA_Diff  \\\n",
       "0  0.002525  0.595025  0.000000  ...  0.013555  0.013679  0.619962   \n",
       "1  0.000000  0.456905  0.001641  ...  0.013587  0.013637  0.619512   \n",
       "2  0.000000  0.505305  0.000410  ...  0.013619  0.013618  0.619054   \n",
       "3  0.001263  0.499957  0.000000  ...  0.013656  0.013600  0.618669   \n",
       "4  0.000842  0.332912  0.001026  ...  0.013658  0.013496  0.617898   \n",
       "\n",
       "   SMA(20) - SMA(10)  Difference  PercentageDiff  Tendency  NextPrice  \\\n",
       "0           0.394439    0.596761        0.496869    higher   0.012863   \n",
       "1           0.394997    0.595125        0.477865     lower   0.013540   \n",
       "2           0.395653    0.594787        0.474037    higher   0.013508   \n",
       "3           0.396346    0.594843        0.474674     lower   0.013540   \n",
       "4           0.397285    0.592643        0.449242     lower   0.013666   \n",
       "\n",
       "   NextPriceChange    Next  \n",
       "0         0.383222   lower  \n",
       "1         0.426279  higher  \n",
       "2         0.419933   lower  \n",
       "3         0.421875  higher  \n",
       "4         0.453439  higher  \n",
       "\n",
       "[5 rows x 33 columns]"
      ]
     },
     "execution_count": 76,
     "metadata": {},
     "output_type": "execute_result"
    }
   ],
   "source": [
    "data_wrapper = StocksDataWrapper.read_from(file_path=f\"{DATA_PATH}{quotation}{FILE_SUFFIX}\", \n",
    "                                           compute_features=True, predict_n=predict_n, normalize=True)\n",
    "\n",
    "data_wrapper.head()"
   ]
  },
  {
   "cell_type": "code",
   "execution_count": 77,
   "id": "random-utilization",
   "metadata": {},
   "outputs": [
    {
     "name": "stdout",
     "output_type": "stream",
     "text": [
      "14788\n"
     ]
    }
   ],
   "source": [
    "print(len(data_wrapper.df))"
   ]
  },
  {
   "cell_type": "markdown",
   "id": "political-shooting",
   "metadata": {},
   "source": [
    "## Prepare Data"
   ]
  },
  {
   "cell_type": "code",
   "execution_count": 78,
   "id": "precious-checklist",
   "metadata": {},
   "outputs": [
    {
     "data": {
      "text/plain": [
       "(5, 6)"
      ]
     },
     "execution_count": 78,
     "metadata": {},
     "output_type": "execute_result"
    }
   ],
   "source": [
    "y_column = 'NextPriceChange'\n",
    "\n",
    "seq_len = 10\n",
    "n_splits=5\n",
    "val_size = 0.2\n",
    "\n",
    "features = ['Close', 'Volume', 'MACD_diff', 'RSI(14)', \n",
    "            'EMA(14)', 'SMA(10)', 'SMA(20) - SMA(10)','PercentageDiff', 'LowLen', 'RSI_diff', 'BodyLen', 'Volume_diff']\n",
    "datasets_splits = data_wrapper.get_datasets(n_splits=n_splits, val_size=val_size, sequences=True, seq_len=5, y_column=y_column, features_list=features)\n",
    "\n",
    "datasets_splits.shape"
   ]
  },
  {
   "cell_type": "markdown",
   "id": "ordered-multiple",
   "metadata": {},
   "source": [
    "https://keras.io/examples/timeseries/timeseries_weather_forecasting/"
   ]
  },
  {
   "cell_type": "markdown",
   "id": "speaking-ballet",
   "metadata": {},
   "source": [
    "## Model "
   ]
  },
  {
   "cell_type": "code",
   "execution_count": 79,
   "id": "covered-malpractice",
   "metadata": {},
   "outputs": [
    {
     "data": {
      "application/vnd.jupyter.widget-view+json": {
       "model_id": "5d9b9edc83874312a031020d90238ab3",
       "version_major": 2,
       "version_minor": 0
      },
      "text/plain": [
       "0it [00:00, ?it/s]"
      ]
     },
     "metadata": {},
     "output_type": "display_data"
    },
    {
     "name": "stdout",
     "output_type": "stream",
     "text": [
      "Wandb run page : https://wandb.ai/ludovic_herbelin_unine/KerasLSTMRegressionPriceChange/runs/1jeyelwg\n",
      "Wandb run page : https://wandb.ai/ludovic_herbelin_unine/KerasLSTMRegressionPriceChange/runs/1cv69ph1\n",
      "Wandb run page : https://wandb.ai/ludovic_herbelin_unine/KerasLSTMRegressionPriceChange/runs/25xq4z7y\n",
      "Wandb run page : https://wandb.ai/ludovic_herbelin_unine/KerasLSTMRegressionPriceChange/runs/3pdtta0x\n",
      "Wandb run page : https://wandb.ai/ludovic_herbelin_unine/KerasLSTMRegressionPriceChange/runs/l70brwil\n"
     ]
    }
   ],
   "source": [
    "from keras.preprocessing import timeseries_dataset_from_array as build_timeseries_ds\n",
    "from trainers.keras_regression_trainer import KerasRegressionTrainer\n",
    "from models.keras_lstm_model import LSTMModel\n",
    "import tensorflow as tf\n",
    "\n",
    "\n",
    "config_dict = dict(\n",
    "    quotation=quotation,\n",
    "    predict_n = predict_n,\n",
    "    features=features,\n",
    "    learning_rate = 0.001,\n",
    "    batch_size = 32,\n",
    "    sequence_length=seq_len,\n",
    "    n_epochs = 100,\n",
    "    n_splits = n_splits,\n",
    "    val_size = val_size,\n",
    ")\n",
    "\n",
    "group_name = f\"[{quotation}] {seq_len}-sequences : {len(features)} features  -> predict:{predict_n}, {n_splits} splits {val_size} val\"\n",
    "\n",
    "\n",
    "for split_id, split in tqdm(enumerate(datasets_splits)):\n",
    "    #run = wandb.init(project='StockRegressionKerasLSTM', config=config_dict, group=group_name, name=f\"Split {split_id+1}\")\n",
    "    \n",
    "    (X_train, X_val, X_test, y_train, y_val, y_test) = split\n",
    "    train_set = tf.data.Dataset.from_tensor_slices((X_train, y_train)).batch(config_dict['batch_size'])\n",
    "    val_set = tf.data.Dataset.from_tensor_slices((X_val, y_val)).batch(config_dict['batch_size'])\n",
    "    test_set = tf.data.Dataset.from_tensor_slices((X_test, y_test)).batch(config_dict['batch_size'])\n",
    "\n",
    "    model = LSTMModel(config_dict, seq_len, len(features), output_dim=1,\n",
    "                      learning_rate=config_dict['learning_rate'], loss='mse', metrics=['mae'])\n",
    "    \n",
    "    trainer = KerasRegressionTrainer(model, project_label=project_label, use_wandb=True)\n",
    "    trainer.train(train_set, val_set)\n"
   ]
  },
  {
   "cell_type": "markdown",
   "id": "entertaining-constitution",
   "metadata": {},
   "source": [
    "### Train a model with the full training set (train + validation) "
   ]
  },
  {
   "cell_type": "code",
   "execution_count": 80,
   "id": "exciting-assumption",
   "metadata": {},
   "outputs": [
    {
     "name": "stdout",
     "output_type": "stream",
     "text": [
      "Wandb run page : https://wandb.ai/ludovic_herbelin_unine/KerasLSTMRegressionPriceChange%20full%20training-set/runs/hx0pauew\n"
     ]
    },
    {
     "data": {
      "text/plain": [
       "{'prices_plot': <wandb.sdk.data_types.Image at 0x1ed16a297c8>}"
      ]
     },
     "execution_count": 80,
     "metadata": {},
     "output_type": "execute_result"
    }
   ],
   "source": [
    "config_dict['n_epochs'] = 150\n",
    "\n",
    "full_train_set = train_set.concatenate(val_set)\n",
    "final_model = LSTMModel(config_dict, seq_len, len(features), output_dim=1,\n",
    "                      learning_rate=config_dict['learning_rate'], loss='mse', metrics=['mae'])\n",
    "trainer = KerasRegressionTrainer(model, project_label=f\"{project_label} full training-set\")\n",
    "trainer.train(full_train_set, val_set=test_set)"
   ]
  },
  {
   "cell_type": "markdown",
   "id": "elegant-collins",
   "metadata": {},
   "source": [
    "## Metrics and plots"
   ]
  },
  {
   "cell_type": "code",
   "execution_count": 81,
   "id": "prerequisite-resort",
   "metadata": {},
   "outputs": [
    {
     "data": {
      "text/plain": [
       "159.020004"
      ]
     },
     "execution_count": 81,
     "metadata": {},
     "output_type": "execute_result"
    }
   ],
   "source": [
    "test_index = len(X_train) + len(X_val)\n",
    "\n",
    "test_start_price = data_wrapper.get_unscaled_values(data_wrapper['NextPrice'], 'NextPrice')[test_index]\n",
    "test_start_price"
   ]
  },
  {
   "cell_type": "code",
   "execution_count": 82,
   "id": "fatty-curtis",
   "metadata": {},
   "outputs": [],
   "source": [
    "target_returns = data_wrapper.get_unscaled_values(labels, 'NextPriceChange')\n",
    "predicted_returns = data_wrapper.get_unscaled_values(predictions, 'NextPriceChange')"
   ]
  },
  {
   "cell_type": "code",
   "execution_count": 83,
   "id": "disturbed-watts",
   "metadata": {},
   "outputs": [
    {
     "data": {
      "image/png": "[encoded data removed]",
      "text/plain": [
       "<Figure size 1440x576 with 1 Axes>"
      ]
     },
     "metadata": {},
     "output_type": "display_data"
    }
   ],
   "source": [
    "ax = plt.gca()\n",
    "ax.plot(predicted_returns - target_returns, label=\"Difference of predictions with actual returns\")\n",
    "plt.legend(loc='best')\n",
    "plt.show()"
   ]
  },
  {
   "cell_type": "code",
   "execution_count": 84,
   "id": "stunning-pickup",
   "metadata": {},
   "outputs": [
    {
     "data": {
      "image/png": "[encoded data removed]",
      "text/plain": [
       "<Figure size 1440x576 with 1 Axes>"
      ]
     },
     "metadata": {},
     "output_type": "display_data"
    }
   ],
   "source": [
    "target_absolute = test_start_price * (1 + target_returns).cumprod()\n",
    "predicted_absolute = test_start_price * (1 + predicted_returns).cumprod()\n",
    "\n",
    "ax = plot_predictions(labels=target_absolute, predictions=predicted_absolute)"
   ]
  },
  {
   "cell_type": "markdown",
   "id": "received-taiwan",
   "metadata": {},
   "source": [
    "### Use of lime to explain decisions"
   ]
  },
  {
   "cell_type": "code",
   "execution_count": 9,
   "id": "encouraging-tonight",
   "metadata": {},
   "outputs": [],
   "source": [
    "import lime\n",
    "from lime import lime_tabular\n",
    "\n",
    "# https://stackoverflow.com/questions/56226621/how-to-extract-data-labels-back-from-tensorflow-dataset\n",
    "training_samples = np.concatenate([x for x, y in train_set], axis=0)\n",
    "training_labels = np.concatenate([y for x, y in train_set], axis=0)\n",
    "\n",
    "\n",
    "for batch in train_set.take(1):\n",
    "    inputs, targets = batch\n",
    "\n",
    "explainer = lime_tabular.RecurrentTabularExplainer(inputs, training_labels=targets,\n",
    "                                                   discretize_continuous = True,\n",
    "                                                   feature_names=X_train,\n",
    "                                                   verbose=True, mode='regression')"
   ]
  },
  {
   "cell_type": "code",
   "execution_count": 10,
   "id": "agreed-ministry",
   "metadata": {},
   "outputs": [
    {
     "name": "stdout",
     "output_type": "stream",
     "text": [
      "(2690, 5, 12)\n"
     ]
    }
   ],
   "source": [
    "test_samples = np.concatenate([x for x, y in val_set], axis=0)\n",
    "\n",
    "print(test_samples.shape)"
   ]
  },
  {
   "cell_type": "code",
   "execution_count": 11,
   "id": "visible-integral",
   "metadata": {},
   "outputs": [
    {
     "ename": "NameError",
     "evalue": "name 'texplainer' is not defined",
     "output_type": "error",
     "traceback": [
      "\u001b[1;31m---------------------------------------------------------------------------\u001b[0m",
      "\u001b[1;31mNameError\u001b[0m                                 Traceback (most recent call last)",
      "\u001b[1;32m<ipython-input-11-5b7c3e7f3201>\u001b[0m in \u001b[0;36m<module>\u001b[1;34m\u001b[0m\n\u001b[0;32m      3\u001b[0m \u001b[1;32mimport\u001b[0m \u001b[0mwarnings\u001b[0m\u001b[1;33m\u001b[0m\u001b[1;33m\u001b[0m\u001b[0m\n\u001b[0;32m      4\u001b[0m \u001b[1;32mfrom\u001b[0m \u001b[0mlime\u001b[0m \u001b[1;32mimport\u001b[0m \u001b[0msubmodular_pick\u001b[0m\u001b[1;33m\u001b[0m\u001b[1;33m\u001b[0m\u001b[0m\n\u001b[1;32m----> 5\u001b[1;33m sp_obj = submodular_pick.SubmodularPick(texplainer, test_samples, model.predict, \n\u001b[0m\u001b[0;32m      6\u001b[0m                                         sample_size=15, num_features=10, num_exps_desired=5)\n",
      "\u001b[1;31mNameError\u001b[0m: name 'texplainer' is not defined"
     ]
    }
   ],
   "source": [
    "# https://github.com/marcotcr/lime/blob/master/doc/notebooks/Submodular%20Pick%20examples.ipynb\n",
    "\n",
    "import warnings\n",
    "from lime import submodular_pick\n",
    "sp_obj = submodular_pick.SubmodularPick(texplainer, test_samples, model.predict, \n",
    "                                        sample_size=15, num_features=10, num_exps_desired=5)"
   ]
  },
  {
   "cell_type": "code",
   "execution_count": null,
   "id": "median-hobby",
   "metadata": {},
   "outputs": [],
   "source": [
    "explanations = list(sp_obj.sp_explanations)\n",
    "\n",
    "#print(len(explanations))\n",
    "\n",
    "[exp.as_pyplot_figure(label=1) for exp in sp_obj.sp_explanations]"
   ]
  },
  {
   "cell_type": "code",
   "execution_count": null,
   "id": "coupled-panama",
   "metadata": {},
   "outputs": [],
   "source": []
  }
 ],
 "metadata": {
  "kernelspec": {
   "display_name": "Python 3",
   "language": "python",
   "name": "python3"
  },
  "language_info": {
   "codemirror_mode": {
    "name": "ipython",
    "version": 3
   },
   "file_extension": ".py",
   "mimetype": "text/x-python",
   "name": "python",
   "nbconvert_exporter": "python",
   "pygments_lexer": "ipython3",
   "version": "3.7.7"
  }
 },
 "nbformat": 4,
 "nbformat_minor": 5
}
