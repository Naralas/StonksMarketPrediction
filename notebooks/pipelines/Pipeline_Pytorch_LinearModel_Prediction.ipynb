{
 "cells": [
  {
   "cell_type": "code",
   "execution_count": 1,
   "id": "australian-documentation",
   "metadata": {},
   "outputs": [],
   "source": [
    "%load_ext autoreload\n",
    "%autoreload 2\n",
    "\n",
    "from notebook_config import setup_notebook\n",
    "import matplotlib.pyplot as plt\n",
    "import numpy as np\n",
    "from tqdm.notebook import trange, tqdm\n",
    "import seaborn as sns\n",
    "\n",
    "setup_notebook()"
   ]
  },
  {
   "cell_type": "code",
   "execution_count": 2,
   "id": "behind-maldives",
   "metadata": {},
   "outputs": [
    {
     "name": "stdout",
     "output_type": "stream",
     "text": [
      "cuda\n"
     ]
    }
   ],
   "source": [
    "import torch\n",
    "import torch.nn as nn\n",
    "device = torch.device('cuda' if torch.cuda.is_available() else 'cpu')\n",
    "#device = torch.device('cpu')\n",
    "print(device)"
   ]
  },
  {
   "cell_type": "code",
   "execution_count": 3,
   "id": "medium-eleven",
   "metadata": {},
   "outputs": [],
   "source": [
    "from helpers.data_helper import *\n",
    "from datasets.stocks_data_wrapper import StocksDataWrapper"
   ]
  },
  {
   "cell_type": "code",
   "execution_count": 4,
   "id": "metric-symbol",
   "metadata": {},
   "outputs": [],
   "source": [
    "DATA_PATH = '../../data/'\n",
    "FILE_SUFFIX = '.txt'\n",
    "price_column = 'Close'"
   ]
  },
  {
   "cell_type": "code",
   "execution_count": null,
   "id": "foreign-stephen",
   "metadata": {},
   "outputs": [],
   "source": [
    "OUTPUT_PATH = 'results/'\n",
    "N_CLASSES = 2\n",
    "METRICS_PATH = f\"{OUTPUT_PATH}metrics/{N_CLASSES}_classes/\"\n",
    "PIPELINE_LABEL = 'linear_nn'\n",
    "\n",
    "THRESH_DIFF = 0.005 if N_CLASSES is 3 else None"
   ]
  },
  {
   "cell_type": "markdown",
   "id": "floral-government",
   "metadata": {},
   "source": [
    "### Prepare data"
   ]
  },
  {
   "cell_type": "code",
   "execution_count": 5,
   "id": "compound-banks",
   "metadata": {},
   "outputs": [],
   "source": [
    "PERFORM_GRID_SEARCH = True\n",
    "MAX_SIZE = 5000\n",
    "n_splits=5\n",
    "\n",
    "quotations = ['AAL', 'AAPL', 'AMZN','CMCSA', 'COST', 'GM', 'GOOG', 'IBM', 'JNJ', 'KO','PEP', 'TSLA', 'WMT', 'XOM']\n",
    "days_predict_feature_set = {\n",
    "    1:['Volume', 'Close', 'LowLen', 'Difference', 'BG_L_Band', 'GAP', 'MACD_diff'],\n",
    "    5:['Volume', 'Close', 'LowLen', 'Difference', 'SMA(20) - SMA(10)', 'BG_H_Band_Indicator', 'MACD'],\n",
    "    10:['Volume', 'Close', 'BodyLen', 'Difference', 'SMA(20) - SMA(10)', 'EMA_Diff', 'MACD_diff'],\n",
    "    20:['Volume', 'Close', 'LowLen', 'Difference', 'EMA(14)', 'BG_H_Band', 'MACD_diff'],\n",
    "    50:['Volume', 'Close', 'LowLen', 'Difference', 'BG_L_Band','GAP','MACD_diff'],\n",
    "}\n",
    "\n",
    "#quotations=['CMCSA']\n",
    "#days_predict_feature_set = {1:days_predict_feature_set[1]}"
   ]
  },
  {
   "cell_type": "code",
   "execution_count": 6,
   "id": "experienced-spank",
   "metadata": {},
   "outputs": [],
   "source": [
    "predict_n_metrics_dict = {}"
   ]
  },
  {
   "cell_type": "code",
   "execution_count": 7,
   "id": "representative-browse",
   "metadata": {},
   "outputs": [
    {
     "data": {
      "application/vnd.jupyter.widget-view+json": {
       "model_id": "2b32691f5c1b4884a90f4070058d953b",
       "version_major": 2,
       "version_minor": 0
      },
      "text/plain": [
       "  0%|          | 0/5 [00:00<?, ?it/s]"
      ]
     },
     "metadata": {},
     "output_type": "display_data"
    },
    {
     "data": {
      "application/vnd.jupyter.widget-view+json": {
       "model_id": "22efdae0edd4455cbd26e2e050fbff00",
       "version_major": 2,
       "version_minor": 0
      },
      "text/plain": [
       "  0%|          | 0/14 [00:00<?, ?it/s]"
      ]
     },
     "metadata": {},
     "output_type": "display_data"
    },
    {
     "data": {
      "application/vnd.jupyter.widget-view+json": {
       "model_id": "cc3d879ad18a4e1bb597f2dbcd7dab4d",
       "version_major": 2,
       "version_minor": 0
      },
      "text/plain": [
       "  0%|          | 0/14 [00:00<?, ?it/s]"
      ]
     },
     "metadata": {},
     "output_type": "display_data"
    },
    {
     "data": {
      "application/vnd.jupyter.widget-view+json": {
       "model_id": "2fd73dbb05794b6a9e731bbb3c8e07dd",
       "version_major": 2,
       "version_minor": 0
      },
      "text/plain": [
       "  0%|          | 0/14 [00:00<?, ?it/s]"
      ]
     },
     "metadata": {},
     "output_type": "display_data"
    },
    {
     "data": {
      "application/vnd.jupyter.widget-view+json": {
       "model_id": "1f853c24140a4b27832b02d60dcb639c",
       "version_major": 2,
       "version_minor": 0
      },
      "text/plain": [
       "  0%|          | 0/14 [00:00<?, ?it/s]"
      ]
     },
     "metadata": {},
     "output_type": "display_data"
    },
    {
     "data": {
      "application/vnd.jupyter.widget-view+json": {
       "model_id": "23059eb034f84feabe09e387631f3025",
       "version_major": 2,
       "version_minor": 0
      },
      "text/plain": [
       "  0%|          | 0/14 [00:00<?, ?it/s]"
      ]
     },
     "metadata": {},
     "output_type": "display_data"
    }
   ],
   "source": [
    "from torch.utils.data import DataLoader\n",
    "from datasets.torch_datasets import StocksDataset\n",
    "from models.pytorch_linear_model import LinearModel\n",
    "from trainers.pytorch_classification_trainer import PytorchClassificationTrainer\n",
    "\n",
    "for predict_n, features_list in tqdm(days_predict_feature_set.items()):\n",
    "    quot_metrics_dict = {}\n",
    "    for quot in tqdm(quotations):\n",
    "        data_wrapper = StocksDataWrapper.read_from(f\"{DATA_PATH}{quot}{FILE_SUFFIX}\", \n",
    "                                                   compute_features=True, \n",
    "                                                   predict_n=predict_n, \n",
    "                                                   thresh_diff=THRESH_DIFF, normalize=True)\n",
    "\n",
    "\n",
    "        X_train, X_test, y_train, y_test = data_wrapper.get_datasets(n_splits=1, val_size=0.2, \n",
    "                                                                     y_column='Next', \n",
    "                                                                     features_list=features_list)\n",
    "        n_classes = len(np.unique(y_train))\n",
    "      \n",
    "        train_dataset = StocksDataset(X_train,y_train)\n",
    "        test_dataset = StocksDataset(X_test, y_test)\n",
    "\n",
    "        train_dataloader = DataLoader(train_dataset, batch_size=32, shuffle=False, num_workers=0, drop_last=True)\n",
    "        test_dataloader = DataLoader(test_dataset, batch_size=32, shuffle=False, num_workers=0)\n",
    "        \n",
    "        config = dict(\n",
    "            lr=1e-5,\n",
    "            loss=nn.CrossEntropyLoss,\n",
    "            n_epochs=100,\n",
    "            optimizer=torch.optim.Adam,\n",
    "        )\n",
    "        model = LinearModel(config, input_dim=X_train.shape[1], output_dim=n_classes, device=device)\n",
    "\n",
    "        trainer = PytorchClassificationTrainer(model, device=device, use_wandb=False, project_label=\"Pipeline\")\n",
    "        trainer.train(dataloader=train_dataloader)\n",
    "\n",
    "        \n",
    "        metrics = trainer.evaluate(test_dataloader)\n",
    "        label_dict = {'LinearNN':metrics}\n",
    "        quot_metrics_dict[quot] = label_dict\n",
    "        \n",
    "    #metrics_df = pd.DataFrame.from_dict(quot_metrics_dict).T\n",
    "    \"\"\"acc_df = metrics_df.applymap(lambda metrics: metrics['accuracy'])\n",
    "    f1_df = metrics_df.applymap(lambda metrics: metrics['f1_score'])\n",
    "\n",
    "    acc_df.to_csv(f\"metrics/acc_{predict_n}.csv\", index=True)\n",
    "    f1_df.to_csv(f\"metrics/f1_{predict_n}.csv\", index=True)\"\"\"\n",
    "        \n",
    "    predict_n_metrics_dict[predict_n] = quot_metrics_dict.copy()"
   ]
  },
  {
   "cell_type": "code",
   "execution_count": 8,
   "id": "alike-margin",
   "metadata": {
    "collapsed": true,
    "jupyter": {
     "outputs_hidden": true
    }
   },
   "outputs": [
    {
     "data": {
      "text/plain": [
       "{1: {'AAL': {'LinearNN': {'acc': 0.47639484978540775,\n",
       "    'roc_auc': 0.5065847883989345,\n",
       "    'f1': 0.3350949484127063}},\n",
       "  'AAPL': {'LinearNN': {'acc': 0.5364806866952789,\n",
       "    'roc_auc': 0.489980797563277,\n",
       "    'f1': 0.4167863715814626}},\n",
       "  'AMZN': {'LinearNN': {'acc': 0.4520743919885551,\n",
       "    'roc_auc': 0.5,\n",
       "    'f1': 0.2814886854549427}},\n",
       "  'CMCSA': {'LinearNN': {'acc': 0.470616570327553,\n",
       "    'roc_auc': 0.5,\n",
       "    'f1': 0.3012069369210739}},\n",
       "  'COST': {'LinearNN': {'acc': 0.45987478656801367,\n",
       "    'roc_auc': 0.499019469783501,\n",
       "    'f1': 0.29406606744138064}},\n",
       "  'GM': {'LinearNN': {'acc': 0.5129224652087475,\n",
       "    'roc_auc': 0.49830685486423193,\n",
       "    'f1': 0.3560544179760239}},\n",
       "  'GOOG': {'LinearNN': {'acc': 0.5221745350500715,\n",
       "    'roc_auc': 0.5192323548812665,\n",
       "    'f1': 0.5223910235138527}},\n",
       "  'IBM': {'LinearNN': {'acc': 0.4885135135135135,\n",
       "    'roc_auc': 0.5016630116959065,\n",
       "    'f1': 0.33269723499081294}},\n",
       "  'JNJ': {'LinearNN': {'acc': 0.51931330472103,\n",
       "    'roc_auc': 0.5298550391164288,\n",
       "    'f1': 0.5056909459965763}},\n",
       "  'KO': {'LinearNN': {'acc': 0.5135908440629471,\n",
       "    'roc_auc': 0.5222650483844514,\n",
       "    'f1': 0.4919653224516273}},\n",
       "  'PEP': {'LinearNN': {'acc': 0.479951397326853,\n",
       "    'roc_auc': 0.5037297823498846,\n",
       "    'f1': 0.32508574993255246}},\n",
       "  'TSLA': {'LinearNN': {'acc': 0.51434034416826,\n",
       "    'roc_auc': 0.4897981765070373,\n",
       "    'f1': 0.47897228290223487}},\n",
       "  'WMT': {'LinearNN': {'acc': 0.5178826895565093,\n",
       "    'roc_auc': 0.5215239109073043,\n",
       "    'f1': 0.49082891601839246}},\n",
       "  'XOM': {'LinearNN': {'acc': 0.474964234620887,\n",
       "    'roc_auc': 0.5005175388154112,\n",
       "    'f1': 0.3561717475344117}}},\n",
       " 5: {'AAL': {'LinearNN': {'acc': 0.5257879656160458,\n",
       "    'roc_auc': 0.5331073949468962,\n",
       "    'f1': 0.5206512682008938}},\n",
       "  'AAPL': {'LinearNN': {'acc': 0.5515759312320917,\n",
       "    'roc_auc': 0.5200157669806232,\n",
       "    'f1': 0.5040815830410761}},\n",
       "  'AMZN': {'LinearNN': {'acc': 0.5472779369627507,\n",
       "    'roc_auc': 0.5,\n",
       "    'f1': 0.38714846651809404}},\n",
       "  'CMCSA': {'LinearNN': {'acc': 0.46602409638554215,\n",
       "    'roc_auc': 0.4915548508220959,\n",
       "    'f1': 0.34335554253084405}},\n",
       "  'COST': {'LinearNN': {'acc': 0.46184510250569477,\n",
       "    'roc_auc': 0.49132906856992936,\n",
       "    'f1': 0.37704755513664945}},\n",
       "  'GM': {'LinearNN': {'acc': 0.5099601593625498,\n",
       "    'roc_auc': 0.5111354682933028,\n",
       "    'f1': 0.5091972939352007}},\n",
       "  'GOOG': {'LinearNN': {'acc': 0.5186246418338109,\n",
       "    'roc_auc': 0.49034391534391536,\n",
       "    'f1': 0.4546705927889868}},\n",
       "  'IBM': {'LinearNN': {'acc': 0.4910442717134167,\n",
       "    'roc_auc': 0.5033039828834759,\n",
       "    'f1': 0.35727777742004047}},\n",
       "  'JNJ': {'LinearNN': {'acc': 0.5,\n",
       "    'roc_auc': 0.5038068556361239,\n",
       "    'f1': 0.4984640673961062}},\n",
       "  'KO': {'LinearNN': {'acc': 0.498567335243553,\n",
       "    'roc_auc': 0.4969532502775379,\n",
       "    'f1': 0.4979599637725642}},\n",
       "  'PEP': {'LinearNN': {'acc': 0.4805510534846029,\n",
       "    'roc_auc': 0.5032523937894782,\n",
       "    'f1': 0.34601047160145415}},\n",
       "  'TSLA': {'LinearNN': {'acc': 0.5172413793103449,\n",
       "    'roc_auc': 0.5223628691983123,\n",
       "    'f1': 0.5168728450490613}},\n",
       "  'WMT': {'LinearNN': {'acc': 0.5,\n",
       "    'roc_auc': 0.4992609381158849,\n",
       "    'f1': 0.4986911021722967}},\n",
       "  'XOM': {'LinearNN': {'acc': 0.47421203438395415,\n",
       "    'roc_auc': 0.49107613711272247,\n",
       "    'f1': 0.4304807239332559}}},\n",
       " 10: {'AAL': {'LinearNN': {'acc': 0.4835007173601148,\n",
       "    'roc_auc': 0.5081275941329189,\n",
       "    'f1': 0.39880045070843767}},\n",
       "  'AAPL': {'LinearNN': {'acc': 0.5150645624103299,\n",
       "    'roc_auc': 0.49388528138528137,\n",
       "    'f1': 0.4954230126498331}},\n",
       "  'AMZN': {'LinearNN': {'acc': 0.5480631276901005,\n",
       "    'roc_auc': 0.5,\n",
       "    'f1': 0.3880632340641675}},\n",
       "  'CMCSA': {'LinearNN': {'acc': 0.4710703953712633,\n",
       "    'roc_auc': 0.5001707650273224,\n",
       "    'f1': 0.30644664674739625}},\n",
       "  'COST': {'LinearNN': {'acc': 0.5207977207977208,\n",
       "    'roc_auc': 0.5312607818331991,\n",
       "    'f1': 0.5134371325299755}},\n",
       "  'GM': {'LinearNN': {'acc': 0.5189620758483033,\n",
       "    'roc_auc': 0.514232633794731,\n",
       "    'f1': 0.50236267358488}},\n",
       "  'GOOG': {'LinearNN': {'acc': 0.46771879483500717,\n",
       "    'roc_auc': 0.4818588180657146,\n",
       "    'f1': 0.453315754097839}},\n",
       "  'IBM': {'LinearNN': {'acc': 0.4908722109533469,\n",
       "    'roc_auc': 0.5025252525252525,\n",
       "    'f1': 0.3692046173941716}},\n",
       "  'JNJ': {'LinearNN': {'acc': 0.5351506456241033,\n",
       "    'roc_auc': 0.5060087610546325,\n",
       "    'f1': 0.3965603938842921}},\n",
       "  'KO': {'LinearNN': {'acc': 0.4748923959827834,\n",
       "    'roc_auc': 0.4841222066463264,\n",
       "    'f1': 0.4436176048611698}},\n",
       "  'PEP': {'LinearNN': {'acc': 0.47547628698824485,\n",
       "    'roc_auc': 0.5003861003861004,\n",
       "    'f1': 0.30690305945043783}},\n",
       "  'TSLA': {'LinearNN': {'acc': 0.5124760076775432,\n",
       "    'roc_auc': 0.533614132049682,\n",
       "    'f1': 0.48648782636854243}},\n",
       "  'WMT': {'LinearNN': {'acc': 0.5251076040172167,\n",
       "    'roc_auc': 0.5183533461810874,\n",
       "    'f1': 0.41758251969955346}},\n",
       "  'XOM': {'LinearNN': {'acc': 0.47776183644189385,\n",
       "    'roc_auc': 0.4715447154471544,\n",
       "    'f1': 0.47246897082246436}}},\n",
       " 20: {'AAL': {'LinearNN': {'acc': 0.4748201438848921,\n",
       "    'roc_auc': 0.4962785862785863,\n",
       "    'f1': 0.4119744964805032}},\n",
       "  'AAPL': {'LinearNN': {'acc': 0.5424460431654676,\n",
       "    'roc_auc': 0.49119105037513394,\n",
       "    'f1': 0.39110846836549445}},\n",
       "  'AMZN': {'LinearNN': {'acc': 0.5482014388489208,\n",
       "    'roc_auc': 0.5002800207298929,\n",
       "    'f1': 0.3907860148484}},\n",
       "  'CMCSA': {'LinearNN': {'acc': 0.5304054054054054,\n",
       "    'roc_auc': 0.5023373769955356,\n",
       "    'f1': 0.38738140895482936}},\n",
       "  'COST': {'LinearNN': {'acc': 0.46035367940673133,\n",
       "    'roc_auc': 0.5,\n",
       "    'f1': 0.29023860881346264}},\n",
       "  'GM': {'LinearNN': {'acc': 0.48697394789579157,\n",
       "    'roc_auc': 0.4925586628093861,\n",
       "    'f1': 0.4520104212521306}},\n",
       "  'GOOG': {'LinearNN': {'acc': 0.5366906474820143,\n",
       "    'roc_auc': 0.4946949602122016,\n",
       "    'f1': 0.3788995769676394}},\n",
       "  'IBM': {'LinearNN': {'acc': 0.4915426251691475,\n",
       "    'roc_auc': 0.503989073566524,\n",
       "    'f1': 0.34849828403381716}},\n",
       "  'JNJ': {'LinearNN': {'acc': 0.4848920863309353,\n",
       "    'roc_auc': 0.5013213003589948,\n",
       "    'f1': 0.44280315775982426}},\n",
       "  'KO': {'LinearNN': {'acc': 0.5107913669064749,\n",
       "    'roc_auc': 0.5049751243781094,\n",
       "    'f1': 0.49770812361663935}},\n",
       "  'PEP': {'LinearNN': {'acc': 0.4778904665314402,\n",
       "    'roc_auc': 0.5022802620569145,\n",
       "    'f1': 0.3124836258748658}},\n",
       "  'TSLA': {'LinearNN': {'acc': 0.51252408477842,\n",
       "    'roc_auc': 0.5114840989399294,\n",
       "    'f1': 0.5134501511968682}},\n",
       "  'WMT': {'LinearNN': {'acc': 0.5194244604316547,\n",
       "    'roc_auc': 0.5189338722501987,\n",
       "    'f1': 0.5187445662309145}},\n",
       "  'XOM': {'LinearNN': {'acc': 0.45755395683453237,\n",
       "    'roc_auc': 0.4823203363914373,\n",
       "    'f1': 0.34465161616223977}}},\n",
       " 50: {'AAL': {'LinearNN': {'acc': 0.47750362844702465,\n",
       "    'roc_auc': 0.4916394469172576,\n",
       "    'f1': 0.45261568722649936}},\n",
       "  'AAPL': {'LinearNN': {'acc': 0.502177068214804,\n",
       "    'roc_auc': 0.5054505195026401,\n",
       "    'f1': 0.5030142479199083}},\n",
       "  'AMZN': {'LinearNN': {'acc': 0.5471698113207547,\n",
       "    'roc_auc': 0.5,\n",
       "    'f1': 0.3870225494707777}},\n",
       "  'CMCSA': {'LinearNN': {'acc': 0.46950629235237173,\n",
       "    'roc_auc': 0.4982891219373214,\n",
       "    'f1': 0.3034855581808421}},\n",
       "  'COST': {'LinearNN': {'acc': 0.5317687464224384,\n",
       "    'roc_auc': 0.5101726206960214,\n",
       "    'f1': 0.4929062106640678}},\n",
       "  'GM': {'LinearNN': {'acc': 0.5192697768762677,\n",
       "    'roc_auc': 0.5109232491521517,\n",
       "    'f1': 0.39076256810115295}},\n",
       "  'GOOG': {'LinearNN': {'acc': 0.5457184325108854,\n",
       "    'roc_auc': 0.5134514881053382,\n",
       "    'f1': 0.4611779908772356}},\n",
       "  'IBM': {'LinearNN': {'acc': 0.5057627118644068,\n",
       "    'roc_auc': 0.4974689803475121,\n",
       "    'f1': 0.45441073860184883}},\n",
       "  'JNJ': {'LinearNN': {'acc': 0.5341074020319303,\n",
       "    'roc_auc': 0.5135714285714286,\n",
       "    'f1': 0.46179231313595803}},\n",
       "  'KO': {'LinearNN': {'acc': 0.4746008708272859,\n",
       "    'roc_auc': 0.4808688535655226,\n",
       "    'f1': 0.45858277066056874}},\n",
       "  'PEP': {'LinearNN': {'acc': 0.4758031720211468,\n",
       "    'roc_auc': 0.5001067632177505,\n",
       "    'f1': 0.3122225297795425}},\n",
       "  'TSLA': {'LinearNN': {'acc': 0.47173489278752434,\n",
       "    'roc_auc': 0.46254908577739606,\n",
       "    'f1': 0.4683439707666942}},\n",
       "  'WMT': {'LinearNN': {'acc': 0.4934687953555878,\n",
       "    'roc_auc': 0.4923394572728805,\n",
       "    'f1': 0.4896802379258967}},\n",
       "  'XOM': {'LinearNN': {'acc': 0.5355587808417998,\n",
       "    'roc_auc': 0.5162637362637363,\n",
       "    'f1': 0.47311877080696}}}}"
      ]
     },
     "execution_count": 8,
     "metadata": {},
     "output_type": "execute_result"
    }
   ],
   "source": [
    "predict_n_metrics_dict"
   ]
  },
  {
   "cell_type": "markdown",
   "id": "integral-status",
   "metadata": {},
   "source": [
    "### Add to metrics"
   ]
  },
  {
   "cell_type": "code",
   "execution_count": 9,
   "id": "adverse-prairie",
   "metadata": {},
   "outputs": [],
   "source": [
    "save_dict(dict_save=predict_n_metrics_dict, path=f\"{METRICS_PATH}{PIPELINE_LABEL}_dict.txt\")"
   ]
  },
  {
   "cell_type": "code",
   "execution_count": 10,
   "id": "explicit-gibson",
   "metadata": {},
   "outputs": [],
   "source": [
    "previous_metrics = read_dict(f\"{METRICS_PATH}linear_metrics_dict.txt\")\n",
    "\n",
    "previous_metrics = {int(k):v for k,v in previous_metrics.items()}\n",
    "previous_metrics[1]"
   ]
  },
  {
   "cell_type": "code",
   "execution_count": 11,
   "id": "identical-fiber",
   "metadata": {},
   "outputs": [],
   "source": [
    "full_metrics = previous_metrics.copy()\n",
    "merge_metric_dicts(full_metrics, predict_n_metrics_dict)\n",
    "        \n",
    "save_dict(full_metrics, f\"{METRICS_PATH}full_metrics_dict.txt\")"
   ]
  },
  {
   "cell_type": "code",
   "execution_count": 12,
   "id": "biblical-photograph",
   "metadata": {},
   "outputs": [],
   "source": [
    "for predict_n, quot_metrics in full_metrics.items():\n",
    "    metrics_df = pd.DataFrame.from_dict(quot_metrics).T\n",
    "    #print(metrics_df)\n",
    "    acc_df = metrics_df.applymap(lambda metrics: metrics['acc'])\n",
    "    f1_df = metrics_df.applymap(lambda metrics: metrics['f1'])\n",
    "    \n",
    "    plt.figure()\n",
    "    acc_heatmap = sns.heatmap(acc_df, cmap ='mako', linewidths = 0.5, annot = True)\n",
    "    acc_heatmap.figure.savefig(f\"{METRICS_PATH}{predict_n}_acc.png\")\n",
    "    plt.close()\n",
    "    \n",
    "    plt.figure()\n",
    "    f1_heatmap = sns.heatmap(f1_df, cmap ='mako', linewidths = 0.5, annot = True)\n",
    "    f1_heatmap.figure.savefig(f\"{METRICS_PATH}{predict_n}_f1.png\")\n",
    "    plt.close()"
   ]
  },
  {
   "cell_type": "code",
   "execution_count": null,
   "id": "indonesian-antibody",
   "metadata": {},
   "outputs": [],
   "source": []
  }
 ],
 "metadata": {
  "kernelspec": {
   "display_name": "Python 3",
   "language": "python",
   "name": "python3"
  },
  "language_info": {
   "codemirror_mode": {
    "name": "ipython",
    "version": 3
   },
   "file_extension": ".py",
   "mimetype": "text/x-python",
   "name": "python",
   "nbconvert_exporter": "python",
   "pygments_lexer": "ipython3",
   "version": "3.7.7"
  }
 },
 "nbformat": 4,
 "nbformat_minor": 5
}
