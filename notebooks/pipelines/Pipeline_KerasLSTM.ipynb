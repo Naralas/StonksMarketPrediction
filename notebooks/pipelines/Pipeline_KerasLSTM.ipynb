{
 "cells": [
  {
   "cell_type": "code",
   "execution_count": 1,
   "id": "shaped-diamond",
   "metadata": {},
   "outputs": [],
   "source": [
    "%load_ext autoreload\n",
    "%autoreload 2\n",
    "\n",
    "from notebook_config import setup_notebook\n",
    "import matplotlib.pyplot as plt\n",
    "import numpy as np\n",
    "from tqdm.notebook import tqdm\n",
    "\n",
    "setup_notebook()"
   ]
  },
  {
   "cell_type": "code",
   "execution_count": 2,
   "id": "discrete-restriction",
   "metadata": {},
   "outputs": [],
   "source": [
    "from datasets.stocks_data_wrapper import StocksDataWrapper\n",
    "from helpers.data_helper import *\n",
    "from helpers.plots_helper import *"
   ]
  },
  {
   "cell_type": "code",
   "execution_count": 3,
   "id": "divine-matthew",
   "metadata": {},
   "outputs": [],
   "source": [
    "DATA_PATH = '../data/'\n",
    "FILE_SUFFIX='.txt'\n",
    "\n",
    "quotation = 'GOOG'\n",
    "price_column = 'Close'\n",
    "project_label='KerasLSTMClassification'\n",
    "\n",
    "OUTPUT_PATH = 'results/'\n",
    "N_CLASSES = 2\n",
    "METRICS_PATH = f\"{OUTPUT_PATH}metrics/{N_CLASSES}_classes/\"\n",
    "PIPELINE_LABEL = 'lstm'\n",
    "\n",
    "THRESH_DIFF = 0.005 if N_CLASSES is 3 else None"
   ]
  },
  {
   "cell_type": "code",
   "execution_count": 4,
   "id": "oriented-april",
   "metadata": {},
   "outputs": [
    {
     "data": {
      "text/html": [
       "<div>\n",
       "<style scoped>\n",
       "    .dataframe tbody tr th:only-of-type {\n",
       "        vertical-align: middle;\n",
       "    }\n",
       "\n",
       "    .dataframe tbody tr th {\n",
       "        vertical-align: top;\n",
       "    }\n",
       "\n",
       "    .dataframe thead th {\n",
       "        text-align: right;\n",
       "    }\n",
       "</style>\n",
       "<table border=\"1\" class=\"dataframe\">\n",
       "  <thead>\n",
       "    <tr style=\"text-align: right;\">\n",
       "      <th></th>\n",
       "      <th>Date</th>\n",
       "      <th>Open</th>\n",
       "      <th>High</th>\n",
       "      <th>Low</th>\n",
       "      <th>Close</th>\n",
       "      <th>Volume</th>\n",
       "      <th>Adjusted</th>\n",
       "      <th>LowLen</th>\n",
       "      <th>RSI(14)</th>\n",
       "      <th>GAP</th>\n",
       "      <th>...</th>\n",
       "      <th>SMA(10)</th>\n",
       "      <th>SMA(20)</th>\n",
       "      <th>EMA(14)</th>\n",
       "      <th>EMA_Diff</th>\n",
       "      <th>SMA(20) - SMA(10)</th>\n",
       "      <th>Difference</th>\n",
       "      <th>PercentageDiff</th>\n",
       "      <th>Tendency</th>\n",
       "      <th>NextPrice</th>\n",
       "      <th>Next</th>\n",
       "    </tr>\n",
       "  </thead>\n",
       "  <tbody>\n",
       "    <tr>\n",
       "      <th>0</th>\n",
       "      <td>2007-02-21</td>\n",
       "      <td>0.060976</td>\n",
       "      <td>0.060866</td>\n",
       "      <td>0.064614</td>\n",
       "      <td>0.064011</td>\n",
       "      <td>0.242089</td>\n",
       "      <td>0.064011</td>\n",
       "      <td>0.016911</td>\n",
       "      <td>0.433593</td>\n",
       "      <td>0.009099</td>\n",
       "      <td>...</td>\n",
       "      <td>0.057511</td>\n",
       "      <td>0.057771</td>\n",
       "      <td>0.056349</td>\n",
       "      <td>0.581840</td>\n",
       "      <td>0.462882</td>\n",
       "      <td>0.541105</td>\n",
       "      <td>0.392573</td>\n",
       "      <td>higher</td>\n",
       "      <td>0.056271</td>\n",
       "      <td>stay</td>\n",
       "    </tr>\n",
       "    <tr>\n",
       "      <th>1</th>\n",
       "      <td>2007-02-22</td>\n",
       "      <td>0.063578</td>\n",
       "      <td>0.062483</td>\n",
       "      <td>0.066563</td>\n",
       "      <td>0.064008</td>\n",
       "      <td>0.246524</td>\n",
       "      <td>0.064008</td>\n",
       "      <td>0.011757</td>\n",
       "      <td>0.433481</td>\n",
       "      <td>0.011394</td>\n",
       "      <td>...</td>\n",
       "      <td>0.057686</td>\n",
       "      <td>0.057418</td>\n",
       "      <td>0.056519</td>\n",
       "      <td>0.580973</td>\n",
       "      <td>0.458111</td>\n",
       "      <td>0.533703</td>\n",
       "      <td>0.367303</td>\n",
       "      <td>stay</td>\n",
       "      <td>0.055913</td>\n",
       "      <td>stay</td>\n",
       "    </tr>\n",
       "    <tr>\n",
       "      <th>2</th>\n",
       "      <td>2007-02-23</td>\n",
       "      <td>0.062714</td>\n",
       "      <td>0.060363</td>\n",
       "      <td>0.064631</td>\n",
       "      <td>0.062475</td>\n",
       "      <td>0.166584</td>\n",
       "      <td>0.062475</td>\n",
       "      <td>0.022709</td>\n",
       "      <td>0.375610</td>\n",
       "      <td>0.000403</td>\n",
       "      <td>...</td>\n",
       "      <td>0.057673</td>\n",
       "      <td>0.057153</td>\n",
       "      <td>0.056455</td>\n",
       "      <td>0.573359</td>\n",
       "      <td>0.455835</td>\n",
       "      <td>0.523453</td>\n",
       "      <td>0.332589</td>\n",
       "      <td>lower</td>\n",
       "      <td>0.053115</td>\n",
       "      <td>lower</td>\n",
       "    </tr>\n",
       "    <tr>\n",
       "      <th>3</th>\n",
       "      <td>2007-02-26</td>\n",
       "      <td>0.061855</td>\n",
       "      <td>0.059868</td>\n",
       "      <td>0.063444</td>\n",
       "      <td>0.060808</td>\n",
       "      <td>0.170334</td>\n",
       "      <td>0.060808</td>\n",
       "      <td>0.009503</td>\n",
       "      <td>0.318246</td>\n",
       "      <td>0.008897</td>\n",
       "      <td>...</td>\n",
       "      <td>0.057764</td>\n",
       "      <td>0.056684</td>\n",
       "      <td>0.056171</td>\n",
       "      <td>0.566155</td>\n",
       "      <td>0.450778</td>\n",
       "      <td>0.522550</td>\n",
       "      <td>0.329110</td>\n",
       "      <td>lower</td>\n",
       "      <td>0.053780</td>\n",
       "      <td>higher</td>\n",
       "    </tr>\n",
       "    <tr>\n",
       "      <th>4</th>\n",
       "      <td>2007-02-27</td>\n",
       "      <td>0.056611</td>\n",
       "      <td>0.055376</td>\n",
       "      <td>0.058584</td>\n",
       "      <td>0.056072</td>\n",
       "      <td>0.399807</td>\n",
       "      <td>0.056072</td>\n",
       "      <td>0.012885</td>\n",
       "      <td>0.189966</td>\n",
       "      <td>0.039978</td>\n",
       "      <td>...</td>\n",
       "      <td>0.057480</td>\n",
       "      <td>0.056021</td>\n",
       "      <td>0.055274</td>\n",
       "      <td>0.546148</td>\n",
       "      <td>0.447407</td>\n",
       "      <td>0.501991</td>\n",
       "      <td>0.257379</td>\n",
       "      <td>lower</td>\n",
       "      <td>0.058645</td>\n",
       "      <td>higher</td>\n",
       "    </tr>\n",
       "  </tbody>\n",
       "</table>\n",
       "<p>5 rows × 32 columns</p>\n",
       "</div>"
      ],
      "text/plain": [
       "         Date      Open      High       Low     Close    Volume  Adjusted  \\\n",
       "0  2007-02-21  0.060976  0.060866  0.064614  0.064011  0.242089  0.064011   \n",
       "1  2007-02-22  0.063578  0.062483  0.066563  0.064008  0.246524  0.064008   \n",
       "2  2007-02-23  0.062714  0.060363  0.064631  0.062475  0.166584  0.062475   \n",
       "3  2007-02-26  0.061855  0.059868  0.063444  0.060808  0.170334  0.060808   \n",
       "4  2007-02-27  0.056611  0.055376  0.058584  0.056072  0.399807  0.056072   \n",
       "\n",
       "     LowLen   RSI(14)       GAP  ...   SMA(10)   SMA(20)   EMA(14)  EMA_Diff  \\\n",
       "0  0.016911  0.433593  0.009099  ...  0.057511  0.057771  0.056349  0.581840   \n",
       "1  0.011757  0.433481  0.011394  ...  0.057686  0.057418  0.056519  0.580973   \n",
       "2  0.022709  0.375610  0.000403  ...  0.057673  0.057153  0.056455  0.573359   \n",
       "3  0.009503  0.318246  0.008897  ...  0.057764  0.056684  0.056171  0.566155   \n",
       "4  0.012885  0.189966  0.039978  ...  0.057480  0.056021  0.055274  0.546148   \n",
       "\n",
       "   SMA(20) - SMA(10)  Difference  PercentageDiff  Tendency  NextPrice    Next  \n",
       "0           0.462882    0.541105        0.392573    higher   0.056271    stay  \n",
       "1           0.458111    0.533703        0.367303      stay   0.055913    stay  \n",
       "2           0.455835    0.523453        0.332589     lower   0.053115   lower  \n",
       "3           0.450778    0.522550        0.329110     lower   0.053780  higher  \n",
       "4           0.447407    0.501991        0.257379     lower   0.058645  higher  \n",
       "\n",
       "[5 rows x 32 columns]"
      ]
     },
     "execution_count": 4,
     "metadata": {},
     "output_type": "execute_result"
    }
   ],
   "source": [
    "data_wrapper = StocksDataWrapper.read_from(file_path=f\"{DATA_PATH}{quotation}{FILE_SUFFIX}\", thresh_diff=THRESH_DIFF,\n",
    "                                           compute_features=True, predict_n=predict_n, normalize=True)\n",
    "\n",
    "data_wrapper.head()"
   ]
  },
  {
   "cell_type": "code",
   "execution_count": 5,
   "id": "attended-davis",
   "metadata": {},
   "outputs": [
    {
     "data": {
      "text/plain": [
       "(5, 6)"
      ]
     },
     "execution_count": 5,
     "metadata": {},
     "output_type": "execute_result"
    }
   ],
   "source": [
    "y_column = 'Next'\n",
    "seq_len = 5\n",
    "n_splits=5\n",
    "val_size = 0.2\n",
    "\n",
    "features = ['Volume', 'Close', 'LowLen', 'Difference', 'SMA(20) - SMA(10)', 'BG_H_Band_Indicator', 'MACD']\n",
    "datasets_splits = data_wrapper.get_datasets(n_splits=n_splits, val_size=val_size, sequences=True, seq_len=5, y_column=y_column, features_list=features)\n",
    "\n",
    "datasets_splits.shape"
   ]
  },
  {
   "cell_type": "code",
   "execution_count": 6,
   "id": "improved-religious",
   "metadata": {},
   "outputs": [
    {
     "data": {
      "text/plain": [
       "<AxesSubplot:>"
      ]
     },
     "execution_count": 6,
     "metadata": {},
     "output_type": "execute_result"
    },
    {
     "data": {
      "image/png": "[encoded data removed]",
      "text/plain": [
       "<Figure size 1440x576 with 1 Axes>"
      ]
     },
     "metadata": {},
     "output_type": "display_data"
    }
   ],
   "source": [
    "data_wrapper[y_column].hist()"
   ]
  },
  {
   "cell_type": "code",
   "execution_count": 7,
   "id": "prescribed-argument",
   "metadata": {},
   "outputs": [],
   "source": [
    "PERFORM_GRID_SEARCH = True\n",
    "MAX_SIZE = 5000\n",
    "n_splits=5\n",
    "\n",
    "quotations = ['AAL', 'AAPL', 'AMZN','CMCSA', 'COST', 'GM', 'GOOG', 'IBM', 'JNJ', 'KO','PEP', 'TSLA', 'WMT', 'XOM']\n",
    "days_predict_feature_set = {\n",
    "    1:['Volume', 'Close', 'LowLen', 'Difference', 'BG_L_Band', 'GAP', 'MACD_diff'],\n",
    "    5:['Volume', 'Close', 'LowLen', 'Difference', 'SMA(20) - SMA(10)', 'BG_H_Band_Indicator', 'MACD'],\n",
    "    10:['Volume', 'Close', 'BodyLen', 'Difference', 'SMA(20) - SMA(10)', 'EMA_Diff', 'MACD_diff'],\n",
    "    20:['Volume', 'Close', 'LowLen', 'Difference', 'EMA(14)', 'BG_H_Band', 'MACD_diff'],\n",
    "    50:['Volume', 'Close', 'LowLen', 'Difference', 'BG_L_Band','GAP','MACD_diff'],\n",
    "}\n",
    "\n",
    "#quotations=['CMCSA']\n",
    "#days_predict_feature_set = {1:days_predict_feature_set[1]}"
   ]
  },
  {
   "cell_type": "code",
   "execution_count": 8,
   "id": "thousand-discharge",
   "metadata": {},
   "outputs": [],
   "source": [
    "predict_n_metrics_dict = {}"
   ]
  },
  {
   "cell_type": "code",
   "execution_count": 9,
   "id": "residential-forum",
   "metadata": {},
   "outputs": [
    {
     "data": {
      "application/vnd.jupyter.widget-view+json": {
       "model_id": "d839523da8964aa8b338ed65dea2e673",
       "version_major": 2,
       "version_minor": 0
      },
      "text/plain": [
       "  0%|          | 0/5 [00:00<?, ?it/s]"
      ]
     },
     "metadata": {},
     "output_type": "display_data"
    },
    {
     "data": {
      "application/vnd.jupyter.widget-view+json": {
       "model_id": "a34c84b06baa41189f0391a8589fb27e",
       "version_major": 2,
       "version_minor": 0
      },
      "text/plain": [
       "  0%|          | 0/14 [00:00<?, ?it/s]"
      ]
     },
     "metadata": {},
     "output_type": "display_data"
    },
    {
     "data": {
      "application/vnd.jupyter.widget-view+json": {
       "model_id": "b3ecc5ef11e648b3a2c85a4ddac79009",
       "version_major": 2,
       "version_minor": 0
      },
      "text/plain": [
       "  0%|          | 0/14 [00:00<?, ?it/s]"
      ]
     },
     "metadata": {},
     "output_type": "display_data"
    },
    {
     "data": {
      "application/vnd.jupyter.widget-view+json": {
       "model_id": "c2c9f15023114aabb03491dbe8be4838",
       "version_major": 2,
       "version_minor": 0
      },
      "text/plain": [
       "  0%|          | 0/14 [00:00<?, ?it/s]"
      ]
     },
     "metadata": {},
     "output_type": "display_data"
    },
    {
     "data": {
      "application/vnd.jupyter.widget-view+json": {
       "model_id": "47aaa21094d847c5a8e56e2e6e3d4d1b",
       "version_major": 2,
       "version_minor": 0
      },
      "text/plain": [
       "  0%|          | 0/14 [00:00<?, ?it/s]"
      ]
     },
     "metadata": {},
     "output_type": "display_data"
    },
    {
     "data": {
      "application/vnd.jupyter.widget-view+json": {
       "model_id": "aa41aacfc2b441c4b2bcaa2768d84353",
       "version_major": 2,
       "version_minor": 0
      },
      "text/plain": [
       "  0%|          | 0/14 [00:00<?, ?it/s]"
      ]
     },
     "metadata": {},
     "output_type": "display_data"
    }
   ],
   "source": [
    "from keras.preprocessing import timeseries_dataset_from_array as build_timeseries_ds\n",
    "from trainers.keras_classification_trainer import KerasClassificationTrainer\n",
    "from models.keras_lstm_model import LSTMModel\n",
    "import tensorflow as tf\n",
    "\n",
    "\n",
    "config_dict = dict(\n",
    "    quotation=quotation,\n",
    "    predict_n = predict_n,\n",
    "    features=features,\n",
    "    learning_rate = 0.01,\n",
    "    batch_size = 32,\n",
    "    sequence_length=seq_len,\n",
    "    n_epochs = 100,\n",
    "    n_splits = n_splits,\n",
    "    val_size = val_size,\n",
    ")\n",
    "\n",
    "for predict_n, features_list in tqdm(days_predict_feature_set.items()):\n",
    "    quot_metrics_dict = {}\n",
    "    for quot in tqdm(quotations):\n",
    "        data_wrapper = StocksDataWrapper.read_from(f\"{DATA_PATH}{quot}{FILE_SUFFIX}\", \n",
    "                                                   compute_features=True, \n",
    "                                                   predict_n=predict_n, \n",
    "                                                   thresh_diff=None, normalize=True)\n",
    "        config_dict['quotation'] = quot\n",
    "\n",
    "\n",
    "        X_train, X_test, y_train, y_test = data_wrapper.get_datasets(n_splits=1, val_size=0.2, \n",
    "                                                                     y_column='Next', sequences=True, seq_len=5,\n",
    "                                                                     features_list=features_list)\n",
    "        n_classes = len(np.unique(y_train))\n",
    "    \n",
    "        train_set = tf.data.Dataset.from_tensor_slices((X_train, y_train)).batch(config_dict['batch_size'])\n",
    "        test_set = tf.data.Dataset.from_tensor_slices((X_test, y_test)).batch(config_dict['batch_size'])\n",
    "\n",
    "        model = LSTMModel(config_dict, seq_len, len(features), output_dim=len(np.unique(y_train)),\n",
    "                          learning_rate=config_dict['learning_rate'], loss='sparse_categorical_crossentropy', metrics=['accuracy'])\n",
    "        trainer = KerasClassificationTrainer(model, use_wandb=False, project_label=project_label)\n",
    "        trainer.train(train_set)\n",
    "        \n",
    "        metrics = trainer.evaluate(test_set)\n",
    "        label_dict = {'LSTM':metrics}\n",
    "        quot_metrics_dict[quot] = label_dict\n",
    "        \n",
    "    predict_n_metrics_dict[predict_n] = quot_metrics_dict.copy()\n",
    "        "
   ]
  },
  {
   "cell_type": "code",
   "execution_count": 10,
   "id": "egyptian-significance",
   "metadata": {},
   "outputs": [
    {
     "name": "stdout",
     "output_type": "stream",
     "text": [
      "{1: {'AAL': {'LSTM': {'acc': 0.5329512893982808, 'f1': 0.37057547599282326}}, 'AAPL': {'LSTM': {'acc': 0.5501432664756447, 'f1': 0.39048986012319326}}, 'AMZN': {'LSTM': {'acc': 0.5472779369627507, 'f1': 0.38714846651809404}}, 'CMCSA': {'LSTM': {'acc': 0.5286746987951807, 'f1': 0.36567222230662877}}, 'COST': {'LSTM': {'acc': 0.5392938496583144, 'f1': 0.37788477663812337}}, 'GM': {'LSTM': {'acc': 0.5139442231075697, 'f1': 0.3489410777940868}}, 'GOOG': {'LSTM': {'acc': 0.5386819484240688, 'f1': 0.37717767710884514}}, 'IBM': {'LSTM': {'acc': 0.5133491044271713, 'f1': 0.3482703392697067}}, 'JNJ': {'LSTM': {'acc': 0.5257879656160458, 'f1': 0.36237405329781935}}, 'KO': {'LSTM': {'acc': 0.48424068767908307, 'f1': 0.3159717228485137}}, 'PEP': {'LSTM': {'acc': 0.476904376012966, 'f1': 0.30799256546900466}}, 'TSLA': {'LSTM': {'acc': 0.4559386973180077, 'f1': 0.2855616051623311}}, 'WMT': {'LSTM': {'acc': 0.49140401146131807, 'f1': 0.323826274603712}}, 'XOM': {'LSTM': {'acc': 0.5300859598853869, 'f1': 0.36728802463968757}}}, 5: {'AAL': {'LSTM': {'acc': 0.533715925394548, 'f1': 0.37145430167777715}}, 'AAPL': {'LSTM': {'acc': 0.5509325681492109, 'f1': 0.3914118523021221}}, 'AMZN': {'LSTM': {'acc': 0.4533715925394548, 'f1': 0.28285374776400335}}, 'CMCSA': {'LSTM': {'acc': 0.47155255544840885, 'f1': 0.3022138920239475}}, 'COST': {'LSTM': {'acc': 0.539031339031339, 'f1': 0.37758137484164883}}, 'GM': {'LSTM': {'acc': 0.5149700598802395, 'f1': 0.35009822252727746}}, 'GOOG': {'LSTM': {'acc': 0.539454806312769, 'f1': 0.3780708428212509}}, 'IBM': {'LSTM': {'acc': 0.486815415821501, 'f1': 0.31878772113822706}}, 'JNJ': {'LSTM': {'acc': 0.4748923959827834, 'f1': 0.305815920370236}}, 'KO': {'LSTM': {'acc': 0.4835007173601148, 'f1': 0.3151639105422799}}, 'PEP': {'LSTM': {'acc': 0.47669233887312523, 'f1': 0.3077629374223416}}, 'TSLA': {'LSTM': {'acc': 0.45681381957773515, 'f1': 0.2864866641884083}}, 'WMT': {'LSTM': {'acc': 0.5078909612625538, 'f1': 0.34213777409504104}}, 'XOM': {'LSTM': {'acc': 0.46771879483500717, 'f1': 0.31448688903705685}}}, 10: {'AAL': {'LSTM': {'acc': 0.5330459770114943, 'f1': 0.3706842689245818}}, 'AAPL': {'LSTM': {'acc': 0.5517241379310345, 'f1': 0.39233716475095787}}, 'AMZN': {'LSTM': {'acc': 0.4525862068965517, 'f1': 0.2820270131996317}}, 'CMCSA': {'LSTM': {'acc': 0.5287023637240714, 'f1': 0.3657038754443561}}, 'COST': {'LSTM': {'acc': 0.4606613454960091, 'f1': 0.2905654700708629}}, 'GM': {'LSTM': {'acc': 0.508, 'f1': 0.49654694835680757}}, 'GOOG': {'LSTM': {'acc': 0.5402298850574713, 'f1': 0.3789672328015097}}, 'IBM': {'LSTM': {'acc': 0.5133581332431518, 'f1': 0.3482805122963596}}, 'JNJ': {'LSTM': {'acc': 0.47413793103448276, 'f1': 0.30500100826779597}}, 'KO': {'LSTM': {'acc': 0.5172413793103449, 'f1': 0.35266457680250785}}, 'PEP': {'LSTM': {'acc': 0.5093268450932684, 'f1': 0.47320721678776945}}, 'TSLA': {'LSTM': {'acc': 0.5346153846153846, 'f1': 0.4772090714530268}}, 'WMT': {'LSTM': {'acc': 0.492816091954023, 'f1': 0.3253819432920691}}, 'XOM': {'LSTM': {'acc': 0.4698275862068966, 'f1': 0.30035898473050865}}}, 20: {'AAL': {'LSTM': {'acc': 0.4942363112391931, 'f1': 0.48433063339929483}}, 'AAPL': {'LSTM': {'acc': 0.553314121037464, 'f1': 0.394197815358787}}, 'AMZN': {'LSTM': {'acc': 0.4510086455331412, 'f1': 0.28036883029170445}}, 'CMCSA': {'LSTM': {'acc': 0.5287300820859488, 'f1': 0.36573559057745675}}, 'COST': {'LSTM': {'acc': 0.4611872146118721, 'f1': 0.29112442922374426}}, 'GM': {'LSTM': {'acc': 0.5160642570281124, 'f1': 0.3513338120694699}}, 'GOOG': {'LSTM': {'acc': 0.45821325648414984, 'f1': 0.28796801494458424}}, 'IBM': {'LSTM': {'acc': 0.5130287648054146, 'f1': 0.347909464301055}}, 'JNJ': {'LSTM': {'acc': 0.5273775216138329, 'f1': 0.3641890054918166}}, 'KO': {'LSTM': {'acc': 0.4812680115273775, 'f1': 0.3127305755839379}}, 'PEP': {'LSTM': {'acc': 0.4760551948051948, 'f1': 0.30707327110612787}}, 'TSLA': {'LSTM': {'acc': 0.5424710424710425, 'f1': 0.3815628609120474}}, 'WMT': {'LSTM': {'acc': 0.49135446685878964, 'f1': 0.32377173564994643}}, 'XOM': {'LSTM': {'acc': 0.5288184438040345, 'f1': 0.36583669910665534}}}, 50: {'AAL': {'LSTM': {'acc': 0.4680232558139535, 'f1': 0.29842274925166934}}, 'AAPL': {'LSTM': {'acc': 0.44622093023255816, 'f1': 0.2753564333294379}}, 'AMZN': {'LSTM': {'acc': 0.45058139534883723, 'f1': 0.2799203057277345}}, 'CMCSA': {'LSTM': {'acc': 0.4716707021791768, 'f1': 0.3023410753027432}}, 'COST': {'LSTM': {'acc': 0.5389461626575028, 'f1': 0.37748294682598454}}, 'GM': {'LSTM': {'acc': 0.4878048780487805, 'f1': 0.31987205117952816}}, 'GOOG': {'LSTM': {'acc': 0.5421511627906976, 'f1': 0.3811920522543453}}, 'IBM': {'LSTM': {'acc': 0.4872838250254323, 'f1': 0.31930089218492763}}, 'JNJ': {'LSTM': {'acc': 0.5261627906976745, 'f1': 0.3628017718715393}}, 'KO': {'LSTM': {'acc': 0.5145348837209303, 'f1': 0.3701417950561157}}, 'PEP': {'LSTM': {'acc': 0.47640358014646056, 'f1': 0.30745031267649786}}, 'TSLA': {'LSTM': {'acc': 0.541015625, 'f1': 0.37987662389100124}}, 'WMT': {'LSTM': {'acc': 0.5072674418604651, 'f1': 0.3414394160256554}}, 'XOM': {'LSTM': {'acc': 0.47093023255813954, 'f1': 0.3015442595826823}}}}\n"
     ]
    }
   ],
   "source": [
    "print(predict_n_metrics_dict)"
   ]
  },
  {
   "cell_type": "markdown",
   "id": "monetary-marking",
   "metadata": {},
   "source": [
    "### Add to metrics"
   ]
  },
  {
   "cell_type": "code",
   "execution_count": 11,
   "id": "conscious-simpson",
   "metadata": {},
   "outputs": [],
   "source": [
    "save_dict(dict_save=predict_n_metrics_dict, path=f\"{METRICS_PATH}{PIPELINE_LABEL}_dict.txt\")"
   ]
  },
  {
   "cell_type": "code",
   "execution_count": 12,
   "id": "differential-scene",
   "metadata": {},
   "outputs": [],
   "source": [
    "previous_metrics = read_dict(f\"{METRICS_PATH}full_metrics_dict.txt\")\n",
    "\n",
    "previous_metrics = {int(k):v for k,v in previous_metrics.items()}\n",
    "previous_metrics[1]"
   ]
  },
  {
   "cell_type": "code",
   "execution_count": 13,
   "id": "insured-chemistry",
   "metadata": {},
   "outputs": [],
   "source": [
    "full_metrics = previous_metrics.copy()\n",
    "merge_metric_dicts(full_metrics, predict_n_metrics_dict)\n",
    "        \n",
    "save_dict(full_metrics, f\"{METRICS_PATH}full_metrics_dict.txt\")"
   ]
  },
  {
   "cell_type": "code",
   "execution_count": 16,
   "id": "polish-ethiopia",
   "metadata": {},
   "outputs": [],
   "source": [
    "for predict_n, quot_metrics in full_metrics.items():\n",
    "    metrics_df = pd.DataFrame.from_dict(quot_metrics).T\n",
    "    #print(metrics_df)\n",
    "    acc_df = metrics_df.applymap(lambda metrics: metrics['acc'])\n",
    "    f1_df = metrics_df.applymap(lambda metrics: metrics['f1'])\n",
    "    \n",
    "    plt.figure()\n",
    "    acc_heatmap = sns.heatmap(acc_df, cmap ='mako', linewidths = 0.5, annot = True)\n",
    "    acc_heatmap.figure.savefig(f\"{METRICS_PATH}{predict_n}_acc.png\")\n",
    "    plt.close()\n",
    "    \n",
    "    plt.figure()\n",
    "    f1_heatmap = sns.heatmap(f1_df, cmap ='mako', linewidths = 0.5, annot = True)\n",
    "    f1_heatmap.figure.savefig(f\"{METRICS_PATH}{predict_n}_f1.png\")\n",
    "    plt.close()"
   ]
  },
  {
   "cell_type": "code",
   "execution_count": null,
   "id": "interpreted-safety",
   "metadata": {},
   "outputs": [],
   "source": []
  }
 ],
 "metadata": {
  "kernelspec": {
   "display_name": "Python 3",
   "language": "python",
   "name": "python3"
  },
  "language_info": {
   "codemirror_mode": {
    "name": "ipython",
    "version": 3
   },
   "file_extension": ".py",
   "mimetype": "text/x-python",
   "name": "python",
   "nbconvert_exporter": "python",
   "pygments_lexer": "ipython3",
   "version": "3.7.7"
  }
 },
 "nbformat": 4,
 "nbformat_minor": 5
}
