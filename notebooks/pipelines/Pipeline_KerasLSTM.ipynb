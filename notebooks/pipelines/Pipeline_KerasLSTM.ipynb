{
 "cells": [
  {
   "cell_type": "markdown",
   "id": "nervous-carry",
   "metadata": {},
   "source": [
    "# Keras LSTM Pipeline using all stocks"
   ]
  },
  {
   "cell_type": "markdown",
   "id": "extended-bahamas",
   "metadata": {},
   "source": [
    "## Setup"
   ]
  },
  {
   "cell_type": "code",
   "execution_count": 2,
   "id": "monthly-chess",
   "metadata": {},
   "outputs": [],
   "source": [
    "%load_ext autoreload\n",
    "%autoreload 2\n",
    "\n",
    "from notebook_config import setup_notebook\n",
    "import matplotlib.pyplot as plt\n",
    "import numpy as np\n",
    "from tqdm.notebook import tqdm\n",
    "\n",
    "setup_notebook()"
   ]
  },
  {
   "cell_type": "code",
   "execution_count": 3,
   "id": "invalid-terrain",
   "metadata": {},
   "outputs": [],
   "source": [
    "from datasets.stocks_data_wrapper import StocksDataWrapper\n",
    "from helpers.data_helper import *\n",
    "from helpers.plots_helper import *"
   ]
  },
  {
   "cell_type": "code",
   "execution_count": 16,
   "id": "soviet-climb",
   "metadata": {},
   "outputs": [],
   "source": [
    "DATA_PATH = '../../data/'\n",
    "FILE_SUFFIX='.txt'\n",
    "\n",
    "quotation = 'GOOG'\n",
    "price_column = 'Close'\n",
    "project_label='Pipeline'\n",
    "\n",
    "OUTPUT_PATH = 'results/'\n",
    "N_CLASSES = 2\n",
    "METRICS_PATH = f\"{OUTPUT_PATH}metrics/{N_CLASSES}_classes/\"\n",
    "METRICS_PATH = f\"{OUTPUT_PATH}metrics/regression/\"\n",
    "PIPELINE_LABEL = 'LSTM'\n",
    "\n",
    "\n",
    "THRESH_DIFF = 0.005 if N_CLASSES is 3 else None"
   ]
  },
  {
   "cell_type": "markdown",
   "id": "false-selection",
   "metadata": {},
   "source": [
    "## Prepare Data"
   ]
  },
  {
   "cell_type": "code",
   "execution_count": 17,
   "id": "anticipated-computer",
   "metadata": {},
   "outputs": [],
   "source": [
    "y_column = 'Next'\n",
    "seq_len = 5\n",
    "n_splits=5\n",
    "val_size = 0.2\n",
    "\n",
    "features = ['Volume', 'Close', 'LowLen', 'Difference', 'SMA(20) - SMA(10)', 'BG_H_Band_Indicator', 'MACD']"
   ]
  },
  {
   "cell_type": "code",
   "execution_count": 18,
   "id": "primary-doctor",
   "metadata": {},
   "outputs": [],
   "source": [
    "PERFORM_GRID_SEARCH = True\n",
    "MAX_SIZE = 5000\n",
    "n_splits=5\n",
    "\n",
    "quotations = ['AAL', 'AAPL', 'AMZN','CMCSA', 'COST', 'GM', 'GOOG', 'IBM', 'JNJ', 'KO','PEP', 'TSLA', 'WMT', 'XOM']\n",
    "days_predict_feature_set = {\n",
    "    1:['Volume', 'Close', 'LowLen', 'Difference', 'BG_L_Band', 'GAP', 'MACD_diff'],\n",
    "    5:['Volume', 'Close', 'LowLen', 'Difference', 'SMA(20) - SMA(10)', 'BG_H_Band_Indicator', 'MACD'],\n",
    "    10:['Volume', 'Close', 'BodyLen', 'Difference', 'SMA(20) - SMA(10)', 'EMA_Diff', 'MACD_diff'],\n",
    "    20:['Volume', 'Close', 'LowLen', 'Difference', 'EMA(14)', 'BG_H_Band', 'MACD_diff'],\n",
    "    50:['Volume', 'Close', 'LowLen', 'Difference', 'BG_L_Band','GAP','MACD_diff'],\n",
    "}"
   ]
  },
  {
   "cell_type": "markdown",
   "id": "organic-trouble",
   "metadata": {},
   "source": [
    "## Computation for all stocks"
   ]
  },
  {
   "cell_type": "code",
   "execution_count": 19,
   "id": "permanent-mumbai",
   "metadata": {},
   "outputs": [],
   "source": [
    "predict_n_metrics_dict = {}"
   ]
  },
  {
   "cell_type": "code",
   "execution_count": 36,
   "id": "actual-greene",
   "metadata": {},
   "outputs": [
    {
     "data": {
      "application/vnd.jupyter.widget-view+json": {
       "model_id": "ffe3467664d24f50a547363fd0ccbdb4",
       "version_major": 2,
       "version_minor": 0
      },
      "text/plain": [
       "  0%|          | 0/5 [00:00<?, ?it/s]"
      ]
     },
     "metadata": {},
     "output_type": "display_data"
    },
    {
     "data": {
      "application/vnd.jupyter.widget-view+json": {
       "model_id": "e93163fa646b45d8b2d0cdceb1befd77",
       "version_major": 2,
       "version_minor": 0
      },
      "text/plain": [
       "  0%|          | 0/14 [00:00<?, ?it/s]"
      ]
     },
     "metadata": {},
     "output_type": "display_data"
    },
    {
     "data": {
      "application/vnd.jupyter.widget-view+json": {
       "model_id": "f56b2e5bac4644d08adb34cc48a41ca2",
       "version_major": 2,
       "version_minor": 0
      },
      "text/plain": [
       "  0%|          | 0/14 [00:00<?, ?it/s]"
      ]
     },
     "metadata": {},
     "output_type": "display_data"
    },
    {
     "data": {
      "application/vnd.jupyter.widget-view+json": {
       "model_id": "6086f0ba2b8141ddb718600710d607cd",
       "version_major": 2,
       "version_minor": 0
      },
      "text/plain": [
       "  0%|          | 0/14 [00:00<?, ?it/s]"
      ]
     },
     "metadata": {},
     "output_type": "display_data"
    },
    {
     "data": {
      "application/vnd.jupyter.widget-view+json": {
       "model_id": "51d2cbc612e24ba1a0350bf619cb5569",
       "version_major": 2,
       "version_minor": 0
      },
      "text/plain": [
       "  0%|          | 0/14 [00:00<?, ?it/s]"
      ]
     },
     "metadata": {},
     "output_type": "display_data"
    },
    {
     "data": {
      "application/vnd.jupyter.widget-view+json": {
       "model_id": "9f4a5b9fc26e414b90b5c72f1cc4bcba",
       "version_major": 2,
       "version_minor": 0
      },
      "text/plain": [
       "  0%|          | 0/14 [00:00<?, ?it/s]"
      ]
     },
     "metadata": {},
     "output_type": "display_data"
    }
   ],
   "source": [
    "from keras.preprocessing import timeseries_dataset_from_array as build_timeseries_ds\n",
    "from trainers.keras_regression_trainer import KerasRegressionTrainer\n",
    "from models.keras_lstm_model import LSTMModel\n",
    "import tensorflow as tf\n",
    "\n",
    "\n",
    "config_dict = dict(\n",
    "    quotation=quotation,\n",
    "    predict_n = 1,\n",
    "    features=features,\n",
    "    learning_rate = 0.01,\n",
    "    batch_size = 32,\n",
    "    sequence_length=seq_len,\n",
    "    n_epochs = 100,\n",
    "    n_splits = n_splits,\n",
    "    val_size = val_size,\n",
    ")\n",
    "\n",
    "for predict_n, features_list in tqdm(days_predict_feature_set.items()):\n",
    "    quot_metrics_dict = {}\n",
    "    for quot in tqdm(quotations):\n",
    "        data_wrapper = StocksDataWrapper.read_from(f\"{DATA_PATH}{quot}{FILE_SUFFIX}\", \n",
    "                                                   compute_features=True, \n",
    "                                                   predict_n=predict_n, \n",
    "                                                   thresh_diff=None, normalize=True)\n",
    "        config_dict['quotation'] = quot\n",
    "\n",
    "\n",
    "        X_train, X_test, y_train, y_test = data_wrapper.get_datasets(n_splits=1, val_size=0.2,\n",
    "                                                                     y_column='NextPrice', sequences=True, seq_len=5,\n",
    "                                                                     features_list=features_list)\n",
    "        n_classes = len(np.unique(y_train))\n",
    "    \n",
    "        train_set = tf.data.Dataset.from_tensor_slices((X_train, y_train)).batch(config_dict['batch_size'])\n",
    "        test_set = tf.data.Dataset.from_tensor_slices((X_test, y_test)).batch(config_dict['batch_size'])\n",
    "\n",
    "        model = LSTMModel(config_dict, seq_len, len(features), output_dim=1,\n",
    "                          learning_rate=config_dict['learning_rate'], loss='mse', metrics=['accuracy'])\n",
    "        trainer = KerasRegressionTrainer(model, use_wandb=False, project_label=project_label)\n",
    "        trainer.train(train_set)\n",
    "        \n",
    "        metrics = trainer.evaluate(test_set)\n",
    "        label_dict = {'LSTM':metrics}\n",
    "        quot_metrics_dict[quot] = label_dict\n",
    "        \n",
    "    predict_n_metrics_dict[predict_n] = quot_metrics_dict.copy()\n",
    "        "
   ]
  },
  {
   "cell_type": "code",
   "execution_count": 38,
   "id": "useful-container",
   "metadata": {},
   "outputs": [
    {
     "name": "stdout",
     "output_type": "stream",
     "text": [
      "{1: {'AAL': {'LSTM': {'mse': 0.005345122227051616, 'mae': 0.05257157798733653, 'mape': 0.21990598038471207}}, 'AAPL': {'LSTM': {'mse': 0.017545464383322218, 'mae': 0.0812107074589214, 'mape': 0.1249528339729033}}, 'AMZN': {'LSTM': {'mse': 0.05575904951941301, 'mae': 0.08353973285680166, 'mape': 0.1069917737014646}}, 'CMCSA': {'LSTM': {'mse': 2.0211231027007273, 'mae': 0.579481754745886, 'mape': 0.7118292490721969}}, 'COST': {'LSTM': {'mse': 0.00815555524013827, 'mae': 0.05274442761851318, 'mape': 0.0694132219238792}}, 'GM': {'LSTM': {'mse': 0.00045101721871451585, 'mae': 0.014615910434787077, 'mape': 112858393628.61473}}, 'GOOG': {'LSTM': {'mse': 0.00037475664051470303, 'mae': 0.016120389774140407, 'mape': 0.02399854129077886}}, 'IBM': {'LSTM': {'mse': 0.01849880040624655, 'mae': 0.10918556610848268, 'mape': 0.138286006918422}}, 'JNJ': {'LSTM': {'mse': 0.0005046457153907478, 'mae': 0.01666287176379775, 'mape': 0.020603070627265976}}, 'KO': {'LSTM': {'mse': 0.00038719923099188856, 'mae': 0.014338064766122116, 'mape': 0.01987045987470064}}, 'PEP': {'LSTM': {'mse': 0.006191395722069372, 'mae': 0.058152002639521944, 'mape': 0.07224895255820728}}, 'TSLA': {'LSTM': {'mse': 1.1905027906179373, 'mae': 0.4382777349274427, 'mape': 0.9135415719592909}}, 'WMT': {'LSTM': {'mse': 0.00025622179523299274, 'mae': 0.012115357179356228, 'mape': 0.018428450193674124}}, 'XOM': {'LSTM': {'mse': 0.007863183430593968, 'mae': 0.05681345387555707, 'mape': 1505642550786.3745}}}, 5: {'AAL': {'LSTM': {'mse': 0.00030801756755774435, 'mae': 0.012944082817822243, 'mape': 0.03711570655927767}}, 'AAPL': {'LSTM': {'mse': 0.38283518740279676, 'mae': 0.36537922054117816, 'mape': 0.5710698504689885}}, 'AMZN': {'LSTM': {'mse': 0.04381374156777558, 'mae': 0.10781756706796888, 'mape': 0.1442868090130736}}, 'CMCSA': {'LSTM': {'mse': 0.14257251165467796, 'mae': 0.1565997582223625, 'mape': 0.1931534200563261}}, 'COST': {'LSTM': {'mse': 0.02318096406606603, 'mae': 0.11839253942063477, 'mape': 0.19211988185093823}}, 'GM': {'LSTM': {'mse': 0.001946631705093407, 'mae': 0.030780479602574455, 'mape': 175871034521.416}}, 'GOOG': {'LSTM': {'mse': 0.001223903613183229, 'mae': 0.025541349801042296, 'mape': 0.03579490524910497}}, 'IBM': {'LSTM': {'mse': 0.016146407259647593, 'mae': 0.10437804511586309, 'mape': 0.13280639598614757}}, 'JNJ': {'LSTM': {'mse': 0.0007732040353364129, 'mae': 0.023108123672104203, 'mape': 0.027802714781182125}}, 'KO': {'LSTM': {'mse': 0.004877651919927876, 'mae': 0.04638464935383283, 'mape': 0.058247584930145695}}, 'PEP': {'LSTM': {'mse': 0.02192541800053297, 'mae': 0.10754404695802179, 'mape': 0.13261188092889514}}, 'TSLA': {'LSTM': {'mse': 0.9748045646708395, 'mae': 0.37898325570202374, 'mape': 0.7711306819908327}}, 'WMT': {'LSTM': {'mse': 0.0009495944485106985, 'mae': 0.024725186230554835, 'mape': 0.03915102902636761}}, 'XOM': {'LSTM': {'mse': 0.015435573310129938, 'mae': 0.07772691372986373, 'mape': 2770485754048.124}}}, 10: {'AAL': {'LSTM': {'mse': 0.016635584233693382, 'mae': 0.11104803912731766, 'mape': 0.39856794602099826}}, 'AAPL': {'LSTM': {'mse': 0.0874047381525334, 'mae': 0.19872865568297945, 'mape': 0.3229514696701331}}, 'AMZN': {'LSTM': {'mse': 0.003956747651888047, 'mae': 0.043815006896693466, 'mape': 0.06938103350389829}}, 'CMCSA': {'LSTM': {'mse': 0.0011226840216907478, 'mae': 0.023525140758768374, 'mape': 0.037300140332071394}}, 'COST': {'LSTM': {'mse': 0.0017817342677579604, 'mae': 0.030331292133486603, 'mape': 0.05339135939304453}}, 'GM': {'LSTM': {'mse': 0.008289107849146379, 'mae': 0.07072755205806548, 'mape': 3083633510318.2954}}, 'GOOG': {'LSTM': {'mse': 0.002700768911703165, 'mae': 0.03774819911574793, 'mape': 0.05218206900558213}}, 'IBM': {'LSTM': {'mse': 0.0340697537387894, 'mae': 0.14801823267296974, 'mape': 0.18671018002503362}}, 'JNJ': {'LSTM': {'mse': 0.0021824679581607634, 'mae': 0.03652919137063437, 'mape': 0.045684334957180786}}, 'KO': {'LSTM': {'mse': 0.002554015336920275, 'mae': 0.03460670745192103, 'mape': 0.04746972669704071}}, 'PEP': {'LSTM': {'mse': 0.027803599824911634, 'mae': 0.14037184056848828, 'mape': 0.1819696122898105}}, 'TSLA': {'LSTM': {'mse': 0.2187362427941685, 'mae': 0.18181439402293784, 'mape': 0.510259051079615}}, 'WMT': {'LSTM': {'mse': 0.004099827540705312, 'mae': 0.04011358099255218, 'mape': 0.058317722497007105}}, 'XOM': {'LSTM': {'mse': 0.019912656139983314, 'mae': 0.10042541587707138, 'mape': 2721179199230.3706}}}, 20: {'AAL': {'LSTM': {'mse': 0.01796119790125451, 'mae': 0.1094274180028136, 'mape': 0.4122915194282812}}, 'AAPL': {'LSTM': {'mse': 0.07029118979520436, 'mae': 0.1717180674649137, 'mape': 0.2730468724875834}}, 'AMZN': {'LSTM': {'mse': 0.011840318008380129, 'mae': 0.07981046389531263, 'mape': 0.1324820684737223}}, 'CMCSA': {'LSTM': {'mse': 0.0203042590610569, 'mae': 0.1187776797503915, 'mape': 0.17941513025127637}}, 'COST': {'LSTM': {'mse': 0.10558063088149997, 'mae': 0.25450383857110087, 'mape': 0.407287269019827}}, 'GM': {'LSTM': {'mse': 0.042393889606915106, 'mae': 0.10373117599467624, 'mape': 5042288371342.292}}, 'GOOG': {'LSTM': {'mse': 0.010945926746438921, 'mae': 0.07452079145774329, 'mape': 0.09891959768248536}}, 'IBM': {'LSTM': {'mse': 0.04117019017716441, 'mae': 0.16426914947651292, 'mape': 0.20823235401076512}}, 'JNJ': {'LSTM': {'mse': 0.0038256254450812236, 'mae': 0.04932555774111518, 'mape': 0.06098859851419644}}, 'KO': {'LSTM': {'mse': 0.004889645169087881, 'mae': 0.050638719899280205, 'mape': 0.06921571796073288}}, 'PEP': {'LSTM': {'mse': 0.0855599835762838, 'mae': 0.24647857934726278, 'mape': 0.3189530407561841}}, 'TSLA': {'LSTM': {'mse': 0.06714586596323627, 'mae': 0.15642694880731833, 'mape': 0.5448114807566568}}, 'WMT': {'LSTM': {'mse': 0.012515973392977291, 'mae': 0.07132028056874082, 'mape': 0.10401549077383765}}, 'XOM': {'LSTM': {'mse': 0.3186226401871321, 'mae': 0.31402252837978956, 'mape': 2718609477034.9556}}}, 50: {'AAL': {'LSTM': {'mse': 0.05065984044442746, 'mae': 0.18571169325722472, 'mape': 0.7242130337228623}}, 'AAPL': {'LSTM': {'mse': 0.06501142456995754, 'mae': 0.17281796288015744, 'mape': 0.2827895819231834}}, 'AMZN': {'LSTM': {'mse': 0.7201680889357851, 'mae': 0.46638773692718494, 'mape': 0.6692246848807243}}, 'CMCSA': {'LSTM': {'mse': 0.7375665564626576, 'mae': 0.4977703327355963, 'mape': 0.7412446550020527}}, 'COST': {'LSTM': {'mse': 0.7831743644326922, 'mae': 0.3747158810792227, 'mape': 0.5078954882557134}}, 'GM': {'LSTM': {'mse': 0.04461675645570253, 'mae': 0.1394848923069399, 'mape': 6081654595118.37}}, 'GOOG': {'LSTM': {'mse': 0.008312606639785074, 'mae': 0.07207804538943861, 'mape': 0.10241035507491146}}, 'IBM': {'LSTM': {'mse': 0.048002361350223816, 'mae': 0.18149767575518663, 'mape': 0.23172566329491034}}, 'JNJ': {'LSTM': {'mse': 0.005634413945848335, 'mae': 0.06333081312960565, 'mape': 0.0787074848250191}}, 'KO': {'LSTM': {'mse': 0.010722334009408257, 'mae': 0.08531719186777319, 'mape': 0.11331350856467257}}, 'PEP': {'LSTM': {'mse': 0.07038745690422166, 'mae': 0.22153977686658366, 'mape': 0.2855665091570873}}, 'TSLA': {'LSTM': {'mse': 0.07068476576238933, 'mae': 0.16026273006181474, 'mape': 0.5406993296785694}}, 'WMT': {'LSTM': {'mse': 0.04251402627694619, 'mae': 0.15428082424648226, 'mape': 0.21686890987247265}}, 'XOM': {'LSTM': {'mse': 0.04305330852566921, 'mae': 0.15667779326088596, 'mape': 4364225984656.1284}}}}\n"
     ]
    }
   ],
   "source": [
    "print(predict_n_metrics_dict)"
   ]
  },
  {
   "cell_type": "markdown",
   "id": "continental-vegetation",
   "metadata": {},
   "source": [
    "### Add to metrics"
   ]
  },
  {
   "cell_type": "code",
   "execution_count": 39,
   "id": "arbitrary-fireplace",
   "metadata": {},
   "outputs": [
    {
     "name": "stdout",
     "output_type": "stream",
     "text": [
      "results/metrics/regression/LSTM_dict.txt\n"
     ]
    }
   ],
   "source": [
    "print(f\"{METRICS_PATH}{PIPELINE_LABEL}_dict.txt\")"
   ]
  },
  {
   "cell_type": "code",
   "execution_count": 40,
   "id": "analyzed-sunrise",
   "metadata": {},
   "outputs": [],
   "source": [
    "save_dict(dict_save=predict_n_metrics_dict, path=f\"{METRICS_PATH}{PIPELINE_LABEL}_dict.txt\")"
   ]
  },
  {
   "cell_type": "code",
   "execution_count": 41,
   "id": "received-party",
   "metadata": {},
   "outputs": [
    {
     "data": {
      "text/plain": [
       "{'AAL': {'DTree': {'mse': 0.00040002611775352936,\n",
       "   'mae': 0.01517712473316475,\n",
       "   'mape': 0.03865700863537383},\n",
       "  'RandomForest': {'mse': 0.00026469454356206737,\n",
       "   'mae': 0.011830471121597129,\n",
       "   'mape': 0.0317035815048061},\n",
       "  'SVM': {'mse': 0.0012326616718660055,\n",
       "   'mae': 0.027130217484537124,\n",
       "   'mape': 0.08522520213496947},\n",
       "  'LR': {'mse': 0.0002459189601130199,\n",
       "   'mae': 0.011412489432978266,\n",
       "   'mape': 0.03143306038231758},\n",
       "  'LinearNN': {'mse': 0.17441429197788239,\n",
       "   'mae': 0.3135688900947571,\n",
       "   'mape': 1.242722988128662}},\n",
       " 'AAPL': {'DTree': {'mse': 0.0639864274135731,\n",
       "   'mae': 0.1675341345697533,\n",
       "   'mape': 0.5330979677282099},\n",
       "  'RandomForest': {'mse': 0.06479528918158887,\n",
       "   'mae': 0.1696178740919568,\n",
       "   'mape': 0.5438718114409096},\n",
       "  'SVM': {'mse': 0.13882785240228357,\n",
       "   'mae': 0.31834349124692446,\n",
       "   'mape': 1.9994437529407039},\n",
       "  'LR': {'mse': 0.0001616190201255988,\n",
       "   'mae': 0.007981748225476632,\n",
       "   'mape': 0.016132374904576908},\n",
       "  'LinearNN': {'mse': 0.76552814245224,\n",
       "   'mae': 0.6214923858642578,\n",
       "   'mape': 1.066606879234314}},\n",
       " 'AMZN': {'DTree': {'mse': 0.04761110137745437,\n",
       "   'mae': 0.14974067628169763,\n",
       "   'mape': 0.34008283427615543},\n",
       "  'RandomForest': {'mse': 0.04824324908272594,\n",
       "   'mae': 0.15139140584235924,\n",
       "   'mape': 0.34540705344932104},\n",
       "  'SVM': {'mse': 0.025722404241085666,\n",
       "   'mae': 0.10361228264677602,\n",
       "   'mape': 0.1622880116086415},\n",
       "  'LR': {'mse': 0.00017920143948471555,\n",
       "   'mae': 0.009077165384869728,\n",
       "   'mape': 0.015267404912648296},\n",
       "  'LinearNN': {'mse': 0.022700581699609756,\n",
       "   'mae': 0.11364807188510895,\n",
       "   'mape': 0.1938926875591278}},\n",
       " 'CMCSA': {'DTree': {'mse': 0.08078762222193386,\n",
       "   'mae': 0.24465335382742937,\n",
       "   'mape': 0.6873469529615193},\n",
       "  'RandomForest': {'mse': 0.08255938521784421,\n",
       "   'mae': 0.24785823916432076,\n",
       "   'mape': 0.7034444081166137},\n",
       "  'SVM': {'mse': 0.1978965524370056,\n",
       "   'mae': 0.4202971221565149,\n",
       "   'mape': 2.3392675634816142},\n",
       "  'LR': {'mse': 8.835633521721173e-05,\n",
       "   'mae': 0.006400497428272469,\n",
       "   'mape': 0.01055638409492387},\n",
       "  'LinearNN': {'mse': 0.49718743562698364,\n",
       "   'mae': 0.4886718988418579,\n",
       "   'mape': 0.7041550278663635}},\n",
       " 'COST': {'DTree': {'mse': 0.10142847852798746,\n",
       "   'mae': 0.248050332658797,\n",
       "   'mape': 0.8595313698557601},\n",
       "  'RandomForest': {'mse': 0.09630100036097339,\n",
       "   'mae': 0.23763165767872604,\n",
       "   'mape': 0.7943798895967425},\n",
       "  'SVM': {'mse': 0.18781839896416605,\n",
       "   'mae': 0.38453714309395076,\n",
       "   'mape': 2.5298477766473746},\n",
       "  'LR': {'mse': 6.252610403603204e-05,\n",
       "   'mae': 0.004945243305642711,\n",
       "   'mape': 0.009014012073797557},\n",
       "  'LinearNN': {'mse': 0.05603839457035065,\n",
       "   'mae': 0.18956239521503448,\n",
       "   'mape': 0.32471588253974915}},\n",
       " 'GM': {'DTree': {'mse': 0.0009684170914724796,\n",
       "   'mae': 0.02350593194071214,\n",
       "   'mape': 0.05951804149057989},\n",
       "  'RandomForest': {'mse': 0.0008127252171702322,\n",
       "   'mae': 0.020830905735296744,\n",
       "   'mape': 0.054765722440019995},\n",
       "  'SVM': {'mse': 0.0020114320848342816,\n",
       "   'mae': 0.033762404205346076,\n",
       "   'mape': 0.1421134536546801},\n",
       "  'LR': {'mse': 0.0007500437843927451,\n",
       "   'mae': 0.01939704173400142,\n",
       "   'mape': 0.06633260020563642},\n",
       "  'LinearNN': {'mse': 0.06297202408313751,\n",
       "   'mae': 0.19711221754550934,\n",
       "   'mape': 6950458228736.0}},\n",
       " 'GOOG': {'DTree': {'mse': 0.017956967548814373,\n",
       "   'mae': 0.08617712655071161,\n",
       "   'mape': 0.14309620652263844},\n",
       "  'RandomForest': {'mse': 0.018029261509229233,\n",
       "   'mae': 0.0863507068582855,\n",
       "   'mape': 0.143208989245467},\n",
       "  'SVM': {'mse': 0.01200753960335715,\n",
       "   'mae': 0.10140879547570199,\n",
       "   'mape': 0.17200145821697987},\n",
       "  'LR': {'mse': 0.00020947761709985837,\n",
       "   'mae': 0.009884037205038736,\n",
       "   'mape': 0.014868154044977693},\n",
       "  'LinearNN': {'mse': 0.04310254380106926,\n",
       "   'mae': 0.16003645956516266,\n",
       "   'mape': 0.23966863751411438}},\n",
       " 'IBM': {'DTree': {'mse': 0.03034795914032601,\n",
       "   'mae': 0.1326663513566615,\n",
       "   'mape': 0.22302861987237202},\n",
       "  'RandomForest': {'mse': 0.026862302851400566,\n",
       "   'mae': 0.12168757756219885,\n",
       "   'mape': 0.19995791784596653},\n",
       "  'SVM': {'mse': 0.05816205531874037,\n",
       "   'mae': 0.18049339486044777,\n",
       "   'mape': 0.16948285294274726},\n",
       "  'LR': {'mse': 9.489553963351931e-05,\n",
       "   'mae': 0.006731551511406454,\n",
       "   'mape': 0.009732876266318344},\n",
       "  'LinearNN': {'mse': 1.2479772567749023,\n",
       "   'mae': 0.9533796906471252,\n",
       "   'mape': 1.2415010929107666}},\n",
       " 'JNJ': {'DTree': {'mse': 0.000894861952672427,\n",
       "   'mae': 0.021990707792906985,\n",
       "   'mape': 0.026669077248408148},\n",
       "  'RandomForest': {'mse': 0.0007163825399398569,\n",
       "   'mae': 0.018606213610625272,\n",
       "   'mape': 0.022390122113841376},\n",
       "  'SVM': {'mse': 0.004132861622121151,\n",
       "   'mae': 0.0473662011773066,\n",
       "   'mape': 0.05768681887442655},\n",
       "  'LR': {'mse': 0.0003242364376133656,\n",
       "   'mae': 0.011553584398475064,\n",
       "   'mape': 0.014267727670419178},\n",
       "  'LinearNN': {'mse': 0.18543632328510284,\n",
       "   'mae': 0.4162764549255371,\n",
       "   'mape': 0.5067298412322998}},\n",
       " 'KO': {'DTree': {'mse': 0.013203866313246482,\n",
       "   'mae': 0.08077081823106097,\n",
       "   'mape': 0.12119846402731294},\n",
       "  'RandomForest': {'mse': 0.010403867047558702,\n",
       "   'mae': 0.06894561674527291,\n",
       "   'mape': 0.10073618129320165},\n",
       "  'SVM': {'mse': 0.01659636524040602,\n",
       "   'mae': 0.09476362930291081,\n",
       "   'mape': 0.10549060706054779},\n",
       "  'LR': {'mse': 0.000324341166658232,\n",
       "   'mae': 0.011667457672761648,\n",
       "   'mape': 0.016399178375138303},\n",
       "  'LinearNN': {'mse': 0.05688364803791046,\n",
       "   'mae': 0.18026356399059296,\n",
       "   'mape': 0.26128679513931274}},\n",
       " 'PEP': {'DTree': {'mse': 0.05302167424746413,\n",
       "   'mae': 0.18163089868099894,\n",
       "   'mape': 0.34571679878778777},\n",
       "  'RandomForest': {'mse': 0.053836619295175726,\n",
       "   'mae': 0.1834733151663607,\n",
       "   'mape': 0.3506618633030442},\n",
       "  'SVM': {'mse': 0.13868481568851,\n",
       "   'mae': 0.3147623747774566,\n",
       "   'mape': 0.9077268729564453},\n",
       "  'LR': {'mse': 7.269291800179525e-05,\n",
       "   'mae': 0.005163914973636807,\n",
       "   'mape': 0.007254011687503934},\n",
       "  'LinearNN': {'mse': 2.184145927429199,\n",
       "   'mae': 1.2397562265396118,\n",
       "   'mape': 1.6075584888458252}},\n",
       " 'TSLA': {'DTree': {'mse': 0.07329346560509577,\n",
       "   'mae': 0.14939707320106493,\n",
       "   'mape': 1.4749345217803147},\n",
       "  'RandomForest': {'mse': 0.07343068150158163,\n",
       "   'mae': 0.14949495375420482,\n",
       "   'mape': 1.4818922473525982},\n",
       "  'SVM': {'mse': 0.08947795282396726,\n",
       "   'mae': 0.1833862961172083,\n",
       "   'mape': 3.5147795731600198},\n",
       "  'LR': {'mse': 0.00026630012952279355,\n",
       "   'mae': 0.00846485713992091,\n",
       "   'mape': 0.03250318629900024},\n",
       "  'LinearNN': {'mse': 0.026214195415377617,\n",
       "   'mae': 0.09870442748069763,\n",
       "   'mape': 0.4805056154727936}},\n",
       " 'WMT': {'DTree': {'mse': 0.02831368851137983,\n",
       "   'mae': 0.11621381946980536,\n",
       "   'mape': 0.21368441317940298},\n",
       "  'RandomForest': {'mse': 0.024440750599468444,\n",
       "   'mae': 0.10490380490255041,\n",
       "   'mape': 0.1868330483717224},\n",
       "  'SVM': {'mse': 0.006501292878479374,\n",
       "   'mae': 0.06497140332732827,\n",
       "   'mape': 0.10628896659735665},\n",
       "  'LR': {'mse': 0.00023052207902641054,\n",
       "   'mae': 0.009516318360199196,\n",
       "   'mape': 0.015716389262188123},\n",
       "  'LinearNN': {'mse': 0.05408511683344841,\n",
       "   'mae': 0.2037484049797058,\n",
       "   'mape': 0.34492889046669006}},\n",
       " 'XOM': {'DTree': {'mse': 0.016464793413189675,\n",
       "   'mae': 0.07624360655491781,\n",
       "   'mape': 0.20723993914452263},\n",
       "  'RandomForest': {'mse': 0.018208820423963417,\n",
       "   'mae': 0.07924969174798434,\n",
       "   'mape': 0.2096357685621783},\n",
       "  'SVM': {'mse': 0.023970512041408848,\n",
       "   'mae': 0.10078152271432803,\n",
       "   'mape': 0.23834042638438638},\n",
       "  'LR': {'mse': 0.00024106086622871877,\n",
       "   'mae': 0.011586195421722657,\n",
       "   'mape': 0.12537003649921752},\n",
       "  'LinearNN': {'mse': 1.038759469985962,\n",
       "   'mae': 0.6998617649078369,\n",
       "   'mape': 10012133949440.0}}}"
      ]
     },
     "execution_count": 41,
     "metadata": {},
     "output_type": "execute_result"
    }
   ],
   "source": [
    "previous_metrics = read_dict(f\"{METRICS_PATH}full_metrics_dict.txt\")\n",
    "\n",
    "previous_metrics = {int(k):v for k,v in previous_metrics.items()}\n",
    "previous_metrics[1]"
   ]
  },
  {
   "cell_type": "code",
   "execution_count": 43,
   "id": "collectible-strengthening",
   "metadata": {},
   "outputs": [],
   "source": [
    "full_metrics = previous_metrics.copy()\n",
    "merge_metric_dicts(full_metrics, predict_n_metrics_dict)\n",
    "        \n",
    "save_dict(full_metrics, f\"{METRICS_PATH}full_metrics_dict.txt\")"
   ]
  },
  {
   "cell_type": "code",
   "execution_count": 44,
   "id": "induced-vatican",
   "metadata": {},
   "outputs": [],
   "source": [
    "from helpers.data_helper import save_predictions_heatmaps\n",
    "\n",
    "save_predictions_heatmaps(path=METRICS_PATH, metrics_dict=full_metrics, metrics_names_list=['mse', 'mae', 'mape'], reversed=True)"
   ]
  },
  {
   "cell_type": "code",
   "execution_count": 16,
   "id": "agreed-first",
   "metadata": {},
   "outputs": [],
   "source": [
    "for predict_n, quot_metrics in full_metrics.items():\n",
    "    metrics_df = pd.DataFrame.from_dict(quot_metrics).T\n",
    "    #print(metrics_df)\n",
    "    acc_df = metrics_df.applymap(lambda metrics: metrics['acc'])\n",
    "    f1_df = metrics_df.applymap(lambda metrics: metrics['f1'])\n",
    "    \n",
    "    plt.figure()\n",
    "    acc_heatmap = sns.heatmap(acc_df, cmap ='mako', linewidths = 0.5, annot = True)\n",
    "    acc_heatmap.figure.savefig(f\"{METRICS_PATH}{predict_n}_acc.png\")\n",
    "    plt.close()\n",
    "    \n",
    "    plt.figure()\n",
    "    f1_heatmap = sns.heatmap(f1_df, cmap ='mako', linewidths = 0.5, annot = True)\n",
    "    f1_heatmap.figure.savefig(f\"{METRICS_PATH}{predict_n}_f1.png\")\n",
    "    plt.close()"
   ]
  },
  {
   "cell_type": "code",
   "execution_count": null,
   "id": "sensitive-plumbing",
   "metadata": {},
   "outputs": [],
   "source": []
  }
 ],
 "metadata": {
  "kernelspec": {
   "display_name": "Python 3",
   "language": "python",
   "name": "python3"
  },
  "language_info": {
   "codemirror_mode": {
    "name": "ipython",
    "version": 3
   },
   "file_extension": ".py",
   "mimetype": "text/x-python",
   "name": "python",
   "nbconvert_exporter": "python",
   "pygments_lexer": "ipython3",
   "version": "3.7.7"
  }
 },
 "nbformat": 4,
 "nbformat_minor": 5
}
