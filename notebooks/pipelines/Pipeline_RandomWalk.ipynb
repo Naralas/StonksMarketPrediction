{
 "cells": [
  {
   "cell_type": "markdown",
   "id": "hybrid-might",
   "metadata": {},
   "source": [
    "# Random walk stock tendency prediction"
   ]
  },
  {
   "cell_type": "markdown",
   "id": "british-warrant",
   "metadata": {},
   "source": [
    "## Setup"
   ]
  },
  {
   "cell_type": "code",
   "execution_count": 1,
   "id": "fallen-remedy",
   "metadata": {},
   "outputs": [],
   "source": [
    "%load_ext autoreload\n",
    "%autoreload 2\n",
    "\n",
    "from notebook_config import setup_notebook\n",
    "import matplotlib.pyplot as plt\n",
    "import numpy as np\n",
    "import seaborn as sns\n",
    "\n",
    "setup_notebook()"
   ]
  },
  {
   "cell_type": "code",
   "execution_count": 2,
   "id": "boxed-harrison",
   "metadata": {},
   "outputs": [],
   "source": [
    "from tqdm.notebook import trange, tqdm\n",
    "from datasets.stocks_data_wrapper import StocksDataWrapper\n",
    "from helpers.data_helper import *"
   ]
  },
  {
   "cell_type": "code",
   "execution_count": 3,
   "id": "primary-silly",
   "metadata": {},
   "outputs": [],
   "source": [
    "DATA_PATH = '../../data/'\n",
    "quotation = 'AMZN'\n",
    "FILE_SUFFIX = '.txt'\n",
    "price_column = 'Close'"
   ]
  },
  {
   "cell_type": "code",
   "execution_count": 5,
   "id": "rapid-watershed",
   "metadata": {},
   "outputs": [],
   "source": [
    "OUTPUT_PATH = 'results/'\n",
    "N_CLASSES = 2\n",
    "METRICS_PATH = f\"{OUTPUT_PATH}metrics/{N_CLASSES}_classes/\"\n",
    "METRICS_PATH = f\"{OUTPUT_PATH}metrics/regression/\"\n",
    "PIPELINE_LABEL = 'random_walk'"
   ]
  },
  {
   "cell_type": "markdown",
   "id": "stuck-bruce",
   "metadata": {},
   "source": [
    "### Data preparation"
   ]
  },
  {
   "cell_type": "code",
   "execution_count": 6,
   "id": "placed-british",
   "metadata": {},
   "outputs": [],
   "source": [
    "quotations = ['AAL', 'AAPL', 'AMZN','CMCSA', 'COST', 'GM', 'GOOG', 'IBM', 'JNJ', 'KO','PEP', 'TSLA', 'WMT', 'XOM']\n",
    "days_predict_feature_set = {\n",
    "    1:['Volume', 'Close', 'LowLen', 'Difference', 'BG_L_Band', 'GAP', 'MACD_diff'],\n",
    "    5:['Volume', 'Close', 'LowLen', 'Difference', 'SMA(20) - SMA(10)', 'BG_H_Band_Indicator', 'MACD'],\n",
    "    10:['Volume', 'Close', 'BodyLen', 'Difference', 'SMA(20) - SMA(10)', 'EMA_Diff', 'MACD_diff'],\n",
    "    20:['Volume', 'Close', 'LowLen', 'Difference', 'EMA(14)', 'BG_H_Band', 'MACD_diff'],\n",
    "    50:['Volume', 'Close', 'LowLen', 'Difference', 'BG_L_Band','GAP','MACD_diff'],\n",
    "}"
   ]
  },
  {
   "cell_type": "code",
   "execution_count": 7,
   "id": "horizontal-january",
   "metadata": {},
   "outputs": [],
   "source": [
    "predict_n_metrics_dict = {}"
   ]
  },
  {
   "cell_type": "code",
   "execution_count": 10,
   "id": "funny-fundamental",
   "metadata": {},
   "outputs": [],
   "source": [
    "data_wrapper = StocksDataWrapper.read_from(f\"{DATA_PATH}{quotation}{FILE_SUFFIX}\", compute_features=True, \n",
    "                                           predict_n=5, thresh_diff=THRESH_DIFF, normalize=True)"
   ]
  },
  {
   "cell_type": "code",
   "execution_count": 7,
   "id": "still-display",
   "metadata": {},
   "outputs": [
    {
     "data": {
      "application/vnd.jupyter.widget-view+json": {
       "model_id": "9578765def8e42bc8557d51c7cb7dbb4",
       "version_major": 2,
       "version_minor": 0
      },
      "text/plain": [
       "  0%|          | 0/5 [00:00<?, ?it/s]"
      ]
     },
     "metadata": {},
     "output_type": "display_data"
    },
    {
     "data": {
      "application/vnd.jupyter.widget-view+json": {
       "model_id": "cf05e62b57d3478d9ee75bceb055c5d6",
       "version_major": 2,
       "version_minor": 0
      },
      "text/plain": [
       "  0%|          | 0/14 [00:00<?, ?it/s]"
      ]
     },
     "metadata": {},
     "output_type": "display_data"
    },
    {
     "data": {
      "application/vnd.jupyter.widget-view+json": {
       "model_id": "751cdd553199403c8bce6742db12fa5e",
       "version_major": 2,
       "version_minor": 0
      },
      "text/plain": [
       "  0%|          | 0/14 [00:00<?, ?it/s]"
      ]
     },
     "metadata": {},
     "output_type": "display_data"
    },
    {
     "data": {
      "application/vnd.jupyter.widget-view+json": {
       "model_id": "b54bdf1261fe4c51bcaf66d47ddd4992",
       "version_major": 2,
       "version_minor": 0
      },
      "text/plain": [
       "  0%|          | 0/14 [00:00<?, ?it/s]"
      ]
     },
     "metadata": {},
     "output_type": "display_data"
    },
    {
     "data": {
      "application/vnd.jupyter.widget-view+json": {
       "model_id": "a4e7f39de5e143748db603982df400e8",
       "version_major": 2,
       "version_minor": 0
      },
      "text/plain": [
       "  0%|          | 0/14 [00:00<?, ?it/s]"
      ]
     },
     "metadata": {},
     "output_type": "display_data"
    },
    {
     "data": {
      "application/vnd.jupyter.widget-view+json": {
       "model_id": "d56304c4c15e4b8aadd7bb83d87ee5cb",
       "version_major": 2,
       "version_minor": 0
      },
      "text/plain": [
       "  0%|          | 0/14 [00:00<?, ?it/s]"
      ]
     },
     "metadata": {},
     "output_type": "display_data"
    }
   ],
   "source": [
    "import random\n",
    "from sklearn.metrics import accuracy_score, f1_score, mean_squared_error, mean_absolute_error, mean_absolute_percentage_error\n",
    "\n",
    "for predict_n, features_list in tqdm(days_predict_feature_set.items()):\n",
    "    quot_metrics_dict = {}\n",
    "    for quot in tqdm(quotations):\n",
    "        data_wrapper = StocksDataWrapper.read_from(f\"{DATA_PATH}{quot}{FILE_SUFFIX}\", compute_features=True, \n",
    "                                                   predict_n=predict_n, thresh_diff=THRESH_DIFF, normalize=True)\n",
    "        features_list = ['Tendency']\n",
    "        X_train, X_test, y_train, y_test = data_wrapper.get_datasets(n_splits=1, val_size=0.2, \n",
    "                                                                     y_column='Next', \n",
    "                                                                     features_list=features_list)\n",
    "        \n",
    "        \n",
    "        unique_elements, counts_elements = np.unique(X_train, return_counts=True)\n",
    "        # compute element probabilities\n",
    "        element_freq = [v /  sum(counts_elements) for v in counts_elements]\n",
    "        \n",
    "        # choose n = len(X_test) elements according to the prior computed probability\n",
    "        tendency_walk = np.random.choice(unique_elements, size=len(X_test), p=element_freq)\n",
    "        \n",
    "        metrics= {'acc':accuracy_score(tendency_walk, y_test), \n",
    "                  'f1':f1_score(tendency_walk, y_test, average='weighted')\n",
    "        }\n",
    "        \n",
    "        quot_metrics_dict[quot] = {'RandomWalk':metrics}\n",
    "        \n",
    "        \n",
    "    predict_n_metrics_dict[predict_n] = quot_metrics_dict.copy()"
   ]
  },
  {
   "cell_type": "code",
   "execution_count": 11,
   "id": "streaming-render",
   "metadata": {},
   "outputs": [],
   "source": [
    "predict_n_metrics_dict = {}"
   ]
  },
  {
   "cell_type": "code",
   "execution_count": 20,
   "id": "narrative-accident",
   "metadata": {},
   "outputs": [
    {
     "data": {
      "application/vnd.jupyter.widget-view+json": {
       "model_id": "f8cdb1d401244347a6a57ec4d6d91e98",
       "version_major": 2,
       "version_minor": 0
      },
      "text/plain": [
       "  0%|          | 0/5 [00:00<?, ?it/s]"
      ]
     },
     "metadata": {},
     "output_type": "display_data"
    },
    {
     "data": {
      "application/vnd.jupyter.widget-view+json": {
       "model_id": "180bebb192cd4b1a91e1cbd6930a8b81",
       "version_major": 2,
       "version_minor": 0
      },
      "text/plain": [
       "  0%|          | 0/14 [00:00<?, ?it/s]"
      ]
     },
     "metadata": {},
     "output_type": "display_data"
    },
    {
     "data": {
      "application/vnd.jupyter.widget-view+json": {
       "model_id": "37433a5dd7cb4db3a31eaedbad5ed9ec",
       "version_major": 2,
       "version_minor": 0
      },
      "text/plain": [
       "  0%|          | 0/14 [00:00<?, ?it/s]"
      ]
     },
     "metadata": {},
     "output_type": "display_data"
    },
    {
     "data": {
      "application/vnd.jupyter.widget-view+json": {
       "model_id": "96aed806bc1549f296cac6ab90110213",
       "version_major": 2,
       "version_minor": 0
      },
      "text/plain": [
       "  0%|          | 0/14 [00:00<?, ?it/s]"
      ]
     },
     "metadata": {},
     "output_type": "display_data"
    },
    {
     "data": {
      "application/vnd.jupyter.widget-view+json": {
       "model_id": "93222b01f7bd4c6094a38a6b9a42d7e2",
       "version_major": 2,
       "version_minor": 0
      },
      "text/plain": [
       "  0%|          | 0/14 [00:00<?, ?it/s]"
      ]
     },
     "metadata": {},
     "output_type": "display_data"
    },
    {
     "data": {
      "application/vnd.jupyter.widget-view+json": {
       "model_id": "5691acc9ba1c4ddf90f17d679792e01f",
       "version_major": 2,
       "version_minor": 0
      },
      "text/plain": [
       "  0%|          | 0/14 [00:00<?, ?it/s]"
      ]
     },
     "metadata": {},
     "output_type": "display_data"
    }
   ],
   "source": [
    "import random\n",
    "from sklearn.metrics import accuracy_score, f1_score, mean_squared_error, mean_absolute_error, mean_absolute_percentage_error\n",
    "\n",
    "for predict_n, features_list in tqdm(days_predict_feature_set.items()):\n",
    "    quot_metrics_dict = {}\n",
    "    for quot in tqdm(quotations):\n",
    "        data_wrapper = StocksDataWrapper.read_from(f\"{DATA_PATH}{quot}{FILE_SUFFIX}\", compute_features=True, \n",
    "                                                   predict_n=predict_n, thresh_diff=THRESH_DIFF, normalize=True)\n",
    "        features_list = ['Close']\n",
    "        X_train, X_test, y_train, y_test = data_wrapper.get_datasets(n_splits=1, val_size=0.2, \n",
    "                                                                     y_column='NextPrice', \n",
    "                                                                     features_list=features_list)\n",
    "        \n",
    "        # choose n = len(X_test) elements\n",
    "        prices_walk = np.random.choice(X_train.squeeze(), size=len(X_test))\n",
    "        \n",
    "        metrics= {'mse':mean_squared_error(prices_walk, y_test), \n",
    "                  'mae':mean_absolute_error(prices_walk, y_test), \n",
    "                  'mape':mean_absolute_percentage_error(prices_walk, y_test),\n",
    "        }\n",
    "\n",
    "        quot_metrics_dict[quot] = {'RandomWalk':metrics}\n",
    "        \n",
    "    predict_n_metrics_dict[predict_n] = quot_metrics_dict.copy()"
   ]
  },
  {
   "cell_type": "code",
   "execution_count": 21,
   "id": "accepting-tuner",
   "metadata": {},
   "outputs": [
    {
     "data": {
      "text/plain": [
       "{1: {'AAL': {'RandomWalk': {'mse': 0.13232223208556113,\n",
       "    'mae': 0.30531158602995084,\n",
       "    'mape': 3.4475889450512174}},\n",
       "  'AAPL': {'RandomWalk': {'mse': 0.17597319389388721,\n",
       "    'mae': 0.3631381314370611,\n",
       "    'mape': 15.789164834942758}},\n",
       "  'AMZN': {'RandomWalk': {'mse': 0.28456004130557067,\n",
       "    'mae': 0.49774331855896675,\n",
       "    'mape': 24.007528575355074}},\n",
       "  'CMCSA': {'RandomWalk': {'mse': 0.28392384554024597,\n",
       "    'mae': 0.5050117089878567,\n",
       "    'mape': 1253554709750.9727}},\n",
       "  'COST': {'RandomWalk': {'mse': 0.25164144369539343,\n",
       "    'mae': 0.4542527340675398,\n",
       "    'mape': 2811482005801.083}},\n",
       "  'GM': {'RandomWalk': {'mse': 0.08179163483681472,\n",
       "    'mae': 0.228303354345853,\n",
       "    'mape': 0.6913770700215232}},\n",
       "  'GOOG': {'RandomWalk': {'mse': 0.2706730085275981,\n",
       "    'mae': 0.4864307435668934,\n",
       "    'mape': 4068657643002.2026}},\n",
       "  'IBM': {'RandomWalk': {'mse': 0.3562452065402905,\n",
       "    'mae': 0.5604074106443208,\n",
       "    'mape': 13.322117100431615}},\n",
       "  'JNJ': {'RandomWalk': {'mse': 0.2935266804192242,\n",
       "    'mae': 0.49201338246557486,\n",
       "    'mape': 2.7935365756520083}},\n",
       "  'KO': {'RandomWalk': {'mse': 0.1489865454863228,\n",
       "    'mae': 0.32768463641167755,\n",
       "    'mape': 3805081751610.6143}},\n",
       "  'PEP': {'RandomWalk': {'mse': 0.34251053797990744,\n",
       "    'mae': 0.5392696624679225,\n",
       "    'mape': 44.74962840920213}},\n",
       "  'TSLA': {'RandomWalk': {'mse': 0.09354577550791163,\n",
       "    'mae': 0.19507412008212746,\n",
       "    'mape': 47.508870233932974}},\n",
       "  'WMT': {'RandomWalk': {'mse': 0.228911174919535,\n",
       "    'mae': 0.4335118888906191,\n",
       "    'mape': 5.443195934696099}},\n",
       "  'XOM': {'RandomWalk': {'mse': 0.1244893472283133,\n",
       "    'mae': 0.27463869826554443,\n",
       "    'mape': 0.39199312358746563}}},\n",
       " 5: {'AAL': {'RandomWalk': {'mse': 0.12940137141156327,\n",
       "    'mae': 0.29989581098204665,\n",
       "    'mape': 3.58949297411075}},\n",
       "  'AAPL': {'RandomWalk': {'mse': 0.17282315953621727,\n",
       "    'mae': 0.3619393372803667,\n",
       "    'mape': 2122515054533.626}},\n",
       "  'AMZN': {'RandomWalk': {'mse': 0.28246257799387803,\n",
       "    'mae': 0.5010927986408386,\n",
       "    'mape': 35.4725753577715}},\n",
       "  'CMCSA': {'RandomWalk': {'mse': 0.28019847506066964,\n",
       "    'mae': 0.5022959704639004,\n",
       "    'mape': 70.46808754363607}},\n",
       "  'COST': {'RandomWalk': {'mse': 0.25146234388488564,\n",
       "    'mae': 0.45373106679165554,\n",
       "    'mape': 32.691429208331435}},\n",
       "  'GM': {'RandomWalk': {'mse': 0.07802234610657693,\n",
       "    'mae': 0.22426332160709003,\n",
       "    'mape': 0.6768541299850674}},\n",
       "  'GOOG': {'RandomWalk': {'mse': 0.26104582361148737,\n",
       "    'mae': 0.4759771402273292,\n",
       "    'mape': 5.831431579058607}},\n",
       "  'IBM': {'RandomWalk': {'mse': 0.3518924245491955,\n",
       "    'mae': 0.5570596007581636,\n",
       "    'mape': 13.767082120297006}},\n",
       "  'JNJ': {'RandomWalk': {'mse': 0.2823964598246247,\n",
       "    'mae': 0.47475784140268656,\n",
       "    'mape': 3.0072390894241514}},\n",
       "  'KO': {'RandomWalk': {'mse': 0.14695361721707728,\n",
       "    'mae': 0.3318118172082735,\n",
       "    'mape': 3819928663368.6885}},\n",
       "  'PEP': {'RandomWalk': {'mse': 0.34422913724237497,\n",
       "    'mae': 0.5428197187031086,\n",
       "    'mape': 1634349607130.0361}},\n",
       "  'TSLA': {'RandomWalk': {'mse': 0.09359986570005069,\n",
       "    'mae': 0.1948668771323849,\n",
       "    'mape': 89.17956488216419}},\n",
       "  'WMT': {'RandomWalk': {'mse': 0.21648681250241233,\n",
       "    'mae': 0.4192111893718606,\n",
       "    'mape': 4.372921752748773}},\n",
       "  'XOM': {'RandomWalk': {'mse': 0.12430704411920813,\n",
       "    'mae': 0.2718902402216663,\n",
       "    'mape': 0.3890414548791128}}},\n",
       " 10: {'AAL': {'RandomWalk': {'mse': 0.1293862974275064,\n",
       "    'mae': 0.30150046775406636,\n",
       "    'mape': 3.0705095727546627}},\n",
       "  'AAPL': {'RandomWalk': {'mse': 0.1744941666904526,\n",
       "    'mae': 0.36106530624452055,\n",
       "    'mape': 15.880727462570047}},\n",
       "  'AMZN': {'RandomWalk': {'mse': 0.2810829324772998,\n",
       "    'mae': 0.4965002184111103,\n",
       "    'mape': 2572461580276.634}},\n",
       "  'CMCSA': {'RandomWalk': {'mse': 0.2822539034852084,\n",
       "    'mae': 0.5033079967285584,\n",
       "    'mape': 1461002412499.9973}},\n",
       "  'COST': {'RandomWalk': {'mse': 0.25299791753688405,\n",
       "    'mae': 0.45570311899849086,\n",
       "    'mape': 1375393325897.1792}},\n",
       "  'GM': {'RandomWalk': {'mse': 0.08066098967169734,\n",
       "    'mae': 0.2302725977044179,\n",
       "    'mape': 0.6850337879004438}},\n",
       "  'GOOG': {'RandomWalk': {'mse': 0.2716355152502337,\n",
       "    'mae': 0.4859940178458881,\n",
       "    'mape': 6.642785804346719}},\n",
       "  'IBM': {'RandomWalk': {'mse': 0.35195711409473585,\n",
       "    'mae': 0.5571160022306634,\n",
       "    'mape': 13.767419637340225}},\n",
       "  'JNJ': {'RandomWalk': {'mse': 0.29758087851405957,\n",
       "    'mae': 0.49082345663367993,\n",
       "    'mape': 3.045361201481047}},\n",
       "  'KO': {'RandomWalk': {'mse': 0.15365094823193054,\n",
       "    'mae': 0.33377952442049624,\n",
       "    'mape': 1.8454285269607018}},\n",
       "  'PEP': {'RandomWalk': {'mse': 0.34217050293569273,\n",
       "    'mae': 0.5411006949251159,\n",
       "    'mape': 42.31206216407283}},\n",
       "  'TSLA': {'RandomWalk': {'mse': 0.09272718239504166,\n",
       "    'mae': 0.19424659174955897,\n",
       "    'mape': 54.877157271674996}},\n",
       "  'WMT': {'RandomWalk': {'mse': 0.21625559663172894,\n",
       "    'mae': 0.4229920804115559,\n",
       "    'mape': 4.680363208617758}},\n",
       "  'XOM': {'RandomWalk': {'mse': 0.1280003355687278,\n",
       "    'mae': 0.27663602905050266,\n",
       "    'mape': 0.3939438751056996}}},\n",
       " 20: {'AAL': {'RandomWalk': {'mse': 0.13211672082508935,\n",
       "    'mae': 0.30447397493471356,\n",
       "    'mape': 1611144257260.3423}},\n",
       "  'AAPL': {'RandomWalk': {'mse': 0.1698364746771819,\n",
       "    'mae': 0.3577874400554522,\n",
       "    'mape': 13.87583746126352}},\n",
       "  'AMZN': {'RandomWalk': {'mse': 0.28787103531943475,\n",
       "    'mae': 0.5041427310327992,\n",
       "    'mape': 25.921225101833848}},\n",
       "  'CMCSA': {'RandomWalk': {'mse': 0.2846910519374481,\n",
       "    'mae': 0.5055838100651159,\n",
       "    'mape': 1652060093814.3997}},\n",
       "  'COST': {'RandomWalk': {'mse': 0.2547903689248103,\n",
       "    'mae': 0.4576375787448596,\n",
       "    'mape': 34.22664202757256}},\n",
       "  'GM': {'RandomWalk': {'mse': 0.08232340981063799,\n",
       "    'mae': 0.22696267837194764,\n",
       "    'mape': 0.6526727087657885}},\n",
       "  'GOOG': {'RandomWalk': {'mse': 0.26321759241566406,\n",
       "    'mae': 0.4792234644738894,\n",
       "    'mape': 5052093489442.408}},\n",
       "  'IBM': {'RandomWalk': {'mse': 0.35173172042727124,\n",
       "    'mae': 0.5575082059912555,\n",
       "    'mape': 14.320080953257957}},\n",
       "  'JNJ': {'RandomWalk': {'mse': 0.28204761680112045,\n",
       "    'mae': 0.47574832482031615,\n",
       "    'mape': 2.9153064138981892}},\n",
       "  'KO': {'RandomWalk': {'mse': 0.16425714960049584,\n",
       "    'mae': 0.3476070960455186,\n",
       "    'mape': 2.057362536642082}},\n",
       "  'PEP': {'RandomWalk': {'mse': 0.3403117492752634,\n",
       "    'mae': 0.5389675239500217,\n",
       "    'mape': 43.64216504309365}},\n",
       "  'TSLA': {'RandomWalk': {'mse': 0.09075769176727672,\n",
       "    'mae': 0.19038108263067824,\n",
       "    'mape': 45.75168249444074}},\n",
       "  'WMT': {'RandomWalk': {'mse': 0.21932996192883952,\n",
       "    'mae': 0.4226273971843019,\n",
       "    'mape': 4.304379306518055}},\n",
       "  'XOM': {'RandomWalk': {'mse': 0.1333013251407503,\n",
       "    'mae': 0.2833394159509134,\n",
       "    'mape': 0.3992483168379517}}},\n",
       " 50: {'AAL': {'RandomWalk': {'mse': 0.13153452916525418,\n",
       "    'mae': 0.3055010310524886,\n",
       "    'mape': 1301292238912.5073}},\n",
       "  'AAPL': {'RandomWalk': {'mse': 0.17718067512416763,\n",
       "    'mae': 0.3635407621332095,\n",
       "    'mape': 17.191994060593856}},\n",
       "  'AMZN': {'RandomWalk': {'mse': 0.285208311217361,\n",
       "    'mae': 0.5025071243296411,\n",
       "    'mape': 29.16020468664938}},\n",
       "  'CMCSA': {'RandomWalk': {'mse': 0.28060399326565005,\n",
       "    'mae': 0.5024625984318687,\n",
       "    'mape': 69.07148099100328}},\n",
       "  'COST': {'RandomWalk': {'mse': 0.2514748465495656,\n",
       "    'mae': 0.45453403987066004,\n",
       "    'mape': 1403220279915.8345}},\n",
       "  'GM': {'RandomWalk': {'mse': 0.08025263153605779,\n",
       "    'mae': 0.22600298406672728,\n",
       "    'mape': 0.6637176939512344}},\n",
       "  'GOOG': {'RandomWalk': {'mse': 0.26170889625819554,\n",
       "    'mae': 0.4785067150933652,\n",
       "    'mape': 5.374488464748707}},\n",
       "  'IBM': {'RandomWalk': {'mse': 0.35528391502927986,\n",
       "    'mae': 0.5595198555259253,\n",
       "    'mape': 982742736661.2728}},\n",
       "  'JNJ': {'RandomWalk': {'mse': 0.2943866993341366,\n",
       "    'mae': 0.4903336780753876,\n",
       "    'mape': 2.971034992728109}},\n",
       "  'KO': {'RandomWalk': {'mse': 0.1548594446422636,\n",
       "    'mae': 0.33479244707666345,\n",
       "    'mape': 1.774936878255382}},\n",
       "  'PEP': {'RandomWalk': {'mse': 0.3418041919883319,\n",
       "    'mae': 0.5398974691031817,\n",
       "    'mape': 1378543455372.3386}},\n",
       "  'TSLA': {'RandomWalk': {'mse': 0.0891675818299145,\n",
       "    'mae': 0.19226965511434327,\n",
       "    'mape': 89.86240840740767}},\n",
       "  'WMT': {'RandomWalk': {'mse': 0.21352226403224586,\n",
       "    'mae': 0.41689856417765386,\n",
       "    'mape': 6234210874675.615}},\n",
       "  'XOM': {'RandomWalk': {'mse': 0.12922222554337212,\n",
       "    'mae': 0.2823957855343083,\n",
       "    'mape': 0.3971352670461037}}}}"
      ]
     },
     "execution_count": 21,
     "metadata": {},
     "output_type": "execute_result"
    }
   ],
   "source": [
    "predict_n_metrics_dict"
   ]
  },
  {
   "cell_type": "code",
   "execution_count": 23,
   "id": "sitting-reunion",
   "metadata": {},
   "outputs": [
    {
     "name": "stdout",
     "output_type": "stream",
     "text": [
      "results/metrics/regression/random_walk_dict.txt\n"
     ]
    }
   ],
   "source": [
    "print(f\"{METRICS_PATH}{PIPELINE_LABEL}_dict.txt\")"
   ]
  },
  {
   "cell_type": "code",
   "execution_count": 24,
   "id": "statistical-publisher",
   "metadata": {},
   "outputs": [],
   "source": [
    "save_dict(dict_save=predict_n_metrics_dict, path=f\"{METRICS_PATH}{PIPELINE_LABEL}_dict.txt\")"
   ]
  },
  {
   "cell_type": "code",
   "execution_count": 25,
   "id": "clean-variety",
   "metadata": {},
   "outputs": [
    {
     "name": "stdout",
     "output_type": "stream",
     "text": [
      "{'AAL': {'RandomWalk': {'mse': 0.13232223208556113, 'mae': 0.30531158602995084, 'mape': 3.4475889450512174}}, 'AAPL': {'RandomWalk': {'mse': 0.17597319389388721, 'mae': 0.3631381314370611, 'mape': 15.789164834942758}}, 'AMZN': {'RandomWalk': {'mse': 0.28456004130557067, 'mae': 0.49774331855896675, 'mape': 24.007528575355074}}, 'CMCSA': {'RandomWalk': {'mse': 0.28392384554024597, 'mae': 0.5050117089878567, 'mape': 1253554709750.9727}}, 'COST': {'RandomWalk': {'mse': 0.25164144369539343, 'mae': 0.4542527340675398, 'mape': 2811482005801.083}}, 'GM': {'RandomWalk': {'mse': 0.08179163483681472, 'mae': 0.228303354345853, 'mape': 0.6913770700215232}}, 'GOOG': {'RandomWalk': {'mse': 0.2706730085275981, 'mae': 0.4864307435668934, 'mape': 4068657643002.2026}}, 'IBM': {'RandomWalk': {'mse': 0.3562452065402905, 'mae': 0.5604074106443208, 'mape': 13.322117100431615}}, 'JNJ': {'RandomWalk': {'mse': 0.2935266804192242, 'mae': 0.49201338246557486, 'mape': 2.7935365756520083}}, 'KO': {'RandomWalk': {'mse': 0.1489865454863228, 'mae': 0.32768463641167755, 'mape': 3805081751610.6143}}, 'PEP': {'RandomWalk': {'mse': 0.34251053797990744, 'mae': 0.5392696624679225, 'mape': 44.74962840920213}}, 'TSLA': {'RandomWalk': {'mse': 0.09354577550791163, 'mae': 0.19507412008212746, 'mape': 47.508870233932974}}, 'WMT': {'RandomWalk': {'mse': 0.228911174919535, 'mae': 0.4335118888906191, 'mape': 5.443195934696099}}, 'XOM': {'RandomWalk': {'mse': 0.1244893472283133, 'mae': 0.27463869826554443, 'mape': 0.39199312358746563}}}\n"
     ]
    }
   ],
   "source": [
    "print(predict_n_metrics_dict[1])"
   ]
  },
  {
   "cell_type": "code",
   "execution_count": 26,
   "id": "super-neutral",
   "metadata": {},
   "outputs": [
    {
     "data": {
      "text/plain": [
       "{'AAL': {'DTree': {'mse': 0.00040002611775352936,\n",
       "   'mae': 0.01517712473316475,\n",
       "   'mape': 0.03865700863537383},\n",
       "  'RandomForest': {'mse': 0.00026469454356206737,\n",
       "   'mae': 0.011830471121597129,\n",
       "   'mape': 0.0317035815048061},\n",
       "  'SVM': {'mse': 0.0012326616718660055,\n",
       "   'mae': 0.027130217484537124,\n",
       "   'mape': 0.08522520213496947},\n",
       "  'LR': {'mse': 0.0002459189601130199,\n",
       "   'mae': 0.011412489432978266,\n",
       "   'mape': 0.03143306038231758},\n",
       "  'LinearNN': {'mse': 0.17441429197788239,\n",
       "   'mae': 0.3135688900947571,\n",
       "   'mape': 1.242722988128662},\n",
       "  'LSTM': {'mse': 0.005345122227051616,\n",
       "   'mae': 0.05257157798733653,\n",
       "   'mape': 0.21990598038471207}},\n",
       " 'AAPL': {'DTree': {'mse': 0.0639864274135731,\n",
       "   'mae': 0.1675341345697533,\n",
       "   'mape': 0.5330979677282099},\n",
       "  'RandomForest': {'mse': 0.06479528918158887,\n",
       "   'mae': 0.1696178740919568,\n",
       "   'mape': 0.5438718114409096},\n",
       "  'SVM': {'mse': 0.13882785240228357,\n",
       "   'mae': 0.31834349124692446,\n",
       "   'mape': 1.9994437529407039},\n",
       "  'LR': {'mse': 0.0001616190201255988,\n",
       "   'mae': 0.007981748225476632,\n",
       "   'mape': 0.016132374904576908},\n",
       "  'LinearNN': {'mse': 0.76552814245224,\n",
       "   'mae': 0.6214923858642578,\n",
       "   'mape': 1.066606879234314},\n",
       "  'LSTM': {'mse': 0.017545464383322218,\n",
       "   'mae': 0.0812107074589214,\n",
       "   'mape': 0.1249528339729033}},\n",
       " 'AMZN': {'DTree': {'mse': 0.04761110137745437,\n",
       "   'mae': 0.14974067628169763,\n",
       "   'mape': 0.34008283427615543},\n",
       "  'RandomForest': {'mse': 0.04824324908272594,\n",
       "   'mae': 0.15139140584235924,\n",
       "   'mape': 0.34540705344932104},\n",
       "  'SVM': {'mse': 0.025722404241085666,\n",
       "   'mae': 0.10361228264677602,\n",
       "   'mape': 0.1622880116086415},\n",
       "  'LR': {'mse': 0.00017920143948471555,\n",
       "   'mae': 0.009077165384869728,\n",
       "   'mape': 0.015267404912648296},\n",
       "  'LinearNN': {'mse': 0.022700581699609756,\n",
       "   'mae': 0.11364807188510895,\n",
       "   'mape': 0.1938926875591278},\n",
       "  'LSTM': {'mse': 0.05575904951941301,\n",
       "   'mae': 0.08353973285680166,\n",
       "   'mape': 0.1069917737014646}},\n",
       " 'CMCSA': {'DTree': {'mse': 0.08078762222193386,\n",
       "   'mae': 0.24465335382742937,\n",
       "   'mape': 0.6873469529615193},\n",
       "  'RandomForest': {'mse': 0.08255938521784421,\n",
       "   'mae': 0.24785823916432076,\n",
       "   'mape': 0.7034444081166137},\n",
       "  'SVM': {'mse': 0.1978965524370056,\n",
       "   'mae': 0.4202971221565149,\n",
       "   'mape': 2.3392675634816142},\n",
       "  'LR': {'mse': 8.835633521721173e-05,\n",
       "   'mae': 0.006400497428272469,\n",
       "   'mape': 0.01055638409492387},\n",
       "  'LinearNN': {'mse': 0.49718743562698364,\n",
       "   'mae': 0.4886718988418579,\n",
       "   'mape': 0.7041550278663635},\n",
       "  'LSTM': {'mse': 2.0211231027007273,\n",
       "   'mae': 0.579481754745886,\n",
       "   'mape': 0.7118292490721969}},\n",
       " 'COST': {'DTree': {'mse': 0.10142847852798746,\n",
       "   'mae': 0.248050332658797,\n",
       "   'mape': 0.8595313698557601},\n",
       "  'RandomForest': {'mse': 0.09630100036097339,\n",
       "   'mae': 0.23763165767872604,\n",
       "   'mape': 0.7943798895967425},\n",
       "  'SVM': {'mse': 0.18781839896416605,\n",
       "   'mae': 0.38453714309395076,\n",
       "   'mape': 2.5298477766473746},\n",
       "  'LR': {'mse': 6.252610403603204e-05,\n",
       "   'mae': 0.004945243305642711,\n",
       "   'mape': 0.009014012073797557},\n",
       "  'LinearNN': {'mse': 0.05603839457035065,\n",
       "   'mae': 0.18956239521503448,\n",
       "   'mape': 0.32471588253974915},\n",
       "  'LSTM': {'mse': 0.00815555524013827,\n",
       "   'mae': 0.05274442761851318,\n",
       "   'mape': 0.0694132219238792}},\n",
       " 'GM': {'DTree': {'mse': 0.0009684170914724796,\n",
       "   'mae': 0.02350593194071214,\n",
       "   'mape': 0.05951804149057989},\n",
       "  'RandomForest': {'mse': 0.0008127252171702322,\n",
       "   'mae': 0.020830905735296744,\n",
       "   'mape': 0.054765722440019995},\n",
       "  'SVM': {'mse': 0.0020114320848342816,\n",
       "   'mae': 0.033762404205346076,\n",
       "   'mape': 0.1421134536546801},\n",
       "  'LR': {'mse': 0.0007500437843927451,\n",
       "   'mae': 0.01939704173400142,\n",
       "   'mape': 0.06633260020563642},\n",
       "  'LinearNN': {'mse': 0.06297202408313751,\n",
       "   'mae': 0.19711221754550934,\n",
       "   'mape': 6950458228736.0},\n",
       "  'LSTM': {'mse': 0.00045101721871451585,\n",
       "   'mae': 0.014615910434787077,\n",
       "   'mape': 112858393628.61473}},\n",
       " 'GOOG': {'DTree': {'mse': 0.017956967548814373,\n",
       "   'mae': 0.08617712655071161,\n",
       "   'mape': 0.14309620652263844},\n",
       "  'RandomForest': {'mse': 0.018029261509229233,\n",
       "   'mae': 0.0863507068582855,\n",
       "   'mape': 0.143208989245467},\n",
       "  'SVM': {'mse': 0.01200753960335715,\n",
       "   'mae': 0.10140879547570199,\n",
       "   'mape': 0.17200145821697987},\n",
       "  'LR': {'mse': 0.00020947761709985837,\n",
       "   'mae': 0.009884037205038736,\n",
       "   'mape': 0.014868154044977693},\n",
       "  'LinearNN': {'mse': 0.04310254380106926,\n",
       "   'mae': 0.16003645956516266,\n",
       "   'mape': 0.23966863751411438},\n",
       "  'LSTM': {'mse': 0.00037475664051470303,\n",
       "   'mae': 0.016120389774140407,\n",
       "   'mape': 0.02399854129077886}},\n",
       " 'IBM': {'DTree': {'mse': 0.03034795914032601,\n",
       "   'mae': 0.1326663513566615,\n",
       "   'mape': 0.22302861987237202},\n",
       "  'RandomForest': {'mse': 0.026862302851400566,\n",
       "   'mae': 0.12168757756219885,\n",
       "   'mape': 0.19995791784596653},\n",
       "  'SVM': {'mse': 0.05816205531874037,\n",
       "   'mae': 0.18049339486044777,\n",
       "   'mape': 0.16948285294274726},\n",
       "  'LR': {'mse': 9.489553963351931e-05,\n",
       "   'mae': 0.006731551511406454,\n",
       "   'mape': 0.009732876266318344},\n",
       "  'LinearNN': {'mse': 1.2479772567749023,\n",
       "   'mae': 0.9533796906471252,\n",
       "   'mape': 1.2415010929107666},\n",
       "  'LSTM': {'mse': 0.01849880040624655,\n",
       "   'mae': 0.10918556610848268,\n",
       "   'mape': 0.138286006918422}},\n",
       " 'JNJ': {'DTree': {'mse': 0.000894861952672427,\n",
       "   'mae': 0.021990707792906985,\n",
       "   'mape': 0.026669077248408148},\n",
       "  'RandomForest': {'mse': 0.0007163825399398569,\n",
       "   'mae': 0.018606213610625272,\n",
       "   'mape': 0.022390122113841376},\n",
       "  'SVM': {'mse': 0.004132861622121151,\n",
       "   'mae': 0.0473662011773066,\n",
       "   'mape': 0.05768681887442655},\n",
       "  'LR': {'mse': 0.0003242364376133656,\n",
       "   'mae': 0.011553584398475064,\n",
       "   'mape': 0.014267727670419178},\n",
       "  'LinearNN': {'mse': 0.18543632328510284,\n",
       "   'mae': 0.4162764549255371,\n",
       "   'mape': 0.5067298412322998},\n",
       "  'LSTM': {'mse': 0.0005046457153907478,\n",
       "   'mae': 0.01666287176379775,\n",
       "   'mape': 0.020603070627265976}},\n",
       " 'KO': {'DTree': {'mse': 0.013203866313246482,\n",
       "   'mae': 0.08077081823106097,\n",
       "   'mape': 0.12119846402731294},\n",
       "  'RandomForest': {'mse': 0.010403867047558702,\n",
       "   'mae': 0.06894561674527291,\n",
       "   'mape': 0.10073618129320165},\n",
       "  'SVM': {'mse': 0.01659636524040602,\n",
       "   'mae': 0.09476362930291081,\n",
       "   'mape': 0.10549060706054779},\n",
       "  'LR': {'mse': 0.000324341166658232,\n",
       "   'mae': 0.011667457672761648,\n",
       "   'mape': 0.016399178375138303},\n",
       "  'LinearNN': {'mse': 0.05688364803791046,\n",
       "   'mae': 0.18026356399059296,\n",
       "   'mape': 0.26128679513931274},\n",
       "  'LSTM': {'mse': 0.00038719923099188856,\n",
       "   'mae': 0.014338064766122116,\n",
       "   'mape': 0.01987045987470064}},\n",
       " 'PEP': {'DTree': {'mse': 0.05302167424746413,\n",
       "   'mae': 0.18163089868099894,\n",
       "   'mape': 0.34571679878778777},\n",
       "  'RandomForest': {'mse': 0.053836619295175726,\n",
       "   'mae': 0.1834733151663607,\n",
       "   'mape': 0.3506618633030442},\n",
       "  'SVM': {'mse': 0.13868481568851,\n",
       "   'mae': 0.3147623747774566,\n",
       "   'mape': 0.9077268729564453},\n",
       "  'LR': {'mse': 7.269291800179525e-05,\n",
       "   'mae': 0.005163914973636807,\n",
       "   'mape': 0.007254011687503934},\n",
       "  'LinearNN': {'mse': 2.184145927429199,\n",
       "   'mae': 1.2397562265396118,\n",
       "   'mape': 1.6075584888458252},\n",
       "  'LSTM': {'mse': 0.006191395722069372,\n",
       "   'mae': 0.058152002639521944,\n",
       "   'mape': 0.07224895255820728}},\n",
       " 'TSLA': {'DTree': {'mse': 0.07329346560509577,\n",
       "   'mae': 0.14939707320106493,\n",
       "   'mape': 1.4749345217803147},\n",
       "  'RandomForest': {'mse': 0.07343068150158163,\n",
       "   'mae': 0.14949495375420482,\n",
       "   'mape': 1.4818922473525982},\n",
       "  'SVM': {'mse': 0.08947795282396726,\n",
       "   'mae': 0.1833862961172083,\n",
       "   'mape': 3.5147795731600198},\n",
       "  'LR': {'mse': 0.00026630012952279355,\n",
       "   'mae': 0.00846485713992091,\n",
       "   'mape': 0.03250318629900024},\n",
       "  'LinearNN': {'mse': 0.026214195415377617,\n",
       "   'mae': 0.09870442748069763,\n",
       "   'mape': 0.4805056154727936},\n",
       "  'LSTM': {'mse': 1.1905027906179373,\n",
       "   'mae': 0.4382777349274427,\n",
       "   'mape': 0.9135415719592909}},\n",
       " 'WMT': {'DTree': {'mse': 0.02831368851137983,\n",
       "   'mae': 0.11621381946980536,\n",
       "   'mape': 0.21368441317940298},\n",
       "  'RandomForest': {'mse': 0.024440750599468444,\n",
       "   'mae': 0.10490380490255041,\n",
       "   'mape': 0.1868330483717224},\n",
       "  'SVM': {'mse': 0.006501292878479374,\n",
       "   'mae': 0.06497140332732827,\n",
       "   'mape': 0.10628896659735665},\n",
       "  'LR': {'mse': 0.00023052207902641054,\n",
       "   'mae': 0.009516318360199196,\n",
       "   'mape': 0.015716389262188123},\n",
       "  'LinearNN': {'mse': 0.05408511683344841,\n",
       "   'mae': 0.2037484049797058,\n",
       "   'mape': 0.34492889046669006},\n",
       "  'LSTM': {'mse': 0.00025622179523299274,\n",
       "   'mae': 0.012115357179356228,\n",
       "   'mape': 0.018428450193674124}},\n",
       " 'XOM': {'DTree': {'mse': 0.016464793413189675,\n",
       "   'mae': 0.07624360655491781,\n",
       "   'mape': 0.20723993914452263},\n",
       "  'RandomForest': {'mse': 0.018208820423963417,\n",
       "   'mae': 0.07924969174798434,\n",
       "   'mape': 0.2096357685621783},\n",
       "  'SVM': {'mse': 0.023970512041408848,\n",
       "   'mae': 0.10078152271432803,\n",
       "   'mape': 0.23834042638438638},\n",
       "  'LR': {'mse': 0.00024106086622871877,\n",
       "   'mae': 0.011586195421722657,\n",
       "   'mape': 0.12537003649921752},\n",
       "  'LinearNN': {'mse': 1.038759469985962,\n",
       "   'mae': 0.6998617649078369,\n",
       "   'mape': 10012133949440.0},\n",
       "  'LSTM': {'mse': 0.007863183430593968,\n",
       "   'mae': 0.05681345387555707,\n",
       "   'mape': 1505642550786.3745}}}"
      ]
     },
     "execution_count": 26,
     "metadata": {},
     "output_type": "execute_result"
    }
   ],
   "source": [
    "previous_metrics = read_dict(f\"{METRICS_PATH}full_metrics_dict.txt\")\n",
    "\n",
    "previous_metrics = {int(k):v for k,v in previous_metrics.items()}\n",
    "previous_metrics[1]"
   ]
  },
  {
   "cell_type": "code",
   "execution_count": 44,
   "id": "selected-pantyhose",
   "metadata": {},
   "outputs": [
    {
     "data": {
      "text/plain": [
       "count    3442.000000\n",
       "mean        0.290156\n",
       "std         0.208339\n",
       "min         0.000000\n",
       "25%         0.113462\n",
       "50%         0.273361\n",
       "75%         0.368276\n",
       "max         1.000000\n",
       "Name: Close, dtype: float64"
      ]
     },
     "execution_count": 44,
     "metadata": {},
     "output_type": "execute_result"
    }
   ],
   "source": [
    "data_wrapper = StocksDataWrapper.read_from(f\"{DATA_PATH}WMT{FILE_SUFFIX}\", compute_features=True, \n",
    "                                               predict_n=50, thresh_diff=THRESH_DIFF, normalize=True)\n",
    "\n",
    "data_wrapper['Close'].describe()"
   ]
  },
  {
   "cell_type": "markdown",
   "id": "located-birthday",
   "metadata": {},
   "source": [
    "for predict_n, quot_metrics in previous_metrics.items():\n",
    "    for quot, metrics in quot_metrics.items():\n",
    "        #print(metrics.keys())\n",
    "        quot_metrics[quot] = {k:v for k,v in metrics.items() if k not in ['acc', 'f1', quot]}\n",
    "        #metrics[quot] = {k:v for k,v in metrics.items() if k not in ['acc', 'f1', quot]}\n",
    "        \n",
    "save_dict(dict_save=previous_metrics, path=f\"{METRICS_PATH}full_metrics_dict.txt\")"
   ]
  },
  {
   "cell_type": "code",
   "execution_count": 27,
   "id": "italic-rhythm",
   "metadata": {},
   "outputs": [],
   "source": [
    "full_metrics = previous_metrics.copy()\n",
    "merge_metric_dicts(full_metrics, predict_n_metrics_dict)"
   ]
  },
  {
   "cell_type": "code",
   "execution_count": 29,
   "id": "informal-internship",
   "metadata": {},
   "outputs": [
    {
     "data": {
      "text/plain": [
       "{'DTree': {'mse': 0.00040002611775352936,\n",
       "  'mae': 0.01517712473316475,\n",
       "  'mape': 0.03865700863537383},\n",
       " 'RandomForest': {'mse': 0.00026469454356206737,\n",
       "  'mae': 0.011830471121597129,\n",
       "  'mape': 0.0317035815048061},\n",
       " 'SVM': {'mse': 0.0012326616718660055,\n",
       "  'mae': 0.027130217484537124,\n",
       "  'mape': 0.08522520213496947},\n",
       " 'LR': {'mse': 0.0002459189601130199,\n",
       "  'mae': 0.011412489432978266,\n",
       "  'mape': 0.03143306038231758},\n",
       " 'LinearNN': {'mse': 0.17441429197788239,\n",
       "  'mae': 0.3135688900947571,\n",
       "  'mape': 1.242722988128662},\n",
       " 'LSTM': {'mse': 0.005345122227051616,\n",
       "  'mae': 0.05257157798733653,\n",
       "  'mape': 0.21990598038471207},\n",
       " 'RandomWalk': {'mse': 0.13232223208556113,\n",
       "  'mae': 0.30531158602995084,\n",
       "  'mape': 3.4475889450512174}}"
      ]
     },
     "execution_count": 29,
     "metadata": {},
     "output_type": "execute_result"
    }
   ],
   "source": [
    "full_metrics[1]['AAL']"
   ]
  },
  {
   "cell_type": "code",
   "execution_count": 30,
   "id": "pretty-circumstances",
   "metadata": {},
   "outputs": [],
   "source": [
    "save_dict(full_metrics, f\"{METRICS_PATH}full_metrics_dict.txt\")"
   ]
  },
  {
   "cell_type": "code",
   "execution_count": 32,
   "id": "owned-intro",
   "metadata": {},
   "outputs": [],
   "source": [
    "from helpers.data_helper import save_predictions_heatmaps\n",
    "\n",
    "save_predictions_heatmaps(path=METRICS_PATH, metrics_dict=full_metrics, metrics_names_list=['mse', 'mae', 'mape'], reversed=True)"
   ]
  },
  {
   "cell_type": "markdown",
   "id": "alternate-variety",
   "metadata": {},
   "source": [
    "price_walk = []\n",
    "for direction, count in data_wrapper['Tendency'].value_counts().to_dict().items():\n",
    "    # filter the dataset by the current direction chosen\n",
    "    df_filtered_direction = data_wrapper[data_wrapper['Tendency'] == direction]\n",
    "    \n",
    "    # pick at random some prices according to the current price direction chosen\n",
    "    price_diffs = np.random.choice(df_filtered_direction['Difference'], size=count, replace=True)\n",
    "    \n",
    "    price_walk.extend([(direction, diff) for diff in price_diffs])\n",
    "    \n",
    "random.shuffle(price_walk)\n",
    "\n",
    "print(price_walk[:10])"
   ]
  }
 ],
 "metadata": {
  "kernelspec": {
   "display_name": "Python 3",
   "language": "python",
   "name": "python3"
  },
  "language_info": {
   "codemirror_mode": {
    "name": "ipython",
    "version": 3
   },
   "file_extension": ".py",
   "mimetype": "text/x-python",
   "name": "python",
   "nbconvert_exporter": "python",
   "pygments_lexer": "ipython3",
   "version": "3.7.7"
  }
 },
 "nbformat": 4,
 "nbformat_minor": 5
}
