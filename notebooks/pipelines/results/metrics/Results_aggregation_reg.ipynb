{
 "cells": [
  {
   "cell_type": "markdown",
   "id": "intended-wheat",
   "metadata": {},
   "source": [
    "# Results aggregation"
   ]
  },
  {
   "cell_type": "code",
   "execution_count": 1,
   "id": "strategic-teens",
   "metadata": {},
   "outputs": [],
   "source": [
    "import pandas as pd\n",
    "import matplotlib.pyplot as plt\n",
    "import matplotlib\n",
    "import seaborn as sns\n",
    "\n",
    "matplotlib.pyplot.rcParams[\"figure.figsize\"] = (20,8)\n",
    "sns.set_theme()\n",
    "font = {'family' : 'DejaVu Sans', 'size'   : 25}\n",
    "matplotlib.rc('font', **font)"
   ]
  },
  {
   "cell_type": "markdown",
   "id": "social-village",
   "metadata": {},
   "source": [
    "## Load metrics results"
   ]
  },
  {
   "cell_type": "code",
   "execution_count": 2,
   "id": "flexible-lighter",
   "metadata": {},
   "outputs": [],
   "source": [
    "N_CLASSES = 2\n",
    "metrics_file = 'full_metrics_dict.txt'"
   ]
  },
  {
   "cell_type": "code",
   "execution_count": 3,
   "id": "tribal-dollar",
   "metadata": {},
   "outputs": [],
   "source": [
    "import json\n",
    "with open(f\"regression/{metrics_file}\") as f:\n",
    "    metrics_dict = json.load(f)"
   ]
  },
  {
   "cell_type": "markdown",
   "id": "palestinian-sense",
   "metadata": {},
   "source": [
    "## Compute results highlights"
   ]
  },
  {
   "cell_type": "code",
   "execution_count": 5,
   "id": "collectible-affiliate",
   "metadata": {},
   "outputs": [
    {
     "data": {
      "text/plain": [
       "['DTree', 'RandomForest', 'SVM', 'LR', 'LinearNN', 'LSTM', 'RandomWalk']"
      ]
     },
     "execution_count": 5,
     "metadata": {},
     "output_type": "execute_result"
    }
   ],
   "source": [
    "clf_labels = list(metrics_dict['1']['AAPL'].keys())\n",
    "clf_labels"
   ]
  },
  {
   "cell_type": "code",
   "execution_count": 25,
   "id": "dried-aerospace",
   "metadata": {},
   "outputs": [],
   "source": [
    "metrics_list = ['mse', 'mae', 'mape']"
   ]
  },
  {
   "cell_type": "code",
   "execution_count": 28,
   "id": "accurate-holiday",
   "metadata": {},
   "outputs": [
    {
     "name": "stdout",
     "output_type": "stream",
     "text": [
      "   DTree RandomForest  SVM   LR LinearNN LSTM RandomWalk\n",
      "1      0            0    0   13        0    1          0\n",
      "5    NaN          NaN  NaN  NaN      NaN  NaN        NaN\n",
      "10   NaN          NaN  NaN  NaN      NaN  NaN        NaN\n",
      "20   NaN          NaN  NaN  NaN      NaN  NaN        NaN\n",
      "50   NaN          NaN  NaN  NaN      NaN  NaN        NaN\n",
      "   DTree RandomForest  SVM   LR LinearNN LSTM RandomWalk\n",
      "1      0            0    0   13        0    1          0\n",
      "5      0            0    0   11        0    3          0\n",
      "10   NaN          NaN  NaN  NaN      NaN  NaN        NaN\n",
      "20   NaN          NaN  NaN  NaN      NaN  NaN        NaN\n",
      "50   NaN          NaN  NaN  NaN      NaN  NaN        NaN\n",
      "   DTree RandomForest  SVM   LR LinearNN LSTM RandomWalk\n",
      "1      0            0    0   13        0    1          0\n",
      "5      0            0    0   11        0    3          0\n",
      "10     0            1    0   11        0    2          0\n",
      "20   NaN          NaN  NaN  NaN      NaN  NaN        NaN\n",
      "50   NaN          NaN  NaN  NaN      NaN  NaN        NaN\n",
      "   DTree RandomForest  SVM   LR LinearNN LSTM RandomWalk\n",
      "1      0            0    0   13        0    1          0\n",
      "5      0            0    0   11        0    3          0\n",
      "10     0            1    0   11        0    2          0\n",
      "20     0            0    2   10        0    2          0\n",
      "50   NaN          NaN  NaN  NaN      NaN  NaN        NaN\n",
      "   DTree RandomForest SVM  LR LinearNN LSTM RandomWalk\n",
      "1      0            0   0  13        0    1          0\n",
      "5      0            0   0  11        0    3          0\n",
      "10     0            1   0  11        0    2          0\n",
      "20     0            0   2  10        0    2          0\n",
      "50     0            0   3   9        0    2          0\n",
      "   DTree RandomForest  SVM   LR LinearNN LSTM RandomWalk\n",
      "1      0            0    0   13        0    1          0\n",
      "5    NaN          NaN  NaN  NaN      NaN  NaN        NaN\n",
      "10   NaN          NaN  NaN  NaN      NaN  NaN        NaN\n",
      "20   NaN          NaN  NaN  NaN      NaN  NaN        NaN\n",
      "50   NaN          NaN  NaN  NaN      NaN  NaN        NaN\n",
      "   DTree RandomForest  SVM   LR LinearNN LSTM RandomWalk\n",
      "1      0            0    0   13        0    1          0\n",
      "5      0            0    0   11        0    3          0\n",
      "10   NaN          NaN  NaN  NaN      NaN  NaN        NaN\n",
      "20   NaN          NaN  NaN  NaN      NaN  NaN        NaN\n",
      "50   NaN          NaN  NaN  NaN      NaN  NaN        NaN\n",
      "   DTree RandomForest  SVM   LR LinearNN LSTM RandomWalk\n",
      "1      0            0    0   13        0    1          0\n",
      "5      0            0    0   11        0    3          0\n",
      "10     0            1    0   12        0    1          0\n",
      "20   NaN          NaN  NaN  NaN      NaN  NaN        NaN\n",
      "50   NaN          NaN  NaN  NaN      NaN  NaN        NaN\n",
      "   DTree RandomForest  SVM   LR LinearNN LSTM RandomWalk\n",
      "1      0            0    0   13        0    1          0\n",
      "5      0            0    0   11        0    3          0\n",
      "10     0            1    0   12        0    1          0\n",
      "20     1            0    1   12        0    0          0\n",
      "50   NaN          NaN  NaN  NaN      NaN  NaN        NaN\n",
      "   DTree RandomForest SVM  LR LinearNN LSTM RandomWalk\n",
      "1      0            0   0  13        0    1          0\n",
      "5      0            0   0  11        0    3          0\n",
      "10     0            1   0  12        0    1          0\n",
      "20     1            0   1  12        0    0          0\n",
      "50     0            0   3   9        0    2          0\n",
      "   DTree RandomForest  SVM   LR LinearNN LSTM RandomWalk\n",
      "1      0            1    0   13        0    0          0\n",
      "5    NaN          NaN  NaN  NaN      NaN  NaN        NaN\n",
      "10   NaN          NaN  NaN  NaN      NaN  NaN        NaN\n",
      "20   NaN          NaN  NaN  NaN      NaN  NaN        NaN\n",
      "50   NaN          NaN  NaN  NaN      NaN  NaN        NaN\n",
      "   DTree RandomForest  SVM   LR LinearNN LSTM RandomWalk\n",
      "1      0            1    0   13        0    0          0\n",
      "5      0            1    0   11        0    2          0\n",
      "10   NaN          NaN  NaN  NaN      NaN  NaN        NaN\n",
      "20   NaN          NaN  NaN  NaN      NaN  NaN        NaN\n",
      "50   NaN          NaN  NaN  NaN      NaN  NaN        NaN\n",
      "   DTree RandomForest  SVM   LR LinearNN LSTM RandomWalk\n",
      "1      0            1    0   13        0    0          0\n",
      "5      0            1    0   11        0    2          0\n",
      "10     0            1    1   11        0    1          0\n",
      "20   NaN          NaN  NaN  NaN      NaN  NaN        NaN\n",
      "50   NaN          NaN  NaN  NaN      NaN  NaN        NaN\n",
      "   DTree RandomForest  SVM   LR LinearNN LSTM RandomWalk\n",
      "1      0            1    0   13        0    0          0\n",
      "5      0            1    0   11        0    2          0\n",
      "10     0            1    1   11        0    1          0\n",
      "20     1            0    1   12        0    0          0\n",
      "50   NaN          NaN  NaN  NaN      NaN  NaN        NaN\n",
      "   DTree RandomForest SVM  LR LinearNN LSTM RandomWalk\n",
      "1      0            1   0  13        0    0          0\n",
      "5      0            1   0  11        0    2          0\n",
      "10     0            1   1  11        0    1          0\n",
      "20     1            0   1  12        0    0          0\n",
      "50     0            1   3   8        1    1          0\n"
     ]
    }
   ],
   "source": [
    "majority_dicts = {}\n",
    "\n",
    "for metric in metrics_list:\n",
    "    majority_df = pd.DataFrame(columns=(clf_labels), index=list(metrics_dict.keys()))\n",
    "    #print(majority_df)\n",
    "    for predict_n, quot_metrics in metrics_dict.items():\n",
    "        n_quots = len(quot_metrics.keys())\n",
    "        metrics_df = pd.DataFrame.from_dict(quot_metrics).T\n",
    "        filtered_df = metrics_df.applymap(lambda metrics: metrics[metric])\n",
    "        acc_df = metrics_df.applymap(lambda metrics: metrics['mse'])\n",
    "\n",
    "        for index, s in filtered_df.iterrows():\n",
    "            # replace by 1000 (placeholder) if not the min of the row\n",
    "            s.where(s == s.min(), 1000, inplace=True)\n",
    "\n",
    "        #print(acc_df)\n",
    "        # map the placeholders to 0 and leftover values, i.e. to 1 which marks the best in the row\n",
    "        filtered_df = filtered_df.applymap(lambda x: 1 if x != 1000 else 0)\n",
    "        #print(filtered_df)\n",
    "        row = {col:(sum(filtered_df[col])) for col in filtered_df.columns.values}\n",
    "\n",
    "        majority_df.loc[predict_n] = row\n",
    "\n",
    "    majority_dicts[metric] = majority_df\n",
    "#majority_df.set_index('N Days')"
   ]
  },
  {
   "cell_type": "code",
   "execution_count": 36,
   "id": "valid-luxembourg",
   "metadata": {},
   "outputs": [
    {
     "name": "stdout",
     "output_type": "stream",
     "text": [
      "DTree           int32\n",
      "RandomForest    int32\n",
      "SVM             int32\n",
      "LR              int32\n",
      "LinearNN        int32\n",
      "LSTM            int32\n",
      "RandomWalk      int32\n",
      "dtype: object\n"
     ]
    }
   ],
   "source": [
    "print(majority_dicts['mse'].astype(int).dtypes)"
   ]
  },
  {
   "cell_type": "code",
   "execution_count": 39,
   "id": "defensive-trader",
   "metadata": {},
   "outputs": [],
   "source": [
    "for metric, df in majority_dicts.items():\n",
    "    plt.figure()\n",
    "    heatmap = sns.heatmap(df.astype(int), cmap ='mako', linewidths = 0.5, annot = True)\n",
    "    heatmap.figure.savefig(f\"regression/majority_{metric}.png\")\n",
    "    plt.close()"
   ]
  },
  {
   "cell_type": "code",
   "execution_count": 6,
   "id": "decimal-teach",
   "metadata": {},
   "outputs": [],
   "source": [
    "majority_df = majority_df.astype(float).round(2)"
   ]
  },
  {
   "cell_type": "code",
   "execution_count": 7,
   "id": "compatible-building",
   "metadata": {},
   "outputs": [],
   "source": [
    "plt.figure()\n",
    "acc_heatmap = sns.heatmap(majority_df, cmap ='mako', linewidths = 0.5, annot = True)\n",
    "acc_heatmap.figure.savefig(f\"{N_CLASSES}_classes/majority_acc.png\")\n",
    "plt.close()"
   ]
  }
 ],
 "metadata": {
  "kernelspec": {
   "display_name": "Python 3",
   "language": "python",
   "name": "python3"
  },
  "language_info": {
   "codemirror_mode": {
    "name": "ipython",
    "version": 3
   },
   "file_extension": ".py",
   "mimetype": "text/x-python",
   "name": "python",
   "nbconvert_exporter": "python",
   "pygments_lexer": "ipython3",
   "version": "3.7.7"
  }
 },
 "nbformat": 4,
 "nbformat_minor": 5
}
