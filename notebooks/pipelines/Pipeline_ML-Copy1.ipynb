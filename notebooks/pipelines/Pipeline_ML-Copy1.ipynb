{
 "cells": [
  {
   "cell_type": "markdown",
   "id": "female-couple",
   "metadata": {},
   "source": [
    "# Price stock tendency prediction pipeline\n"
   ]
  },
  {
   "cell_type": "markdown",
   "id": "informed-corps",
   "metadata": {},
   "source": [
    "## Setup"
   ]
  },
  {
   "cell_type": "code",
   "execution_count": 5,
   "id": "golden-acting",
   "metadata": {},
   "outputs": [],
   "source": [
    "%load_ext autoreload\n",
    "%autoreload 2\n",
    "\n",
    "from notebook_config import setup_notebook\n",
    "import matplotlib.pyplot as plt\n",
    "import numpy as np\n",
    "import seaborn as sns\n",
    "\n",
    "setup_notebook()"
   ]
  },
  {
   "cell_type": "code",
   "execution_count": 6,
   "id": "decimal-short",
   "metadata": {},
   "outputs": [],
   "source": [
    "from tqdm.notebook import trange, tqdm\n",
    "\n",
    "from helpers.data_helper import *"
   ]
  },
  {
   "cell_type": "code",
   "execution_count": 7,
   "id": "romance-visibility",
   "metadata": {},
   "outputs": [],
   "source": [
    "DATA_PATH = '../../data/'\n",
    "FILE_SUFFIX = '.txt'\n",
    "price_column = 'Close'"
   ]
  },
  {
   "cell_type": "code",
   "execution_count": 8,
   "id": "traditional-concord",
   "metadata": {},
   "outputs": [],
   "source": [
    "OUTPUT_PATH = 'results/'\n",
    "N_CLASSES = 2\n",
    "METRICS_PATH = f\"{OUTPUT_PATH}metrics/{N_CLASSES}_classes/\"\n",
    "PIPELINE_LABEL = 'linear_clfs'\n",
    "\n",
    "THRESH_DIFF = 0.005 if N_CLASSES is 3 else None"
   ]
  },
  {
   "cell_type": "code",
   "execution_count": 9,
   "id": "twenty-coffee",
   "metadata": {},
   "outputs": [],
   "source": [
    "from datasets.stocks_data_wrapper import StocksDataWrapper\n",
    "#data_wrapper = StocksDataWrapper.read_from(f\"{DATA_PATH}{quotation}{FILE_SUFFIX}\", compute_features=True, predict_n=1, thresh_diff=0.005, normalize=True)\n",
    "#data_wrapper.head()"
   ]
  },
  {
   "cell_type": "markdown",
   "id": "american-calvin",
   "metadata": {},
   "source": [
    "## Classifier and evaluation"
   ]
  },
  {
   "cell_type": "code",
   "execution_count": 11,
   "id": "extraordinary-sunglasses",
   "metadata": {},
   "outputs": [],
   "source": [
    "from sklearn.utils.class_weight import compute_class_weight\n",
    "\n",
    "def compute_class_weights(y_train):\n",
    "    class_weights = compute_class_weight('balanced', classes=np.unique(y_train), y=y_train)\n",
    "    # format as dict\n",
    "    return {c:w for c,w in zip(np.unique(y_train), class_weights)}"
   ]
  },
  {
   "cell_type": "markdown",
   "id": "suspected-nutrition",
   "metadata": {},
   "source": [
    "### Grid Search"
   ]
  },
  {
   "cell_type": "code",
   "execution_count": 10,
   "id": "extreme-prince",
   "metadata": {},
   "outputs": [],
   "source": [
    "from sklearn.model_selection import TimeSeriesSplit\n",
    "# build the time series split for cross validation so no data leakage\n",
    "tscv = TimeSeriesSplit(n_splits=5)"
   ]
  },
  {
   "cell_type": "code",
   "execution_count": 12,
   "id": "printable-frederick",
   "metadata": {},
   "outputs": [],
   "source": [
    "from sklearn.model_selection import GridSearchCV\n",
    "from sklearn.tree import DecisionTreeClassifier\n",
    "from sklearn.svm import SVC\n",
    "from sklearn.ensemble import RandomForestClassifier\n",
    "from sklearn.linear_model import LogisticRegression\n",
    "\n",
    "N_JOBS=-1\n",
    "\n",
    "# default parameters\n",
    "best_params = {'DTree': {'criterion': 'gini', 'max_depth': 3, 'min_samples_leaf': 1}, 'RandomForest': {'criterion': 'entropy', 'max_depth': 10, 'max_features': 'auto', 'min_samples_leaf': 15, 'n_estimators': 50}, 'SVM': {'C': 0.5, 'gamma': 'scale', 'kernel': 'poly'}, 'LR': {'C': 0.1, 'fit_intercept': False, 'penalty': 'l2'}}\n",
    "param_grid = {\n",
    "    'DTree':{\n",
    "        'criterion':('entropy', 'gini'),\n",
    "        'max_depth':[3,5,8,10],\n",
    "        'min_samples_leaf':[1,2,3,5,10,15],\n",
    "    },\n",
    "    'RandomForest':{\n",
    "        'criterion':('entropy', 'gini'),\n",
    "        'n_estimators':[100,200,500],\n",
    "        'max_depth':[3,5,8,10],\n",
    "        'min_samples_leaf':[3,5,10,15],\n",
    "        'max_features':['auto', 'sqrt', 'log2'], \n",
    "    },\n",
    "    'SVM':{\n",
    "        #'C':[1e-3, 1e-2, 0.1, 0.5, 1.0, 5.0, 10.0, 20.0, 100.0],\n",
    "        'C':[0.1, 1.0, 10.0, 50.0, 100.0, 200.0],\n",
    "        'probability':[True, False],\n",
    "        'kernel':('linear', 'poly', 'rbf'),\n",
    "        'gamma':('scale', 'auto'),\n",
    "    },\n",
    "    'LR':\n",
    "    {\n",
    "        'max_iter':[1000],\n",
    "        'penalty':('none', 'l2'),\n",
    "        'C':[0.1, 1.0, 10.0, 50.0, 100.0, 200.0],\n",
    "        'fit_intercept':[True, False],\n",
    "    },   \n",
    "    \n",
    "}\n",
    "\n",
    "\"\"\"param_grid = {\n",
    "    'DTree':{\n",
    "        'criterion':('entropy', 'gini'),\n",
    "    },\n",
    "    'RandomForest':{\n",
    "        'criterion':('entropy', 'gini'),\n",
    "    },\n",
    "    'SVM':{\n",
    "        #'C':[1e-3, 1e-2, 0.1, 0.5, 1.0, 5.0, 10.0, 20.0, 100.0],\n",
    "        'C':[0.1, 1.0, 10.0],\n",
    "        'gamma':('scale', 'auto'),\n",
    "    },\n",
    "    'LR':\n",
    "    {\n",
    "        'penalty':('none', 'l2'),\n",
    "        'fit_intercept':[True, False],\n",
    "    },   \n",
    "    \n",
    "}\"\"\"\n",
    "\n",
    "def compute_grid_search(param_grid, X_train, y_train, n_splits=5, class_weights=None):\n",
    "    tscv = TimeSeriesSplit(n_splits=n_splits)\n",
    "    best_params = {}\n",
    "    \n",
    "    print(\"Performing grid search...\")\n",
    "    dtree = DecisionTreeClassifier(random_state=42, class_weight=class_weights)\n",
    "    clf = GridSearchCV(dtree, param_grid['DTree'], cv=tscv.split(X_train), n_jobs=N_JOBS, verbose=2)\n",
    "    clf.fit(X_train, y_train)\n",
    "    best_params['DTree'] = clf.best_params_\n",
    "\n",
    "    random_forest = RandomForestClassifier(random_state=42, class_weight=class_weights)\n",
    "    clf = GridSearchCV(random_forest, param_grid['RandomForest'], cv=tscv.split(X_train), n_jobs=N_JOBS, verbose=32)\n",
    "    clf.fit(X_train, y_train)\n",
    "    best_params['RandomForest'] = clf.best_params_\n",
    "\n",
    "    \n",
    "    svm = SVC(random_state=42, class_weight=class_weights, cache_size=4096)\n",
    "    clf = GridSearchCV(svm, param_grid['SVM'], cv=tscv.split(X_train), n_jobs=N_JOBS, verbose=32)\n",
    "    clf.fit(X_train, y_train)\n",
    "    best_params['SVM'] = clf.best_params_\n",
    "    \n",
    "    lr = LogisticRegression(random_state=42, class_weight=class_weights)\n",
    "    clf = GridSearchCV(lr, param_grid['LR'], cv=tscv.split(X_train), n_jobs=N_JOBS, verbose=2)\n",
    "    clf.fit(X_train, y_train)\n",
    "    best_params['LR'] = clf.best_params_\n",
    "    return best_params\n"
   ]
  },
  {
   "cell_type": "markdown",
   "id": "alpine-borough",
   "metadata": {},
   "source": [
    "### Classifiers"
   ]
  },
  {
   "cell_type": "code",
   "execution_count": 13,
   "id": "annual-burst",
   "metadata": {},
   "outputs": [
    {
     "data": {
      "text/plain": [
       "\"clf_dict = {}\\n\\nclf_dict['DTree'] = DecisionTreeClassifier(**best_params['DTree'], random_state=42, class_weight=class_weights)\\nclf_dict['RandomForest'] = RandomForestClassifier(**best_params['RandomForest'], random_state=42, class_weight=class_weights)\\nclf_dict['SVM'] = SVC(**best_params['SVM'], class_weight=class_weights)\\nclf_dict['LR'] = LogisticRegression(**best_params['LR'], class_weight=class_weights)\""
      ]
     },
     "execution_count": 13,
     "metadata": {},
     "output_type": "execute_result"
    }
   ],
   "source": [
    "from sklearn.tree import DecisionTreeClassifier\n",
    "from sklearn.ensemble import RandomForestClassifier\n",
    "from sklearn.SVR import SVC\n",
    "\n",
    "\"\"\"clf_dict = {}\n",
    "\n",
    "clf_dict['DTree'] = DecisionTreeClassifier(**best_params['DTree'], random_state=42, class_weight=class_weights)\n",
    "clf_dict['RandomForest'] = RandomForestClassifier(**best_params['RandomForest'], random_state=42, class_weight=class_weights)\n",
    "clf_dict['SVM'] = SVC(**best_params['SVM'], class_weight=class_weights)\n",
    "clf_dict['LR'] = LogisticRegression(**best_params['LR'], class_weight=class_weights)\"\"\""
   ]
  },
  {
   "cell_type": "markdown",
   "id": "published-colombia",
   "metadata": {},
   "source": [
    "### Training"
   ]
  },
  {
   "cell_type": "code",
   "execution_count": 13,
   "id": "declared-advisory",
   "metadata": {},
   "outputs": [],
   "source": [
    "from sklearn.metrics import accuracy_score, plot_confusion_matrix, f1_score\n",
    "\n",
    "def train_evaluate_classifiers(clf_dict, X_train, y_train, X_test, y_test):\n",
    "    clf_metrics = {}\n",
    "    for clf_label, clf in clf_dict.items():\n",
    "        clf.fit(X_train, y_train)\n",
    "        #y_pred = clf.predict(X_train)\n",
    "        #print(f\"Training accuracy : {accuracy_score(y_pred, y_train)}\")\n",
    "        y_pred = clf.predict(X_test)\n",
    "\n",
    "        accuracy = accuracy_score(y_pred, y_test)\n",
    "        f1 = f1_score(y_pred, y_test, average='weighted')\n",
    "\n",
    "        #print(f\"[{clf_label}] Accuracy : {accuracy:.2f}, F1 : {f1:.2f}\")\n",
    "        #plot_confusion_matrix(clf, X_test, y_test, normalize='true')\n",
    "        clf_metrics[clf_label] = {'acc':accuracy, 'f1':f1}\n",
    "        \n",
    "    return clf_metrics"
   ]
  },
  {
   "cell_type": "markdown",
   "id": "macro-archives",
   "metadata": {},
   "source": [
    "### Pipeline"
   ]
  },
  {
   "cell_type": "code",
   "execution_count": 14,
   "id": "changing-dietary",
   "metadata": {},
   "outputs": [],
   "source": [
    "USE_CLASS_WEIGHTS = True\n",
    "PERFORM_GRID_SEARCH = True\n",
    "MAX_SIZE = 5000\n",
    "n_splits=5\n",
    "\n",
    "quotations = ['AAL', 'AAPL', 'AMZN','CMCSA', 'COST', 'GM', 'GOOG', 'IBM', 'JNJ', 'KO','PEP', 'TSLA', 'WMT', 'XOM']\n",
    "days_predict_feature_set = {\n",
    "    1:['Volume', 'Close', 'LowLen', 'Difference', 'BG_L_Band', 'GAP', 'MACD_diff'],\n",
    "    5:['Volume', 'Close', 'LowLen', 'Difference', 'SMA(20) - SMA(10)', 'BG_H_Band_Indicator', 'MACD'],\n",
    "    10:['Volume', 'Close', 'BodyLen', 'Difference', 'SMA(20) - SMA(10)', 'EMA_Diff', 'MACD_diff'],\n",
    "    20:['Volume', 'Close', 'LowLen', 'Difference', 'EMA(14)', 'BG_H_Band', 'MACD_diff'],\n",
    "    50:['Volume', 'Close', 'LowLen', 'Difference', 'BG_L_Band','GAP','MACD_diff'],\n",
    "}\n",
    "\n",
    "#quotations=['CMCSA']\n",
    "#days_predict_feature_set = {1:days_predict_feature_set[1]}"
   ]
  },
  {
   "cell_type": "code",
   "execution_count": 15,
   "id": "above-broadway",
   "metadata": {},
   "outputs": [],
   "source": [
    "predict_n_metrics_dict = {}"
   ]
  },
  {
   "cell_type": "code",
   "execution_count": 16,
   "id": "warming-western",
   "metadata": {},
   "outputs": [
    {
     "data": {
      "application/vnd.jupyter.widget-view+json": {
       "model_id": "99249d7e8eef428ea5f0670708dafcaf",
       "version_major": 2,
       "version_minor": 0
      },
      "text/plain": [
       "  0%|          | 0/5 [00:00<?, ?it/s]"
      ]
     },
     "metadata": {},
     "output_type": "display_data"
    },
    {
     "data": {
      "application/vnd.jupyter.widget-view+json": {
       "model_id": "dbfe0f4e62bb491080ca086ab3d6d75e",
       "version_major": 2,
       "version_minor": 0
      },
      "text/plain": [
       "  0%|          | 0/14 [00:00<?, ?it/s]"
      ]
     },
     "metadata": {},
     "output_type": "display_data"
    },
    {
     "name": "stdout",
     "output_type": "stream",
     "text": [
      "Performing grid search...\n",
      "Fitting 5 folds for each of 48 candidates, totalling 240 fits\n",
      "Fitting 5 folds for each of 288 candidates, totalling 1440 fits\n",
      "Fitting 5 folds for each of 72 candidates, totalling 360 fits\n",
      "Fitting 5 folds for each of 24 candidates, totalling 120 fits\n",
      "Performing grid search...\n",
      "Fitting 5 folds for each of 48 candidates, totalling 240 fits\n",
      "Fitting 5 folds for each of 288 candidates, totalling 1440 fits\n",
      "Fitting 5 folds for each of 72 candidates, totalling 360 fits\n",
      "Fitting 5 folds for each of 24 candidates, totalling 120 fits\n",
      "Performing grid search...\n",
      "Fitting 5 folds for each of 48 candidates, totalling 240 fits\n",
      "Fitting 5 folds for each of 288 candidates, totalling 1440 fits\n",
      "Fitting 5 folds for each of 72 candidates, totalling 360 fits\n",
      "Fitting 5 folds for each of 24 candidates, totalling 120 fits\n"
     ]
    },
    {
     "name": "stderr",
     "output_type": "stream",
     "text": [
      "d:\\prog\\tm\\stonksmarketprediction\\venv\\lib\\site-packages\\sklearn\\linear_model\\_logistic.py:1323: UserWarning: Setting penalty='none' will ignore the C and l1_ratio parameters\n",
      "  \"Setting penalty='none' will ignore the C and l1_ratio \"\n",
      "d:\\prog\\tm\\stonksmarketprediction\\venv\\lib\\site-packages\\sklearn\\linear_model\\_logistic.py:1323: UserWarning: Setting penalty='none' will ignore the C and l1_ratio parameters\n",
      "  \"Setting penalty='none' will ignore the C and l1_ratio \"\n"
     ]
    },
    {
     "name": "stdout",
     "output_type": "stream",
     "text": [
      "Performing grid search...\n",
      "Fitting 5 folds for each of 48 candidates, totalling 240 fits\n",
      "Fitting 5 folds for each of 288 candidates, totalling 1440 fits\n",
      "Fitting 5 folds for each of 72 candidates, totalling 360 fits\n",
      "Fitting 5 folds for each of 24 candidates, totalling 120 fits\n",
      "Performing grid search...\n",
      "Fitting 5 folds for each of 48 candidates, totalling 240 fits\n",
      "Fitting 5 folds for each of 288 candidates, totalling 1440 fits\n",
      "Fitting 5 folds for each of 72 candidates, totalling 360 fits\n",
      "Fitting 5 folds for each of 24 candidates, totalling 120 fits\n",
      "Performing grid search...\n",
      "Fitting 5 folds for each of 48 candidates, totalling 240 fits\n",
      "Fitting 5 folds for each of 288 candidates, totalling 1440 fits\n",
      "Fitting 5 folds for each of 72 candidates, totalling 360 fits\n",
      "Fitting 5 folds for each of 24 candidates, totalling 120 fits\n",
      "Performing grid search...\n",
      "Fitting 5 folds for each of 48 candidates, totalling 240 fits\n",
      "Fitting 5 folds for each of 288 candidates, totalling 1440 fits\n",
      "Fitting 5 folds for each of 72 candidates, totalling 360 fits\n",
      "Fitting 5 folds for each of 24 candidates, totalling 120 fits\n",
      "Performing grid search...\n",
      "Fitting 5 folds for each of 48 candidates, totalling 240 fits\n",
      "Fitting 5 folds for each of 288 candidates, totalling 1440 fits\n",
      "Fitting 5 folds for each of 72 candidates, totalling 360 fits\n",
      "Fitting 5 folds for each of 24 candidates, totalling 120 fits\n",
      "Performing grid search...\n",
      "Fitting 5 folds for each of 48 candidates, totalling 240 fits\n",
      "Fitting 5 folds for each of 288 candidates, totalling 1440 fits\n",
      "Fitting 5 folds for each of 72 candidates, totalling 360 fits\n",
      "Fitting 5 folds for each of 24 candidates, totalling 120 fits\n",
      "Performing grid search...\n",
      "Fitting 5 folds for each of 48 candidates, totalling 240 fits\n",
      "Fitting 5 folds for each of 288 candidates, totalling 1440 fits\n",
      "Fitting 5 folds for each of 72 candidates, totalling 360 fits\n",
      "Fitting 5 folds for each of 24 candidates, totalling 120 fits\n",
      "Performing grid search...\n",
      "Fitting 5 folds for each of 48 candidates, totalling 240 fits\n",
      "Fitting 5 folds for each of 288 candidates, totalling 1440 fits\n",
      "Fitting 5 folds for each of 72 candidates, totalling 360 fits\n",
      "Fitting 5 folds for each of 24 candidates, totalling 120 fits\n"
     ]
    },
    {
     "name": "stderr",
     "output_type": "stream",
     "text": [
      "d:\\prog\\tm\\stonksmarketprediction\\venv\\lib\\site-packages\\sklearn\\linear_model\\_logistic.py:1323: UserWarning: Setting penalty='none' will ignore the C and l1_ratio parameters\n",
      "  \"Setting penalty='none' will ignore the C and l1_ratio \"\n",
      "d:\\prog\\tm\\stonksmarketprediction\\venv\\lib\\site-packages\\sklearn\\linear_model\\_logistic.py:1323: UserWarning: Setting penalty='none' will ignore the C and l1_ratio parameters\n",
      "  \"Setting penalty='none' will ignore the C and l1_ratio \"\n"
     ]
    },
    {
     "name": "stdout",
     "output_type": "stream",
     "text": [
      "Performing grid search...\n",
      "Fitting 5 folds for each of 48 candidates, totalling 240 fits\n",
      "Fitting 5 folds for each of 288 candidates, totalling 1440 fits\n",
      "Fitting 5 folds for each of 72 candidates, totalling 360 fits\n",
      "Fitting 5 folds for each of 24 candidates, totalling 120 fits\n"
     ]
    },
    {
     "name": "stderr",
     "output_type": "stream",
     "text": [
      "d:\\prog\\tm\\stonksmarketprediction\\venv\\lib\\site-packages\\sklearn\\linear_model\\_logistic.py:1323: UserWarning: Setting penalty='none' will ignore the C and l1_ratio parameters\n",
      "  \"Setting penalty='none' will ignore the C and l1_ratio \"\n",
      "d:\\prog\\tm\\stonksmarketprediction\\venv\\lib\\site-packages\\sklearn\\linear_model\\_logistic.py:1323: UserWarning: Setting penalty='none' will ignore the C and l1_ratio parameters\n",
      "  \"Setting penalty='none' will ignore the C and l1_ratio \"\n"
     ]
    },
    {
     "name": "stdout",
     "output_type": "stream",
     "text": [
      "Performing grid search...\n",
      "Fitting 5 folds for each of 48 candidates, totalling 240 fits\n",
      "Fitting 5 folds for each of 288 candidates, totalling 1440 fits\n",
      "Fitting 5 folds for each of 72 candidates, totalling 360 fits\n",
      "Fitting 5 folds for each of 24 candidates, totalling 120 fits\n",
      "Performing grid search...\n",
      "Fitting 5 folds for each of 48 candidates, totalling 240 fits\n",
      "Fitting 5 folds for each of 288 candidates, totalling 1440 fits\n",
      "Fitting 5 folds for each of 72 candidates, totalling 360 fits\n",
      "Fitting 5 folds for each of 24 candidates, totalling 120 fits\n"
     ]
    },
    {
     "name": "stderr",
     "output_type": "stream",
     "text": [
      "d:\\prog\\tm\\stonksmarketprediction\\venv\\lib\\site-packages\\sklearn\\linear_model\\_logistic.py:1323: UserWarning: Setting penalty='none' will ignore the C and l1_ratio parameters\n",
      "  \"Setting penalty='none' will ignore the C and l1_ratio \"\n",
      "d:\\prog\\tm\\stonksmarketprediction\\venv\\lib\\site-packages\\sklearn\\linear_model\\_logistic.py:1323: UserWarning: Setting penalty='none' will ignore the C and l1_ratio parameters\n",
      "  \"Setting penalty='none' will ignore the C and l1_ratio \"\n"
     ]
    },
    {
     "data": {
      "application/vnd.jupyter.widget-view+json": {
       "model_id": "363d49554aeb4cdd9274c7698a4122cc",
       "version_major": 2,
       "version_minor": 0
      },
      "text/plain": [
       "  0%|          | 0/14 [00:00<?, ?it/s]"
      ]
     },
     "metadata": {},
     "output_type": "display_data"
    },
    {
     "name": "stdout",
     "output_type": "stream",
     "text": [
      "Performing grid search...\n",
      "Fitting 5 folds for each of 48 candidates, totalling 240 fits\n",
      "Fitting 5 folds for each of 288 candidates, totalling 1440 fits\n",
      "Fitting 5 folds for each of 72 candidates, totalling 360 fits\n",
      "Fitting 5 folds for each of 24 candidates, totalling 120 fits\n"
     ]
    },
    {
     "name": "stderr",
     "output_type": "stream",
     "text": [
      "d:\\prog\\tm\\stonksmarketprediction\\venv\\lib\\site-packages\\sklearn\\linear_model\\_logistic.py:1323: UserWarning: Setting penalty='none' will ignore the C and l1_ratio parameters\n",
      "  \"Setting penalty='none' will ignore the C and l1_ratio \"\n",
      "d:\\prog\\tm\\stonksmarketprediction\\venv\\lib\\site-packages\\sklearn\\linear_model\\_logistic.py:1323: UserWarning: Setting penalty='none' will ignore the C and l1_ratio parameters\n",
      "  \"Setting penalty='none' will ignore the C and l1_ratio \"\n"
     ]
    },
    {
     "name": "stdout",
     "output_type": "stream",
     "text": [
      "Performing grid search...\n",
      "Fitting 5 folds for each of 48 candidates, totalling 240 fits\n",
      "Fitting 5 folds for each of 288 candidates, totalling 1440 fits\n",
      "Fitting 5 folds for each of 72 candidates, totalling 360 fits\n",
      "Fitting 5 folds for each of 24 candidates, totalling 120 fits\n",
      "Performing grid search...\n",
      "Fitting 5 folds for each of 48 candidates, totalling 240 fits\n",
      "Fitting 5 folds for each of 288 candidates, totalling 1440 fits\n",
      "Fitting 5 folds for each of 72 candidates, totalling 360 fits\n",
      "Fitting 5 folds for each of 24 candidates, totalling 120 fits\n"
     ]
    },
    {
     "name": "stderr",
     "output_type": "stream",
     "text": [
      "d:\\prog\\tm\\stonksmarketprediction\\venv\\lib\\site-packages\\sklearn\\linear_model\\_logistic.py:1323: UserWarning: Setting penalty='none' will ignore the C and l1_ratio parameters\n",
      "  \"Setting penalty='none' will ignore the C and l1_ratio \"\n",
      "d:\\prog\\tm\\stonksmarketprediction\\venv\\lib\\site-packages\\sklearn\\linear_model\\_logistic.py:1323: UserWarning: Setting penalty='none' will ignore the C and l1_ratio parameters\n",
      "  \"Setting penalty='none' will ignore the C and l1_ratio \"\n"
     ]
    },
    {
     "name": "stdout",
     "output_type": "stream",
     "text": [
      "Performing grid search...\n",
      "Fitting 5 folds for each of 48 candidates, totalling 240 fits\n",
      "Fitting 5 folds for each of 288 candidates, totalling 1440 fits\n",
      "Fitting 5 folds for each of 72 candidates, totalling 360 fits\n",
      "Fitting 5 folds for each of 24 candidates, totalling 120 fits\n",
      "Performing grid search...\n",
      "Fitting 5 folds for each of 48 candidates, totalling 240 fits\n",
      "Fitting 5 folds for each of 288 candidates, totalling 1440 fits\n",
      "Fitting 5 folds for each of 72 candidates, totalling 360 fits\n",
      "Fitting 5 folds for each of 24 candidates, totalling 120 fits\n",
      "Performing grid search...\n",
      "Fitting 5 folds for each of 48 candidates, totalling 240 fits\n",
      "Fitting 5 folds for each of 288 candidates, totalling 1440 fits\n",
      "Fitting 5 folds for each of 72 candidates, totalling 360 fits\n",
      "Fitting 5 folds for each of 24 candidates, totalling 120 fits\n",
      "Performing grid search...\n",
      "Fitting 5 folds for each of 48 candidates, totalling 240 fits\n",
      "Fitting 5 folds for each of 288 candidates, totalling 1440 fits\n",
      "Fitting 5 folds for each of 72 candidates, totalling 360 fits\n",
      "Fitting 5 folds for each of 24 candidates, totalling 120 fits\n"
     ]
    },
    {
     "name": "stderr",
     "output_type": "stream",
     "text": [
      "d:\\prog\\tm\\stonksmarketprediction\\venv\\lib\\site-packages\\sklearn\\linear_model\\_logistic.py:1323: UserWarning: Setting penalty='none' will ignore the C and l1_ratio parameters\n",
      "  \"Setting penalty='none' will ignore the C and l1_ratio \"\n",
      "d:\\prog\\tm\\stonksmarketprediction\\venv\\lib\\site-packages\\sklearn\\linear_model\\_logistic.py:1323: UserWarning: Setting penalty='none' will ignore the C and l1_ratio parameters\n",
      "  \"Setting penalty='none' will ignore the C and l1_ratio \"\n"
     ]
    },
    {
     "name": "stdout",
     "output_type": "stream",
     "text": [
      "Performing grid search...\n",
      "Fitting 5 folds for each of 48 candidates, totalling 240 fits\n",
      "Fitting 5 folds for each of 288 candidates, totalling 1440 fits\n",
      "Fitting 5 folds for each of 72 candidates, totalling 360 fits\n",
      "Fitting 5 folds for each of 24 candidates, totalling 120 fits\n",
      "Performing grid search...\n",
      "Fitting 5 folds for each of 48 candidates, totalling 240 fits\n",
      "Fitting 5 folds for each of 288 candidates, totalling 1440 fits\n",
      "Fitting 5 folds for each of 72 candidates, totalling 360 fits\n",
      "Fitting 5 folds for each of 24 candidates, totalling 120 fits\n",
      "Performing grid search...\n",
      "Fitting 5 folds for each of 48 candidates, totalling 240 fits\n",
      "Fitting 5 folds for each of 288 candidates, totalling 1440 fits\n",
      "Fitting 5 folds for each of 72 candidates, totalling 360 fits\n",
      "Fitting 5 folds for each of 24 candidates, totalling 120 fits\n",
      "Performing grid search...\n",
      "Fitting 5 folds for each of 48 candidates, totalling 240 fits\n",
      "Fitting 5 folds for each of 288 candidates, totalling 1440 fits\n",
      "Fitting 5 folds for each of 72 candidates, totalling 360 fits\n",
      "Fitting 5 folds for each of 24 candidates, totalling 120 fits\n"
     ]
    },
    {
     "name": "stderr",
     "output_type": "stream",
     "text": [
      "d:\\prog\\tm\\stonksmarketprediction\\venv\\lib\\site-packages\\sklearn\\linear_model\\_logistic.py:1323: UserWarning: Setting penalty='none' will ignore the C and l1_ratio parameters\n",
      "  \"Setting penalty='none' will ignore the C and l1_ratio \"\n",
      "d:\\prog\\tm\\stonksmarketprediction\\venv\\lib\\site-packages\\sklearn\\linear_model\\_logistic.py:1323: UserWarning: Setting penalty='none' will ignore the C and l1_ratio parameters\n",
      "  \"Setting penalty='none' will ignore the C and l1_ratio \"\n"
     ]
    },
    {
     "name": "stdout",
     "output_type": "stream",
     "text": [
      "Performing grid search...\n",
      "Fitting 5 folds for each of 48 candidates, totalling 240 fits\n",
      "Fitting 5 folds for each of 288 candidates, totalling 1440 fits\n",
      "Fitting 5 folds for each of 72 candidates, totalling 360 fits\n",
      "Fitting 5 folds for each of 24 candidates, totalling 120 fits\n",
      "Performing grid search...\n",
      "Fitting 5 folds for each of 48 candidates, totalling 240 fits\n",
      "Fitting 5 folds for each of 288 candidates, totalling 1440 fits\n",
      "Fitting 5 folds for each of 72 candidates, totalling 360 fits\n",
      "Fitting 5 folds for each of 24 candidates, totalling 120 fits\n",
      "Performing grid search...\n",
      "Fitting 5 folds for each of 48 candidates, totalling 240 fits\n",
      "Fitting 5 folds for each of 288 candidates, totalling 1440 fits\n",
      "Fitting 5 folds for each of 72 candidates, totalling 360 fits\n",
      "Fitting 5 folds for each of 24 candidates, totalling 120 fits\n"
     ]
    },
    {
     "data": {
      "application/vnd.jupyter.widget-view+json": {
       "model_id": "9a07dec9c45d4bd0abeed30f6e173bfb",
       "version_major": 2,
       "version_minor": 0
      },
      "text/plain": [
       "  0%|          | 0/14 [00:00<?, ?it/s]"
      ]
     },
     "metadata": {},
     "output_type": "display_data"
    },
    {
     "name": "stdout",
     "output_type": "stream",
     "text": [
      "Performing grid search...\n",
      "Fitting 5 folds for each of 48 candidates, totalling 240 fits\n",
      "Fitting 5 folds for each of 288 candidates, totalling 1440 fits\n",
      "Fitting 5 folds for each of 72 candidates, totalling 360 fits\n",
      "Fitting 5 folds for each of 24 candidates, totalling 120 fits\n",
      "Performing grid search...\n",
      "Fitting 5 folds for each of 48 candidates, totalling 240 fits\n",
      "Fitting 5 folds for each of 288 candidates, totalling 1440 fits\n",
      "Fitting 5 folds for each of 72 candidates, totalling 360 fits\n",
      "Fitting 5 folds for each of 24 candidates, totalling 120 fits\n",
      "Performing grid search...\n",
      "Fitting 5 folds for each of 48 candidates, totalling 240 fits\n",
      "Fitting 5 folds for each of 288 candidates, totalling 1440 fits\n",
      "Fitting 5 folds for each of 72 candidates, totalling 360 fits\n",
      "Fitting 5 folds for each of 24 candidates, totalling 120 fits\n",
      "Performing grid search...\n",
      "Fitting 5 folds for each of 48 candidates, totalling 240 fits\n",
      "Fitting 5 folds for each of 288 candidates, totalling 1440 fits\n",
      "Fitting 5 folds for each of 72 candidates, totalling 360 fits\n",
      "Fitting 5 folds for each of 24 candidates, totalling 120 fits\n",
      "Performing grid search...\n",
      "Fitting 5 folds for each of 48 candidates, totalling 240 fits\n",
      "Fitting 5 folds for each of 288 candidates, totalling 1440 fits\n",
      "Fitting 5 folds for each of 72 candidates, totalling 360 fits\n",
      "Fitting 5 folds for each of 24 candidates, totalling 120 fits\n",
      "Performing grid search...\n",
      "Fitting 5 folds for each of 48 candidates, totalling 240 fits\n",
      "Fitting 5 folds for each of 288 candidates, totalling 1440 fits\n",
      "Fitting 5 folds for each of 72 candidates, totalling 360 fits\n",
      "Fitting 5 folds for each of 24 candidates, totalling 120 fits\n",
      "Performing grid search...\n",
      "Fitting 5 folds for each of 48 candidates, totalling 240 fits\n",
      "Fitting 5 folds for each of 288 candidates, totalling 1440 fits\n",
      "Fitting 5 folds for each of 72 candidates, totalling 360 fits\n",
      "Fitting 5 folds for each of 24 candidates, totalling 120 fits\n",
      "Performing grid search...\n",
      "Fitting 5 folds for each of 48 candidates, totalling 240 fits\n",
      "Fitting 5 folds for each of 288 candidates, totalling 1440 fits\n",
      "Fitting 5 folds for each of 72 candidates, totalling 360 fits\n",
      "Fitting 5 folds for each of 24 candidates, totalling 120 fits\n",
      "Performing grid search...\n",
      "Fitting 5 folds for each of 48 candidates, totalling 240 fits\n",
      "Fitting 5 folds for each of 288 candidates, totalling 1440 fits\n",
      "Fitting 5 folds for each of 72 candidates, totalling 360 fits\n",
      "Fitting 5 folds for each of 24 candidates, totalling 120 fits\n",
      "Performing grid search...\n",
      "Fitting 5 folds for each of 48 candidates, totalling 240 fits\n",
      "Fitting 5 folds for each of 288 candidates, totalling 1440 fits\n",
      "Fitting 5 folds for each of 72 candidates, totalling 360 fits\n",
      "Fitting 5 folds for each of 24 candidates, totalling 120 fits\n"
     ]
    },
    {
     "name": "stderr",
     "output_type": "stream",
     "text": [
      "d:\\prog\\tm\\stonksmarketprediction\\venv\\lib\\site-packages\\sklearn\\linear_model\\_logistic.py:1323: UserWarning: Setting penalty='none' will ignore the C and l1_ratio parameters\n",
      "  \"Setting penalty='none' will ignore the C and l1_ratio \"\n",
      "d:\\prog\\tm\\stonksmarketprediction\\venv\\lib\\site-packages\\sklearn\\linear_model\\_logistic.py:1323: UserWarning: Setting penalty='none' will ignore the C and l1_ratio parameters\n",
      "  \"Setting penalty='none' will ignore the C and l1_ratio \"\n"
     ]
    },
    {
     "name": "stdout",
     "output_type": "stream",
     "text": [
      "Performing grid search...\n",
      "Fitting 5 folds for each of 48 candidates, totalling 240 fits\n",
      "Fitting 5 folds for each of 288 candidates, totalling 1440 fits\n",
      "Fitting 5 folds for each of 72 candidates, totalling 360 fits\n",
      "Fitting 5 folds for each of 24 candidates, totalling 120 fits\n",
      "Performing grid search...\n",
      "Fitting 5 folds for each of 48 candidates, totalling 240 fits\n",
      "Fitting 5 folds for each of 288 candidates, totalling 1440 fits\n",
      "Fitting 5 folds for each of 72 candidates, totalling 360 fits\n",
      "Fitting 5 folds for each of 24 candidates, totalling 120 fits\n"
     ]
    },
    {
     "name": "stderr",
     "output_type": "stream",
     "text": [
      "d:\\prog\\tm\\stonksmarketprediction\\venv\\lib\\site-packages\\sklearn\\linear_model\\_logistic.py:1323: UserWarning: Setting penalty='none' will ignore the C and l1_ratio parameters\n",
      "  \"Setting penalty='none' will ignore the C and l1_ratio \"\n",
      "d:\\prog\\tm\\stonksmarketprediction\\venv\\lib\\site-packages\\sklearn\\linear_model\\_logistic.py:1323: UserWarning: Setting penalty='none' will ignore the C and l1_ratio parameters\n",
      "  \"Setting penalty='none' will ignore the C and l1_ratio \"\n"
     ]
    },
    {
     "name": "stdout",
     "output_type": "stream",
     "text": [
      "Performing grid search...\n",
      "Fitting 5 folds for each of 48 candidates, totalling 240 fits\n",
      "Fitting 5 folds for each of 288 candidates, totalling 1440 fits\n",
      "Fitting 5 folds for each of 72 candidates, totalling 360 fits\n",
      "Fitting 5 folds for each of 24 candidates, totalling 120 fits\n",
      "Performing grid search...\n",
      "Fitting 5 folds for each of 48 candidates, totalling 240 fits\n",
      "Fitting 5 folds for each of 288 candidates, totalling 1440 fits\n",
      "Fitting 5 folds for each of 72 candidates, totalling 360 fits\n",
      "Fitting 5 folds for each of 24 candidates, totalling 120 fits\n"
     ]
    },
    {
     "data": {
      "application/vnd.jupyter.widget-view+json": {
       "model_id": "c2993aa7c34f40f3a54cf65c22802a5c",
       "version_major": 2,
       "version_minor": 0
      },
      "text/plain": [
       "  0%|          | 0/14 [00:00<?, ?it/s]"
      ]
     },
     "metadata": {},
     "output_type": "display_data"
    },
    {
     "name": "stdout",
     "output_type": "stream",
     "text": [
      "Performing grid search...\n",
      "Fitting 5 folds for each of 48 candidates, totalling 240 fits\n",
      "Fitting 5 folds for each of 288 candidates, totalling 1440 fits\n",
      "Fitting 5 folds for each of 72 candidates, totalling 360 fits\n",
      "Fitting 5 folds for each of 24 candidates, totalling 120 fits\n",
      "Performing grid search...\n",
      "Fitting 5 folds for each of 48 candidates, totalling 240 fits\n",
      "Fitting 5 folds for each of 288 candidates, totalling 1440 fits\n",
      "Fitting 5 folds for each of 72 candidates, totalling 360 fits\n",
      "Fitting 5 folds for each of 24 candidates, totalling 120 fits\n",
      "Performing grid search...\n",
      "Fitting 5 folds for each of 48 candidates, totalling 240 fits\n",
      "Fitting 5 folds for each of 288 candidates, totalling 1440 fits\n",
      "Fitting 5 folds for each of 72 candidates, totalling 360 fits\n",
      "Fitting 5 folds for each of 24 candidates, totalling 120 fits\n"
     ]
    },
    {
     "name": "stderr",
     "output_type": "stream",
     "text": [
      "d:\\prog\\tm\\stonksmarketprediction\\venv\\lib\\site-packages\\sklearn\\linear_model\\_logistic.py:1323: UserWarning: Setting penalty='none' will ignore the C and l1_ratio parameters\n",
      "  \"Setting penalty='none' will ignore the C and l1_ratio \"\n",
      "d:\\prog\\tm\\stonksmarketprediction\\venv\\lib\\site-packages\\sklearn\\linear_model\\_logistic.py:1323: UserWarning: Setting penalty='none' will ignore the C and l1_ratio parameters\n",
      "  \"Setting penalty='none' will ignore the C and l1_ratio \"\n"
     ]
    },
    {
     "name": "stdout",
     "output_type": "stream",
     "text": [
      "Performing grid search...\n",
      "Fitting 5 folds for each of 48 candidates, totalling 240 fits\n",
      "Fitting 5 folds for each of 288 candidates, totalling 1440 fits\n",
      "Fitting 5 folds for each of 72 candidates, totalling 360 fits\n",
      "Fitting 5 folds for each of 24 candidates, totalling 120 fits\n",
      "Performing grid search...\n",
      "Fitting 5 folds for each of 48 candidates, totalling 240 fits\n",
      "Fitting 5 folds for each of 288 candidates, totalling 1440 fits\n",
      "Fitting 5 folds for each of 72 candidates, totalling 360 fits\n",
      "Fitting 5 folds for each of 24 candidates, totalling 120 fits\n",
      "Performing grid search...\n",
      "Fitting 5 folds for each of 48 candidates, totalling 240 fits\n",
      "Fitting 5 folds for each of 288 candidates, totalling 1440 fits\n",
      "Fitting 5 folds for each of 72 candidates, totalling 360 fits\n",
      "Fitting 5 folds for each of 24 candidates, totalling 120 fits\n",
      "Performing grid search...\n",
      "Fitting 5 folds for each of 48 candidates, totalling 240 fits\n",
      "Fitting 5 folds for each of 288 candidates, totalling 1440 fits\n",
      "Fitting 5 folds for each of 72 candidates, totalling 360 fits\n",
      "Fitting 5 folds for each of 24 candidates, totalling 120 fits\n"
     ]
    },
    {
     "name": "stderr",
     "output_type": "stream",
     "text": [
      "d:\\prog\\tm\\stonksmarketprediction\\venv\\lib\\site-packages\\sklearn\\linear_model\\_logistic.py:1323: UserWarning: Setting penalty='none' will ignore the C and l1_ratio parameters\n",
      "  \"Setting penalty='none' will ignore the C and l1_ratio \"\n",
      "d:\\prog\\tm\\stonksmarketprediction\\venv\\lib\\site-packages\\sklearn\\linear_model\\_logistic.py:1323: UserWarning: Setting penalty='none' will ignore the C and l1_ratio parameters\n",
      "  \"Setting penalty='none' will ignore the C and l1_ratio \"\n"
     ]
    },
    {
     "name": "stdout",
     "output_type": "stream",
     "text": [
      "Performing grid search...\n",
      "Fitting 5 folds for each of 48 candidates, totalling 240 fits\n",
      "Fitting 5 folds for each of 288 candidates, totalling 1440 fits\n",
      "Fitting 5 folds for each of 72 candidates, totalling 360 fits\n",
      "Fitting 5 folds for each of 24 candidates, totalling 120 fits\n",
      "Performing grid search...\n",
      "Fitting 5 folds for each of 48 candidates, totalling 240 fits\n",
      "Fitting 5 folds for each of 288 candidates, totalling 1440 fits\n",
      "Fitting 5 folds for each of 72 candidates, totalling 360 fits\n",
      "Fitting 5 folds for each of 24 candidates, totalling 120 fits\n"
     ]
    },
    {
     "name": "stderr",
     "output_type": "stream",
     "text": [
      "d:\\prog\\tm\\stonksmarketprediction\\venv\\lib\\site-packages\\sklearn\\linear_model\\_logistic.py:1323: UserWarning: Setting penalty='none' will ignore the C and l1_ratio parameters\n",
      "  \"Setting penalty='none' will ignore the C and l1_ratio \"\n",
      "d:\\prog\\tm\\stonksmarketprediction\\venv\\lib\\site-packages\\sklearn\\linear_model\\_logistic.py:1323: UserWarning: Setting penalty='none' will ignore the C and l1_ratio parameters\n",
      "  \"Setting penalty='none' will ignore the C and l1_ratio \"\n"
     ]
    },
    {
     "name": "stdout",
     "output_type": "stream",
     "text": [
      "Performing grid search...\n",
      "Fitting 5 folds for each of 48 candidates, totalling 240 fits\n",
      "Fitting 5 folds for each of 288 candidates, totalling 1440 fits\n",
      "Fitting 5 folds for each of 72 candidates, totalling 360 fits\n",
      "Fitting 5 folds for each of 24 candidates, totalling 120 fits\n"
     ]
    },
    {
     "name": "stderr",
     "output_type": "stream",
     "text": [
      "d:\\prog\\tm\\stonksmarketprediction\\venv\\lib\\site-packages\\sklearn\\linear_model\\_logistic.py:1323: UserWarning: Setting penalty='none' will ignore the C and l1_ratio parameters\n",
      "  \"Setting penalty='none' will ignore the C and l1_ratio \"\n",
      "d:\\prog\\tm\\stonksmarketprediction\\venv\\lib\\site-packages\\sklearn\\linear_model\\_logistic.py:1323: UserWarning: Setting penalty='none' will ignore the C and l1_ratio parameters\n",
      "  \"Setting penalty='none' will ignore the C and l1_ratio \"\n"
     ]
    },
    {
     "name": "stdout",
     "output_type": "stream",
     "text": [
      "Performing grid search...\n",
      "Fitting 5 folds for each of 48 candidates, totalling 240 fits\n",
      "Fitting 5 folds for each of 288 candidates, totalling 1440 fits\n",
      "Fitting 5 folds for each of 72 candidates, totalling 360 fits\n",
      "Fitting 5 folds for each of 24 candidates, totalling 120 fits\n",
      "Performing grid search...\n",
      "Fitting 5 folds for each of 48 candidates, totalling 240 fits\n",
      "Fitting 5 folds for each of 288 candidates, totalling 1440 fits\n",
      "Fitting 5 folds for each of 72 candidates, totalling 360 fits\n",
      "Fitting 5 folds for each of 24 candidates, totalling 120 fits\n",
      "Performing grid search...\n",
      "Fitting 5 folds for each of 48 candidates, totalling 240 fits\n",
      "Fitting 5 folds for each of 288 candidates, totalling 1440 fits\n",
      "Fitting 5 folds for each of 72 candidates, totalling 360 fits\n",
      "Fitting 5 folds for each of 24 candidates, totalling 120 fits\n"
     ]
    },
    {
     "name": "stderr",
     "output_type": "stream",
     "text": [
      "d:\\prog\\tm\\stonksmarketprediction\\venv\\lib\\site-packages\\sklearn\\linear_model\\_logistic.py:1323: UserWarning: Setting penalty='none' will ignore the C and l1_ratio parameters\n",
      "  \"Setting penalty='none' will ignore the C and l1_ratio \"\n",
      "d:\\prog\\tm\\stonksmarketprediction\\venv\\lib\\site-packages\\sklearn\\linear_model\\_logistic.py:1323: UserWarning: Setting penalty='none' will ignore the C and l1_ratio parameters\n",
      "  \"Setting penalty='none' will ignore the C and l1_ratio \"\n"
     ]
    },
    {
     "name": "stdout",
     "output_type": "stream",
     "text": [
      "Performing grid search...\n",
      "Fitting 5 folds for each of 48 candidates, totalling 240 fits\n",
      "Fitting 5 folds for each of 288 candidates, totalling 1440 fits\n",
      "Fitting 5 folds for each of 72 candidates, totalling 360 fits\n",
      "Fitting 5 folds for each of 24 candidates, totalling 120 fits\n"
     ]
    },
    {
     "name": "stderr",
     "output_type": "stream",
     "text": [
      "d:\\prog\\tm\\stonksmarketprediction\\venv\\lib\\site-packages\\sklearn\\linear_model\\_logistic.py:1323: UserWarning: Setting penalty='none' will ignore the C and l1_ratio parameters\n",
      "  \"Setting penalty='none' will ignore the C and l1_ratio \"\n",
      "d:\\prog\\tm\\stonksmarketprediction\\venv\\lib\\site-packages\\sklearn\\linear_model\\_logistic.py:1323: UserWarning: Setting penalty='none' will ignore the C and l1_ratio parameters\n",
      "  \"Setting penalty='none' will ignore the C and l1_ratio \"\n"
     ]
    },
    {
     "data": {
      "application/vnd.jupyter.widget-view+json": {
       "model_id": "3d0a2a508e8e435a9e6f278441687593",
       "version_major": 2,
       "version_minor": 0
      },
      "text/plain": [
       "  0%|          | 0/14 [00:00<?, ?it/s]"
      ]
     },
     "metadata": {},
     "output_type": "display_data"
    },
    {
     "name": "stdout",
     "output_type": "stream",
     "text": [
      "Performing grid search...\n",
      "Fitting 5 folds for each of 48 candidates, totalling 240 fits\n",
      "Fitting 5 folds for each of 288 candidates, totalling 1440 fits\n",
      "Fitting 5 folds for each of 72 candidates, totalling 360 fits\n",
      "Fitting 5 folds for each of 24 candidates, totalling 120 fits\n",
      "Performing grid search...\n",
      "Fitting 5 folds for each of 48 candidates, totalling 240 fits\n",
      "Fitting 5 folds for each of 288 candidates, totalling 1440 fits\n",
      "Fitting 5 folds for each of 72 candidates, totalling 360 fits\n",
      "Fitting 5 folds for each of 24 candidates, totalling 120 fits\n",
      "Performing grid search...\n",
      "Fitting 5 folds for each of 48 candidates, totalling 240 fits\n",
      "Fitting 5 folds for each of 288 candidates, totalling 1440 fits\n",
      "Fitting 5 folds for each of 72 candidates, totalling 360 fits\n",
      "Fitting 5 folds for each of 24 candidates, totalling 120 fits\n"
     ]
    },
    {
     "name": "stderr",
     "output_type": "stream",
     "text": [
      "d:\\prog\\tm\\stonksmarketprediction\\venv\\lib\\site-packages\\sklearn\\linear_model\\_logistic.py:1323: UserWarning: Setting penalty='none' will ignore the C and l1_ratio parameters\n",
      "  \"Setting penalty='none' will ignore the C and l1_ratio \"\n",
      "d:\\prog\\tm\\stonksmarketprediction\\venv\\lib\\site-packages\\sklearn\\linear_model\\_logistic.py:1323: UserWarning: Setting penalty='none' will ignore the C and l1_ratio parameters\n",
      "  \"Setting penalty='none' will ignore the C and l1_ratio \"\n"
     ]
    },
    {
     "name": "stdout",
     "output_type": "stream",
     "text": [
      "Performing grid search...\n",
      "Fitting 5 folds for each of 48 candidates, totalling 240 fits\n",
      "Fitting 5 folds for each of 288 candidates, totalling 1440 fits\n",
      "Fitting 5 folds for each of 72 candidates, totalling 360 fits\n",
      "Fitting 5 folds for each of 24 candidates, totalling 120 fits\n",
      "Performing grid search...\n",
      "Fitting 5 folds for each of 48 candidates, totalling 240 fits\n",
      "Fitting 5 folds for each of 288 candidates, totalling 1440 fits\n",
      "Fitting 5 folds for each of 72 candidates, totalling 360 fits\n",
      "Fitting 5 folds for each of 24 candidates, totalling 120 fits\n",
      "Performing grid search...\n",
      "Fitting 5 folds for each of 48 candidates, totalling 240 fits\n",
      "Fitting 5 folds for each of 288 candidates, totalling 1440 fits\n",
      "Fitting 5 folds for each of 72 candidates, totalling 360 fits\n",
      "Fitting 5 folds for each of 24 candidates, totalling 120 fits\n",
      "Performing grid search...\n",
      "Fitting 5 folds for each of 48 candidates, totalling 240 fits\n",
      "Fitting 5 folds for each of 288 candidates, totalling 1440 fits\n",
      "Fitting 5 folds for each of 72 candidates, totalling 360 fits\n",
      "Fitting 5 folds for each of 24 candidates, totalling 120 fits\n",
      "Performing grid search...\n",
      "Fitting 5 folds for each of 48 candidates, totalling 240 fits\n",
      "Fitting 5 folds for each of 288 candidates, totalling 1440 fits\n",
      "Fitting 5 folds for each of 72 candidates, totalling 360 fits\n",
      "Fitting 5 folds for each of 24 candidates, totalling 120 fits\n",
      "Performing grid search...\n",
      "Fitting 5 folds for each of 48 candidates, totalling 240 fits\n",
      "Fitting 5 folds for each of 288 candidates, totalling 1440 fits\n",
      "Fitting 5 folds for each of 72 candidates, totalling 360 fits\n",
      "Fitting 5 folds for each of 24 candidates, totalling 120 fits\n",
      "Performing grid search...\n",
      "Fitting 5 folds for each of 48 candidates, totalling 240 fits\n",
      "Fitting 5 folds for each of 288 candidates, totalling 1440 fits\n",
      "Fitting 5 folds for each of 72 candidates, totalling 360 fits\n",
      "Fitting 5 folds for each of 24 candidates, totalling 120 fits\n"
     ]
    },
    {
     "name": "stderr",
     "output_type": "stream",
     "text": [
      "d:\\prog\\tm\\stonksmarketprediction\\venv\\lib\\site-packages\\sklearn\\linear_model\\_logistic.py:1323: UserWarning: Setting penalty='none' will ignore the C and l1_ratio parameters\n",
      "  \"Setting penalty='none' will ignore the C and l1_ratio \"\n",
      "d:\\prog\\tm\\stonksmarketprediction\\venv\\lib\\site-packages\\sklearn\\linear_model\\_logistic.py:1323: UserWarning: Setting penalty='none' will ignore the C and l1_ratio parameters\n",
      "  \"Setting penalty='none' will ignore the C and l1_ratio \"\n"
     ]
    },
    {
     "name": "stdout",
     "output_type": "stream",
     "text": [
      "Performing grid search...\n",
      "Fitting 5 folds for each of 48 candidates, totalling 240 fits\n",
      "Fitting 5 folds for each of 288 candidates, totalling 1440 fits\n",
      "Fitting 5 folds for each of 72 candidates, totalling 360 fits\n",
      "Fitting 5 folds for each of 24 candidates, totalling 120 fits\n",
      "Performing grid search...\n",
      "Fitting 5 folds for each of 48 candidates, totalling 240 fits\n",
      "Fitting 5 folds for each of 288 candidates, totalling 1440 fits\n",
      "Fitting 5 folds for each of 72 candidates, totalling 360 fits\n",
      "Fitting 5 folds for each of 24 candidates, totalling 120 fits\n"
     ]
    },
    {
     "name": "stderr",
     "output_type": "stream",
     "text": [
      "d:\\prog\\tm\\stonksmarketprediction\\venv\\lib\\site-packages\\sklearn\\linear_model\\_logistic.py:1323: UserWarning: Setting penalty='none' will ignore the C and l1_ratio parameters\n",
      "  \"Setting penalty='none' will ignore the C and l1_ratio \"\n",
      "d:\\prog\\tm\\stonksmarketprediction\\venv\\lib\\site-packages\\sklearn\\linear_model\\_logistic.py:1323: UserWarning: Setting penalty='none' will ignore the C and l1_ratio parameters\n",
      "  \"Setting penalty='none' will ignore the C and l1_ratio \"\n"
     ]
    },
    {
     "name": "stdout",
     "output_type": "stream",
     "text": [
      "Performing grid search...\n",
      "Fitting 5 folds for each of 48 candidates, totalling 240 fits\n",
      "Fitting 5 folds for each of 288 candidates, totalling 1440 fits\n",
      "Fitting 5 folds for each of 72 candidates, totalling 360 fits\n",
      "Fitting 5 folds for each of 24 candidates, totalling 120 fits\n"
     ]
    },
    {
     "name": "stderr",
     "output_type": "stream",
     "text": [
      "d:\\prog\\tm\\stonksmarketprediction\\venv\\lib\\site-packages\\sklearn\\linear_model\\_logistic.py:1323: UserWarning: Setting penalty='none' will ignore the C and l1_ratio parameters\n",
      "  \"Setting penalty='none' will ignore the C and l1_ratio \"\n",
      "d:\\prog\\tm\\stonksmarketprediction\\venv\\lib\\site-packages\\sklearn\\linear_model\\_logistic.py:1323: UserWarning: Setting penalty='none' will ignore the C and l1_ratio parameters\n",
      "  \"Setting penalty='none' will ignore the C and l1_ratio \"\n"
     ]
    },
    {
     "name": "stdout",
     "output_type": "stream",
     "text": [
      "Performing grid search...\n",
      "Fitting 5 folds for each of 48 candidates, totalling 240 fits\n",
      "Fitting 5 folds for each of 288 candidates, totalling 1440 fits\n",
      "Fitting 5 folds for each of 72 candidates, totalling 360 fits\n",
      "Fitting 5 folds for each of 24 candidates, totalling 120 fits\n"
     ]
    }
   ],
   "source": [
    "for predict_n, features_list in tqdm(days_predict_feature_set.items()):\n",
    "    quot_metrics_dict = {}\n",
    "    for quot in tqdm(quotations):\n",
    "        data_wrapper = StocksDataWrapper.read_from(f\"{DATA_PATH}{quot}{FILE_SUFFIX}\", compute_features=True, \n",
    "                                                   predict_n=predict_n, thresh_diff=None, normalize=True)\n",
    "\n",
    "\n",
    "        X_train, X_test, y_train, y_test = data_wrapper.get_datasets(n_splits=1, val_size=0.2, \n",
    "                                                                     y_column='Next', \n",
    "                                                                     features_list=features_list)\n",
    "        \n",
    "        class_weights, grid_search_class_weights = None, None\n",
    "        if USE_CLASS_WEIGHTS:\n",
    "            class_weights=compute_class_weights(y_train)\n",
    "            grid_search_class_weights = compute_class_weights(y_train[-MAX_SIZE:])\n",
    "\n",
    "\n",
    "\n",
    "        if PERFORM_GRID_SEARCH:\n",
    "            # ceil the number of samples, get the lasts MAX_SIZE samples \n",
    "            best_params = compute_grid_search(param_grid, \n",
    "                                              X_train=X_train[-MAX_SIZE:],\n",
    "                                              y_train=y_train[-MAX_SIZE:],\n",
    "                                              class_weights=grid_search_class_weights, \n",
    "                                              n_splits=n_splits)\n",
    "            params_df = pd.DataFrame.from_dict(best_params)\n",
    "            params_df.to_csv(f\"grid_search_results/{predict_n}_{quot}.csv\", index=False)\n",
    "\n",
    "        clf_dict = {}\n",
    "\n",
    "        clf_dict['DTree'] = DecisionTreeClassifier(**best_params['DTree'], random_state=42, class_weight=class_weights)\n",
    "        clf_dict['RandomForest'] = RandomForestClassifier(**best_params['RandomForest'], random_state=42, class_weight=class_weights)\n",
    "        clf_dict['SVM'] = SVC(**best_params['SVM'], class_weight=class_weights)\n",
    "        clf_dict['LR'] = LogisticRegression(**best_params['LR'], class_weight=class_weights)\n",
    "\n",
    "        \n",
    "        quot_metrics_dict[quot] = train_evaluate_classifiers(clf_dict, X_train, y_train, X_test, y_test)\n",
    "        \n",
    "    metrics_df = pd.DataFrame.from_dict(quot_metrics_dict).T\n",
    "    acc_df = metrics_df.applymap(lambda metrics: metrics['acc'])\n",
    "    f1_df = metrics_df.applymap(lambda metrics: metrics['f1'])\n",
    "\n",
    "    acc_df.to_csv(f\"metrics/acc_{predict_n}.csv\", index=True)\n",
    "    f1_df.to_csv(f\"metrics/f1_{predict_n}.csv\", index=True)\n",
    "        \n",
    "    predict_n_metrics_dict[predict_n] = quot_metrics_dict.copy()\n",
    "    \n"
   ]
  },
  {
   "cell_type": "code",
   "execution_count": 17,
   "id": "stupid-principle",
   "metadata": {},
   "outputs": [
    {
     "name": "stdout",
     "output_type": "stream",
     "text": [
      "(2753, 7)\n",
      "(2753, 7)\n",
      "(array([], dtype=int64), array([], dtype=int64))\n",
      "(array([], dtype=int64), array([], dtype=int64))\n",
      "(array([], dtype=int64), array([], dtype=int64))\n",
      "(array([], dtype=int64), array([], dtype=int64))\n",
      "(array([], dtype=int64), array([], dtype=int64))\n",
      "(array([], dtype=int64), array([], dtype=int64))\n",
      "(array([], dtype=int64), array([], dtype=int64))\n",
      "(array([], dtype=int64), array([], dtype=int64))\n",
      "(array([], dtype=int64), array([], dtype=int64))\n",
      "(array([], dtype=int64), array([], dtype=int64))\n",
      "(array([], dtype=int64), array([], dtype=int64))\n",
      "(array([], dtype=int64), array([], dtype=int64))\n",
      "(array([], dtype=int64), array([], dtype=int64))\n",
      "(array([], dtype=int64), array([], dtype=int64))\n",
      "(array([], dtype=int64), array([], dtype=int64))\n",
      "(array([], dtype=int64), array([], dtype=int64))\n",
      "(array([], dtype=int64), array([], dtype=int64))\n",
      "(array([], dtype=int64), array([], dtype=int64))\n",
      "(array([], dtype=int64), array([], dtype=int64))\n",
      "(array([], dtype=int64), array([], dtype=int64))\n"
     ]
    }
   ],
   "source": [
    "print(X_train.shape)\n",
    "X_train = X_train[-5000:]\n",
    "print(X_train.shape)\n",
    "cv = tscv.split(X_train)\n",
    "for split in cv:\n",
    "    train_ids, test_ids = split\n",
    "    train = [X_train[i] for i in train_ids]\n",
    "    val = [X_train[i] for i in test_ids]\n",
    "    print(np.where(np.isinf(train)))\n",
    "    print(np.where(np.isnan(train)))\n",
    "    print(np.where(np.isinf(val)))\n",
    "    print(np.where(np.isnan(val)))"
   ]
  },
  {
   "cell_type": "code",
   "execution_count": 18,
   "id": "answering-background",
   "metadata": {},
   "outputs": [],
   "source": [
    "params_df = pd.DataFrame.from_dict(best_params)\n",
    "params_df.to_csv(f\"results/grid_search/{N_CLASSES}_classes/{predict_n}_{quot}.csv\", index=False)"
   ]
  },
  {
   "cell_type": "code",
   "execution_count": 19,
   "id": "random-occasions",
   "metadata": {},
   "outputs": [
    {
     "name": "stdout",
     "output_type": "stream",
     "text": [
      "{1: {'AAL': {'DTree': {'acc': 0.5207439198855508, 'f1': 0.5342762796807659}, 'RandomForest': {'acc': 0.5007153075822603, 'f1': 0.5320477382211538}, 'SVM': {'acc': 0.47067238912732473, 'f1': 0.5630758763862446}, 'LR': {'acc': 0.47782546494992845, 'f1': 0.4817446940781028}}, 'AAPL': {'DTree': {'acc': 0.48068669527896996, 'f1': 0.5666769203237425}, 'RandomForest': {'acc': 0.4563662374821173, 'f1': 0.6055698033952478}, 'SVM': {'acc': 0.44778254649499283, 'f1': 0.6185770750988142}, 'LR': {'acc': 0.44778254649499283, 'f1': 0.6185770750988142}}, 'AMZN': {'DTree': {'acc': 0.5321888412017167, 'f1': 0.6391185845316079}, 'RandomForest': {'acc': 0.5464949928469242, 'f1': 0.7057419149068512}, 'SVM': {'acc': 0.4449213161659514, 'f1': 0.46273426123452444}, 'LR': {'acc': 0.5436337625178826, 'f1': 0.6426906640823297}}, 'CMCSA': {'DTree': {'acc': 0.5269749518304432, 'f1': 0.6699144549449183}, 'RandomForest': {'acc': 0.5394990366088632, 'f1': 0.6720614738954593}, 'SVM': {'acc': 0.5322736030828517, 'f1': 0.6255795142667496}, 'LR': {'acc': 0.529383429672447, 'f1': 0.6922834645669291}}, 'COST': {'DTree': {'acc': 0.5014228799089356, 'f1': 0.507167282550863}, 'RandomForest': {'acc': 0.4832100170745589, 'f1': 0.5444214872251921}, 'SVM': {'acc': 0.49231644849174727, 'f1': 0.49365517049385116}, 'LR': {'acc': 0.5418326693227091, 'f1': 0.6935064020319629}}, 'GM': {'DTree': {'acc': 0.5049701789264414, 'f1': 0.5080978677901676}, 'RandomForest': {'acc': 0.4970178926441352, 'f1': 0.5045115503315073}, 'SVM': {'acc': 0.5009940357852882, 'f1': 0.5070130383412217}, 'LR': {'acc': 0.5049701789264414, 'f1': 0.5397163350605032}}, 'GOOG': {'DTree': {'acc': 0.4864091559370529, 'f1': 0.4908842725787935}, 'RandomForest': {'acc': 0.46924177396280403, 'f1': 0.5225157519157231}, 'SVM': {'acc': 0.5221745350500715, 'f1': 0.5344347400368675}, 'LR': {'acc': 0.5121602288984263, 'f1': 0.5129368173771522}}, 'IBM': {'DTree': {'acc': 0.5054054054054054, 'f1': 0.5419430241051862}, 'RandomForest': {'acc': 0.49864864864864866, 'f1': 0.5803209320472182}, 'SVM': {'acc': 0.5023648648648649, 'f1': 0.5664521801146005}, 'LR': {'acc': 0.5135135135135135, 'f1': 0.5364931247912366}}, 'JNJ': {'DTree': {'acc': 0.525035765379113, 'f1': 0.5258166861525465}, 'RandomForest': {'acc': 0.4978540772532189, 'f1': 0.5275066759719338}, 'SVM': {'acc': 0.5050071530758226, 'f1': 0.5324053746592857}, 'LR': {'acc': 0.49213161659513593, 'f1': 0.5012330385118642}}, 'KO': {'DTree': {'acc': 0.5150214592274678, 'f1': 0.5175560740740304}, 'RandomForest': {'acc': 0.5150214592274678, 'f1': 0.5241820431069881}, 'SVM': {'acc': 0.4907010014306152, 'f1': 0.563609768577953}, 'LR': {'acc': 0.4978540772532189, 'f1': 0.5844520386151967}}, 'PEP': {'DTree': {'acc': 0.5192385581206966, 'f1': 0.6236964533460126}, 'RandomForest': {'acc': 0.5224787363304981, 'f1': 0.5224332020756264}, 'SVM': {'acc': 0.49169704333738357, 'f1': 0.5118968517071104}, 'LR': {'acc': 0.5220737140542729, 'f1': 0.6493384124980783}}, 'TSLA': {'DTree': {'acc': 0.5219885277246654, 'f1': 0.5352458485081261}, 'RandomForest': {'acc': 0.4684512428298279, 'f1': 0.4949524240711043}, 'SVM': {'acc': 0.51434034416826, 'f1': 0.5200185078398378}, 'LR': {'acc': 0.4646271510516252, 'f1': 0.4759479917637208}}, 'WMT': {'DTree': {'acc': 0.46924177396280403, 'f1': 0.47295759093624734}, 'RandomForest': {'acc': 0.5050071530758226, 'f1': 0.5160985979299173}, 'SVM': {'acc': 0.525035765379113, 'f1': 0.5253043530644451}, 'LR': {'acc': 0.5264663805436338, 'f1': 0.5589378232266032}}, 'XOM': {'DTree': {'acc': 0.47639484978540775, 'f1': 0.631835898928836}, 'RandomForest': {'acc': 0.46924177396280403, 'f1': 0.4979185005535417}, 'SVM': {'acc': 0.5078683834048641, 'f1': 0.5441241783488332}, 'LR': {'acc': 0.48783977110157367, 'f1': 0.5760381909709897}}}, 5: {'AAL': {'DTree': {'acc': 0.48424068767908307, 'f1': 0.5887285726288396}, 'RandomForest': {'acc': 0.5100286532951289, 'f1': 0.5466880491355569}, 'SVM': {'acc': 0.5343839541547278, 'f1': 0.5340159220582464}, 'LR': {'acc': 0.505730659025788, 'f1': 0.5211150840827459}}, 'AAPL': {'DTree': {'acc': 0.5214899713467048, 'f1': 0.521635331536033}, 'RandomForest': {'acc': 0.4670487106017192, 'f1': 0.5802798610821533}, 'SVM': {'acc': 0.44412607449856734, 'f1': 0.48586747039911254}, 'LR': {'acc': 0.4498567335243553, 'f1': 0.6189214348784671}}, 'AMZN': {'DTree': {'acc': 0.49140401146131807, 'f1': 0.4909728342317577}, 'RandomForest': {'acc': 0.5100286532951289, 'f1': 0.5223124325071131}, 'SVM': {'acc': 0.4684813753581662, 'f1': 0.5540161986443138}, 'LR': {'acc': 0.5458452722063037, 'f1': 0.7051976918031394}}, 'CMCSA': {'DTree': {'acc': 0.5093975903614458, 'f1': 0.5371763681161498}, 'RandomForest': {'acc': 0.5291566265060241, 'f1': 0.6780198133500479}, 'SVM': {'acc': 0.5291566265060241, 'f1': 0.6920895052001261}, 'LR': {'acc': 0.5291566265060241, 'f1': 0.6920895052001261}}, 'COST': {'DTree': {'acc': 0.5227790432801822, 'f1': 0.5584972727668359}, 'RandomForest': {'acc': 0.5011389521640092, 'f1': 0.50832414529642}, 'SVM': {'acc': 0.5392938496583144, 'f1': 0.7007029226785054}, 'LR': {'acc': 0.5392938496583144, 'f1': 0.7007029226785054}}, 'GM': {'DTree': {'acc': 0.4820717131474104, 'f1': 0.4830617633962683}, 'RandomForest': {'acc': 0.5, 'f1': 0.5048989626431611}, 'SVM': {'acc': 0.49800796812749004, 'f1': 0.49800796812749}, 'LR': {'acc': 0.48804780876494025, 'f1': 0.49534306842534953}}, 'GOOG': {'DTree': {'acc': 0.504297994269341, 'f1': 0.5038073014197828}, 'RandomForest': {'acc': 0.4799426934097421, 'f1': 0.4968744066925082}, 'SVM': {'acc': 0.47564469914040114, 'f1': 0.480815958291962}, 'LR': {'acc': 0.5458452722063037, 'f1': 0.5915254766543463}}, 'IBM': {'DTree': {'acc': 0.49611355187563366, 'f1': 0.49869062326009445}, 'RandomForest': {'acc': 0.4998310239945928, 'f1': 0.5042011545120995}, 'SVM': {'acc': 0.516052720513687, 'f1': 0.5264896305465281}, 'LR': {'acc': 0.5140250084488003, 'f1': 0.5351512253456723}}, 'JNJ': {'DTree': {'acc': 0.5085959885386819, 'f1': 0.5655964430463406}, 'RandomForest': {'acc': 0.49426934097421205, 'f1': 0.49601026866297004}, 'SVM': {'acc': 0.4813753581661891, 'f1': 0.48269641254510537}, 'LR': {'acc': 0.5128939828080229, 'f1': 0.5124774885812737}}, 'KO': {'DTree': {'acc': 0.5157593123209169, 'f1': 0.520503408297246}, 'RandomForest': {'acc': 0.4785100286532951, 'f1': 0.5061995242035048}, 'SVM': {'acc': 0.4799426934097421, 'f1': 0.648596321393998}, 'LR': {'acc': 0.4799426934097421, 'f1': 0.6363023843218923}}, 'PEP': {'DTree': {'acc': 0.4939222042139384, 'f1': 0.519348673717987}, 'RandomForest': {'acc': 0.4878444084278768, 'f1': 0.5030499042770992}, 'SVM': {'acc': 0.4846029173419773, 'f1': 0.4935524958705885}, 'LR': {'acc': 0.5247163695299838, 'f1': 0.6868394404919568}}, 'TSLA': {'DTree': {'acc': 0.46934865900383144, 'f1': 0.47009856546329337}, 'RandomForest': {'acc': 0.45977011494252873, 'f1': 0.5072917816765181}, 'SVM': {'acc': 0.4501915708812261, 'f1': 0.49512608037066724}, 'LR': {'acc': 0.47701149425287354, 'f1': 0.541584275612871}}, 'WMT': {'DTree': {'acc': 0.498567335243553, 'f1': 0.5061028915867403}, 'RandomForest': {'acc': 0.5200573065902578, 'f1': 0.5367796318013586}, 'SVM': {'acc': 0.5272206303724928, 'f1': 0.5390409122030476}, 'LR': {'acc': 0.48424068767908307, 'f1': 0.4980625253293707}}, 'XOM': {'DTree': {'acc': 0.4785100286532951, 'f1': 0.4792078066313426}, 'RandomForest': {'acc': 0.49283667621776506, 'f1': 0.4996022114539199}, 'SVM': {'acc': 0.49570200573065903, 'f1': 0.4952708117076715}, 'LR': {'acc': 0.4656160458452722, 'f1': 0.5071638235747992}}}, 10: {'AAL': {'DTree': {'acc': 0.5265423242467718, 'f1': 0.5280682222950699}, 'RandomForest': {'acc': 0.539454806312769, 'f1': 0.5407806172194422}, 'SVM': {'acc': 0.49928263988522237, 'f1': 0.5222400747557954}, 'LR': {'acc': 0.4949784791965567, 'f1': 0.49642060110783537}}, 'AAPL': {'DTree': {'acc': 0.5279770444763271, 'f1': 0.5292803616011768}, 'RandomForest': {'acc': 0.4634146341463415, 'f1': 0.5583477715037503}, 'SVM': {'acc': 0.4619799139167862, 'f1': 0.5441440297825357}, 'LR': {'acc': 0.44619799139167865, 'f1': 0.6039470939328042}}, 'AMZN': {'DTree': {'acc': 0.48923959827833574, 'f1': 0.4888518302628901}, 'RandomForest': {'acc': 0.5208034433285509, 'f1': 0.5627827850134266}, 'SVM': {'acc': 0.44763271162123386, 'f1': 0.5921946412575277}, 'LR': {'acc': 0.5480631276901005, 'f1': 0.7080630213160334}}, 'CMCSA': {'DTree': {'acc': 0.49855351976856316, 'f1': 0.5041273655835954}, 'RandomForest': {'acc': 0.529893924783028, 'f1': 0.6904838089143291}, 'SVM': {'acc': 0.5294117647058824, 'f1': 0.6923076923076924}, 'LR': {'acc': 0.5294117647058824, 'f1': 0.6923076923076924}}, 'COST': {'DTree': {'acc': 0.5156695156695157, 'f1': 0.5200506981239411}, 'RandomForest': {'acc': 0.486039886039886, 'f1': 0.5513892096234745}, 'SVM': {'acc': 0.5396011396011396, 'f1': 0.7009622501850481}, 'LR': {'acc': 0.5396011396011396, 'f1': 0.7009622501850481}}, 'GM': {'DTree': {'acc': 0.4930139720558882, 'f1': 0.5931884638979806}, 'RandomForest': {'acc': 0.47704590818363274, 'f1': 0.476958385183791}, 'SVM': {'acc': 0.48902195608782434, 'f1': 0.48896088106823266}, 'LR': {'acc': 0.5169660678642715, 'f1': 0.5190505065817732}}, 'GOOG': {'DTree': {'acc': 0.5121951219512195, 'f1': 0.5162532623964917}, 'RandomForest': {'acc': 0.5365853658536586, 'f1': 0.6274937931821861}, 'SVM': {'acc': 0.47058823529411764, 'f1': 0.4708628620687025}, 'LR': {'acc': 0.5423242467718795, 'f1': 0.7032558139534884}}, 'IBM': {'DTree': {'acc': 0.5006761325219743, 'f1': 0.5186489431258801}, 'RandomForest': {'acc': 0.4851250845165652, 'f1': 0.5070066380341449}, 'SVM': {'acc': 0.49628127112914133, 'f1': 0.5769661634576395}, 'LR': {'acc': 0.5141987829614605, 'f1': 0.672168056203673}}, 'JNJ': {'DTree': {'acc': 0.4562410329985653, 'f1': 0.5519610495905702}, 'RandomForest': {'acc': 0.4921090387374462, 'f1': 0.4974592441430443}, 'SVM': {'acc': 0.503586800573888, 'f1': 0.5038887101008949}, 'LR': {'acc': 0.4935437589670014, 'f1': 0.4936375848059553}}, 'KO': {'DTree': {'acc': 0.4835007173601148, 'f1': 0.4848090465308885}, 'RandomForest': {'acc': 0.5136298421807748, 'f1': 0.515524015593654}, 'SVM': {'acc': 0.5007173601147776, 'f1': 0.5215330407629336}, 'LR': {'acc': 0.47058823529411764, 'f1': 0.500145503928606}}, 'PEP': {'DTree': {'acc': 0.5168220510741791, 'f1': 0.5472383488088373}, 'RandomForest': {'acc': 0.5058775841102554, 'f1': 0.5059083537509923}, 'SVM': {'acc': 0.5249290636400487, 'f1': 0.6884635832004253}, 'LR': {'acc': 0.5249290636400487, 'f1': 0.6884635832004253}}, 'TSLA': {'DTree': {'acc': 0.5412667946257198, 'f1': 0.5872090092945853}, 'RandomForest': {'acc': 0.5028790786948176, 'f1': 0.5227438592172859}, 'SVM': {'acc': 0.46833013435700577, 'f1': 0.5150232460551872}, 'LR': {'acc': 0.4836852207293666, 'f1': 0.5018528775777353}}, 'WMT': {'DTree': {'acc': 0.460545193687231, 'f1': 0.4605185429763386}, 'RandomForest': {'acc': 0.49784791965566716, 'f1': 0.4982101600183347}, 'SVM': {'acc': 0.4949784791965567, 'f1': 0.4978252299527812}, 'LR': {'acc': 0.47919655667144906, 'f1': 0.5458806285288177}}, 'XOM': {'DTree': {'acc': 0.4949784791965567, 'f1': 0.5273964047598954}, 'RandomForest': {'acc': 0.4763271162123386, 'f1': 0.49910261708556714}, 'SVM': {'acc': 0.49784791965566716, 'f1': 0.5163208828345782}, 'LR': {'acc': 0.44763271162123386, 'f1': 0.5271622503572003}}}, 20: {'AAL': {'DTree': {'acc': 0.4748201438848921, 'f1': 0.47429137470879357}, 'RandomForest': {'acc': 0.4633093525179856, 'f1': 0.4643943643392551}, 'SVM': {'acc': 0.4805755395683453, 'f1': 0.4860301771511644}, 'LR': {'acc': 0.4906474820143885, 'f1': 0.4916846693893195}}, 'AAPL': {'DTree': {'acc': 0.4589928057553957, 'f1': 0.48388973112697586}, 'RandomForest': {'acc': 0.45755395683453237, 'f1': 0.4780411164624448}, 'SVM': {'acc': 0.4633093525179856, 'f1': 0.4676810513376943}, 'LR': {'acc': 0.4474820143884892, 'f1': 0.6182902584493042}}, 'AMZN': {'DTree': {'acc': 0.5467625899280576, 'f1': 0.6015100250545186}, 'RandomForest': {'acc': 0.520863309352518, 'f1': 0.5248330577347909}, 'SVM': {'acc': 0.516546762589928, 'f1': 0.5164154991796036}, 'LR': {'acc': 0.5194244604316547, 'f1': 0.6105021137728992}}, 'CMCSA': {'DTree': {'acc': 0.5057915057915058, 'f1': 0.5060468115033478}, 'RandomForest': {'acc': 0.5231660231660231, 'f1': 0.5802180260451933}, 'SVM': {'acc': 0.502895752895753, 'f1': 0.5202357759106081}, 'LR': {'acc': 0.5294401544401545, 'f1': 0.6923319659198485}}, 'COST': {'DTree': {'acc': 0.5328009127210497, 'f1': 0.5585646625099807}, 'RandomForest': {'acc': 0.4791785510553337, 'f1': 0.5535969698547666}, 'SVM': {'acc': 0.5373645179691957, 'f1': 0.6782855866824775}, 'LR': {'acc': 0.5396463205932687, 'f1': 0.7010003705075954}}, 'GM': {'DTree': {'acc': 0.49899799599198397, 'f1': 0.5174935901336438}, 'RandomForest': {'acc': 0.4849699398797595, 'f1': 0.49447823885594305}, 'SVM': {'acc': 0.48697394789579157, 'f1': 0.5393897193902853}, 'LR': {'acc': 0.48697394789579157, 'f1': 0.489372038726066}}, 'GOOG': {'DTree': {'acc': 0.5007194244604316, 'f1': 0.5060537140711856}, 'RandomForest': {'acc': 0.539568345323741, 'f1': 0.5775346778019517}, 'SVM': {'acc': 0.5266187050359712, 'f1': 0.5559737828714049}, 'LR': {'acc': 0.479136690647482, 'f1': 0.47845447882857955}}, 'IBM': {'DTree': {'acc': 0.4891745602165088, 'f1': 0.5603395096405674}, 'RandomForest': {'acc': 0.4847767253044655, 'f1': 0.49220751249980155}, 'SVM': {'acc': 0.5074424898511503, 'f1': 0.6556672895847467}, 'LR': {'acc': 0.5138700947225981, 'f1': 0.570581066509281}}, 'JNJ': {'DTree': {'acc': 0.516546762589928, 'f1': 0.6048403556190254}, 'RandomForest': {'acc': 0.48633093525179855, 'f1': 0.48657660311181383}, 'SVM': {'acc': 0.5079136690647482, 'f1': 0.5074853990454504}, 'LR': {'acc': 0.5122302158273381, 'f1': 0.5141843657710833}}, 'KO': {'DTree': {'acc': 0.5093525179856115, 'f1': 0.5167668322773961}, 'RandomForest': {'acc': 0.5194244604316547, 'f1': 0.5487992172384173}, 'SVM': {'acc': 0.5179856115107914, 'f1': 0.6824644549763034}, 'LR': {'acc': 0.4935251798561151, 'f1': 0.5995440955717498}}, 'PEP': {'DTree': {'acc': 0.4945233265720081, 'f1': 0.49661296729866206}, 'RandomForest': {'acc': 0.4872210953346856, 'f1': 0.5522502558649643}, 'SVM': {'acc': 0.47545638945233265, 'f1': 0.6444872147374209}, 'LR': {'acc': 0.5245436105476673, 'f1': 0.6881319850984566}}, 'TSLA': {'DTree': {'acc': 0.4932562620423892, 'f1': 0.49221556950615164}, 'RandomForest': {'acc': 0.4836223506743738, 'f1': 0.4843471262188912}, 'SVM': {'acc': 0.5009633911368016, 'f1': 0.5009633911368014}, 'LR': {'acc': 0.43545279383429675, 'f1': 0.45913620610873823}}, 'WMT': {'DTree': {'acc': 0.5007194244604316, 'f1': 0.5529540268671628}, 'RandomForest': {'acc': 0.5424460431654676, 'f1': 0.5480465810366583}, 'SVM': {'acc': 0.5179856115107914, 'f1': 0.5187768980419759}, 'LR': {'acc': 0.4935251798561151, 'f1': 0.5482466239704967}}, 'XOM': {'DTree': {'acc': 0.4762589928057554, 'f1': 0.49326947933178883}, 'RandomForest': {'acc': 0.516546762589928, 'f1': 0.5168303093374357}, 'SVM': {'acc': 0.4273381294964029, 'f1': 0.4465686954736684}, 'LR': {'acc': 0.46474820143884893, 'f1': 0.4677033068439395}}}, 50: {'AAL': {'DTree': {'acc': 0.5224963715529753, 'f1': 0.522169580243651}, 'RandomForest': {'acc': 0.5166908563134979, 'f1': 0.5199117122587207}, 'SVM': {'acc': 0.5094339622641509, 'f1': 0.5092638860968317}, 'LR': {'acc': 0.5050798258345428, 'f1': 0.5051778263198248}}, 'AAPL': {'DTree': {'acc': 0.5457184325108854, 'f1': 0.5640370866807825}, 'RandomForest': {'acc': 0.49637155297532654, 'f1': 0.4960182159125814}, 'SVM': {'acc': 0.4847605224963715, 'f1': 0.5271616818466004}, 'LR': {'acc': 0.44847605224963716, 'f1': 0.6192384769539078}}, 'AMZN': {'DTree': {'acc': 0.4629898403483309, 'f1': 0.47451504816680873}, 'RandomForest': {'acc': 0.5471698113207547, 'f1': 0.7073170731707317}, 'SVM': {'acc': 0.5283018867924528, 'f1': 0.6410619525076524}, 'LR': {'acc': 0.5384615384615384, 'f1': 0.6536246129400262}}, 'CMCSA': {'DTree': {'acc': 0.5072604065827686, 'f1': 0.5074110753116565}, 'RandomForest': {'acc': 0.5300096805421104, 'f1': 0.6841942708513167}, 'SVM': {'acc': 0.5251694094869312, 'f1': 0.6620561556209882}, 'LR': {'acc': 0.5290416263310745, 'f1': 0.691991136435581}}, 'COST': {'DTree': {'acc': 0.519175729822553, 'f1': 0.519175729822553}, 'RandomForest': {'acc': 0.48311390955924444, 'f1': 0.4829391271023736}, 'SVM': {'acc': 0.47681740125930167, 'f1': 0.4785452147085077}, 'LR': {'acc': 0.53921007441328, 'f1': 0.7006322052807736}}, 'GM': {'DTree': {'acc': 0.5273833671399595, 'f1': 0.5321659601940165}, 'RandomForest': {'acc': 0.48884381338742394, 'f1': 0.49209899288732206}, 'SVM': {'acc': 0.4726166328600406, 'f1': 0.47291208572678567}, 'LR': {'acc': 0.4787018255578093, 'f1': 0.48332963370856546}}, 'GOOG': {'DTree': {'acc': 0.5007256894049347, 'f1': 0.513726755570373}, 'RandomForest': {'acc': 0.5355587808417998, 'f1': 0.5558825150751434}, 'SVM': {'acc': 0.46589259796806964, 'f1': 0.47864518797984534}, 'LR': {'acc': 0.548621190130624, 'f1': 0.5790898865427813}}, 'IBM': {'DTree': {'acc': 0.5037288135593221, 'f1': 0.5156189991923403}, 'RandomForest': {'acc': 0.49830508474576274, 'f1': 0.53688104661887}, 'SVM': {'acc': 0.5122033898305085, 'f1': 0.662051378129342}, 'LR': {'acc': 0.5105084745762711, 'f1': 0.5665389876487863}}, 'JNJ': {'DTree': {'acc': 0.521044992743106, 'f1': 0.5214261197467135}, 'RandomForest': {'acc': 0.4949201741654572, 'f1': 0.5058126320682792}, 'SVM': {'acc': 0.5239477503628447, 'f1': 0.6746611890746901}, 'LR': {'acc': 0.5166908563134979, 'f1': 0.6239294964341013}}, 'KO': {'DTree': {'acc': 0.5152394775036284, 'f1': 0.5409663973090116}, 'RandomForest': {'acc': 0.502177068214804, 'f1': 0.5192133698018018}, 'SVM': {'acc': 0.4818577648766328, 'f1': 0.6503428011753183}, 'LR': {'acc': 0.48911465892597966, 'f1': 0.5518523230885333}}, 'PEP': {'DTree': {'acc': 0.5115900772671818, 'f1': 0.5288115982542031}, 'RandomForest': {'acc': 0.48068320455469704, 'f1': 0.48660281449448844}, 'SVM': {'acc': 0.475396502643351, 'f1': 0.6444321940463066}, 'LR': {'acc': 0.5237901586010574, 'f1': 0.6819225218313678}}, 'TSLA': {'DTree': {'acc': 0.49902534113060426, 'f1': 0.5020042794679817}, 'RandomForest': {'acc': 0.5029239766081871, 'f1': 0.5021870610114318}, 'SVM': {'acc': 0.4834307992202729, 'f1': 0.5059642555895753}, 'LR': {'acc': 0.5185185185185185, 'f1': 0.5175813300753667}}, 'WMT': {'DTree': {'acc': 0.4934687953555878, 'f1': 0.49566774239420114}, 'RandomForest': {'acc': 0.5108853410740203, 'f1': 0.5135037223587776}, 'SVM': {'acc': 0.4949201741654572, 'f1': 0.5047740169214264}, 'LR': {'acc': 0.5094339622641509, 'f1': 0.5817032079357201}}, 'XOM': {'DTree': {'acc': 0.49056603773584906, 'f1': 0.4949722477085056}, 'RandomForest': {'acc': 0.4862119013062409, 'f1': 0.4925159561119606}, 'SVM': {'acc': 0.45863570391872277, 'f1': 0.4596397834199537}, 'LR': {'acc': 0.46734397677793904, 'f1': 0.5873901918263328}}}}\n"
     ]
    }
   ],
   "source": [
    "print(predict_n_metrics_dict)"
   ]
  },
  {
   "cell_type": "code",
   "execution_count": 26,
   "id": "veterinary-guinea",
   "metadata": {},
   "outputs": [],
   "source": [
    "save_dict(dict_save=predict_n_metrics_dict, path=f\"{METRICS_PATH}{PIPELINE_LABEL}_dict.txt\")"
   ]
  },
  {
   "cell_type": "code",
   "execution_count": 21,
   "id": "beginning-superior",
   "metadata": {},
   "outputs": [
    {
     "name": "stdout",
     "output_type": "stream",
     "text": [
      "[AAL]\n",
      "\t[DTree] : acc :  0.52, f1 : 0.52\n",
      "\t[RandomForest] : acc :  0.52, f1 : 0.52\n",
      "\t[SVM] : acc :  0.51, f1 : 0.51\n",
      "\t[LR] : acc :  0.51, f1 : 0.51\n",
      "\n",
      "\n",
      "[AAPL]\n",
      "\t[DTree] : acc :  0.55, f1 : 0.56\n",
      "\t[RandomForest] : acc :  0.50, f1 : 0.50\n",
      "\t[SVM] : acc :  0.48, f1 : 0.53\n",
      "\t[LR] : acc :  0.45, f1 : 0.62\n",
      "\n",
      "\n",
      "[AMZN]\n",
      "\t[DTree] : acc :  0.46, f1 : 0.47\n",
      "\t[RandomForest] : acc :  0.55, f1 : 0.71\n",
      "\t[SVM] : acc :  0.53, f1 : 0.64\n",
      "\t[LR] : acc :  0.54, f1 : 0.65\n",
      "\n",
      "\n",
      "[CMCSA]\n",
      "\t[DTree] : acc :  0.51, f1 : 0.51\n",
      "\t[RandomForest] : acc :  0.53, f1 : 0.68\n",
      "\t[SVM] : acc :  0.53, f1 : 0.66\n",
      "\t[LR] : acc :  0.53, f1 : 0.69\n",
      "\n",
      "\n",
      "[COST]\n",
      "\t[DTree] : acc :  0.52, f1 : 0.52\n",
      "\t[RandomForest] : acc :  0.48, f1 : 0.48\n",
      "\t[SVM] : acc :  0.48, f1 : 0.48\n",
      "\t[LR] : acc :  0.54, f1 : 0.70\n",
      "\n",
      "\n",
      "[GM]\n",
      "\t[DTree] : acc :  0.53, f1 : 0.53\n",
      "\t[RandomForest] : acc :  0.49, f1 : 0.49\n",
      "\t[SVM] : acc :  0.47, f1 : 0.47\n",
      "\t[LR] : acc :  0.48, f1 : 0.48\n",
      "\n",
      "\n",
      "[GOOG]\n",
      "\t[DTree] : acc :  0.50, f1 : 0.51\n",
      "\t[RandomForest] : acc :  0.54, f1 : 0.56\n",
      "\t[SVM] : acc :  0.47, f1 : 0.48\n",
      "\t[LR] : acc :  0.55, f1 : 0.58\n",
      "\n",
      "\n",
      "[IBM]\n",
      "\t[DTree] : acc :  0.50, f1 : 0.52\n",
      "\t[RandomForest] : acc :  0.50, f1 : 0.54\n",
      "\t[SVM] : acc :  0.51, f1 : 0.66\n",
      "\t[LR] : acc :  0.51, f1 : 0.57\n",
      "\n",
      "\n",
      "[JNJ]\n",
      "\t[DTree] : acc :  0.52, f1 : 0.52\n",
      "\t[RandomForest] : acc :  0.49, f1 : 0.51\n",
      "\t[SVM] : acc :  0.52, f1 : 0.67\n",
      "\t[LR] : acc :  0.52, f1 : 0.62\n",
      "\n",
      "\n",
      "[KO]\n",
      "\t[DTree] : acc :  0.52, f1 : 0.54\n",
      "\t[RandomForest] : acc :  0.50, f1 : 0.52\n",
      "\t[SVM] : acc :  0.48, f1 : 0.65\n",
      "\t[LR] : acc :  0.49, f1 : 0.55\n",
      "\n",
      "\n",
      "[PEP]\n",
      "\t[DTree] : acc :  0.51, f1 : 0.53\n",
      "\t[RandomForest] : acc :  0.48, f1 : 0.49\n",
      "\t[SVM] : acc :  0.48, f1 : 0.64\n",
      "\t[LR] : acc :  0.52, f1 : 0.68\n",
      "\n",
      "\n",
      "[TSLA]\n",
      "\t[DTree] : acc :  0.50, f1 : 0.50\n",
      "\t[RandomForest] : acc :  0.50, f1 : 0.50\n",
      "\t[SVM] : acc :  0.48, f1 : 0.51\n",
      "\t[LR] : acc :  0.52, f1 : 0.52\n",
      "\n",
      "\n",
      "[WMT]\n",
      "\t[DTree] : acc :  0.49, f1 : 0.50\n",
      "\t[RandomForest] : acc :  0.51, f1 : 0.51\n",
      "\t[SVM] : acc :  0.49, f1 : 0.50\n",
      "\t[LR] : acc :  0.51, f1 : 0.58\n",
      "\n",
      "\n",
      "[XOM]\n",
      "\t[DTree] : acc :  0.49, f1 : 0.49\n",
      "\t[RandomForest] : acc :  0.49, f1 : 0.49\n",
      "\t[SVM] : acc :  0.46, f1 : 0.46\n",
      "\t[LR] : acc :  0.47, f1 : 0.59\n",
      "\n",
      "\n"
     ]
    }
   ],
   "source": [
    "#print(quot_metrics_dict)\n",
    "\n",
    "for quot, classifiers in quot_metrics_dict.items():\n",
    "    print(f\"[{quot}]\")\n",
    "    for label, metrics in classifiers.items():\n",
    "        print(f\"\\t[{label}] : acc :  {metrics['acc']:.2f}, f1 : {metrics['f1']:.2f}\")\n",
    "    \n",
    "    print(\"\\n\")\n"
   ]
  },
  {
   "cell_type": "code",
   "execution_count": 22,
   "id": "southeast-implement",
   "metadata": {},
   "outputs": [],
   "source": [
    "for predict_n, quot_metrics in full_metrics.items():\n",
    "    metrics_df = pd.DataFrame.from_dict(quot_metrics).T\n",
    "    #print(metrics_df)\n",
    "    acc_df = metrics_df.applymap(lambda metrics: metrics['acc'])\n",
    "    f1_df = metrics_df.applymap(lambda metrics: metrics['f1'])\n",
    "    \n",
    "    plt.figure()\n",
    "    acc_heatmap = sns.heatmap(acc_df, cmap ='mako', linewidths = 0.5, annot = True)\n",
    "    acc_heatmap.figure.savefig(f\"{METRICS_PATH}{predict_n}_acc.png\")\n",
    "    plt.close()\n",
    "    \n",
    "    plt.figure()\n",
    "    f1_heatmap = sns.heatmap(f1_df, cmap ='mako', linewidths = 0.5, annot = True)\n",
    "    f1_heatmap.figure.savefig(f\"{METRICS_PATH}{predict_n}_f1.png\")\n",
    "    plt.close()"
   ]
  }
 ],
 "metadata": {
  "kernelspec": {
   "display_name": "Python 3",
   "language": "python",
   "name": "python3"
  },
  "language_info": {
   "codemirror_mode": {
    "name": "ipython",
    "version": 3
   },
   "file_extension": ".py",
   "mimetype": "text/x-python",
   "name": "python",
   "nbconvert_exporter": "python",
   "pygments_lexer": "ipython3",
   "version": "3.7.7"
  }
 },
 "nbformat": 4,
 "nbformat_minor": 5
}
