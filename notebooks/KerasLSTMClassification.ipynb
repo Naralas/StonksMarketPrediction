{
 "cells": [
  {
   "cell_type": "code",
   "execution_count": 6,
   "id": "smaller-newton",
   "metadata": {},
   "outputs": [
    {
     "name": "stdout",
     "output_type": "stream",
     "text": [
      "The autoreload extension is already loaded. To reload it, use:\n",
      "  %reload_ext autoreload\n"
     ]
    }
   ],
   "source": [
    "%load_ext autoreload\n",
    "%autoreload 2\n",
    "\n",
    "import pandas as pd\n",
    "from tqdm.notebook import tqdm\n",
    "import matplotlib.pyplot as plt\n",
    "\n",
    "import sys\n",
    "sys.path.append(\"..\") # Adds higher directory to python modules path.\n",
    "\n",
    "\n",
    "import seaborn as sns\n",
    "import matplotlib\n",
    "\n",
    "plt.rcParams[\"figure.figsize\"] = (20,8)\n",
    "\n",
    "sns.set_theme()\n",
    "\n",
    "font = {'family' : 'DejaVu Sans', 'size'   : 25}\n",
    "\n",
    "matplotlib.rc('font', **font)\n",
    "\n",
    "import numpy as np\n",
    "import tensorflow as tf\n",
    "from tensorflow import keras"
   ]
  },
  {
   "cell_type": "code",
   "execution_count": 7,
   "id": "happy-playlist",
   "metadata": {},
   "outputs": [],
   "source": [
    "from StocksDataWrapper import *\n",
    "from DataHelper import *\n",
    "from Plots import *"
   ]
  },
  {
   "cell_type": "code",
   "execution_count": 12,
   "id": "tested-stick",
   "metadata": {},
   "outputs": [],
   "source": [
    "DATA_PATH = '../data/'\n",
    "FILE_SUFFIX='.txt'\n",
    "\n",
    "quotation = 'IBM'\n",
    "price_column = 'Close'\n",
    "project_label='LSTMClassification'\n",
    "\n",
    "predict_n = 5"
   ]
  },
  {
   "cell_type": "code",
   "execution_count": 13,
   "id": "strange-willow",
   "metadata": {},
   "outputs": [
    {
     "name": "stdout",
     "output_type": "stream",
     "text": [
      "0          7.393333\n",
      "1          7.440000\n",
      "2          7.346667\n",
      "3          7.353333\n",
      "4          7.360000\n",
      "            ...    \n",
      "14826    124.690002\n",
      "14827    124.820000\n",
      "14828    123.800003\n",
      "14829    124.339996\n",
      "14830    125.879997\n",
      "Name: Close, Length: 14831, dtype: float64\n"
     ]
    },
    {
     "data": {
      "text/html": [
       "<div>\n",
       "<style scoped>\n",
       "    .dataframe tbody tr th:only-of-type {\n",
       "        vertical-align: middle;\n",
       "    }\n",
       "\n",
       "    .dataframe tbody tr th {\n",
       "        vertical-align: top;\n",
       "    }\n",
       "\n",
       "    .dataframe thead th {\n",
       "        text-align: right;\n",
       "    }\n",
       "</style>\n",
       "<table border=\"1\" class=\"dataframe\">\n",
       "  <thead>\n",
       "    <tr style=\"text-align: right;\">\n",
       "      <th></th>\n",
       "      <th>Date</th>\n",
       "      <th>Open</th>\n",
       "      <th>High</th>\n",
       "      <th>Low</th>\n",
       "      <th>Close</th>\n",
       "      <th>Adjusted</th>\n",
       "      <th>Volume</th>\n",
       "      <th>LowLen</th>\n",
       "      <th>RSI(14)</th>\n",
       "      <th>GAP</th>\n",
       "      <th>...</th>\n",
       "      <th>SMA(10)</th>\n",
       "      <th>SMA(20)</th>\n",
       "      <th>EMA(14)</th>\n",
       "      <th>EMA_Diff</th>\n",
       "      <th>SMA(20) - SMA(10)</th>\n",
       "      <th>Difference</th>\n",
       "      <th>PercentageDiff</th>\n",
       "      <th>Tendency</th>\n",
       "      <th>NextPrice</th>\n",
       "      <th>Next</th>\n",
       "    </tr>\n",
       "  </thead>\n",
       "  <tbody>\n",
       "    <tr>\n",
       "      <th>0</th>\n",
       "      <td>1962-03-21</td>\n",
       "      <td>0.015428</td>\n",
       "      <td>0.014523</td>\n",
       "      <td>0.015787</td>\n",
       "      <td>0.015429</td>\n",
       "      <td>0.005020</td>\n",
       "      <td>0.003780</td>\n",
       "      <td>0.002525</td>\n",
       "      <td>0.595025</td>\n",
       "      <td>0.000000</td>\n",
       "      <td>...</td>\n",
       "      <td>0.014503</td>\n",
       "      <td>0.013555</td>\n",
       "      <td>0.013679</td>\n",
       "      <td>0.613174</td>\n",
       "      <td>0.394439</td>\n",
       "      <td>0.575048</td>\n",
       "      <td>0.643619</td>\n",
       "      <td>higher</td>\n",
       "      <td>0.015051</td>\n",
       "      <td>lower</td>\n",
       "    </tr>\n",
       "    <tr>\n",
       "      <th>1</th>\n",
       "      <td>1962-03-22</td>\n",
       "      <td>0.015334</td>\n",
       "      <td>0.014334</td>\n",
       "      <td>0.015533</td>\n",
       "      <td>0.015051</td>\n",
       "      <td>0.004897</td>\n",
       "      <td>0.003456</td>\n",
       "      <td>0.000000</td>\n",
       "      <td>0.456905</td>\n",
       "      <td>0.001641</td>\n",
       "      <td>...</td>\n",
       "      <td>0.014474</td>\n",
       "      <td>0.013587</td>\n",
       "      <td>0.013637</td>\n",
       "      <td>0.611388</td>\n",
       "      <td>0.394997</td>\n",
       "      <td>0.572212</td>\n",
       "      <td>0.611458</td>\n",
       "      <td>lower</td>\n",
       "      <td>0.015177</td>\n",
       "      <td>higher</td>\n",
       "    </tr>\n",
       "    <tr>\n",
       "      <th>2</th>\n",
       "      <td>1962-03-23</td>\n",
       "      <td>0.015113</td>\n",
       "      <td>0.014271</td>\n",
       "      <td>0.015565</td>\n",
       "      <td>0.015177</td>\n",
       "      <td>0.004938</td>\n",
       "      <td>0.002700</td>\n",
       "      <td>0.000000</td>\n",
       "      <td>0.505305</td>\n",
       "      <td>0.000410</td>\n",
       "      <td>...</td>\n",
       "      <td>0.014436</td>\n",
       "      <td>0.013619</td>\n",
       "      <td>0.013618</td>\n",
       "      <td>0.612154</td>\n",
       "      <td>0.395653</td>\n",
       "      <td>0.575703</td>\n",
       "      <td>0.651147</td>\n",
       "      <td>higher</td>\n",
       "      <td>0.015162</td>\n",
       "      <td>lower</td>\n",
       "    </tr>\n",
       "    <tr>\n",
       "      <th>3</th>\n",
       "      <td>1962-03-26</td>\n",
       "      <td>0.015207</td>\n",
       "      <td>0.014334</td>\n",
       "      <td>0.015597</td>\n",
       "      <td>0.015162</td>\n",
       "      <td>0.004933</td>\n",
       "      <td>0.001944</td>\n",
       "      <td>0.001263</td>\n",
       "      <td>0.499957</td>\n",
       "      <td>0.000000</td>\n",
       "      <td>...</td>\n",
       "      <td>0.014399</td>\n",
       "      <td>0.013656</td>\n",
       "      <td>0.013600</td>\n",
       "      <td>0.612167</td>\n",
       "      <td>0.396346</td>\n",
       "      <td>0.574721</td>\n",
       "      <td>0.639898</td>\n",
       "      <td>lower</td>\n",
       "      <td>0.014516</td>\n",
       "      <td>lower</td>\n",
       "    </tr>\n",
       "    <tr>\n",
       "      <th>4</th>\n",
       "      <td>1962-03-27</td>\n",
       "      <td>0.015113</td>\n",
       "      <td>0.014114</td>\n",
       "      <td>0.014963</td>\n",
       "      <td>0.014516</td>\n",
       "      <td>0.004723</td>\n",
       "      <td>0.005076</td>\n",
       "      <td>0.000842</td>\n",
       "      <td>0.332912</td>\n",
       "      <td>0.001026</td>\n",
       "      <td>...</td>\n",
       "      <td>0.014300</td>\n",
       "      <td>0.013658</td>\n",
       "      <td>0.013496</td>\n",
       "      <td>0.609286</td>\n",
       "      <td>0.397285</td>\n",
       "      <td>0.570357</td>\n",
       "      <td>0.590036</td>\n",
       "      <td>lower</td>\n",
       "      <td>0.014705</td>\n",
       "      <td>higher</td>\n",
       "    </tr>\n",
       "  </tbody>\n",
       "</table>\n",
       "<p>5 rows × 32 columns</p>\n",
       "</div>"
      ],
      "text/plain": [
       "         Date      Open      High       Low     Close  Adjusted    Volume  \\\n",
       "0  1962-03-21  0.015428  0.014523  0.015787  0.015429  0.005020  0.003780   \n",
       "1  1962-03-22  0.015334  0.014334  0.015533  0.015051  0.004897  0.003456   \n",
       "2  1962-03-23  0.015113  0.014271  0.015565  0.015177  0.004938  0.002700   \n",
       "3  1962-03-26  0.015207  0.014334  0.015597  0.015162  0.004933  0.001944   \n",
       "4  1962-03-27  0.015113  0.014114  0.014963  0.014516  0.004723  0.005076   \n",
       "\n",
       "     LowLen   RSI(14)       GAP  ...   SMA(10)   SMA(20)   EMA(14)  EMA_Diff  \\\n",
       "0  0.002525  0.595025  0.000000  ...  0.014503  0.013555  0.013679  0.613174   \n",
       "1  0.000000  0.456905  0.001641  ...  0.014474  0.013587  0.013637  0.611388   \n",
       "2  0.000000  0.505305  0.000410  ...  0.014436  0.013619  0.013618  0.612154   \n",
       "3  0.001263  0.499957  0.000000  ...  0.014399  0.013656  0.013600  0.612167   \n",
       "4  0.000842  0.332912  0.001026  ...  0.014300  0.013658  0.013496  0.609286   \n",
       "\n",
       "   SMA(20) - SMA(10)  Difference  PercentageDiff  Tendency  NextPrice    Next  \n",
       "0           0.394439    0.575048        0.643619    higher   0.015051   lower  \n",
       "1           0.394997    0.572212        0.611458     lower   0.015177  higher  \n",
       "2           0.395653    0.575703        0.651147    higher   0.015162   lower  \n",
       "3           0.396346    0.574721        0.639898     lower   0.014516   lower  \n",
       "4           0.397285    0.570357        0.590036     lower   0.014705  higher  \n",
       "\n",
       "[5 rows x 32 columns]"
      ]
     },
     "execution_count": 13,
     "metadata": {},
     "output_type": "execute_result"
    }
   ],
   "source": [
    "data_wrapper = StocksDataWrapper.read_from(file_path=f\"{DATA_PATH}{quotation}{FILE_SUFFIX}\", \n",
    "                                           compute_features=True, predict_n=predict_n, normalize=True)\n",
    "\n",
    "data_wrapper.head()"
   ]
  },
  {
   "cell_type": "code",
   "execution_count": 14,
   "id": "accredited-devon",
   "metadata": {},
   "outputs": [],
   "source": [
    "df = data_wrapper.df\n",
    "feature_names = data_wrapper.feature_names"
   ]
  },
  {
   "cell_type": "code",
   "execution_count": 29,
   "id": "personalized-looking",
   "metadata": {},
   "outputs": [
    {
     "data": {
      "text/plain": [
       "(      Close    Volume  MACD_diff   RSI(14)  PercentageDiff    LowLen  RSI_diff\n",
       " 0  0.015429  0.003780   0.546478  0.595025        0.643619  0.002525  0.483363\n",
       " 1  0.015051  0.003456   0.545495  0.456905        0.611458  0.000000  0.269859\n",
       " 2  0.015177  0.002700   0.545121  0.505305        0.651147  0.000000  0.535921\n",
       " 3  0.015162  0.001944   0.544865  0.499957        0.639898  0.001263  0.459252\n",
       " 4  0.014516  0.005076   0.543437  0.332912        0.590036  0.000842  0.228598,\n",
       " 0    0\n",
       " 1    1\n",
       " 2    0\n",
       " 3    0\n",
       " 4    1\n",
       " Name: Next, dtype: int64)"
      ]
     },
     "execution_count": 29,
     "metadata": {},
     "output_type": "execute_result"
    }
   ],
   "source": [
    "y_column = 'Next'\n",
    "data_columns = ['Close', 'Volume'] + feature_names\n",
    "data_columns = ['Close', 'Volume', 'MACD_diff', 'RSI(14)', 'PercentageDiff', 'LowLen', 'RSI_diff']\n",
    "data_columns += [y_column]\n",
    "\n",
    "\n",
    "dataset = df.copy()\n",
    "dataset = dataset.loc[:, data_columns]\n",
    "\n",
    "for col in dataset.columns:\n",
    "    dataset[col] = dataset[col].replace({'higher':1, 'stay':0, 'lower':0})\n",
    "    \n",
    "\n",
    "    \n",
    "X = dataset.loc[:, dataset.columns != y_column]\n",
    "y = dataset[y_column]\n",
    "\n",
    "X.head(), y.head()"
   ]
  },
  {
   "cell_type": "code",
   "execution_count": 42,
   "id": "french-destruction",
   "metadata": {},
   "outputs": [
    {
     "ename": "ValueError",
     "evalue": "Found input variables with inconsistent numbers of samples: [14797, 20]",
     "output_type": "error",
     "traceback": [
      "\u001b[1;31m---------------------------------------------------------------------------\u001b[0m",
      "\u001b[1;31mValueError\u001b[0m                                Traceback (most recent call last)",
      "\u001b[1;32m<ipython-input-42-9be27e6e6bdb>\u001b[0m in \u001b[0;36m<module>\u001b[1;34m\u001b[0m\n\u001b[0;32m      2\u001b[0m \u001b[0mTEST_SIZE\u001b[0m \u001b[1;33m=\u001b[0m \u001b[1;36m0.3\u001b[0m\u001b[1;33m\u001b[0m\u001b[1;33m\u001b[0m\u001b[0m\n\u001b[0;32m      3\u001b[0m \u001b[1;33m\u001b[0m\u001b[0m\n\u001b[1;32m----> 4\u001b[1;33m \u001b[0mX_train\u001b[0m\u001b[1;33m,\u001b[0m \u001b[0mX_test\u001b[0m\u001b[1;33m,\u001b[0m \u001b[0my_train\u001b[0m\u001b[1;33m,\u001b[0m \u001b[0my_test\u001b[0m \u001b[1;33m=\u001b[0m \u001b[0mtrain_test_split\u001b[0m\u001b[1;33m(\u001b[0m\u001b[0mX\u001b[0m\u001b[1;33m,\u001b[0m \u001b[0my\u001b[0m\u001b[1;33m,\u001b[0m \u001b[0mtest_size\u001b[0m\u001b[1;33m=\u001b[0m\u001b[1;36m0.3\u001b[0m\u001b[1;33m,\u001b[0m \u001b[0mrandom_state\u001b[0m\u001b[1;33m=\u001b[0m\u001b[1;36m42\u001b[0m\u001b[1;33m)\u001b[0m\u001b[1;33m\u001b[0m\u001b[1;33m\u001b[0m\u001b[0m\n\u001b[0m\u001b[0;32m      5\u001b[0m \u001b[1;31m#X_train, X_test, y_train, y_test = train_test_split(X, y, test_size=0.3, shuffle=False)\u001b[0m\u001b[1;33m\u001b[0m\u001b[1;33m\u001b[0m\u001b[1;33m\u001b[0m\u001b[0m\n\u001b[0;32m      6\u001b[0m \u001b[1;33m\u001b[0m\u001b[0m\n",
      "\u001b[1;32mc:\\users\\ludo\\documents\\school\\master_thesis\\stonksmarketprediction\\venv\\lib\\site-packages\\sklearn\\model_selection\\_split.py\u001b[0m in \u001b[0;36mtrain_test_split\u001b[1;34m(test_size, train_size, random_state, shuffle, stratify, *arrays)\u001b[0m\n\u001b[0;32m   2170\u001b[0m         \u001b[1;32mraise\u001b[0m \u001b[0mValueError\u001b[0m\u001b[1;33m(\u001b[0m\u001b[1;34m\"At least one array required as input\"\u001b[0m\u001b[1;33m)\u001b[0m\u001b[1;33m\u001b[0m\u001b[1;33m\u001b[0m\u001b[0m\n\u001b[0;32m   2171\u001b[0m \u001b[1;33m\u001b[0m\u001b[0m\n\u001b[1;32m-> 2172\u001b[1;33m     \u001b[0marrays\u001b[0m \u001b[1;33m=\u001b[0m \u001b[0mindexable\u001b[0m\u001b[1;33m(\u001b[0m\u001b[1;33m*\u001b[0m\u001b[0marrays\u001b[0m\u001b[1;33m)\u001b[0m\u001b[1;33m\u001b[0m\u001b[1;33m\u001b[0m\u001b[0m\n\u001b[0m\u001b[0;32m   2173\u001b[0m \u001b[1;33m\u001b[0m\u001b[0m\n\u001b[0;32m   2174\u001b[0m     \u001b[0mn_samples\u001b[0m \u001b[1;33m=\u001b[0m \u001b[0m_num_samples\u001b[0m\u001b[1;33m(\u001b[0m\u001b[0marrays\u001b[0m\u001b[1;33m[\u001b[0m\u001b[1;36m0\u001b[0m\u001b[1;33m]\u001b[0m\u001b[1;33m)\u001b[0m\u001b[1;33m\u001b[0m\u001b[1;33m\u001b[0m\u001b[0m\n",
      "\u001b[1;32mc:\\users\\ludo\\documents\\school\\master_thesis\\stonksmarketprediction\\venv\\lib\\site-packages\\sklearn\\utils\\validation.py\u001b[0m in \u001b[0;36mindexable\u001b[1;34m(*iterables)\u001b[0m\n\u001b[0;32m    297\u001b[0m     \"\"\"\n\u001b[0;32m    298\u001b[0m     \u001b[0mresult\u001b[0m \u001b[1;33m=\u001b[0m \u001b[1;33m[\u001b[0m\u001b[0m_make_indexable\u001b[0m\u001b[1;33m(\u001b[0m\u001b[0mX\u001b[0m\u001b[1;33m)\u001b[0m \u001b[1;32mfor\u001b[0m \u001b[0mX\u001b[0m \u001b[1;32min\u001b[0m \u001b[0miterables\u001b[0m\u001b[1;33m]\u001b[0m\u001b[1;33m\u001b[0m\u001b[1;33m\u001b[0m\u001b[0m\n\u001b[1;32m--> 299\u001b[1;33m     \u001b[0mcheck_consistent_length\u001b[0m\u001b[1;33m(\u001b[0m\u001b[1;33m*\u001b[0m\u001b[0mresult\u001b[0m\u001b[1;33m)\u001b[0m\u001b[1;33m\u001b[0m\u001b[1;33m\u001b[0m\u001b[0m\n\u001b[0m\u001b[0;32m    300\u001b[0m     \u001b[1;32mreturn\u001b[0m \u001b[0mresult\u001b[0m\u001b[1;33m\u001b[0m\u001b[1;33m\u001b[0m\u001b[0m\n\u001b[0;32m    301\u001b[0m \u001b[1;33m\u001b[0m\u001b[0m\n",
      "\u001b[1;32mc:\\users\\ludo\\documents\\school\\master_thesis\\stonksmarketprediction\\venv\\lib\\site-packages\\sklearn\\utils\\validation.py\u001b[0m in \u001b[0;36mcheck_consistent_length\u001b[1;34m(*arrays)\u001b[0m\n\u001b[0;32m    261\u001b[0m     \u001b[1;32mif\u001b[0m \u001b[0mlen\u001b[0m\u001b[1;33m(\u001b[0m\u001b[0muniques\u001b[0m\u001b[1;33m)\u001b[0m \u001b[1;33m>\u001b[0m \u001b[1;36m1\u001b[0m\u001b[1;33m:\u001b[0m\u001b[1;33m\u001b[0m\u001b[1;33m\u001b[0m\u001b[0m\n\u001b[0;32m    262\u001b[0m         raise ValueError(\"Found input variables with inconsistent numbers of\"\n\u001b[1;32m--> 263\u001b[1;33m                          \" samples: %r\" % [int(l) for l in lengths])\n\u001b[0m\u001b[0;32m    264\u001b[0m \u001b[1;33m\u001b[0m\u001b[0m\n\u001b[0;32m    265\u001b[0m \u001b[1;33m\u001b[0m\u001b[0m\n",
      "\u001b[1;31mValueError\u001b[0m: Found input variables with inconsistent numbers of samples: [14797, 20]"
     ]
    }
   ],
   "source": [
    "from sklearn.model_selection import train_test_split\n",
    "TEST_SIZE = 0.3\n",
    "\n",
    "X_train, X_test, y_train, y_test = train_test_split(X, y, test_size=0.3, random_state=42)\n",
    "#X_train, X_test, y_train, y_test = train_test_split(X, y, test_size=0.3, shuffle=False)\n",
    "\n",
    "X_test = X_test.sort_index()\n",
    "y_test = y_test.sort_index()\n",
    "\n",
    "\n",
    "print(f\"Train size : {len(X_train)}, test_size : {len(X_test)}\")"
   ]
  },
  {
   "cell_type": "code",
   "execution_count": 20,
   "id": "published-destruction",
   "metadata": {},
   "outputs": [],
   "source": [
    "seq_len=5\n",
    "\n",
    "train_dataset = keras.preprocessing.timeseries_dataset_from_array(\n",
    "    X_train,\n",
    "    y_train,\n",
    "    sequence_length=seq_len,\n",
    "    batch_size=32,\n",
    ")\n",
    "\n",
    "\n",
    "val_dataset = keras.preprocessing.timeseries_dataset_from_array(\n",
    "    X_test,\n",
    "    y_test,\n",
    "    sequence_length=5,\n",
    "    batch_size=32,\n",
    ")\n"
   ]
  },
  {
   "cell_type": "code",
   "execution_count": 45,
   "id": "assisted-turning",
   "metadata": {},
   "outputs": [
    {
     "name": "stdout",
     "output_type": "stream",
     "text": [
      "Inputs : [[[0.06503873 0.00538558 0.53976795 0.57289458 0.65843388 0.\n",
      "   0.49826814]\n",
      "  [0.10618978 0.03020533 0.56823956 0.56790702 0.61887628 0.\n",
      "   0.4099935 ]\n",
      "  [0.91479309 0.05517628 0.43594848 0.40687764 0.66730771 0.17045345\n",
      "   0.58573455]\n",
      "  [0.55046759 0.174608   0.78979181 0.75393734 0.76828346 0.03945708\n",
      "   0.59190834]\n",
      "  [0.05848526 0.00927357 0.532866   0.29282192 0.63700987 0.00157816\n",
      "   0.46032184]]], targets : [0]\n",
      "Input shape: (32, 5, 7)\n",
      "Target shape: (32,)\n"
     ]
    }
   ],
   "source": [
    "for batch in train_dataset.take(1):\n",
    "    inputs, targets = batch\n",
    "    print(f\"Inputs : {inputs[:1]}, targets : {targets[:1]}\")\n",
    "    \n",
    "print(\"Input shape:\", inputs.numpy().shape)\n",
    "print(\"Target shape:\", targets.numpy().shape)"
   ]
  },
  {
   "cell_type": "code",
   "execution_count": 79,
   "id": "appreciated-secondary",
   "metadata": {},
   "outputs": [
    {
     "name": "stdout",
     "output_type": "stream",
     "text": [
      "Model: \"model_18\"\n",
      "_________________________________________________________________\n",
      "Layer (type)                 Output Shape              Param #   \n",
      "=================================================================\n",
      "input_20 (InputLayer)        [(None, 5, 7)]            0         \n",
      "_________________________________________________________________\n",
      "lstm_19 (LSTM)               (None, 100)               43200     \n",
      "_________________________________________________________________\n",
      "dropout_7 (Dropout)          (None, 100)               0         \n",
      "_________________________________________________________________\n",
      "dense_18 (Dense)             (None, 100)               10100     \n",
      "_________________________________________________________________\n",
      "dropout_8 (Dropout)          (None, 100)               0         \n",
      "_________________________________________________________________\n",
      "dense_19 (Dense)             (None, 1)                 101       \n",
      "=================================================================\n",
      "Total params: 53,401\n",
      "Trainable params: 53,401\n",
      "Non-trainable params: 0\n",
      "_________________________________________________________________\n"
     ]
    }
   ],
   "source": [
    "from tensorflow.keras import layers\n",
    "\n",
    "inputs = keras.layers.Input(shape=(inputs.shape[1], inputs.shape[2]))\n",
    "lstm_out = keras.layers.LSTM(100)(inputs)\n",
    "dropout = keras.layers.Dropout(0.2)(lstm_out)\n",
    "dense_2 = keras.layers.Dense(100)(dropout)\n",
    "dropout_2 = keras.layers.Dropout(0.2)(dense_2)\n",
    "outputs = keras.layers.Dense(1, activation='sigmoid')(dropout_2)\n",
    "\n",
    "\n",
    "model = keras.Model(inputs=inputs, outputs=outputs)\n",
    "model.compile(optimizer=keras.optimizers.Adam(learning_rate=0.001), loss=\"binary_crossentropy\", metrics=['accuracy'])\n",
    "model.summary()"
   ]
  },
  {
   "cell_type": "code",
   "execution_count": 80,
   "id": "dynamic-strengthening",
   "metadata": {},
   "outputs": [
    {
     "name": "stdout",
     "output_type": "stream",
     "text": [
      "Epoch 1/20\n",
      "324/324 [==============================] - 3s 4ms/step - loss: 0.6957 - accuracy: 0.5005\n",
      "Epoch 2/20\n",
      "324/324 [==============================] - 1s 4ms/step - loss: 0.6943 - accuracy: 0.4995\n",
      "Epoch 3/20\n",
      "324/324 [==============================] - 1s 4ms/step - loss: 0.6940 - accuracy: 0.5061\n",
      "Epoch 4/20\n",
      "324/324 [==============================] - 1s 4ms/step - loss: 0.6936 - accuracy: 0.5078\n",
      "Epoch 5/20\n",
      "324/324 [==============================] - 1s 4ms/step - loss: 0.6935 - accuracy: 0.5089\n",
      "Epoch 6/20\n",
      "324/324 [==============================] - 1s 4ms/step - loss: 0.6937 - accuracy: 0.5057\n",
      "Epoch 7/20\n",
      "324/324 [==============================] - 1s 4ms/step - loss: 0.6935 - accuracy: 0.5079\n",
      "Epoch 8/20\n",
      "324/324 [==============================] - 1s 4ms/step - loss: 0.6936 - accuracy: 0.5088\n",
      "Epoch 9/20\n",
      "324/324 [==============================] - 1s 4ms/step - loss: 0.6934 - accuracy: 0.5129\n",
      "Epoch 10/20\n",
      "324/324 [==============================] - 1s 4ms/step - loss: 0.6932 - accuracy: 0.5091\n",
      "Epoch 11/20\n",
      "324/324 [==============================] - 1s 4ms/step - loss: 0.6933 - accuracy: 0.5102\n",
      "Epoch 12/20\n",
      "324/324 [==============================] - 1s 4ms/step - loss: 0.6933 - accuracy: 0.5109\n",
      "Epoch 13/20\n",
      "324/324 [==============================] - 1s 4ms/step - loss: 0.6932 - accuracy: 0.5118\n",
      "Epoch 14/20\n",
      "324/324 [==============================] - 1s 4ms/step - loss: 0.6931 - accuracy: 0.5106\n",
      "Epoch 15/20\n",
      "324/324 [==============================] - 1s 4ms/step - loss: 0.6929 - accuracy: 0.5122\n",
      "Epoch 16/20\n",
      "324/324 [==============================] - 1s 4ms/step - loss: 0.6931 - accuracy: 0.5095\n",
      "Epoch 17/20\n",
      "324/324 [==============================] - 1s 4ms/step - loss: 0.6930 - accuracy: 0.5102\n",
      "Epoch 18/20\n",
      "324/324 [==============================] - ETA: 0s - loss: 0.6929 - accuracy: 0.51 - 1s 4ms/step - loss: 0.6929 - accuracy: 0.5119\n",
      "Epoch 19/20\n",
      "324/324 [==============================] - 1s 4ms/step - loss: 0.6928 - accuracy: 0.5149\n",
      "Epoch 20/20\n",
      "324/324 [==============================] - 1s 4ms/step - loss: 0.6924 - accuracy: 0.5207\n"
     ]
    }
   ],
   "source": [
    "history = model.fit(\n",
    "    train_dataset,\n",
    "    epochs=20,\n",
    "    #validation_data=val_dataset,\n",
    ")"
   ]
  },
  {
   "cell_type": "code",
   "execution_count": 47,
   "id": "cordless-spectacular",
   "metadata": {},
   "outputs": [
    {
     "data": {
      "image/png": "[encoded data removed]",
      "text/plain": [
       "<Figure size 1440x576 with 1 Axes>"
      ]
     },
     "metadata": {},
     "output_type": "display_data"
    }
   ],
   "source": [
    "def visualize_loss(history, title):\n",
    "    loss = history.history[\"loss\"]\n",
    "    epochs = range(len(loss))\n",
    "    plt.figure()\n",
    "    plt.plot(epochs, loss, \"b\", label=\"Training loss\")\n",
    "    plt.title(title)\n",
    "    plt.xlabel(\"Epochs\")\n",
    "    plt.ylabel(\"Loss\")\n",
    "    plt.legend()\n",
    "    plt.show()\n",
    "\n",
    "\n",
    "visualize_loss(history, \"Training and Validation Loss\")"
   ]
  },
  {
   "cell_type": "code",
   "execution_count": 49,
   "id": "forbidden-italic",
   "metadata": {},
   "outputs": [
    {
     "name": "stdout",
     "output_type": "stream",
     "text": [
      "Accuracy: 50.83%\n"
     ]
    }
   ],
   "source": [
    "# Final evaluation of the model\n",
    "scores = model.evaluate(val_dataset, verbose=0)\n",
    "print(\"Accuracy: %.2f%%\" % (scores[1]*100))"
   ]
  },
  {
   "cell_type": "code",
   "execution_count": 50,
   "id": "cheap-caution",
   "metadata": {},
   "outputs": [
    {
     "data": {
      "application/vnd.jupyter.widget-view+json": {
       "model_id": "76ee4b257602417a9e2635208a6a860e",
       "version_major": 2,
       "version_minor": 0
      },
      "text/plain": [
       "  0%|          | 0/139 [00:00<?, ?it/s]"
      ]
     },
     "metadata": {},
     "output_type": "display_data"
    }
   ],
   "source": [
    "predictions = np.array([])\n",
    "labels = np.array([])\n",
    "\n",
    "for x, y in tqdm(val_dataset):\n",
    "    predictions = np.concatenate([predictions, model.predict(x).flatten()])\n",
    "    labels = np.concatenate([labels,y])"
   ]
  },
  {
   "cell_type": "code",
   "execution_count": 51,
   "id": "visible-internship",
   "metadata": {},
   "outputs": [
    {
     "name": "stdout",
     "output_type": "stream",
     "text": [
      "[0.48654196 0.48688644 0.4872115  ... 0.49374908 0.49533448 0.49261612]\n"
     ]
    }
   ],
   "source": [
    "print(predictions)"
   ]
  },
  {
   "cell_type": "code",
   "execution_count": 52,
   "id": "aging-russian",
   "metadata": {},
   "outputs": [],
   "source": [
    "test_df = pd.DataFrame(data={'Close':predictions})\n",
    "scaled_preds = data_wrapper.get_unscaled_data(df=test_df)['Close']\n",
    "test_df = pd.DataFrame(data={'Close':labels})\n",
    "scaled_labels = data_wrapper.get_unscaled_data(df=test_df)['Close']"
   ]
  },
  {
   "cell_type": "code",
   "execution_count": 53,
   "id": "recorded-retirement",
   "metadata": {},
   "outputs": [
    {
     "name": "stdout",
     "output_type": "stream",
     "text": [
      "0       107.090665\n",
      "1       107.163599\n",
      "2       107.232419\n",
      "3       106.113587\n",
      "4       106.815370\n",
      "           ...    \n",
      "4431    108.564975\n",
      "4432    108.259571\n",
      "4433    108.616557\n",
      "4434    108.952217\n",
      "4435    108.376686\n",
      "Name: Close, Length: 4436, dtype: float64\n",
      "0         4.080000\n",
      "1         4.080000\n",
      "2         4.080000\n",
      "3         4.080000\n",
      "4         4.080000\n",
      "           ...    \n",
      "4431    215.800003\n",
      "4432      4.080000\n",
      "4433    215.800003\n",
      "4434      4.080000\n",
      "4435      4.080000\n",
      "Name: Close, Length: 4436, dtype: float64\n"
     ]
    }
   ],
   "source": [
    "print(scaled_preds)\n",
    "print(scaled_labels)"
   ]
  },
  {
   "cell_type": "code",
   "execution_count": 54,
   "id": "caroline-roller",
   "metadata": {},
   "outputs": [
    {
     "data": {
      "image/png": "[encoded data removed]",
      "text/plain": [
       "<Figure size 1440x576 with 1 Axes>"
      ]
     },
     "metadata": {},
     "output_type": "display_data"
    }
   ],
   "source": [
    "plot_normalized_histogram(series=pd.Series([p - y for p,y in zip(scaled_preds, scaled_labels)], name=\"Differences\"))\n",
    "plt.show()"
   ]
  },
  {
   "cell_type": "code",
   "execution_count": 55,
   "id": "surprising-remark",
   "metadata": {},
   "outputs": [
    {
     "data": {
      "image/png": "[encoded data removed]",
      "text/plain": [
       "<Figure size 1440x576 with 1 Axes>"
      ]
     },
     "metadata": {},
     "output_type": "display_data"
    }
   ],
   "source": [
    "ax = plt.gca()\n",
    "ax.plot(scaled_preds, label=\"Predictions\")\n",
    "ax.plot(scaled_labels, label=\"Labels\")\n",
    "plt.legend(loc='best')\n",
    "plt.show()"
   ]
  },
  {
   "cell_type": "code",
   "execution_count": null,
   "id": "christian-mozambique",
   "metadata": {},
   "outputs": [],
   "source": []
  }
 ],
 "metadata": {
  "kernelspec": {
   "display_name": "Python 3",
   "language": "python",
   "name": "python3"
  },
  "language_info": {
   "codemirror_mode": {
    "name": "ipython",
    "version": 3
   },
   "file_extension": ".py",
   "mimetype": "text/x-python",
   "name": "python",
   "nbconvert_exporter": "python",
   "pygments_lexer": "ipython3",
   "version": "3.7.7"
  }
 },
 "nbformat": 4,
 "nbformat_minor": 5
}
