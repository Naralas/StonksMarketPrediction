{
 "cells": [
  {
   "cell_type": "code",
   "execution_count": 1,
   "id": "fourth-constitutional",
   "metadata": {},
   "outputs": [],
   "source": [
    "%load_ext autoreload\n",
    "%autoreload 2\n",
    "\n",
    "from notebook_config import setup_notebook\n",
    "import matplotlib.pyplot as plt\n",
    "import numpy as np\n",
    "from tqdm.notebook import tqdm\n",
    "\n",
    "setup_notebook()"
   ]
  },
  {
   "cell_type": "code",
   "execution_count": 2,
   "id": "tracked-butler",
   "metadata": {},
   "outputs": [],
   "source": [
    "from datasets.stocks_data_wrapper import StocksDataWrapper\n",
    "from helpers.data_helper import *\n",
    "from helpers.plots_helper import *"
   ]
  },
  {
   "cell_type": "code",
   "execution_count": 3,
   "id": "illegal-fiction",
   "metadata": {},
   "outputs": [],
   "source": [
    "DATA_PATH = '../data/'\n",
    "FILE_SUFFIX='.txt'\n",
    "\n",
    "quotation = 'GOOG'\n",
    "price_column = 'Close'\n",
    "project_label='KerasLSTMClassification'\n",
    "\n",
    "predict_n = 5\n",
    "\n",
    "THRESH_DIFF = None"
   ]
  },
  {
   "cell_type": "code",
   "execution_count": 4,
   "id": "authorized-bullet",
   "metadata": {},
   "outputs": [
    {
     "data": {
      "text/html": [
       "<div>\n",
       "<style scoped>\n",
       "    .dataframe tbody tr th:only-of-type {\n",
       "        vertical-align: middle;\n",
       "    }\n",
       "\n",
       "    .dataframe tbody tr th {\n",
       "        vertical-align: top;\n",
       "    }\n",
       "\n",
       "    .dataframe thead th {\n",
       "        text-align: right;\n",
       "    }\n",
       "</style>\n",
       "<table border=\"1\" class=\"dataframe\">\n",
       "  <thead>\n",
       "    <tr style=\"text-align: right;\">\n",
       "      <th></th>\n",
       "      <th>Date</th>\n",
       "      <th>Open</th>\n",
       "      <th>High</th>\n",
       "      <th>Low</th>\n",
       "      <th>Close</th>\n",
       "      <th>Volume</th>\n",
       "      <th>Adjusted</th>\n",
       "      <th>LowLen</th>\n",
       "      <th>RSI(14)</th>\n",
       "      <th>GAP</th>\n",
       "      <th>...</th>\n",
       "      <th>SMA(10)</th>\n",
       "      <th>SMA(20)</th>\n",
       "      <th>EMA(14)</th>\n",
       "      <th>EMA_Diff</th>\n",
       "      <th>SMA(20) - SMA(10)</th>\n",
       "      <th>Difference</th>\n",
       "      <th>PercentageDiff</th>\n",
       "      <th>Tendency</th>\n",
       "      <th>NextPrice</th>\n",
       "      <th>Next</th>\n",
       "    </tr>\n",
       "  </thead>\n",
       "  <tbody>\n",
       "    <tr>\n",
       "      <th>0</th>\n",
       "      <td>2007-02-21</td>\n",
       "      <td>0.060976</td>\n",
       "      <td>0.060866</td>\n",
       "      <td>0.064614</td>\n",
       "      <td>0.064011</td>\n",
       "      <td>0.242089</td>\n",
       "      <td>0.064011</td>\n",
       "      <td>0.016911</td>\n",
       "      <td>0.433593</td>\n",
       "      <td>0.009099</td>\n",
       "      <td>...</td>\n",
       "      <td>0.057511</td>\n",
       "      <td>0.057771</td>\n",
       "      <td>0.056349</td>\n",
       "      <td>0.552833</td>\n",
       "      <td>0.462882</td>\n",
       "      <td>0.486622</td>\n",
       "      <td>0.480398</td>\n",
       "      <td>higher</td>\n",
       "      <td>0.056271</td>\n",
       "      <td>higher</td>\n",
       "    </tr>\n",
       "    <tr>\n",
       "      <th>1</th>\n",
       "      <td>2007-02-22</td>\n",
       "      <td>0.063578</td>\n",
       "      <td>0.062483</td>\n",
       "      <td>0.066563</td>\n",
       "      <td>0.064008</td>\n",
       "      <td>0.246524</td>\n",
       "      <td>0.064008</td>\n",
       "      <td>0.011757</td>\n",
       "      <td>0.433481</td>\n",
       "      <td>0.011394</td>\n",
       "      <td>...</td>\n",
       "      <td>0.057686</td>\n",
       "      <td>0.057418</td>\n",
       "      <td>0.056519</td>\n",
       "      <td>0.556868</td>\n",
       "      <td>0.458111</td>\n",
       "      <td>0.478819</td>\n",
       "      <td>0.446447</td>\n",
       "      <td>lower</td>\n",
       "      <td>0.055913</td>\n",
       "      <td>lower</td>\n",
       "    </tr>\n",
       "    <tr>\n",
       "      <th>2</th>\n",
       "      <td>2007-02-23</td>\n",
       "      <td>0.062714</td>\n",
       "      <td>0.060363</td>\n",
       "      <td>0.064631</td>\n",
       "      <td>0.062475</td>\n",
       "      <td>0.166584</td>\n",
       "      <td>0.062475</td>\n",
       "      <td>0.022709</td>\n",
       "      <td>0.375610</td>\n",
       "      <td>0.000403</td>\n",
       "      <td>...</td>\n",
       "      <td>0.057673</td>\n",
       "      <td>0.057153</td>\n",
       "      <td>0.056455</td>\n",
       "      <td>0.560099</td>\n",
       "      <td>0.455835</td>\n",
       "      <td>0.477940</td>\n",
       "      <td>0.443183</td>\n",
       "      <td>lower</td>\n",
       "      <td>0.053115</td>\n",
       "      <td>lower</td>\n",
       "    </tr>\n",
       "    <tr>\n",
       "      <th>3</th>\n",
       "      <td>2007-02-26</td>\n",
       "      <td>0.061855</td>\n",
       "      <td>0.059868</td>\n",
       "      <td>0.063444</td>\n",
       "      <td>0.060808</td>\n",
       "      <td>0.170334</td>\n",
       "      <td>0.060808</td>\n",
       "      <td>0.009503</td>\n",
       "      <td>0.318246</td>\n",
       "      <td>0.008897</td>\n",
       "      <td>...</td>\n",
       "      <td>0.057764</td>\n",
       "      <td>0.056684</td>\n",
       "      <td>0.056171</td>\n",
       "      <td>0.558012</td>\n",
       "      <td>0.450778</td>\n",
       "      <td>0.461786</td>\n",
       "      <td>0.375151</td>\n",
       "      <td>lower</td>\n",
       "      <td>0.053780</td>\n",
       "      <td>higher</td>\n",
       "    </tr>\n",
       "    <tr>\n",
       "      <th>4</th>\n",
       "      <td>2007-02-27</td>\n",
       "      <td>0.056611</td>\n",
       "      <td>0.055376</td>\n",
       "      <td>0.058584</td>\n",
       "      <td>0.056072</td>\n",
       "      <td>0.399807</td>\n",
       "      <td>0.056072</td>\n",
       "      <td>0.012885</td>\n",
       "      <td>0.189966</td>\n",
       "      <td>0.039978</td>\n",
       "      <td>...</td>\n",
       "      <td>0.057480</td>\n",
       "      <td>0.056021</td>\n",
       "      <td>0.055274</td>\n",
       "      <td>0.549878</td>\n",
       "      <td>0.447407</td>\n",
       "      <td>0.440886</td>\n",
       "      <td>0.288671</td>\n",
       "      <td>lower</td>\n",
       "      <td>0.058645</td>\n",
       "      <td>higher</td>\n",
       "    </tr>\n",
       "  </tbody>\n",
       "</table>\n",
       "<p>5 rows × 32 columns</p>\n",
       "</div>"
      ],
      "text/plain": [
       "         Date      Open      High       Low     Close    Volume  Adjusted  \\\n",
       "0  2007-02-21  0.060976  0.060866  0.064614  0.064011  0.242089  0.064011   \n",
       "1  2007-02-22  0.063578  0.062483  0.066563  0.064008  0.246524  0.064008   \n",
       "2  2007-02-23  0.062714  0.060363  0.064631  0.062475  0.166584  0.062475   \n",
       "3  2007-02-26  0.061855  0.059868  0.063444  0.060808  0.170334  0.060808   \n",
       "4  2007-02-27  0.056611  0.055376  0.058584  0.056072  0.399807  0.056072   \n",
       "\n",
       "     LowLen   RSI(14)       GAP  ...   SMA(10)   SMA(20)   EMA(14)  EMA_Diff  \\\n",
       "0  0.016911  0.433593  0.009099  ...  0.057511  0.057771  0.056349  0.552833   \n",
       "1  0.011757  0.433481  0.011394  ...  0.057686  0.057418  0.056519  0.556868   \n",
       "2  0.022709  0.375610  0.000403  ...  0.057673  0.057153  0.056455  0.560099   \n",
       "3  0.009503  0.318246  0.008897  ...  0.057764  0.056684  0.056171  0.558012   \n",
       "4  0.012885  0.189966  0.039978  ...  0.057480  0.056021  0.055274  0.549878   \n",
       "\n",
       "   SMA(20) - SMA(10)  Difference  PercentageDiff  Tendency  NextPrice    Next  \n",
       "0           0.462882    0.486622        0.480398    higher   0.056271  higher  \n",
       "1           0.458111    0.478819        0.446447     lower   0.055913   lower  \n",
       "2           0.455835    0.477940        0.443183     lower   0.053115   lower  \n",
       "3           0.450778    0.461786        0.375151     lower   0.053780  higher  \n",
       "4           0.447407    0.440886        0.288671     lower   0.058645  higher  \n",
       "\n",
       "[5 rows x 32 columns]"
      ]
     },
     "execution_count": 4,
     "metadata": {},
     "output_type": "execute_result"
    }
   ],
   "source": [
    "data_wrapper = StocksDataWrapper.read_from(file_path=f\"{DATA_PATH}{quotation}{FILE_SUFFIX}\", thresh_diff=THRESH_DIFF,\n",
    "                                           compute_features=True, predict_n=predict_n, normalize=True)\n",
    "\n",
    "data_wrapper.head()"
   ]
  },
  {
   "cell_type": "code",
   "execution_count": 5,
   "id": "public-laser",
   "metadata": {},
   "outputs": [
    {
     "data": {
      "text/plain": [
       "(10, 6)"
      ]
     },
     "execution_count": 5,
     "metadata": {},
     "output_type": "execute_result"
    }
   ],
   "source": [
    "y_column = 'Next'\n",
    "seq_len = 5\n",
    "n_splits=10\n",
    "val_size = 0.2\n",
    "\n",
    "features = ['Close', 'Volume', 'MACD_diff', 'RSI(14)', \n",
    "            'EMA(14)', 'SMA(10)', 'SMA(20) - SMA(10)','PercentageDiff', 'LowLen', 'RSI_diff', 'BodyLen', 'Volume_diff']\n",
    "datasets_splits = data_wrapper.get_datasets(n_splits=n_splits, val_size=val_size, sequences=True, seq_len=5, y_column=y_column, features_list=features)\n",
    "\n",
    "datasets_splits.shape"
   ]
  },
  {
   "cell_type": "code",
   "execution_count": 6,
   "id": "statutory-tribute",
   "metadata": {},
   "outputs": [
    {
     "data": {
      "text/plain": [
       "<AxesSubplot:>"
      ]
     },
     "execution_count": 6,
     "metadata": {},
     "output_type": "execute_result"
    },
    {
     "data": {
      "image/png": "[encoded data removed]",
      "text/plain": [
       "<Figure size 1440x576 with 1 Axes>"
      ]
     },
     "metadata": {},
     "output_type": "display_data"
    }
   ],
   "source": [
    "data_wrapper[y_column].hist()"
   ]
  },
  {
   "cell_type": "code",
   "execution_count": 7,
   "id": "designed-albania",
   "metadata": {},
   "outputs": [
    {
     "data": {
      "application/vnd.jupyter.widget-view+json": {
       "model_id": "3c12c4b1c8ef4ca6b54c9266a610fa0d",
       "version_major": 2,
       "version_minor": 0
      },
      "text/plain": [
       "0it [00:00, ?it/s]"
      ]
     },
     "metadata": {},
     "output_type": "display_data"
    },
    {
     "name": "stdout",
     "output_type": "stream",
     "text": [
      "Wandb run page : https://wandb.ai/ludovic_herbelin_unine/KerasLSTMClassification/runs/9v4vi19n\n",
      "Wandb run page : https://wandb.ai/ludovic_herbelin_unine/KerasLSTMClassification/runs/1ws20a7l\n",
      "Wandb run page : https://wandb.ai/ludovic_herbelin_unine/KerasLSTMClassification/runs/2g091t1y\n",
      "Wandb run page : https://wandb.ai/ludovic_herbelin_unine/KerasLSTMClassification/runs/2xvnhuvz\n",
      "Wandb run page : https://wandb.ai/ludovic_herbelin_unine/KerasLSTMClassification/runs/1wb4ltoa\n",
      "WARNING:tensorflow:5 out of the last 15 calls to <function Model.make_predict_function.<locals>.predict_function at 0x00000146164A61F8> triggered tf.function retracing. Tracing is expensive and the excessive number of tracings could be due to (1) creating @tf.function repeatedly in a loop, (2) passing tensors with different shapes, (3) passing Python objects instead of tensors. For (1), please define your @tf.function outside of the loop. For (2), @tf.function has experimental_relax_shapes=True option that relaxes argument shapes that can avoid unnecessary retracing. For (3), please refer to https://www.tensorflow.org/guide/function#controlling_retracing and https://www.tensorflow.org/api_docs/python/tf/function for  more details.\n",
      "Wandb run page : https://wandb.ai/ludovic_herbelin_unine/KerasLSTMClassification/runs/2uhrhcdq\n",
      "Wandb run page : https://wandb.ai/ludovic_herbelin_unine/KerasLSTMClassification/runs/39mc88q5\n",
      "Wandb run page : https://wandb.ai/ludovic_herbelin_unine/KerasLSTMClassification/runs/2iq5d50y\n",
      "Wandb run page : https://wandb.ai/ludovic_herbelin_unine/KerasLSTMClassification/runs/2o0n1q2e\n",
      "Wandb run page : https://wandb.ai/ludovic_herbelin_unine/KerasLSTMClassification/runs/3td9a600\n"
     ]
    }
   ],
   "source": [
    "from keras.preprocessing import timeseries_dataset_from_array as build_timeseries_ds\n",
    "from trainers.keras_classification_trainer import KerasClassificationTrainer\n",
    "from models.keras_lstm_model import LSTMModel\n",
    "import tensorflow as tf\n",
    "\n",
    "\n",
    "config_dict = dict(\n",
    "    quotation=quotation,\n",
    "    predict_n = predict_n,\n",
    "    features=features,\n",
    "    learning_rate = 0.01,\n",
    "    batch_size = 32,\n",
    "    sequence_length=seq_len,\n",
    "    n_epochs = 100,\n",
    "    n_splits = n_splits,\n",
    "    val_size = val_size,\n",
    ")\n",
    "\n",
    "group_name = f\"[{quotation}] {seq_len}-sequences : {len(features)} features  -> predict:{predict_n}, {n_splits} splits {val_size} val\"\n",
    "\n",
    "\n",
    "for split_id, split in tqdm(enumerate(datasets_splits)):\n",
    "    #run = wandb.init(project='StockRegressionKerasLSTM', config=config_dict, group=group_name, name=f\"Split {split_id+1}\")\n",
    "    \n",
    "    (X_train, X_val, X_test, y_train, y_val, y_test) = split\n",
    "    train_set = tf.data.Dataset.from_tensor_slices((X_train, y_train)).batch(config_dict['batch_size'])\n",
    "    val_set = tf.data.Dataset.from_tensor_slices((X_val, y_val)).batch(config_dict['batch_size'])\n",
    "    test_set = tf.data.Dataset.from_tensor_slices((X_test, y_test)).batch(config_dict['batch_size'])\n",
    "\n",
    "    model = LSTMModel(config_dict, seq_len, len(features), output_dim=len(np.unique(y_train)),\n",
    "                      learning_rate=config_dict['learning_rate'], loss='sparse_categorical_crossentropy', metrics=['accuracy'])\n",
    "    trainer = KerasClassificationTrainer(model, project_label=project_label)\n",
    "    trainer.train(train_set, val_set)"
   ]
  },
  {
   "cell_type": "markdown",
   "id": "encouraging-jungle",
   "metadata": {},
   "source": [
    "### Train model with full training set (train + validation) and test on test set"
   ]
  },
  {
   "cell_type": "code",
   "execution_count": 8,
   "id": "medium-evening",
   "metadata": {},
   "outputs": [
    {
     "name": "stdout",
     "output_type": "stream",
     "text": [
      "Wandb run page : https://wandb.ai/ludovic_herbelin_unine/KerasLSTMClassification%20full%20training-set/runs/23udmbmv\n"
     ]
    },
    {
     "data": {
      "text/plain": [
       "{'accuracy': 0.4272151898734177,\n",
       " 'roc_auc': 0.5,\n",
       " 'f1_score': 0.25576075668696846,\n",
       " 'confusion_matrix': <wandb.sdk.data_types.Image at 0x1461b2698c8>}"
      ]
     },
     "execution_count": 8,
     "metadata": {},
     "output_type": "execute_result"
    }
   ],
   "source": [
    "config_dict['n_epochs'] = 150\n",
    "\n",
    "full_train_set = train_set.concatenate(val_set)\n",
    "final_model = LSTMModel(config_dict, seq_len, len(features), output_dim=len(np.unique(y_train)),learning_rate=config_dict['learning_rate'], loss='mse')\n",
    "trainer = KerasClassificationTrainer(model, project_label=f\"{project_label} full training-set\")\n",
    "trainer.train(full_train_set, val_set=test_set)"
   ]
  },
  {
   "cell_type": "code",
   "execution_count": 10,
   "id": "aggregate-adolescent",
   "metadata": {},
   "outputs": [
    {
     "data": {
      "text/plain": [
       "<AxesSubplot:xlabel='Predictions', ylabel='True labels'>"
      ]
     },
     "execution_count": 10,
     "metadata": {},
     "output_type": "execute_result"
    },
    {
     "data": {
      "image/png": "[encoded data removed]",
      "text/plain": [
       "<Figure size 1440x576 with 2 Axes>"
      ]
     },
     "metadata": {},
     "output_type": "display_data"
    }
   ],
   "source": [
    "from helpers.plots_helper import plot_heatmap\n",
    "\n",
    "predictions, labels = trainer.predict(test_set)\n",
    "predictions = predictions.argmax(axis=1)\n",
    "plot_heatmap(labels=labels, predictions=predictions, class_labels=['higher', 'lower'])"
   ]
  },
  {
   "cell_type": "code",
   "execution_count": null,
   "id": "enclosed-wednesday",
   "metadata": {},
   "outputs": [],
   "source": []
  }
 ],
 "metadata": {
  "kernelspec": {
   "display_name": "Python 3",
   "language": "python",
   "name": "python3"
  },
  "language_info": {
   "codemirror_mode": {
    "name": "ipython",
    "version": 3
   },
   "file_extension": ".py",
   "mimetype": "text/x-python",
   "name": "python",
   "nbconvert_exporter": "python",
   "pygments_lexer": "ipython3",
   "version": "3.7.7"
  }
 },
 "nbformat": 4,
 "nbformat_minor": 5
}
